{
 "cells": [
  {
   "cell_type": "code",
   "id": "initial_id",
   "metadata": {
    "collapsed": true,
    "ExecuteTime": {
     "end_time": "2024-09-02T17:28:46.860695Z",
     "start_time": "2024-09-02T17:28:46.713939Z"
    }
   },
   "source": [
    "import os\n",
    "from pathlib import Path\n",
    "\n",
    "import polars as pl"
   ],
   "outputs": [],
   "execution_count": 1
  },
  {
   "metadata": {
    "ExecuteTime": {
     "end_time": "2024-09-02T17:31:56.187017Z",
     "start_time": "2024-09-02T17:28:46.862494Z"
    }
   },
   "cell_type": "code",
   "source": [
    "dfs = []\n",
    "folder = Path(os.getcwd()).parent / 'data/merged_dataset/synthetic'\n",
    "files = os.listdir(folder)\n",
    "print(files)\n",
    "for f in files:\n",
    "    if f.endswith('.tsv') and not f.startswith('_'):\n",
    "        dfs.append(pl.read_csv(folder / f, separator='\\t', quote_char='\\\"', infer_schema=False))"
   ],
   "id": "d8181b9f3d24ec58",
   "outputs": [
    {
     "name": "stdout",
     "output_type": "stream",
     "text": [
      "['.DS_Store', '_test_failed.tsv', 'medium_old', 'test.tsv', 'test_pc.tsv', 'test-alt.tsv', 'test-m3.tsv']\n"
     ]
    }
   ],
   "execution_count": 2
  },
  {
   "metadata": {
    "ExecuteTime": {
     "end_time": "2024-09-02T17:31:56.236220Z",
     "start_time": "2024-09-02T17:31:56.194363Z"
    }
   },
   "cell_type": "code",
   "source": "dfs",
   "id": "c12a91e1355de805",
   "outputs": [
    {
     "data": {
      "text/plain": [
       "[shape: (301_645, 5)\n",
       " ┌─────────────────────┬─────────────────────┬─────────────────────┬──────────────┬─────────────────┐\n",
       " │ input               ┆ output              ┆ instruct            ┆ dataset_type ┆ dataloader_name │\n",
       " │ ---                 ┆ ---                 ┆ ---                 ┆ ---          ┆ ---             │\n",
       " │ str                 ┆ str                 ┆ str                 ┆ str          ┆ str             │\n",
       " ╞═════════════════════╪═════════════════════╪═════════════════════╪══════════════╪═════════════════╡\n",
       " │ input               ┆ output              ┆ instruct            ┆ dataset_type ┆ dataloader_name │\n",
       " │ Йдеться про         ┆ <p t=\"VERB\">Йдеться ┆ Використай наведені ┆ 8            ┆ PapersDataset   │\n",
       " │ традицію феноменол… ┆ </p> <p t=\"…        ┆ нижче інст…         ┆              ┆                 │\n",
       " │ 3 З огляду на       ┆ <p t=\"NUM\">3</p> <p ┆ Використай наведені ┆ 8            ┆ PapersDataset   │\n",
       " │ багатозначність …   ┆ t=\"ADP\">З<…         ┆ нижче інст…         ┆              ┆                 │\n",
       " │ Коротке міркування  ┆ <p                  ┆ Використай наведені ┆ 8            ┆ PapersDataset   │\n",
       " │ про тотожні…        ┆ t=\"ADJ\">Коротке</p> ┆ нижче інст…         ┆              ┆                 │\n",
       " │                     ┆ <p t=\"N…            ┆                     ┆              ┆                 │\n",
       " │ Головні темпоральні ┆ <p                  ┆ Використай наведені ┆ 8            ┆ PapersDataset   │\n",
       " │ еиементи «…         ┆ t=\"ADJ\">Головні</p> ┆ нижче інст…         ┆              ┆                 │\n",
       " │                     ┆ <p t=\"A…            ┆                     ┆              ┆                 │\n",
       " │ …                   ┆ …                   ┆ …                   ┆ …            ┆ …               │\n",
       " │ Ɉɝɨɥɟɧɚ ɚɪɦɚɬɭɪɚ    ┆ <p                  ┆ Використай наведені ┆ 8            ┆ PapersDataset   │\n",
       " │ ɡɚɥɿɡɨɛɟɬɨɧɧɢ…      ┆ t=\"X\">Ɉɝɨɥɟɧɚ</p>   ┆ нижче інст…         ┆              ┆                 │\n",
       " │                     ┆ <p t=\"X\">…          ┆                     ┆              ┆                 │\n",
       " │ ɉɥɨɳɚ ɬɟɪɢɬɨɪɿʀ ɡɿ  ┆ <p t=\"X\">ɉɥɨɳɚ</p>  ┆ Використай наведені ┆ 8            ┆ PapersDataset   │\n",
       " │ ɳɿɥɶɧɿɫɬɸ ɡ…        ┆ <p t=\"X\">ɬɟ…        ┆ нижче інст…         ┆              ┆                 │\n",
       " │ Ⱦɨ ɧɚɣɛɿɥɶɲ         ┆ <p t=\"X\">Ⱦɨ</p> <p  ┆ Використай наведені ┆ 8            ┆ PapersDataset   │\n",
       " │ ɩɨɫɬɪɚɠɞɚɥɢɯ ɬɟɪɢɬ… ┆ t=\"X\">ɧɚɣɛɿ…        ┆ нижче інст…         ┆              ┆                 │\n",
       " │ -Ɏɪɚɧɤɿɜɫɶɤɚ ɋɚɡɨɦ  ┆ <p                  ┆ Використай наведені ┆ 8            ┆ PapersDataset   │\n",
       " │ əɤɳɨ ɫɟɪɟɞɧ…        ┆ t=\"PUNCT\">-</p><p   ┆ нижче інст…         ┆              ┆                 │\n",
       " │                     ┆ t=\"X\">Ɏɪɚ…          ┆                     ┆              ┆                 │\n",
       " │ Ʉɿɥɶɤɿɫɬɶ ɧɚɫɟɥɟɧɢɯ ┆ <p                  ┆ Використай наведені ┆ 8            ┆ PapersDataset   │\n",
       " │ ɩɭɧɤɬɿɜ, ɹ…         ┆ t=\"X\">Ʉɿɥɶɤɿɫɬɶ</p> ┆ нижче інст…         ┆              ┆                 │\n",
       " │                     ┆ <g ed=\"…            ┆                     ┆              ┆                 │\n",
       " └─────────────────────┴─────────────────────┴─────────────────────┴──────────────┴─────────────────┘,\n",
       " shape: (851_942, 5)\n",
       " ┌───────────────────────┬──────────────────────┬────────────────┬──────────────┬───────────────────┐\n",
       " │ input                 ┆ output               ┆ instruct       ┆ dataset_type ┆ dataloader_name   │\n",
       " │ ---                   ┆ ---                  ┆ ---            ┆ ---          ┆ ---               │\n",
       " │ str                   ┆ str                  ┆ str            ┆ str          ┆ str               │\n",
       " ╞═══════════════════════╪══════════════════════╪════════════════╪══════════════╪═══════════════════╡\n",
       " │ Київ, Україна Валерій ┆ <n t=\"LOC\"><p        ┆ Використай     ┆ 8            ┆ PapersDataset     │\n",
       " │ Зуб http…             ┆ t=\"PROPN\">Київ</…    ┆ наведені нижче ┆              ┆                   │\n",
       " │                       ┆                      ┆ інст…          ┆              ┆                   │\n",
       " │ It was established    ┆ <p t=\"X\">It</p> <p   ┆ Використай     ┆ 8            ┆ PapersDataset     │\n",
       " │ that 1/5 of…          ┆ t=\"X\">was</…         ┆ наведені нижче ┆              ┆                   │\n",
       " │                       ┆                      ┆ інст…          ┆              ┆                   │\n",
       " │ On the bsais of the   ┆ <p t=\"X\">On</p> <p   ┆ Використай     ┆ 8            ┆ PapersDataset     │\n",
       " │ results, r…           ┆ t=\"X\">the</…         ┆ наведені нижче ┆              ┆                   │\n",
       " │                       ┆                      ┆ інст…          ┆              ┆                   │\n",
       " │ Киїьв, Україна        ┆ <n t=\"LOC\"><p        ┆ Використай     ┆ 8            ┆ PapersDataset     │\n",
       " │ Валерій Зуб htt…      ┆ t=\"PROPN\">Киїьв<…    ┆ наведені нижче ┆              ┆                   │\n",
       " │                       ┆                      ┆ інст…          ┆              ┆                   │\n",
       " │ Certain               ┆ <p t=\"X\">Certain</p> ┆ Використай     ┆ 8            ┆ PapersDataset     │\n",
       " │ inconsistencies пn    ┆ <p t=\"X\">…           ┆ наведені нижче ┆              ┆                   │\n",
       " │ the…                  ┆                      ┆ інст…          ┆              ┆                   │\n",
       " │ …                     ┆ …                    ┆ …              ┆ …            ┆ …                 │\n",
       " │ ВИЩИЙ ВИЩИЙ           ┆ <p                   ┆ Використай     ┆ 8            ┆ UbertextV2Dataset │\n",
       " │ ГОСПОДАРСЬКИЙ Суд …   ┆ t=\"ADJ\">ВИЩИЙ</p><g  ┆ наведені нижче ┆              ┆                   │\n",
       " │                       ┆ ed=\"ВИЩ…             ┆ інст…          ┆              ┆                   │\n",
       " │ Постановою Київського ┆ <p t=\"NOUN\">Постанов ┆ Використай     ┆ 8            ┆ UbertextV2Dataset │\n",
       " │ апеляцій…             ┆ ою</p> <p …          ┆ наведені нижче ┆              ┆                   │\n",
       " │                       ┆                      ┆ інст…          ┆              ┆                   │\n",
       " │ 105 ГПК України       ┆ <g ed=\"105\"          ┆ Використай     ┆ 8            ┆ UbertextV2Dataset │\n",
       " │ апеляційна інс…       ┆ et=\"G/Case\"><p t=\"…  ┆ наведені нижче ┆              ┆                   │\n",
       " │                       ┆                      ┆ інст…          ┆              ┆                   │\n",
       " │ Згідно з пунктом 3    ┆ <p                   ┆ Використай     ┆ 8            ┆ UbertextV2Dataset │\n",
       " │ цієї статті…          ┆ t=\"ADV\">Згідно</p>   ┆ наведені нижче ┆              ┆                   │\n",
       " │                       ┆ <p t=\"AD…            ┆ інст…          ┆              ┆                   │\n",
       " │ Сторона, яка одержала ┆ <p t=\"NOUN\">Сторона< ┆ Використай     ┆ 8            ┆ UbertextV2Dataset │\n",
       " │ проект д…             ┆ /p><p t=\"P…          ┆ наведені нижче ┆              ┆                   │\n",
       " │                       ┆                      ┆ інст…          ┆              ┆                   │\n",
       " └───────────────────────┴──────────────────────┴────────────────┴──────────────┴───────────────────┘,\n",
       " shape: (26_153, 5)\n",
       " ┌───────────────────────┬──────────────────────┬────────────────┬──────────────┬───────────────────┐\n",
       " │ input                 ┆ output               ┆ instruct       ┆ dataset_type ┆ dataloader_name   │\n",
       " │ ---                   ┆ ---                  ┆ ---            ┆ ---          ┆ ---               │\n",
       " │ str                   ┆ str                  ┆ str            ┆ str          ┆ str               │\n",
       " ╞═══════════════════════╪══════════════════════╪════════════════╪══════════════╪═══════════════════╡\n",
       " │ Дефіцит або надлишок  ┆ <p                   ┆ Використай     ┆ 8            ┆ PapersDataset     │\n",
       " │ макро- і …            ┆ t=\"NOUN\">Дефіцит</p> ┆ наведені нижче ┆              ┆                   │\n",
       " │                       ┆ <p t=\"…              ┆ інст…          ┆              ┆                   │\n",
       " │ Вікові складнощі у    ┆ <p                   ┆ Використай     ┆ 8            ┆ PapersDataset     │\n",
       " │ проведенні …          ┆ t=\"ADJ\">Вікові</p>   ┆ наведені нижче ┆              ┆                   │\n",
       " │                       ┆ <p t=\"NO…            ┆ інст…          ┆              ┆                   │\n",
       " │ Показники якості      ┆ <p t=\"NOUN\">Показник ┆ Використай     ┆ 8            ┆ PapersDataset     │\n",
       " │ життя дітей р…        ┆ и</p> <p t…          ┆ наведені нижче ┆              ┆                   │\n",
       " │                       ┆                      ┆ інст…          ┆              ┆                   │\n",
       " │ Отже, відсоток        ┆ <p                   ┆ Використай     ┆ 8            ┆ PapersDataset     │\n",
       " │ агресивних підл…      ┆ t=\"PART\">Отже</p><p  ┆ наведені нижче ┆              ┆                   │\n",
       " │                       ┆ t=\"PUNC…             ┆ інст…          ┆              ┆                   │\n",
       " │ Аналіз відповідей     ┆ <p                   ┆ Використай     ┆ 8            ┆ PapersDataset     │\n",
       " │ стосовно сво…         ┆ t=\"NOUN\">Аналіз</p>  ┆ наведені нижче ┆              ┆                   │\n",
       " │                       ┆ <p t=\"N…             ┆ інст…          ┆              ┆                   │\n",
       " │ …                     ┆ …                    ┆ …              ┆ …            ┆ …                 │\n",
       " │ Рішення схвалили      ┆ <p                   ┆ Використай     ┆ 8            ┆ UbertextV2Dataset │\n",
       " │ глава ЛДПР Во…        ┆ t=\"NOUN\">Рішення</p> ┆ наведені нижче ┆              ┆                   │\n",
       " │                       ┆ <p t=\"…              ┆ інст…          ┆              ┆                   │\n",
       " │ Артерія яєчка () або  ┆ <p                   ┆ Використай     ┆ 8            ┆ UbertextV2Dataset │\n",
       " │ яєчкова а…            ┆ t=\"NOUN\">Артерія</p> ┆ наведені нижче ┆              ┆                   │\n",
       " │                       ┆ <p t=\"…              ┆ інст…          ┆              ┆                   │\n",
       " │ 2009 Христинівка      ┆ <p t=\"ADJ\">2009</p>  ┆ Використай     ┆ 8            ┆ UbertextV2Dataset │\n",
       " │ Залізняку і Г…        ┆ <p t=\"NOUN…          ┆ наведені нижче ┆              ┆                   │\n",
       " │                       ┆                      ┆ інст…          ┆              ┆                   │\n",
       " │ Стеліос Казандидіс (, ┆ <p                   ┆ Використай     ┆ 8            ┆ UbertextV2Dataset │\n",
       " │ 1931 — 2…             ┆ t=\"NOUN\">Стеліос</p> ┆ наведені нижче ┆              ┆                   │\n",
       " │                       ┆ <p t=\"…              ┆ інст…          ┆              ┆                   │\n",
       " │ * Тенденція говорити  ┆ <p t=\"SYM\">*</p> <p  ┆ Використай     ┆ 8            ┆ UbertextV2Dataset │\n",
       " │ про речі,…            ┆ t=\"NOUN\">Т…          ┆ наведені нижче ┆              ┆                   │\n",
       " │                       ┆                      ┆ інст…          ┆              ┆                   │\n",
       " └───────────────────────┴──────────────────────┴────────────────┴──────────────┴───────────────────┘,\n",
       " shape: (417_069, 5)\n",
       " ┌─────────────────────┬─────────────────────┬─────────────────────┬──────────────┬─────────────────┐\n",
       " │ input               ┆ output              ┆ instruct            ┆ dataset_type ┆ dataloader_name │\n",
       " │ ---                 ┆ ---                 ┆ ---                 ┆ ---          ┆ ---             │\n",
       " │ str                 ┆ str                 ┆ str                 ┆ str          ┆ str             │\n",
       " ╞═════════════════════╪═════════════════════╪═════════════════════╪══════════════╪═════════════════╡\n",
       " │ дя позначення всіх  ┆ <g ed=\"для\"         ┆ Використай наведені ┆ 8            ┆ PapersDataset   │\n",
       " │ рідин твари…        ┆ et=\"Spelling\"><p t… ┆ нижче інст…         ┆              ┆                 │\n",
       " │ З усіх органічних   ┆ <p t=\"ADP\">З</p> <p ┆ Використай наведені ┆ 8            ┆ PapersDataset   │\n",
       " │ речовин, які…       ┆ t=\"DET\">ус…         ┆ нижче інст…         ┆              ┆                 │\n",
       " │ 92, N 4 ми,         ┆ <p t=\"NUM\">92</p><p ┆ Використай наведені ┆ 8            ┆ PapersDataset   │\n",
       " │ утворюючи численні… ┆ t=\"PUNCT\">…         ┆ нижче інст…         ┆              ┆                 │\n",
       " │ Один ізэ            ┆ <p t=\"DET\">Один</p> ┆ Використай наведені ┆ 8            ┆ PapersDataset   │\n",
       " │ найскладніших       ┆ <g ed=\"із\"…         ┆ нижче інст…         ┆              ┆                 │\n",
       " │ розділі…            ┆                     ┆                     ┆              ┆                 │\n",
       " │ Джеймс Самнер, Джон ┆ <p t=\"PROPN\">Джеймс ┆ Використай наведені ┆ 8            ┆ PapersDataset   │\n",
       " │ Нортроп і …         ┆ </p><n t=\"P…        ┆ нижче інст…         ┆              ┆                 │\n",
       " │ …                   ┆ …                   ┆ …                   ┆ …            ┆ …               │\n",
       " │ Roughly, NP states  ┆ <p                  ┆ Використай наведені ┆ 8            ┆ PapersDataset   │\n",
       " │ that oen is…        ┆ t=\"X\">Roughly</p><p ┆ нижче інст…         ┆              ┆                 │\n",
       " │                     ┆ t=\"PUNC…            ┆                     ┆              ┆                 │\n",
       " │ uk Nikolaj Jang Lee ┆ <p t=\"X\">uk</p> <p  ┆ Використай наведені ┆ 8            ┆ PapersDataset   │\n",
       " │ Linding Pe…         ┆ t=\"X\">Nikol…        ┆ нижче інст…         ┆              ┆                 │\n",
       " │ First I show that   ┆ <p                  ┆ Використай наведені ┆ 8            ┆ PapersDataset   │\n",
       " │ the epistemi…       ┆ t=\"X\">First</p><g   ┆ нижче інст…         ┆              ┆                 │\n",
       " │                     ┆ ed=\",\" et…          ┆                     ┆              ┆                 │\n",
       " │ Zentral für diese   ┆ <p                  ┆ Використай наведені ┆ 8            ┆ PapersDataset   │\n",
       " │ Positionen i…       ┆ t=\"X\">Zentral</p>   ┆ нижче інст…         ┆              ┆                 │\n",
       " │                     ┆ <p t=\"X\">…          ┆                     ┆              ┆                 │\n",
       " │ Ihnen kann jedoch   ┆ <p t=\"X\">Ihnen</p>  ┆ Використай наведені ┆ 8            ┆ PapersDataset   │\n",
       " │ mit einer ge…       ┆ <p t=\"X\">ka…        ┆ нижче інст…         ┆              ┆                 │\n",
       " └─────────────────────┴─────────────────────┴─────────────────────┴──────────────┴─────────────────┘]"
      ]
     },
     "execution_count": 3,
     "metadata": {},
     "output_type": "execute_result"
    }
   ],
   "execution_count": 3
  },
  {
   "metadata": {
    "ExecuteTime": {
     "end_time": "2024-09-02T17:33:09.842343Z",
     "start_time": "2024-09-02T17:31:56.239253Z"
    }
   },
   "cell_type": "code",
   "source": [
    "merged = pl.concat(dfs)\n",
    "shuffled_df = merged.sample(fraction=1, shuffle=True)"
   ],
   "id": "d035f3440b0c0d5e",
   "outputs": [],
   "execution_count": 4
  },
  {
   "metadata": {
    "ExecuteTime": {
     "end_time": "2024-09-02T17:33:09.889070Z",
     "start_time": "2024-09-02T17:33:09.857195Z"
    }
   },
   "cell_type": "code",
   "source": [
    "import math\n",
    "\n",
    "train_df = shuffled_df.head(math.ceil(len(shuffled_df) * 0.60))\n",
    "not_train_df = shuffled_df.tail(math.ceil(len(shuffled_df) * 0.40))\n",
    "valid_df = not_train_df.head(math.ceil(len(not_train_df) * 0.40))\n",
    "test_df = not_train_df.tail(math.ceil(len(not_train_df) * 0.60))\n"
   ],
   "id": "843de08ea03c48d9",
   "outputs": [],
   "execution_count": 5
  },
  {
   "metadata": {
    "ExecuteTime": {
     "end_time": "2024-09-02T17:33:09.899305Z",
     "start_time": "2024-09-02T17:33:09.891795Z"
    }
   },
   "cell_type": "code",
   "source": "len(test_df), len(valid_df), len(not_train_df), len(train_df)",
   "id": "2822d98fef145daf",
   "outputs": [
    {
     "data": {
      "text/plain": [
       "(383235, 255490, 638724, 958086)"
      ]
     },
     "execution_count": 6,
     "metadata": {},
     "output_type": "execute_result"
    }
   ],
   "execution_count": 6
  },
  {
   "metadata": {
    "ExecuteTime": {
     "end_time": "2024-09-02T18:12:12.291611Z",
     "start_time": "2024-09-02T17:46:50.311089Z"
    }
   },
   "cell_type": "code",
   "source": [
    "large_folder = folder / 'large'\n",
    "train_df.write_csv(large_folder / 'train.csv', separator='\\t', quote_char='\\\"')\n",
    "valid_df.write_csv(large_folder / 'valid.csv', separator='\\t', quote_char='\\\"')\n",
    "test_df.write_csv(large_folder / 'test.csv', separator='\\t', quote_char='\\\"')"
   ],
   "id": "b4c4bfe1fd7b6de7",
   "outputs": [],
   "execution_count": 8
  },
  {
   "metadata": {
    "ExecuteTime": {
     "end_time": "2024-09-02T18:28:33.474366Z",
     "start_time": "2024-09-02T18:12:12.357502Z"
    }
   },
   "cell_type": "code",
   "source": [
    "medium_folder = folder / 'medium'\n",
    "medium_coef = 0.5\n",
    "train_df.sample(fraction=medium_coef, shuffle=True).write_csv(medium_folder / 'train.csv', separator='\\t', quote_char='\\\"')\n",
    "valid_df.sample(fraction=medium_coef, shuffle=True).write_csv(medium_folder / 'valid.csv', separator='\\t', quote_char='\\\"')\n",
    "test_df.sample(fraction=medium_coef, shuffle=True).write_csv(medium_folder / 'test.csv', separator='\\t', quote_char='\\\"')\n"
   ],
   "id": "e498e33c5bd7dda",
   "outputs": [],
   "execution_count": 9
  },
  {
   "metadata": {
    "ExecuteTime": {
     "end_time": "2024-09-02T18:31:41.871412Z",
     "start_time": "2024-09-02T18:28:33.650365Z"
    }
   },
   "cell_type": "code",
   "source": [
    "small_folder = folder / 'small'\n",
    "small_coef = 0.1\n",
    "train_df.sample(fraction=small_coef, shuffle=True).write_csv(small_folder / 'train.csv', separator='\\t', quote_char='\\\"')\n",
    "valid_df.sample(fraction=small_coef, shuffle=True).write_csv(small_folder / 'valid.csv', separator='\\t', quote_char='\\\"')\n",
    "test_df.sample(fraction=small_coef, shuffle=True).write_csv(small_folder / 'test.csv', separator='\\t', quote_char='\\\"')"
   ],
   "id": "4294cda0d914b0b0",
   "outputs": [],
   "execution_count": 10
  },
  {
   "metadata": {},
   "cell_type": "code",
   "outputs": [],
   "execution_count": null,
   "source": "",
   "id": "2c384cabe40e8c41"
  }
 ],
 "metadata": {
  "kernelspec": {
   "display_name": "masters_llm_eval",
   "language": "python",
   "name": "masters_llm_eval"
  },
  "language_info": {
   "codemirror_mode": {
    "name": "ipython",
    "version": 2
   },
   "file_extension": ".py",
   "mimetype": "text/x-python",
   "name": "python",
   "nbconvert_exporter": "python",
   "pygments_lexer": "ipython2",
   "version": "2.7.6"
  }
 },
 "nbformat": 4,
 "nbformat_minor": 5
}
