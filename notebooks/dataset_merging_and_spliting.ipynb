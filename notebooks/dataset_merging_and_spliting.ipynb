{
 "cells": [
  {
   "cell_type": "code",
   "id": "initial_id",
   "metadata": {
    "collapsed": true,
    "ExecuteTime": {
     "end_time": "2024-09-02T17:28:46.860695Z",
     "start_time": "2024-09-02T17:28:46.713939Z"
    }
   },
   "source": [
    "import os\n",
    "from pathlib import Path\n",
    "\n",
    "import polars as pl"
   ],
   "outputs": [],
   "execution_count": 1
  },
  {
   "metadata": {
    "ExecuteTime": {
     "end_time": "2024-09-02T17:31:56.187017Z",
     "start_time": "2024-09-02T17:28:46.862494Z"
    }
   },
   "cell_type": "code",
   "source": [
    "dfs = []\n",
    "folder = Path(os.getcwd()).parent / 'data/merged_dataset/synthetic'\n",
    "files = os.listdir(folder)\n",
    "print(files)\n",
    "for f in files:\n",
    "    if f.endswith('.tsv') and not f.startswith('_'):\n",
    "        dfs.append(pl.read_csv(folder / f, separator='\\t', quote_char='\\\"', infer_schema=False))"
   ],
   "id": "d8181b9f3d24ec58",
   "outputs": [
    {
     "name": "stdout",
     "output_type": "stream",
     "text": [
      "['.DS_Store', '_test_failed.tsv', 'medium_old', 'test.tsv', 'test_pc.tsv', 'test-alt.tsv', 'test-m3.tsv']\n"
     ]
    }
   ],
   "execution_count": 2
  },
  {
   "metadata": {
    "ExecuteTime": {
     "end_time": "2024-09-02T17:31:56.236220Z",
     "start_time": "2024-09-02T17:31:56.194363Z"
    }
   },
   "cell_type": "code",
   "source": "dfs",
   "id": "c12a91e1355de805",
   "outputs": [
    {
     "data": {
      "text/plain": [
       "[shape: (301_645, 5)\n",
       " ┌─────────────────────┬─────────────────────┬─────────────────────┬──────────────┬─────────────────┐\n",
       " │ input               ┆ output              ┆ instruct            ┆ dataset_type ┆ dataloader_name │\n",
       " │ ---                 ┆ ---                 ┆ ---                 ┆ ---          ┆ ---             │\n",
       " │ str                 ┆ str                 ┆ str                 ┆ str          ┆ str             │\n",
       " ╞═════════════════════╪═════════════════════╪═════════════════════╪══════════════╪═════════════════╡\n",
       " │ input               ┆ output              ┆ instruct            ┆ dataset_type ┆ dataloader_name │\n",
       " │ Йдеться про         ┆ <p t=\"VERB\">Йдеться ┆ Використай наведені ┆ 8            ┆ PapersDataset   │\n",
       " │ традицію феноменол… ┆ </p> <p t=\"…        ┆ нижче інст…         ┆              ┆                 │\n",
       " │ 3 З огляду на       ┆ <p t=\"NUM\">3</p> <p ┆ Використай наведені ┆ 8            ┆ PapersDataset   │\n",
       " │ багатозначність …   ┆ t=\"ADP\">З<…         ┆ нижче інст…         ┆              ┆                 │\n",
       " │ Коротке міркування  ┆ <p                  ┆ Використай наведені ┆ 8            ┆ PapersDataset   │\n",
       " │ про тотожні…        ┆ t=\"ADJ\">Коротке</p> ┆ нижче інст…         ┆              ┆                 │\n",
       " │                     ┆ <p t=\"N…            ┆                     ┆              ┆                 │\n",
       " │ Головні темпоральні ┆ <p                  ┆ Використай наведені ┆ 8            ┆ PapersDataset   │\n",
       " │ еиементи «…         ┆ t=\"ADJ\">Головні</p> ┆ нижче інст…         ┆              ┆                 │\n",
       " │                     ┆ <p t=\"A…            ┆                     ┆              ┆                 │\n",
       " │ …                   ┆ …                   ┆ …                   ┆ …            ┆ …               │\n",
       " │ Ɉɝɨɥɟɧɚ ɚɪɦɚɬɭɪɚ    ┆ <p                  ┆ Використай наведені ┆ 8            ┆ PapersDataset   │\n",
       " │ ɡɚɥɿɡɨɛɟɬɨɧɧɢ…      ┆ t=\"X\">Ɉɝɨɥɟɧɚ</p>   ┆ нижче інст…         ┆              ┆                 │\n",
       " │                     ┆ <p t=\"X\">…          ┆                     ┆              ┆                 │\n",
       " │ ɉɥɨɳɚ ɬɟɪɢɬɨɪɿʀ ɡɿ  ┆ <p t=\"X\">ɉɥɨɳɚ</p>  ┆ Використай наведені ┆ 8            ┆ PapersDataset   │\n",
       " │ ɳɿɥɶɧɿɫɬɸ ɡ…        ┆ <p t=\"X\">ɬɟ…        ┆ нижче інст…         ┆              ┆                 │\n",
       " │ Ⱦɨ ɧɚɣɛɿɥɶɲ         ┆ <p t=\"X\">Ⱦɨ</p> <p  ┆ Використай наведені ┆ 8            ┆ PapersDataset   │\n",
       " │ ɩɨɫɬɪɚɠɞɚɥɢɯ ɬɟɪɢɬ… ┆ t=\"X\">ɧɚɣɛɿ…        ┆ нижче інст…         ┆              ┆                 │\n",
       " │ -Ɏɪɚɧɤɿɜɫɶɤɚ ɋɚɡɨɦ  ┆ <p                  ┆ Використай наведені ┆ 8            ┆ PapersDataset   │\n",
       " │ əɤɳɨ ɫɟɪɟɞɧ…        ┆ t=\"PUNCT\">-</p><p   ┆ нижче інст…         ┆              ┆                 │\n",
       " │                     ┆ t=\"X\">Ɏɪɚ…          ┆                     ┆              ┆                 │\n",
       " │ Ʉɿɥɶɤɿɫɬɶ ɧɚɫɟɥɟɧɢɯ ┆ <p                  ┆ Використай наведені ┆ 8            ┆ PapersDataset   │\n",
       " │ ɩɭɧɤɬɿɜ, ɹ…         ┆ t=\"X\">Ʉɿɥɶɤɿɫɬɶ</p> ┆ нижче інст…         ┆              ┆                 │\n",
       " │                     ┆ <g ed=\"…            ┆                     ┆              ┆                 │\n",
       " └─────────────────────┴─────────────────────┴─────────────────────┴──────────────┴─────────────────┘,\n",
       " shape: (851_942, 5)\n",
       " ┌───────────────────────┬──────────────────────┬────────────────┬──────────────┬───────────────────┐\n",
       " │ input                 ┆ output               ┆ instruct       ┆ dataset_type ┆ dataloader_name   │\n",
       " │ ---                   ┆ ---                  ┆ ---            ┆ ---          ┆ ---               │\n",
       " │ str                   ┆ str                  ┆ str            ┆ str          ┆ str               │\n",
       " ╞═══════════════════════╪══════════════════════╪════════════════╪══════════════╪═══════════════════╡\n",
       " │ Київ, Україна Валерій ┆ <n t=\"LOC\"><p        ┆ Використай     ┆ 8            ┆ PapersDataset     │\n",
       " │ Зуб http…             ┆ t=\"PROPN\">Київ</…    ┆ наведені нижче ┆              ┆                   │\n",
       " │                       ┆                      ┆ інст…          ┆              ┆                   │\n",
       " │ It was established    ┆ <p t=\"X\">It</p> <p   ┆ Використай     ┆ 8            ┆ PapersDataset     │\n",
       " │ that 1/5 of…          ┆ t=\"X\">was</…         ┆ наведені нижче ┆              ┆                   │\n",
       " │                       ┆                      ┆ інст…          ┆              ┆                   │\n",
       " │ On the bsais of the   ┆ <p t=\"X\">On</p> <p   ┆ Використай     ┆ 8            ┆ PapersDataset     │\n",
       " │ results, r…           ┆ t=\"X\">the</…         ┆ наведені нижче ┆              ┆                   │\n",
       " │                       ┆                      ┆ інст…          ┆              ┆                   │\n",
       " │ Киїьв, Україна        ┆ <n t=\"LOC\"><p        ┆ Використай     ┆ 8            ┆ PapersDataset     │\n",
       " │ Валерій Зуб htt…      ┆ t=\"PROPN\">Киїьв<…    ┆ наведені нижче ┆              ┆                   │\n",
       " │                       ┆                      ┆ інст…          ┆              ┆                   │\n",
       " │ Certain               ┆ <p t=\"X\">Certain</p> ┆ Використай     ┆ 8            ┆ PapersDataset     │\n",
       " │ inconsistencies пn    ┆ <p t=\"X\">…           ┆ наведені нижче ┆              ┆                   │\n",
       " │ the…                  ┆                      ┆ інст…          ┆              ┆                   │\n",
       " │ …                     ┆ …                    ┆ …              ┆ …            ┆ …                 │\n",
       " │ ВИЩИЙ ВИЩИЙ           ┆ <p                   ┆ Використай     ┆ 8            ┆ UbertextV2Dataset │\n",
       " │ ГОСПОДАРСЬКИЙ Суд …   ┆ t=\"ADJ\">ВИЩИЙ</p><g  ┆ наведені нижче ┆              ┆                   │\n",
       " │                       ┆ ed=\"ВИЩ…             ┆ інст…          ┆              ┆                   │\n",
       " │ Постановою Київського ┆ <p t=\"NOUN\">Постанов ┆ Використай     ┆ 8            ┆ UbertextV2Dataset │\n",
       " │ апеляцій…             ┆ ою</p> <p …          ┆ наведені нижче ┆              ┆                   │\n",
       " │                       ┆                      ┆ інст…          ┆              ┆                   │\n",
       " │ 105 ГПК України       ┆ <g ed=\"105\"          ┆ Використай     ┆ 8            ┆ UbertextV2Dataset │\n",
       " │ апеляційна інс…       ┆ et=\"G/Case\"><p t=\"…  ┆ наведені нижче ┆              ┆                   │\n",
       " │                       ┆                      ┆ інст…          ┆              ┆                   │\n",
       " │ Згідно з пунктом 3    ┆ <p                   ┆ Використай     ┆ 8            ┆ UbertextV2Dataset │\n",
       " │ цієї статті…          ┆ t=\"ADV\">Згідно</p>   ┆ наведені нижче ┆              ┆                   │\n",
       " │                       ┆ <p t=\"AD…            ┆ інст…          ┆              ┆                   │\n",
       " │ Сторона, яка одержала ┆ <p t=\"NOUN\">Сторона< ┆ Використай     ┆ 8            ┆ UbertextV2Dataset │\n",
       " │ проект д…             ┆ /p><p t=\"P…          ┆ наведені нижче ┆              ┆                   │\n",
       " │                       ┆                      ┆ інст…          ┆              ┆                   │\n",
       " └───────────────────────┴──────────────────────┴────────────────┴──────────────┴───────────────────┘,\n",
       " shape: (26_153, 5)\n",
       " ┌───────────────────────┬──────────────────────┬────────────────┬──────────────┬───────────────────┐\n",
       " │ input                 ┆ output               ┆ instruct       ┆ dataset_type ┆ dataloader_name   │\n",
       " │ ---                   ┆ ---                  ┆ ---            ┆ ---          ┆ ---               │\n",
       " │ str                   ┆ str                  ┆ str            ┆ str          ┆ str               │\n",
       " ╞═══════════════════════╪══════════════════════╪════════════════╪══════════════╪═══════════════════╡\n",
       " │ Дефіцит або надлишок  ┆ <p                   ┆ Використай     ┆ 8            ┆ PapersDataset     │\n",
       " │ макро- і …            ┆ t=\"NOUN\">Дефіцит</p> ┆ наведені нижче ┆              ┆                   │\n",
       " │                       ┆ <p t=\"…              ┆ інст…          ┆              ┆                   │\n",
       " │ Вікові складнощі у    ┆ <p                   ┆ Використай     ┆ 8            ┆ PapersDataset     │\n",
       " │ проведенні …          ┆ t=\"ADJ\">Вікові</p>   ┆ наведені нижче ┆              ┆                   │\n",
       " │                       ┆ <p t=\"NO…            ┆ інст…          ┆              ┆                   │\n",
       " │ Показники якості      ┆ <p t=\"NOUN\">Показник ┆ Використай     ┆ 8            ┆ PapersDataset     │\n",
       " │ життя дітей р…        ┆ и</p> <p t…          ┆ наведені нижче ┆              ┆                   │\n",
       " │                       ┆                      ┆ інст…          ┆              ┆                   │\n",
       " │ Отже, відсоток        ┆ <p                   ┆ Використай     ┆ 8            ┆ PapersDataset     │\n",
       " │ агресивних підл…      ┆ t=\"PART\">Отже</p><p  ┆ наведені нижче ┆              ┆                   │\n",
       " │                       ┆ t=\"PUNC…             ┆ інст…          ┆              ┆                   │\n",
       " │ Аналіз відповідей     ┆ <p                   ┆ Використай     ┆ 8            ┆ PapersDataset     │\n",
       " │ стосовно сво…         ┆ t=\"NOUN\">Аналіз</p>  ┆ наведені нижче ┆              ┆                   │\n",
       " │                       ┆ <p t=\"N…             ┆ інст…          ┆              ┆                   │\n",
       " │ …                     ┆ …                    ┆ …              ┆ …            ┆ …                 │\n",
       " │ Рішення схвалили      ┆ <p                   ┆ Використай     ┆ 8            ┆ UbertextV2Dataset │\n",
       " │ глава ЛДПР Во…        ┆ t=\"NOUN\">Рішення</p> ┆ наведені нижче ┆              ┆                   │\n",
       " │                       ┆ <p t=\"…              ┆ інст…          ┆              ┆                   │\n",
       " │ Артерія яєчка () або  ┆ <p                   ┆ Використай     ┆ 8            ┆ UbertextV2Dataset │\n",
       " │ яєчкова а…            ┆ t=\"NOUN\">Артерія</p> ┆ наведені нижче ┆              ┆                   │\n",
       " │                       ┆ <p t=\"…              ┆ інст…          ┆              ┆                   │\n",
       " │ 2009 Христинівка      ┆ <p t=\"ADJ\">2009</p>  ┆ Використай     ┆ 8            ┆ UbertextV2Dataset │\n",
       " │ Залізняку і Г…        ┆ <p t=\"NOUN…          ┆ наведені нижче ┆              ┆                   │\n",
       " │                       ┆                      ┆ інст…          ┆              ┆                   │\n",
       " │ Стеліос Казандидіс (, ┆ <p                   ┆ Використай     ┆ 8            ┆ UbertextV2Dataset │\n",
       " │ 1931 — 2…             ┆ t=\"NOUN\">Стеліос</p> ┆ наведені нижче ┆              ┆                   │\n",
       " │                       ┆ <p t=\"…              ┆ інст…          ┆              ┆                   │\n",
       " │ * Тенденція говорити  ┆ <p t=\"SYM\">*</p> <p  ┆ Використай     ┆ 8            ┆ UbertextV2Dataset │\n",
       " │ про речі,…            ┆ t=\"NOUN\">Т…          ┆ наведені нижче ┆              ┆                   │\n",
       " │                       ┆                      ┆ інст…          ┆              ┆                   │\n",
       " └───────────────────────┴──────────────────────┴────────────────┴──────────────┴───────────────────┘,\n",
       " shape: (417_069, 5)\n",
       " ┌─────────────────────┬─────────────────────┬─────────────────────┬──────────────┬─────────────────┐\n",
       " │ input               ┆ output              ┆ instruct            ┆ dataset_type ┆ dataloader_name │\n",
       " │ ---                 ┆ ---                 ┆ ---                 ┆ ---          ┆ ---             │\n",
       " │ str                 ┆ str                 ┆ str                 ┆ str          ┆ str             │\n",
       " ╞═════════════════════╪═════════════════════╪═════════════════════╪══════════════╪═════════════════╡\n",
       " │ дя позначення всіх  ┆ <g ed=\"для\"         ┆ Використай наведені ┆ 8            ┆ PapersDataset   │\n",
       " │ рідин твари…        ┆ et=\"Spelling\"><p t… ┆ нижче інст…         ┆              ┆                 │\n",
       " │ З усіх органічних   ┆ <p t=\"ADP\">З</p> <p ┆ Використай наведені ┆ 8            ┆ PapersDataset   │\n",
       " │ речовин, які…       ┆ t=\"DET\">ус…         ┆ нижче інст…         ┆              ┆                 │\n",
       " │ 92, N 4 ми,         ┆ <p t=\"NUM\">92</p><p ┆ Використай наведені ┆ 8            ┆ PapersDataset   │\n",
       " │ утворюючи численні… ┆ t=\"PUNCT\">…         ┆ нижче інст…         ┆              ┆                 │\n",
       " │ Один ізэ            ┆ <p t=\"DET\">Один</p> ┆ Використай наведені ┆ 8            ┆ PapersDataset   │\n",
       " │ найскладніших       ┆ <g ed=\"із\"…         ┆ нижче інст…         ┆              ┆                 │\n",
       " │ розділі…            ┆                     ┆                     ┆              ┆                 │\n",
       " │ Джеймс Самнер, Джон ┆ <p t=\"PROPN\">Джеймс ┆ Використай наведені ┆ 8            ┆ PapersDataset   │\n",
       " │ Нортроп і …         ┆ </p><n t=\"P…        ┆ нижче інст…         ┆              ┆                 │\n",
       " │ …                   ┆ …                   ┆ …                   ┆ …            ┆ …               │\n",
       " │ Roughly, NP states  ┆ <p                  ┆ Використай наведені ┆ 8            ┆ PapersDataset   │\n",
       " │ that oen is…        ┆ t=\"X\">Roughly</p><p ┆ нижче інст…         ┆              ┆                 │\n",
       " │                     ┆ t=\"PUNC…            ┆                     ┆              ┆                 │\n",
       " │ uk Nikolaj Jang Lee ┆ <p t=\"X\">uk</p> <p  ┆ Використай наведені ┆ 8            ┆ PapersDataset   │\n",
       " │ Linding Pe…         ┆ t=\"X\">Nikol…        ┆ нижче інст…         ┆              ┆                 │\n",
       " │ First I show that   ┆ <p                  ┆ Використай наведені ┆ 8            ┆ PapersDataset   │\n",
       " │ the epistemi…       ┆ t=\"X\">First</p><g   ┆ нижче інст…         ┆              ┆                 │\n",
       " │                     ┆ ed=\",\" et…          ┆                     ┆              ┆                 │\n",
       " │ Zentral für diese   ┆ <p                  ┆ Використай наведені ┆ 8            ┆ PapersDataset   │\n",
       " │ Positionen i…       ┆ t=\"X\">Zentral</p>   ┆ нижче інст…         ┆              ┆                 │\n",
       " │                     ┆ <p t=\"X\">…          ┆                     ┆              ┆                 │\n",
       " │ Ihnen kann jedoch   ┆ <p t=\"X\">Ihnen</p>  ┆ Використай наведені ┆ 8            ┆ PapersDataset   │\n",
       " │ mit einer ge…       ┆ <p t=\"X\">ka…        ┆ нижче інст…         ┆              ┆                 │\n",
       " └─────────────────────┴─────────────────────┴─────────────────────┴──────────────┴─────────────────┘]"
      ]
     },
     "execution_count": 3,
     "metadata": {},
     "output_type": "execute_result"
    }
   ],
   "execution_count": 3
  },
  {
   "metadata": {
    "ExecuteTime": {
     "end_time": "2024-09-02T17:33:09.842343Z",
     "start_time": "2024-09-02T17:31:56.239253Z"
    }
   },
   "cell_type": "code",
   "source": [
    "merged = pl.concat(dfs)\n",
    "shuffled_df = merged.sample(fraction=1, shuffle=True)"
   ],
   "id": "d035f3440b0c0d5e",
   "outputs": [],
   "execution_count": 4
  },
  {
   "metadata": {
    "ExecuteTime": {
     "end_time": "2024-09-02T17:33:09.889070Z",
     "start_time": "2024-09-02T17:33:09.857195Z"
    }
   },
   "cell_type": "code",
   "source": [
    "import math\n",
    "\n",
    "train_df = shuffled_df.head(math.ceil(len(shuffled_df) * 0.60))\n",
    "not_train_df = shuffled_df.tail(math.ceil(len(shuffled_df) * 0.40))\n",
    "valid_df = not_train_df.head(math.ceil(len(not_train_df) * 0.40))\n",
    "test_df = not_train_df.tail(math.ceil(len(not_train_df) * 0.60))\n"
   ],
   "id": "843de08ea03c48d9",
   "outputs": [],
   "execution_count": 5
  },
  {
   "metadata": {
    "ExecuteTime": {
     "end_time": "2024-09-02T17:33:09.899305Z",
     "start_time": "2024-09-02T17:33:09.891795Z"
    }
   },
   "cell_type": "code",
   "source": "len(test_df), len(valid_df), len(not_train_df), len(train_df)",
   "id": "2822d98fef145daf",
   "outputs": [
    {
     "data": {
      "text/plain": [
       "(383235, 255490, 638724, 958086)"
      ]
     },
     "execution_count": 6,
     "metadata": {},
     "output_type": "execute_result"
    }
   ],
   "execution_count": 6
  },
  {
   "metadata": {
    "ExecuteTime": {
     "end_time": "2024-09-02T18:12:12.291611Z",
     "start_time": "2024-09-02T17:46:50.311089Z"
    }
   },
   "cell_type": "code",
   "source": [
    "large_folder = folder / 'large'\n",
    "train_df.write_csv(large_folder / 'train.tsv', separator='\\t', quote_char='\\\"')\n",
    "valid_df.write_csv(large_folder / 'valid.tsv', separator='\\t', quote_char='\\\"')\n",
    "test_df.write_csv(large_folder / 'test.tsv', separator='\\t', quote_char='\\\"')"
   ],
   "id": "b4c4bfe1fd7b6de7",
   "outputs": [],
   "execution_count": 8
  },
  {
   "metadata": {
    "ExecuteTime": {
     "end_time": "2024-09-02T18:28:33.474366Z",
     "start_time": "2024-09-02T18:12:12.357502Z"
    }
   },
   "cell_type": "code",
   "source": [
    "medium_folder = folder / 'medium'\n",
    "medium_coef = 0.5\n",
    "train_df.sample(fraction=medium_coef, shuffle=True).write_csv(medium_folder / 'train.tsv', separator='\\t', quote_char='\\\"')\n",
    "valid_df.sample(fraction=medium_coef, shuffle=True).write_csv(medium_folder / 'valid.tsv', separator='\\t', quote_char='\\\"')\n",
    "test_df.sample(fraction=medium_coef, shuffle=True).write_csv(medium_folder / 'test.tsv', separator='\\t', quote_char='\\\"')\n"
   ],
   "id": "e498e33c5bd7dda",
   "outputs": [],
   "execution_count": 9
  },
  {
   "metadata": {
    "ExecuteTime": {
     "end_time": "2024-09-02T18:31:41.871412Z",
     "start_time": "2024-09-02T18:28:33.650365Z"
    }
   },
   "cell_type": "code",
   "source": [
    "small_folder = folder / 'small'\n",
    "small_coef = 0.1\n",
    "train_df.sample(fraction=small_coef, shuffle=True).write_csv(small_folder / 'train.tsv', separator='\\t', quote_char='\\\"')\n",
    "valid_df.sample(fraction=small_coef, shuffle=True).write_csv(small_folder / 'valid.tsv', separator='\\t', quote_char='\\\"')\n",
    "test_df.sample(fraction=small_coef, shuffle=True).write_csv(small_folder / 'test.tsv', separator='\\t', quote_char='\\\"')"
   ],
   "id": "4294cda0d914b0b0",
   "outputs": [],
   "execution_count": 10
  },
  {
   "metadata": {},
   "cell_type": "code",
   "outputs": [],
   "execution_count": null,
   "source": "",
   "id": "2c384cabe40e8c41"
  },
  {
   "metadata": {},
   "cell_type": "markdown",
   "source": "#### Golden dataset processing",
   "id": "3a73f9c07e899ad3"
  },
  {
   "metadata": {
    "ExecuteTime": {
     "end_time": "2024-09-04T09:37:48.128725Z",
     "start_time": "2024-09-04T09:37:47.770022Z"
    }
   },
   "cell_type": "code",
   "source": [
    "import os\n",
    "from pathlib import Path\n",
    "\n",
    "import polars as pl"
   ],
   "id": "39233504b43274e4",
   "outputs": [],
   "execution_count": 1
  },
  {
   "metadata": {
    "ExecuteTime": {
     "end_time": "2024-09-04T09:39:21.084204Z",
     "start_time": "2024-09-04T09:39:09.678604Z"
    }
   },
   "cell_type": "code",
   "source": [
    "folder = Path(os.getcwd()).parent / 'data/merged_dataset/golden'\n",
    "files = os.listdir(folder)\n",
    "train_df = pl.read_csv(folder / 'train.tsv', separator='\\t', quote_char='\\\"', infer_schema=False)\n",
    "test_df = pl.read_csv(folder / 'test.tsv', separator='\\t', quote_char='\\\"', infer_schema=False)\n",
    "train_df, test_df"
   ],
   "id": "7fd616ee6ed61d40",
   "outputs": [
    {
     "data": {
      "text/plain": [
       "(shape: (267_449, 5)\n",
       " ┌────────────────────┬────────────────────┬────────────────────┬──────────────┬────────────────────┐\n",
       " │ input              ┆ output             ┆ instruct           ┆ dataset_type ┆ dataloader_name    │\n",
       " │ ---                ┆ ---                ┆ ---                ┆ ---          ┆ ---                │\n",
       " │ str                ┆ str                ┆ str                ┆ str          ┆ str                │\n",
       " ╞════════════════════╪════════════════════╪════════════════════╪══════════════╪════════════════════╡\n",
       " │ Byte for France    ┆ Byte for France    ┆ Виправ граматичні  ┆ 1            ┆ UaGecDataset       │\n",
       " │ або “Мій досві…    ┆ або “Мій досві…    ┆ помилки в по…      ┆              ┆                    │\n",
       " │ Сьогодні розповім  ┆ Сьогодні розповім  ┆ Виправ граматичні  ┆ 1            ┆ UaGecDataset       │\n",
       " │ про те як і …      ┆ про те<g ed=…      ┆ помилки в по…      ┆              ┆                    │\n",
       " │ Моє бачення        ┆ Моє бачення        ┆ Виправ граматичні  ┆ 1            ┆ UaGecDataset       │\n",
       " │ Instagram          ┆ Instagram          ┆ помилки в по…      ┆              ┆                    │\n",
       " │ Колись д…          ┆ Колись д…          ┆                    ┆              ┆                    │\n",
       " │ Було це за         ┆ Було це за <g      ┆ Виправ граматичні  ┆ 1            ┆ UaGecDataset       │\n",
       " │ декілька років до  ┆ ed=\"кілька\" et=\"…  ┆ помилки в по…      ┆              ┆                    │\n",
       " │ п…                 ┆                    ┆                    ┆              ┆                    │\n",
       " │ Instagram втілює   ┆ Instagram втілює   ┆ Виправ граматичні  ┆ 1            ┆ UaGecDataset       │\n",
       " │ глибинні бажа…     ┆ глибинні бажа…     ┆ помилки в по…      ┆              ┆                    │\n",
       " │ …                  ┆ …                  ┆ …                  ┆ …            ┆ …                  │\n",
       " │ Заголовок: Леон    ┆ Основні ключові    ┆ Із поданого тексту ┆ 7            ┆ NewsKeywordDataset │\n",
       " │ ГОРЕЦКА: «У ни…    ┆ слова: ['Футбо…    ┆ обери голов…       ┆              ┆                    │\n",
       " │ Заголовок:  Моряка ┆ Основні ключові    ┆ Витягни основні    ┆ 7            ┆ NewsKeywordDataset │\n",
       " │ Ейдера могл…       ┆ слова: ['Керче…    ┆ терміни з цьог…    ┆              ┆                    │\n",
       " │ Заголовок:  \"Укрга ┆ Основні ключові    ┆ Визнач, які слова  ┆ 7            ┆ NewsKeywordDataset │\n",
       " │ звидобування…      ┆ слова: ['Михай…    ┆ є найбільш з…      ┆              ┆                    │\n",
       " │ Заголовок: До 300  ┆ Основні ключові    ┆ Витягни основні    ┆ 7            ┆ NewsKeywordDataset │\n",
       " │ Мвт на годин…      ┆ слова: ['Енерг…    ┆ терміни з цьог…    ┆              ┆                    │\n",
       " │ Заголовок:         ┆ Основні ключові    ┆ Оберіть важливі    ┆ 7            ┆ NewsKeywordDataset │\n",
       " │ Берлусконі каже,   ┆ слова: ['анекс…    ┆ слова, що опис…    ┆              ┆                    │\n",
       " │ щ…                 ┆                    ┆                    ┆              ┆                    │\n",
       " └────────────────────┴────────────────────┴────────────────────┴──────────────┴────────────────────┘,\n",
       " shape: (78_990, 5)\n",
       " ┌────────────────────┬────────────────────┬────────────────────┬──────────────┬────────────────────┐\n",
       " │ input              ┆ output             ┆ instruct           ┆ dataset_type ┆ dataloader_name    │\n",
       " │ ---                ┆ ---                ┆ ---                ┆ ---          ┆ ---                │\n",
       " │ str                ┆ str                ┆ str                ┆ str          ┆ str                │\n",
       " ╞════════════════════╪════════════════════╪════════════════════╪══════════════╪════════════════════╡\n",
       " │ Наступного ранку   ┆ Наступного ранку   ┆ Виправ граматичні  ┆ 1            ┆ UaGecDataset       │\n",
       " │ рівно о одина…     ┆ рівно <g ed=\"…     ┆ помилки в по…      ┆              ┆                    │\n",
       " │ Наступного ранку   ┆ Наступного ранку   ┆ Виправ граматичні  ┆ 1            ┆ UaGecDataset       │\n",
       " │ рівно о одина…     ┆ рівно <g ed=\"…     ┆ помилки в по…      ┆              ┆                    │\n",
       " │ Привіт Настя       ┆ Привіт<g ed=\",\"    ┆ Виправ граматичні  ┆ 1            ┆ UaGecDataset       │\n",
       " │                    ┆ et=\"Punctuatio…    ┆ помилки в по…      ┆              ┆                    │\n",
       " │ А діти в садочку   ┆ А діти в садочку   ┆ Виправ граматичні  ┆ 1            ┆ UaGecDataset       │\n",
       " │ після сніданк…     ┆ після сніданк…     ┆ помилки в по…      ┆              ┆                    │\n",
       " │ Щось ми сьогодні   ┆ Щось ми сьогодні   ┆ Виправ граматичні  ┆ 1            ┆ UaGecDataset       │\n",
       " │ не встигаємо …     ┆ не встигаємо …     ┆ помилки в по…      ┆              ┆                    │\n",
       " │ …                  ┆ …                  ┆ …                  ┆ …            ┆ …                  │\n",
       " │ Заголовок: Євген   ┆ Основні ключові    ┆ Проаналізуй текст  ┆ 7            ┆ NewsKeywordDataset │\n",
       " │ СЕЛЕЗНЬОВ: «Я…     ┆ слова: ['Футбо…    ┆ і визнач клю…      ┆              ┆                    │\n",
       " │ Заголовок: Армінія ┆ Основні ключові    ┆ Витягни основні    ┆ 7            ┆ NewsKeywordDataset │\n",
       " │ - Баварія -…       ┆ слова: ['Футбо…    ┆ терміни з цьог…    ┆              ┆                    │\n",
       " │ Заголовок:  Через  ┆ Основні ключові    ┆ Оберіть ключові    ┆ 7            ┆ NewsKeywordDataset │\n",
       " │ грип у Вінни…      ┆ слова: ['Вінни…    ┆ слова, які най…    ┆              ┆                    │\n",
       " │ Заголовок:  Путін  ┆ Основні ключові    ┆ Витягни основні    ┆ 7            ┆ NewsKeywordDataset │\n",
       " │ уклав угоду …      ┆ слова: ['бойов…    ┆ терміни з цьог…    ┆              ┆                    │\n",
       " │ killed             ┆ null               ┆ null               ┆ null         ┆ null               │\n",
       " └────────────────────┴────────────────────┴────────────────────┴──────────────┴────────────────────┘)"
      ]
     },
     "execution_count": 2,
     "metadata": {},
     "output_type": "execute_result"
    }
   ],
   "execution_count": 2
  },
  {
   "metadata": {
    "ExecuteTime": {
     "end_time": "2024-09-04T09:43:01.858652Z",
     "start_time": "2024-09-04T09:43:01.829466Z"
    }
   },
   "cell_type": "code",
   "source": [
    "import math\n",
    "\n",
    "golden_shuffled = train_df.sample(fraction=1, shuffle=True)\n",
    "\n",
    "val_df = golden_shuffled.tail(math.ceil(len(golden_shuffled) * 0.20))\n",
    "train_df = golden_shuffled.head(math.ceil(len(golden_shuffled) * 0.80))\n",
    "test_df = test_df.sample(fraction=1, shuffle=True)"
   ],
   "id": "9652151e3f87f24d",
   "outputs": [],
   "execution_count": 8
  },
  {
   "metadata": {
    "ExecuteTime": {
     "end_time": "2024-09-04T09:43:02.748508Z",
     "start_time": "2024-09-04T09:43:02.742191Z"
    }
   },
   "cell_type": "code",
   "source": [
    "golden_split_folder = folder / 'golden_split'\n",
    "import os\n",
    "if not golden_split_folder.exists():\n",
    "    os.mkdir(golden_split_folder)"
   ],
   "id": "b787efeaa05fe51b",
   "outputs": [],
   "execution_count": 9
  },
  {
   "metadata": {
    "ExecuteTime": {
     "end_time": "2024-09-04T09:43:10.988004Z",
     "start_time": "2024-09-04T09:43:09.786306Z"
    }
   },
   "cell_type": "code",
   "source": [
    "train_df.write_csv(golden_split_folder / 'train.tsv', separator='\\t', quote_char='\\\"')\n",
    "val_df.write_csv(golden_split_folder / 'valid.tsv', separator='\\t', quote_char='\\\"')\n",
    "test_df.write_csv(golden_split_folder / 'test.tsv', separator='\\t', quote_char='\\\"')"
   ],
   "id": "4c9d2e21a84aaac",
   "outputs": [],
   "execution_count": 11
  },
  {
   "metadata": {},
   "cell_type": "code",
   "outputs": [],
   "execution_count": null,
   "source": "",
   "id": "4158e3d9cddc2426"
  },
  {
   "metadata": {
    "ExecuteTime": {
     "end_time": "2024-09-14T08:11:54.197031Z",
     "start_time": "2024-09-14T08:11:54.025452Z"
    }
   },
   "cell_type": "code",
   "source": [
    "import os\n",
    "from pathlib import Path\n",
    "\n",
    "import polars as pl"
   ],
   "id": "95d813ef915097f8",
   "outputs": [],
   "execution_count": 1
  },
  {
   "metadata": {
    "ExecuteTime": {
     "end_time": "2024-09-14T21:50:30.210480Z",
     "start_time": "2024-09-14T21:50:27.844916Z"
    }
   },
   "cell_type": "code",
   "source": [
    "df = pl.read_csv(\"/Users/ostapbodnar/Desktop/NULP/магрістратура/диплом/repos/llm_evaluation/data/merged_dataset/golden/golden_split/train.tsv\", separator='\\t', quote_char='\\\"', infer_schema=False).sample(fraction=1, shuffle=True)\n",
    "df"
   ],
   "id": "14254a485f7855e7",
   "outputs": [
    {
     "data": {
      "text/plain": [
       "shape: (213_960, 5)\n",
       "┌─────────────────────┬─────────────────┬─────────────────────┬──────────────┬─────────────────────┐\n",
       "│ input               ┆ output          ┆ instruct            ┆ dataset_type ┆ dataloader_name     │\n",
       "│ ---                 ┆ ---             ┆ ---                 ┆ ---          ┆ ---                 │\n",
       "│ str                 ┆ str             ┆ str                 ┆ str          ┆ str                 │\n",
       "╞═════════════════════╪═════════════════╪═════════════════════╪══════════════╪═════════════════════╡\n",
       "│ Заголовок: Джефф    ┆ Основні ключові ┆ Ідентифікуй основні ┆ 7            ┆ NewsKeywordDataset  │\n",
       "│ Безос поверну…      ┆ слова: ['Amazo… ┆ терміни, щ…         ┆              ┆                     │\n",
       "│ Заголовок:  Суд ЄС  ┆ політика        ┆ Базуючись на        ┆ 7            ┆ NewsTopicClassifica │\n",
       "│ не буде вир…        ┆                 ┆ контенті тексту в…  ┆              ┆ tionDataset         │\n",
       "│ Заголовок:  Поїздки ┆ політика        ┆ Визнач, до якого    ┆ 7            ┆ NewsTopicClassifica │\n",
       "│ депутатів …         ┆                 ┆ жанру відноси…      ┆              ┆ tionDataset         │\n",
       "│ Заголовок: Френк    ┆ Основні ключові ┆ З поданого тексту   ┆ 7            ┆ NewsKeywordDataset  │\n",
       "│ ЛЕМПАРД: «Я р…      ┆ слова: ['Футбо… ┆ вибери слова…       ┆              ┆                     │\n",
       "│ Заголовок:  Один з  ┆ Основні ключові ┆ Визнач, які слова є ┆ 7            ┆ NewsKeywordDataset  │\n",
       "│ організатор…        ┆ слова: ['Білор… ┆ найбільш з…         ┆              ┆                     │\n",
       "│ …                   ┆ …               ┆ …                   ┆ …            ┆ …                   │\n",
       "│ Заголовок:          ┆ новини          ┆ Базуючись на        ┆ 7            ┆ NewsTopicClassifica │\n",
       "│ Кілограм амфетамін… ┆                 ┆ контенті тексту в…  ┆              ┆ tionDataset         │\n",
       "│ Заголовок: Друге    ┆ політика        ┆ Прочитай новину та  ┆ 7            ┆ NewsTopicClassifica │\n",
       "│ пришестя Саак…      ┆                 ┆ класифікуй …        ┆              ┆ tionDataset         │\n",
       "│ Заголовок: Анатомія ┆ політика        ┆ Прочитай новину та  ┆ 7            ┆ NewsTopicClassifica │\n",
       "│ економіки …         ┆                 ┆ класифікуй …        ┆              ┆ tionDataset         │\n",
       "│ Заголовок:          ┆ політика        ┆ На основі змісту    ┆ 7            ┆ NewsTopicClassifica │\n",
       "│ Окупанти у Криму п… ┆                 ┆ новини, визна…      ┆              ┆ tionDataset         │\n",
       "│ Заголовок:  Twitter ┆ політика        ┆ Класифікуй новину,  ┆ 7            ┆ NewsTopicClassifica │\n",
       "│ пообіцяв п…         ┆                 ┆ виходячи з …        ┆              ┆ tionDataset         │\n",
       "└─────────────────────┴─────────────────┴─────────────────────┴──────────────┴─────────────────────┘"
      ],
      "text/html": [
       "<div><style>\n",
       ".dataframe > thead > tr,\n",
       ".dataframe > tbody > tr {\n",
       "  text-align: right;\n",
       "  white-space: pre-wrap;\n",
       "}\n",
       "</style>\n",
       "<small>shape: (213_960, 5)</small><table border=\"1\" class=\"dataframe\"><thead><tr><th>input</th><th>output</th><th>instruct</th><th>dataset_type</th><th>dataloader_name</th></tr><tr><td>str</td><td>str</td><td>str</td><td>str</td><td>str</td></tr></thead><tbody><tr><td>&quot;Заголовок: Джефф Безос поверну…</td><td>&quot;Основні ключові слова: [&#x27;Amazo…</td><td>&quot;Ідентифікуй основні терміни, щ…</td><td>&quot;7&quot;</td><td>&quot;NewsKeywordDataset&quot;</td></tr><tr><td>&quot;Заголовок:  Суд ЄС не буде вир…</td><td>&quot;політика&quot;</td><td>&quot;Базуючись на контенті тексту в…</td><td>&quot;7&quot;</td><td>&quot;NewsTopicClassificationDataset&quot;</td></tr><tr><td>&quot;Заголовок:  Поїздки депутатів …</td><td>&quot;політика&quot;</td><td>&quot;Визнач, до якого жанру відноси…</td><td>&quot;7&quot;</td><td>&quot;NewsTopicClassificationDataset&quot;</td></tr><tr><td>&quot;Заголовок: Френк ЛЕМПАРД: «Я р…</td><td>&quot;Основні ключові слова: [&#x27;Футбо…</td><td>&quot;З поданого тексту вибери слова…</td><td>&quot;7&quot;</td><td>&quot;NewsKeywordDataset&quot;</td></tr><tr><td>&quot;Заголовок:  Один з організатор…</td><td>&quot;Основні ключові слова: [&#x27;Білор…</td><td>&quot;Визнач, які слова є найбільш з…</td><td>&quot;7&quot;</td><td>&quot;NewsKeywordDataset&quot;</td></tr><tr><td>&hellip;</td><td>&hellip;</td><td>&hellip;</td><td>&hellip;</td><td>&hellip;</td></tr><tr><td>&quot;Заголовок:  Кілограм амфетамін…</td><td>&quot;новини&quot;</td><td>&quot;Базуючись на контенті тексту в…</td><td>&quot;7&quot;</td><td>&quot;NewsTopicClassificationDataset&quot;</td></tr><tr><td>&quot;Заголовок: Друге пришестя Саак…</td><td>&quot;політика&quot;</td><td>&quot;Прочитай новину та класифікуй …</td><td>&quot;7&quot;</td><td>&quot;NewsTopicClassificationDataset&quot;</td></tr><tr><td>&quot;Заголовок: Анатомія економіки …</td><td>&quot;політика&quot;</td><td>&quot;Прочитай новину та класифікуй …</td><td>&quot;7&quot;</td><td>&quot;NewsTopicClassificationDataset&quot;</td></tr><tr><td>&quot;Заголовок:  Окупанти у Криму п…</td><td>&quot;політика&quot;</td><td>&quot;На основі змісту новини, визна…</td><td>&quot;7&quot;</td><td>&quot;NewsTopicClassificationDataset&quot;</td></tr><tr><td>&quot;Заголовок:  Twitter пообіцяв п…</td><td>&quot;політика&quot;</td><td>&quot;Класифікуй новину, виходячи з …</td><td>&quot;7&quot;</td><td>&quot;NewsTopicClassificationDataset&quot;</td></tr></tbody></table></div>"
      ]
     },
     "execution_count": 37,
     "metadata": {},
     "output_type": "execute_result"
    }
   ],
   "execution_count": 37
  },
  {
   "metadata": {
    "ExecuteTime": {
     "end_time": "2024-09-14T21:51:46.722193Z",
     "start_time": "2024-09-14T21:51:46.693134Z"
    }
   },
   "cell_type": "code",
   "source": "df['dataloader_name'].value_counts()",
   "id": "8a0fe8ad221e6ad6",
   "outputs": [
    {
     "data": {
      "text/plain": [
       "shape: (9, 2)\n",
       "┌────────────────────────────────┬───────┐\n",
       "│ dataloader_name                ┆ count │\n",
       "│ ---                            ┆ ---   │\n",
       "│ str                            ┆ u32   │\n",
       "╞════════════════════════════════╪═══════╡\n",
       "│ NewsKeywordDataset             ┆ 96350 │\n",
       "│ NewsTopicClassificationDataset ┆ 96317 │\n",
       "│ MovaInstPosDataset             ┆ 4627  │\n",
       "│ NerDataset                     ┆ 224   │\n",
       "│ null                           ┆ 16    │\n",
       "│ UaSqaudDataset                 ┆ 8869  │\n",
       "│ WscDataset                     ┆ 177   │\n",
       "│ UaGecDataset                   ┆ 4937  │\n",
       "│ ZnoDataset                     ┆ 2443  │\n",
       "└────────────────────────────────┴───────┘"
      ],
      "text/html": [
       "<div><style>\n",
       ".dataframe > thead > tr,\n",
       ".dataframe > tbody > tr {\n",
       "  text-align: right;\n",
       "  white-space: pre-wrap;\n",
       "}\n",
       "</style>\n",
       "<small>shape: (9, 2)</small><table border=\"1\" class=\"dataframe\"><thead><tr><th>dataloader_name</th><th>count</th></tr><tr><td>str</td><td>u32</td></tr></thead><tbody><tr><td>&quot;NewsKeywordDataset&quot;</td><td>96350</td></tr><tr><td>&quot;NewsTopicClassificationDataset&quot;</td><td>96317</td></tr><tr><td>&quot;MovaInstPosDataset&quot;</td><td>4627</td></tr><tr><td>&quot;NerDataset&quot;</td><td>224</td></tr><tr><td>null</td><td>16</td></tr><tr><td>&quot;UaSqaudDataset&quot;</td><td>8869</td></tr><tr><td>&quot;WscDataset&quot;</td><td>177</td></tr><tr><td>&quot;UaGecDataset&quot;</td><td>4937</td></tr><tr><td>&quot;ZnoDataset&quot;</td><td>2443</td></tr></tbody></table></div>"
      ]
     },
     "execution_count": 41,
     "metadata": {},
     "output_type": "execute_result"
    }
   ],
   "execution_count": 41
  },
  {
   "metadata": {
    "ExecuteTime": {
     "end_time": "2024-09-14T21:55:02.991542Z",
     "start_time": "2024-09-14T21:55:02.881920Z"
    }
   },
   "cell_type": "code",
   "source": [
    "import polars as pl\n",
    "import plotly.express as px\n",
    "\n",
    "\n",
    "chart_df= df['dataloader_name'].value_counts()\n",
    "\n",
    "fig = px.pie(\n",
    "    chart_df, \n",
    "    values='count', \n",
    "    names='dataloader_name', \n",
    "    title='Value Counts Pie Chart',\n",
    "    color_discrete_sequence=px.colors.sequential.RdBu \n",
    ")\n",
    "\n",
    "\n",
    "fig.update_traces(textinfo='percent+label', pull=[0.1, 0, 0], hole=0.2)\n",
    "\n",
    "\n",
    "fig.show()"
   ],
   "id": "b874229108e4e7f6",
   "outputs": [
    {
     "data": {
      "application/vnd.plotly.v1+json": {
       "data": [
        {
         "domain": {
          "x": [
           0.0,
           1.0
          ],
          "y": [
           0.0,
           1.0
          ]
         },
         "hovertemplate": "dataloader_name=%{label}<br>count=%{value}<extra></extra>",
         "labels": [
          "UaSqaudDataset",
          "NewsKeywordDataset",
          "NewsTopicClassificationDataset",
          "NerDataset",
          "UaGecDataset",
          "MovaInstPosDataset",
          "ZnoDataset",
          null,
          "WscDataset"
         ],
         "legendgroup": "",
         "name": "",
         "showlegend": true,
         "values": [
          8869,
          96350,
          96317,
          224,
          4937,
          4627,
          2443,
          16,
          177
         ],
         "type": "pie",
         "hole": 0.2,
         "pull": [
          0.1,
          0,
          0
         ],
         "textinfo": "percent+label"
        }
       ],
       "layout": {
        "template": {
         "data": {
          "histogram2dcontour": [
           {
            "type": "histogram2dcontour",
            "colorbar": {
             "outlinewidth": 0,
             "ticks": ""
            },
            "colorscale": [
             [
              0.0,
              "#0d0887"
             ],
             [
              0.1111111111111111,
              "#46039f"
             ],
             [
              0.2222222222222222,
              "#7201a8"
             ],
             [
              0.3333333333333333,
              "#9c179e"
             ],
             [
              0.4444444444444444,
              "#bd3786"
             ],
             [
              0.5555555555555556,
              "#d8576b"
             ],
             [
              0.6666666666666666,
              "#ed7953"
             ],
             [
              0.7777777777777778,
              "#fb9f3a"
             ],
             [
              0.8888888888888888,
              "#fdca26"
             ],
             [
              1.0,
              "#f0f921"
             ]
            ]
           }
          ],
          "choropleth": [
           {
            "type": "choropleth",
            "colorbar": {
             "outlinewidth": 0,
             "ticks": ""
            }
           }
          ],
          "histogram2d": [
           {
            "type": "histogram2d",
            "colorbar": {
             "outlinewidth": 0,
             "ticks": ""
            },
            "colorscale": [
             [
              0.0,
              "#0d0887"
             ],
             [
              0.1111111111111111,
              "#46039f"
             ],
             [
              0.2222222222222222,
              "#7201a8"
             ],
             [
              0.3333333333333333,
              "#9c179e"
             ],
             [
              0.4444444444444444,
              "#bd3786"
             ],
             [
              0.5555555555555556,
              "#d8576b"
             ],
             [
              0.6666666666666666,
              "#ed7953"
             ],
             [
              0.7777777777777778,
              "#fb9f3a"
             ],
             [
              0.8888888888888888,
              "#fdca26"
             ],
             [
              1.0,
              "#f0f921"
             ]
            ]
           }
          ],
          "heatmap": [
           {
            "type": "heatmap",
            "colorbar": {
             "outlinewidth": 0,
             "ticks": ""
            },
            "colorscale": [
             [
              0.0,
              "#0d0887"
             ],
             [
              0.1111111111111111,
              "#46039f"
             ],
             [
              0.2222222222222222,
              "#7201a8"
             ],
             [
              0.3333333333333333,
              "#9c179e"
             ],
             [
              0.4444444444444444,
              "#bd3786"
             ],
             [
              0.5555555555555556,
              "#d8576b"
             ],
             [
              0.6666666666666666,
              "#ed7953"
             ],
             [
              0.7777777777777778,
              "#fb9f3a"
             ],
             [
              0.8888888888888888,
              "#fdca26"
             ],
             [
              1.0,
              "#f0f921"
             ]
            ]
           }
          ],
          "heatmapgl": [
           {
            "type": "heatmapgl",
            "colorbar": {
             "outlinewidth": 0,
             "ticks": ""
            },
            "colorscale": [
             [
              0.0,
              "#0d0887"
             ],
             [
              0.1111111111111111,
              "#46039f"
             ],
             [
              0.2222222222222222,
              "#7201a8"
             ],
             [
              0.3333333333333333,
              "#9c179e"
             ],
             [
              0.4444444444444444,
              "#bd3786"
             ],
             [
              0.5555555555555556,
              "#d8576b"
             ],
             [
              0.6666666666666666,
              "#ed7953"
             ],
             [
              0.7777777777777778,
              "#fb9f3a"
             ],
             [
              0.8888888888888888,
              "#fdca26"
             ],
             [
              1.0,
              "#f0f921"
             ]
            ]
           }
          ],
          "contourcarpet": [
           {
            "type": "contourcarpet",
            "colorbar": {
             "outlinewidth": 0,
             "ticks": ""
            }
           }
          ],
          "contour": [
           {
            "type": "contour",
            "colorbar": {
             "outlinewidth": 0,
             "ticks": ""
            },
            "colorscale": [
             [
              0.0,
              "#0d0887"
             ],
             [
              0.1111111111111111,
              "#46039f"
             ],
             [
              0.2222222222222222,
              "#7201a8"
             ],
             [
              0.3333333333333333,
              "#9c179e"
             ],
             [
              0.4444444444444444,
              "#bd3786"
             ],
             [
              0.5555555555555556,
              "#d8576b"
             ],
             [
              0.6666666666666666,
              "#ed7953"
             ],
             [
              0.7777777777777778,
              "#fb9f3a"
             ],
             [
              0.8888888888888888,
              "#fdca26"
             ],
             [
              1.0,
              "#f0f921"
             ]
            ]
           }
          ],
          "surface": [
           {
            "type": "surface",
            "colorbar": {
             "outlinewidth": 0,
             "ticks": ""
            },
            "colorscale": [
             [
              0.0,
              "#0d0887"
             ],
             [
              0.1111111111111111,
              "#46039f"
             ],
             [
              0.2222222222222222,
              "#7201a8"
             ],
             [
              0.3333333333333333,
              "#9c179e"
             ],
             [
              0.4444444444444444,
              "#bd3786"
             ],
             [
              0.5555555555555556,
              "#d8576b"
             ],
             [
              0.6666666666666666,
              "#ed7953"
             ],
             [
              0.7777777777777778,
              "#fb9f3a"
             ],
             [
              0.8888888888888888,
              "#fdca26"
             ],
             [
              1.0,
              "#f0f921"
             ]
            ]
           }
          ],
          "mesh3d": [
           {
            "type": "mesh3d",
            "colorbar": {
             "outlinewidth": 0,
             "ticks": ""
            }
           }
          ],
          "scatter": [
           {
            "fillpattern": {
             "fillmode": "overlay",
             "size": 10,
             "solidity": 0.2
            },
            "type": "scatter"
           }
          ],
          "parcoords": [
           {
            "type": "parcoords",
            "line": {
             "colorbar": {
              "outlinewidth": 0,
              "ticks": ""
             }
            }
           }
          ],
          "scatterpolargl": [
           {
            "type": "scatterpolargl",
            "marker": {
             "colorbar": {
              "outlinewidth": 0,
              "ticks": ""
             }
            }
           }
          ],
          "bar": [
           {
            "error_x": {
             "color": "#2a3f5f"
            },
            "error_y": {
             "color": "#2a3f5f"
            },
            "marker": {
             "line": {
              "color": "#E5ECF6",
              "width": 0.5
             },
             "pattern": {
              "fillmode": "overlay",
              "size": 10,
              "solidity": 0.2
             }
            },
            "type": "bar"
           }
          ],
          "scattergeo": [
           {
            "type": "scattergeo",
            "marker": {
             "colorbar": {
              "outlinewidth": 0,
              "ticks": ""
             }
            }
           }
          ],
          "scatterpolar": [
           {
            "type": "scatterpolar",
            "marker": {
             "colorbar": {
              "outlinewidth": 0,
              "ticks": ""
             }
            }
           }
          ],
          "histogram": [
           {
            "marker": {
             "pattern": {
              "fillmode": "overlay",
              "size": 10,
              "solidity": 0.2
             }
            },
            "type": "histogram"
           }
          ],
          "scattergl": [
           {
            "type": "scattergl",
            "marker": {
             "colorbar": {
              "outlinewidth": 0,
              "ticks": ""
             }
            }
           }
          ],
          "scatter3d": [
           {
            "type": "scatter3d",
            "line": {
             "colorbar": {
              "outlinewidth": 0,
              "ticks": ""
             }
            },
            "marker": {
             "colorbar": {
              "outlinewidth": 0,
              "ticks": ""
             }
            }
           }
          ],
          "scattermapbox": [
           {
            "type": "scattermapbox",
            "marker": {
             "colorbar": {
              "outlinewidth": 0,
              "ticks": ""
             }
            }
           }
          ],
          "scatterternary": [
           {
            "type": "scatterternary",
            "marker": {
             "colorbar": {
              "outlinewidth": 0,
              "ticks": ""
             }
            }
           }
          ],
          "scattercarpet": [
           {
            "type": "scattercarpet",
            "marker": {
             "colorbar": {
              "outlinewidth": 0,
              "ticks": ""
             }
            }
           }
          ],
          "carpet": [
           {
            "aaxis": {
             "endlinecolor": "#2a3f5f",
             "gridcolor": "white",
             "linecolor": "white",
             "minorgridcolor": "white",
             "startlinecolor": "#2a3f5f"
            },
            "baxis": {
             "endlinecolor": "#2a3f5f",
             "gridcolor": "white",
             "linecolor": "white",
             "minorgridcolor": "white",
             "startlinecolor": "#2a3f5f"
            },
            "type": "carpet"
           }
          ],
          "table": [
           {
            "cells": {
             "fill": {
              "color": "#EBF0F8"
             },
             "line": {
              "color": "white"
             }
            },
            "header": {
             "fill": {
              "color": "#C8D4E3"
             },
             "line": {
              "color": "white"
             }
            },
            "type": "table"
           }
          ],
          "barpolar": [
           {
            "marker": {
             "line": {
              "color": "#E5ECF6",
              "width": 0.5
             },
             "pattern": {
              "fillmode": "overlay",
              "size": 10,
              "solidity": 0.2
             }
            },
            "type": "barpolar"
           }
          ],
          "pie": [
           {
            "automargin": true,
            "type": "pie"
           }
          ]
         },
         "layout": {
          "autotypenumbers": "strict",
          "colorway": [
           "#636efa",
           "#EF553B",
           "#00cc96",
           "#ab63fa",
           "#FFA15A",
           "#19d3f3",
           "#FF6692",
           "#B6E880",
           "#FF97FF",
           "#FECB52"
          ],
          "font": {
           "color": "#2a3f5f"
          },
          "hovermode": "closest",
          "hoverlabel": {
           "align": "left"
          },
          "paper_bgcolor": "white",
          "plot_bgcolor": "#E5ECF6",
          "polar": {
           "bgcolor": "#E5ECF6",
           "angularaxis": {
            "gridcolor": "white",
            "linecolor": "white",
            "ticks": ""
           },
           "radialaxis": {
            "gridcolor": "white",
            "linecolor": "white",
            "ticks": ""
           }
          },
          "ternary": {
           "bgcolor": "#E5ECF6",
           "aaxis": {
            "gridcolor": "white",
            "linecolor": "white",
            "ticks": ""
           },
           "baxis": {
            "gridcolor": "white",
            "linecolor": "white",
            "ticks": ""
           },
           "caxis": {
            "gridcolor": "white",
            "linecolor": "white",
            "ticks": ""
           }
          },
          "coloraxis": {
           "colorbar": {
            "outlinewidth": 0,
            "ticks": ""
           }
          },
          "colorscale": {
           "sequential": [
            [
             0.0,
             "#0d0887"
            ],
            [
             0.1111111111111111,
             "#46039f"
            ],
            [
             0.2222222222222222,
             "#7201a8"
            ],
            [
             0.3333333333333333,
             "#9c179e"
            ],
            [
             0.4444444444444444,
             "#bd3786"
            ],
            [
             0.5555555555555556,
             "#d8576b"
            ],
            [
             0.6666666666666666,
             "#ed7953"
            ],
            [
             0.7777777777777778,
             "#fb9f3a"
            ],
            [
             0.8888888888888888,
             "#fdca26"
            ],
            [
             1.0,
             "#f0f921"
            ]
           ],
           "sequentialminus": [
            [
             0.0,
             "#0d0887"
            ],
            [
             0.1111111111111111,
             "#46039f"
            ],
            [
             0.2222222222222222,
             "#7201a8"
            ],
            [
             0.3333333333333333,
             "#9c179e"
            ],
            [
             0.4444444444444444,
             "#bd3786"
            ],
            [
             0.5555555555555556,
             "#d8576b"
            ],
            [
             0.6666666666666666,
             "#ed7953"
            ],
            [
             0.7777777777777778,
             "#fb9f3a"
            ],
            [
             0.8888888888888888,
             "#fdca26"
            ],
            [
             1.0,
             "#f0f921"
            ]
           ],
           "diverging": [
            [
             0,
             "#8e0152"
            ],
            [
             0.1,
             "#c51b7d"
            ],
            [
             0.2,
             "#de77ae"
            ],
            [
             0.3,
             "#f1b6da"
            ],
            [
             0.4,
             "#fde0ef"
            ],
            [
             0.5,
             "#f7f7f7"
            ],
            [
             0.6,
             "#e6f5d0"
            ],
            [
             0.7,
             "#b8e186"
            ],
            [
             0.8,
             "#7fbc41"
            ],
            [
             0.9,
             "#4d9221"
            ],
            [
             1,
             "#276419"
            ]
           ]
          },
          "xaxis": {
           "gridcolor": "white",
           "linecolor": "white",
           "ticks": "",
           "title": {
            "standoff": 15
           },
           "zerolinecolor": "white",
           "automargin": true,
           "zerolinewidth": 2
          },
          "yaxis": {
           "gridcolor": "white",
           "linecolor": "white",
           "ticks": "",
           "title": {
            "standoff": 15
           },
           "zerolinecolor": "white",
           "automargin": true,
           "zerolinewidth": 2
          },
          "scene": {
           "xaxis": {
            "backgroundcolor": "#E5ECF6",
            "gridcolor": "white",
            "linecolor": "white",
            "showbackground": true,
            "ticks": "",
            "zerolinecolor": "white",
            "gridwidth": 2
           },
           "yaxis": {
            "backgroundcolor": "#E5ECF6",
            "gridcolor": "white",
            "linecolor": "white",
            "showbackground": true,
            "ticks": "",
            "zerolinecolor": "white",
            "gridwidth": 2
           },
           "zaxis": {
            "backgroundcolor": "#E5ECF6",
            "gridcolor": "white",
            "linecolor": "white",
            "showbackground": true,
            "ticks": "",
            "zerolinecolor": "white",
            "gridwidth": 2
           }
          },
          "shapedefaults": {
           "line": {
            "color": "#2a3f5f"
           }
          },
          "annotationdefaults": {
           "arrowcolor": "#2a3f5f",
           "arrowhead": 0,
           "arrowwidth": 1
          },
          "geo": {
           "bgcolor": "white",
           "landcolor": "#E5ECF6",
           "subunitcolor": "white",
           "showland": true,
           "showlakes": true,
           "lakecolor": "white"
          },
          "title": {
           "x": 0.05
          },
          "mapbox": {
           "style": "light"
          }
         }
        },
        "legend": {
         "tracegroupgap": 0
        },
        "title": {
         "text": "Value Counts Pie Chart"
        },
        "piecolorway": [
         "rgb(103,0,31)",
         "rgb(178,24,43)",
         "rgb(214,96,77)",
         "rgb(244,165,130)",
         "rgb(253,219,199)",
         "rgb(247,247,247)",
         "rgb(209,229,240)",
         "rgb(146,197,222)",
         "rgb(67,147,195)",
         "rgb(33,102,172)",
         "rgb(5,48,97)"
        ]
       },
       "config": {
        "plotlyServerURL": "https://plot.ly"
       }
      },
      "text/html": [
       "<div>                            <div id=\"fea2e49c-8407-4395-b76d-de4eb46f72ee\" class=\"plotly-graph-div\" style=\"height:525px; width:100%;\"></div>            <script type=\"text/javascript\">                require([\"plotly\"], function(Plotly) {                    window.PLOTLYENV=window.PLOTLYENV || {};                                    if (document.getElementById(\"fea2e49c-8407-4395-b76d-de4eb46f72ee\")) {                    Plotly.newPlot(                        \"fea2e49c-8407-4395-b76d-de4eb46f72ee\",                        [{\"domain\":{\"x\":[0.0,1.0],\"y\":[0.0,1.0]},\"hovertemplate\":\"dataloader_name=%{label}\\u003cbr\\u003ecount=%{value}\\u003cextra\\u003e\\u003c\\u002fextra\\u003e\",\"labels\":[\"UaSqaudDataset\",\"NewsKeywordDataset\",\"NewsTopicClassificationDataset\",\"NerDataset\",\"UaGecDataset\",\"MovaInstPosDataset\",\"ZnoDataset\",null,\"WscDataset\"],\"legendgroup\":\"\",\"name\":\"\",\"showlegend\":true,\"values\":[8869,96350,96317,224,4937,4627,2443,16,177],\"type\":\"pie\",\"hole\":0.2,\"pull\":[0.1,0,0],\"textinfo\":\"percent+label\"}],                        {\"template\":{\"data\":{\"histogram2dcontour\":[{\"type\":\"histogram2dcontour\",\"colorbar\":{\"outlinewidth\":0,\"ticks\":\"\"},\"colorscale\":[[0.0,\"#0d0887\"],[0.1111111111111111,\"#46039f\"],[0.2222222222222222,\"#7201a8\"],[0.3333333333333333,\"#9c179e\"],[0.4444444444444444,\"#bd3786\"],[0.5555555555555556,\"#d8576b\"],[0.6666666666666666,\"#ed7953\"],[0.7777777777777778,\"#fb9f3a\"],[0.8888888888888888,\"#fdca26\"],[1.0,\"#f0f921\"]]}],\"choropleth\":[{\"type\":\"choropleth\",\"colorbar\":{\"outlinewidth\":0,\"ticks\":\"\"}}],\"histogram2d\":[{\"type\":\"histogram2d\",\"colorbar\":{\"outlinewidth\":0,\"ticks\":\"\"},\"colorscale\":[[0.0,\"#0d0887\"],[0.1111111111111111,\"#46039f\"],[0.2222222222222222,\"#7201a8\"],[0.3333333333333333,\"#9c179e\"],[0.4444444444444444,\"#bd3786\"],[0.5555555555555556,\"#d8576b\"],[0.6666666666666666,\"#ed7953\"],[0.7777777777777778,\"#fb9f3a\"],[0.8888888888888888,\"#fdca26\"],[1.0,\"#f0f921\"]]}],\"heatmap\":[{\"type\":\"heatmap\",\"colorbar\":{\"outlinewidth\":0,\"ticks\":\"\"},\"colorscale\":[[0.0,\"#0d0887\"],[0.1111111111111111,\"#46039f\"],[0.2222222222222222,\"#7201a8\"],[0.3333333333333333,\"#9c179e\"],[0.4444444444444444,\"#bd3786\"],[0.5555555555555556,\"#d8576b\"],[0.6666666666666666,\"#ed7953\"],[0.7777777777777778,\"#fb9f3a\"],[0.8888888888888888,\"#fdca26\"],[1.0,\"#f0f921\"]]}],\"heatmapgl\":[{\"type\":\"heatmapgl\",\"colorbar\":{\"outlinewidth\":0,\"ticks\":\"\"},\"colorscale\":[[0.0,\"#0d0887\"],[0.1111111111111111,\"#46039f\"],[0.2222222222222222,\"#7201a8\"],[0.3333333333333333,\"#9c179e\"],[0.4444444444444444,\"#bd3786\"],[0.5555555555555556,\"#d8576b\"],[0.6666666666666666,\"#ed7953\"],[0.7777777777777778,\"#fb9f3a\"],[0.8888888888888888,\"#fdca26\"],[1.0,\"#f0f921\"]]}],\"contourcarpet\":[{\"type\":\"contourcarpet\",\"colorbar\":{\"outlinewidth\":0,\"ticks\":\"\"}}],\"contour\":[{\"type\":\"contour\",\"colorbar\":{\"outlinewidth\":0,\"ticks\":\"\"},\"colorscale\":[[0.0,\"#0d0887\"],[0.1111111111111111,\"#46039f\"],[0.2222222222222222,\"#7201a8\"],[0.3333333333333333,\"#9c179e\"],[0.4444444444444444,\"#bd3786\"],[0.5555555555555556,\"#d8576b\"],[0.6666666666666666,\"#ed7953\"],[0.7777777777777778,\"#fb9f3a\"],[0.8888888888888888,\"#fdca26\"],[1.0,\"#f0f921\"]]}],\"surface\":[{\"type\":\"surface\",\"colorbar\":{\"outlinewidth\":0,\"ticks\":\"\"},\"colorscale\":[[0.0,\"#0d0887\"],[0.1111111111111111,\"#46039f\"],[0.2222222222222222,\"#7201a8\"],[0.3333333333333333,\"#9c179e\"],[0.4444444444444444,\"#bd3786\"],[0.5555555555555556,\"#d8576b\"],[0.6666666666666666,\"#ed7953\"],[0.7777777777777778,\"#fb9f3a\"],[0.8888888888888888,\"#fdca26\"],[1.0,\"#f0f921\"]]}],\"mesh3d\":[{\"type\":\"mesh3d\",\"colorbar\":{\"outlinewidth\":0,\"ticks\":\"\"}}],\"scatter\":[{\"fillpattern\":{\"fillmode\":\"overlay\",\"size\":10,\"solidity\":0.2},\"type\":\"scatter\"}],\"parcoords\":[{\"type\":\"parcoords\",\"line\":{\"colorbar\":{\"outlinewidth\":0,\"ticks\":\"\"}}}],\"scatterpolargl\":[{\"type\":\"scatterpolargl\",\"marker\":{\"colorbar\":{\"outlinewidth\":0,\"ticks\":\"\"}}}],\"bar\":[{\"error_x\":{\"color\":\"#2a3f5f\"},\"error_y\":{\"color\":\"#2a3f5f\"},\"marker\":{\"line\":{\"color\":\"#E5ECF6\",\"width\":0.5},\"pattern\":{\"fillmode\":\"overlay\",\"size\":10,\"solidity\":0.2}},\"type\":\"bar\"}],\"scattergeo\":[{\"type\":\"scattergeo\",\"marker\":{\"colorbar\":{\"outlinewidth\":0,\"ticks\":\"\"}}}],\"scatterpolar\":[{\"type\":\"scatterpolar\",\"marker\":{\"colorbar\":{\"outlinewidth\":0,\"ticks\":\"\"}}}],\"histogram\":[{\"marker\":{\"pattern\":{\"fillmode\":\"overlay\",\"size\":10,\"solidity\":0.2}},\"type\":\"histogram\"}],\"scattergl\":[{\"type\":\"scattergl\",\"marker\":{\"colorbar\":{\"outlinewidth\":0,\"ticks\":\"\"}}}],\"scatter3d\":[{\"type\":\"scatter3d\",\"line\":{\"colorbar\":{\"outlinewidth\":0,\"ticks\":\"\"}},\"marker\":{\"colorbar\":{\"outlinewidth\":0,\"ticks\":\"\"}}}],\"scattermapbox\":[{\"type\":\"scattermapbox\",\"marker\":{\"colorbar\":{\"outlinewidth\":0,\"ticks\":\"\"}}}],\"scatterternary\":[{\"type\":\"scatterternary\",\"marker\":{\"colorbar\":{\"outlinewidth\":0,\"ticks\":\"\"}}}],\"scattercarpet\":[{\"type\":\"scattercarpet\",\"marker\":{\"colorbar\":{\"outlinewidth\":0,\"ticks\":\"\"}}}],\"carpet\":[{\"aaxis\":{\"endlinecolor\":\"#2a3f5f\",\"gridcolor\":\"white\",\"linecolor\":\"white\",\"minorgridcolor\":\"white\",\"startlinecolor\":\"#2a3f5f\"},\"baxis\":{\"endlinecolor\":\"#2a3f5f\",\"gridcolor\":\"white\",\"linecolor\":\"white\",\"minorgridcolor\":\"white\",\"startlinecolor\":\"#2a3f5f\"},\"type\":\"carpet\"}],\"table\":[{\"cells\":{\"fill\":{\"color\":\"#EBF0F8\"},\"line\":{\"color\":\"white\"}},\"header\":{\"fill\":{\"color\":\"#C8D4E3\"},\"line\":{\"color\":\"white\"}},\"type\":\"table\"}],\"barpolar\":[{\"marker\":{\"line\":{\"color\":\"#E5ECF6\",\"width\":0.5},\"pattern\":{\"fillmode\":\"overlay\",\"size\":10,\"solidity\":0.2}},\"type\":\"barpolar\"}],\"pie\":[{\"automargin\":true,\"type\":\"pie\"}]},\"layout\":{\"autotypenumbers\":\"strict\",\"colorway\":[\"#636efa\",\"#EF553B\",\"#00cc96\",\"#ab63fa\",\"#FFA15A\",\"#19d3f3\",\"#FF6692\",\"#B6E880\",\"#FF97FF\",\"#FECB52\"],\"font\":{\"color\":\"#2a3f5f\"},\"hovermode\":\"closest\",\"hoverlabel\":{\"align\":\"left\"},\"paper_bgcolor\":\"white\",\"plot_bgcolor\":\"#E5ECF6\",\"polar\":{\"bgcolor\":\"#E5ECF6\",\"angularaxis\":{\"gridcolor\":\"white\",\"linecolor\":\"white\",\"ticks\":\"\"},\"radialaxis\":{\"gridcolor\":\"white\",\"linecolor\":\"white\",\"ticks\":\"\"}},\"ternary\":{\"bgcolor\":\"#E5ECF6\",\"aaxis\":{\"gridcolor\":\"white\",\"linecolor\":\"white\",\"ticks\":\"\"},\"baxis\":{\"gridcolor\":\"white\",\"linecolor\":\"white\",\"ticks\":\"\"},\"caxis\":{\"gridcolor\":\"white\",\"linecolor\":\"white\",\"ticks\":\"\"}},\"coloraxis\":{\"colorbar\":{\"outlinewidth\":0,\"ticks\":\"\"}},\"colorscale\":{\"sequential\":[[0.0,\"#0d0887\"],[0.1111111111111111,\"#46039f\"],[0.2222222222222222,\"#7201a8\"],[0.3333333333333333,\"#9c179e\"],[0.4444444444444444,\"#bd3786\"],[0.5555555555555556,\"#d8576b\"],[0.6666666666666666,\"#ed7953\"],[0.7777777777777778,\"#fb9f3a\"],[0.8888888888888888,\"#fdca26\"],[1.0,\"#f0f921\"]],\"sequentialminus\":[[0.0,\"#0d0887\"],[0.1111111111111111,\"#46039f\"],[0.2222222222222222,\"#7201a8\"],[0.3333333333333333,\"#9c179e\"],[0.4444444444444444,\"#bd3786\"],[0.5555555555555556,\"#d8576b\"],[0.6666666666666666,\"#ed7953\"],[0.7777777777777778,\"#fb9f3a\"],[0.8888888888888888,\"#fdca26\"],[1.0,\"#f0f921\"]],\"diverging\":[[0,\"#8e0152\"],[0.1,\"#c51b7d\"],[0.2,\"#de77ae\"],[0.3,\"#f1b6da\"],[0.4,\"#fde0ef\"],[0.5,\"#f7f7f7\"],[0.6,\"#e6f5d0\"],[0.7,\"#b8e186\"],[0.8,\"#7fbc41\"],[0.9,\"#4d9221\"],[1,\"#276419\"]]},\"xaxis\":{\"gridcolor\":\"white\",\"linecolor\":\"white\",\"ticks\":\"\",\"title\":{\"standoff\":15},\"zerolinecolor\":\"white\",\"automargin\":true,\"zerolinewidth\":2},\"yaxis\":{\"gridcolor\":\"white\",\"linecolor\":\"white\",\"ticks\":\"\",\"title\":{\"standoff\":15},\"zerolinecolor\":\"white\",\"automargin\":true,\"zerolinewidth\":2},\"scene\":{\"xaxis\":{\"backgroundcolor\":\"#E5ECF6\",\"gridcolor\":\"white\",\"linecolor\":\"white\",\"showbackground\":true,\"ticks\":\"\",\"zerolinecolor\":\"white\",\"gridwidth\":2},\"yaxis\":{\"backgroundcolor\":\"#E5ECF6\",\"gridcolor\":\"white\",\"linecolor\":\"white\",\"showbackground\":true,\"ticks\":\"\",\"zerolinecolor\":\"white\",\"gridwidth\":2},\"zaxis\":{\"backgroundcolor\":\"#E5ECF6\",\"gridcolor\":\"white\",\"linecolor\":\"white\",\"showbackground\":true,\"ticks\":\"\",\"zerolinecolor\":\"white\",\"gridwidth\":2}},\"shapedefaults\":{\"line\":{\"color\":\"#2a3f5f\"}},\"annotationdefaults\":{\"arrowcolor\":\"#2a3f5f\",\"arrowhead\":0,\"arrowwidth\":1},\"geo\":{\"bgcolor\":\"white\",\"landcolor\":\"#E5ECF6\",\"subunitcolor\":\"white\",\"showland\":true,\"showlakes\":true,\"lakecolor\":\"white\"},\"title\":{\"x\":0.05},\"mapbox\":{\"style\":\"light\"}}},\"legend\":{\"tracegroupgap\":0},\"title\":{\"text\":\"Value Counts Pie Chart\"},\"piecolorway\":[\"rgb(103,0,31)\",\"rgb(178,24,43)\",\"rgb(214,96,77)\",\"rgb(244,165,130)\",\"rgb(253,219,199)\",\"rgb(247,247,247)\",\"rgb(209,229,240)\",\"rgb(146,197,222)\",\"rgb(67,147,195)\",\"rgb(33,102,172)\",\"rgb(5,48,97)\"]},                        {\"responsive\": true}                    ).then(function(){\n",
       "                            \n",
       "var gd = document.getElementById('fea2e49c-8407-4395-b76d-de4eb46f72ee');\n",
       "var x = new MutationObserver(function (mutations, observer) {{\n",
       "        var display = window.getComputedStyle(gd).display;\n",
       "        if (!display || display === 'none') {{\n",
       "            console.log([gd, 'removed!']);\n",
       "            Plotly.purge(gd);\n",
       "            observer.disconnect();\n",
       "        }}\n",
       "}});\n",
       "\n",
       "// Listen for the removal of the full notebook cells\n",
       "var notebookContainer = gd.closest('#notebook-container');\n",
       "if (notebookContainer) {{\n",
       "    x.observe(notebookContainer, {childList: true});\n",
       "}}\n",
       "\n",
       "// Listen for the clearing of the current output cell\n",
       "var outputEl = gd.closest('.output');\n",
       "if (outputEl) {{\n",
       "    x.observe(outputEl, {childList: true});\n",
       "}}\n",
       "\n",
       "                        })                };                });            </script>        </div>"
      ]
     },
     "metadata": {},
     "output_type": "display_data"
    }
   ],
   "execution_count": 44
  },
  {
   "metadata": {
    "ExecuteTime": {
     "end_time": "2024-09-14T08:18:02.378692Z",
     "start_time": "2024-09-14T08:18:02.364849Z"
    }
   },
   "cell_type": "code",
   "source": [
    "counts = df['dataloader_name'].value_counts()\n",
    "counts"
   ],
   "id": "6ac7118696053a54",
   "outputs": [
    {
     "data": {
      "text/plain": [
       "shape: (2, 2)\n",
       "┌───────────────────┬───────┐\n",
       "│ dataloader_name   ┆ count │\n",
       "│ ---               ┆ ---   │\n",
       "│ str               ┆ u32   │\n",
       "╞═══════════════════╪═══════╡\n",
       "│ PapersDataset     ┆ 61100 │\n",
       "│ UbertextV2Dataset ┆ 34708 │\n",
       "└───────────────────┴───────┘"
      ],
      "text/html": [
       "<div><style>\n",
       ".dataframe > thead > tr,\n",
       ".dataframe > tbody > tr {\n",
       "  text-align: right;\n",
       "  white-space: pre-wrap;\n",
       "}\n",
       "</style>\n",
       "<small>shape: (2, 2)</small><table border=\"1\" class=\"dataframe\"><thead><tr><th>dataloader_name</th><th>count</th></tr><tr><td>str</td><td>u32</td></tr></thead><tbody><tr><td>&quot;PapersDataset&quot;</td><td>61100</td></tr><tr><td>&quot;UbertextV2Dataset&quot;</td><td>34708</td></tr></tbody></table></div>"
      ]
     },
     "execution_count": 15,
     "metadata": {},
     "output_type": "execute_result"
    }
   ],
   "execution_count": 15
  },
  {
   "metadata": {
    "ExecuteTime": {
     "end_time": "2024-09-14T08:18:02.386877Z",
     "start_time": "2024-09-14T08:18:02.381084Z"
    }
   },
   "cell_type": "code",
   "source": "counts['count'] / counts['count'].sum() * 100",
   "id": "4b051760832b134c",
   "outputs": [
    {
     "data": {
      "text/plain": [
       "shape: (2,)\n",
       "Series: 'count' [f64]\n",
       "[\n",
       "\t63.77338\n",
       "\t36.22662\n",
       "]"
      ],
      "text/html": [
       "<div><style>\n",
       ".dataframe > thead > tr,\n",
       ".dataframe > tbody > tr {\n",
       "  text-align: right;\n",
       "  white-space: pre-wrap;\n",
       "}\n",
       "</style>\n",
       "<small>shape: (2,)</small><table border=\"1\" class=\"dataframe\"><thead><tr><th>count</th></tr><tr><td>f64</td></tr></thead><tbody><tr><td>63.77338</td></tr><tr><td>36.22662</td></tr></tbody></table></div>"
      ]
     },
     "execution_count": 16,
     "metadata": {},
     "output_type": "execute_result"
    }
   ],
   "execution_count": 16
  },
  {
   "metadata": {
    "ExecuteTime": {
     "end_time": "2024-09-14T08:21:39.873333Z",
     "start_time": "2024-09-14T08:21:39.860101Z"
    }
   },
   "cell_type": "code",
   "source": "df.size()",
   "id": "adaed621b6533b8a",
   "outputs": [
    {
     "ename": "AttributeError",
     "evalue": "'DataFrame' object has no attribute 'size'",
     "output_type": "error",
     "traceback": [
      "\u001B[0;31m---------------------------------------------------------------------------\u001B[0m",
      "\u001B[0;31mAttributeError\u001B[0m                            Traceback (most recent call last)",
      "Cell \u001B[0;32mIn[18], line 1\u001B[0m\n\u001B[0;32m----> 1\u001B[0m \u001B[43mdf\u001B[49m\u001B[38;5;241;43m.\u001B[39;49m\u001B[43msize\u001B[49m()\n",
      "\u001B[0;31mAttributeError\u001B[0m: 'DataFrame' object has no attribute 'size'"
     ]
    }
   ],
   "execution_count": 18
  },
  {
   "metadata": {
    "ExecuteTime": {
     "end_time": "2024-09-14T22:51:50.994298Z",
     "start_time": "2024-09-14T22:51:50.973729Z"
    }
   },
   "cell_type": "code",
   "source": [
    "import plotly.graph_objects as go\n",
    "\n",
    "# Dataset sizes in GB\n",
    "datasets = ['Train', 'Test', 'Valid']\n",
    "sizes_large = [11.6, 4.64, 3.1]\n",
    "sizes_medium = [5.8, 2.32, 1.55]\n",
    "sizes_small = [1.16, 0.464, 0.31]\n",
    "\n",
    "# Create traces for each dataset size\n",
    "fig = go.Figure(data=[\n",
    "    go.Bar(name='Large', y=datasets, x=sizes_large, orientation='h', text=sizes_large, textposition='auto'),\n",
    "    go.Bar(name='Medium', y=datasets, x=sizes_medium, orientation='h', text=sizes_medium, textposition='auto'),\n",
    "    go.Bar(name='Small', y=datasets, x=sizes_small, orientation='h', text=sizes_small, textposition='auto')\n",
    "])\n",
    "\n",
    "# Update layout for grouped bar chart\n",
    "fig.update_layout(\n",
    "    title='Dataset Sizes for Train, Test, and Valid',\n",
    "    xaxis_title='Size (GB)',\n",
    "    yaxis_title='Dataset',\n",
    "    barmode='group'\n",
    ")\n",
    "\n",
    "# Show plot\n",
    "fig.show()\n"
   ],
   "id": "45bbabbbc8d51705",
   "outputs": [
    {
     "data": {
      "application/vnd.plotly.v1+json": {
       "data": [
        {
         "name": "Large",
         "orientation": "h",
         "text": [
          "11.6",
          "4.64",
          "3.1"
         ],
         "textposition": "auto",
         "x": [
          11.6,
          4.64,
          3.1
         ],
         "y": [
          "Train",
          "Test",
          "Valid"
         ],
         "type": "bar"
        },
        {
         "name": "Medium",
         "orientation": "h",
         "text": [
          "5.8",
          "2.32",
          "1.55"
         ],
         "textposition": "auto",
         "x": [
          5.8,
          2.32,
          1.55
         ],
         "y": [
          "Train",
          "Test",
          "Valid"
         ],
         "type": "bar"
        },
        {
         "name": "Small",
         "orientation": "h",
         "text": [
          "1.16",
          "0.464",
          "0.31"
         ],
         "textposition": "auto",
         "x": [
          1.16,
          0.464,
          0.31
         ],
         "y": [
          "Train",
          "Test",
          "Valid"
         ],
         "type": "bar"
        }
       ],
       "layout": {
        "template": {
         "data": {
          "histogram2dcontour": [
           {
            "type": "histogram2dcontour",
            "colorbar": {
             "outlinewidth": 0,
             "ticks": ""
            },
            "colorscale": [
             [
              0.0,
              "#0d0887"
             ],
             [
              0.1111111111111111,
              "#46039f"
             ],
             [
              0.2222222222222222,
              "#7201a8"
             ],
             [
              0.3333333333333333,
              "#9c179e"
             ],
             [
              0.4444444444444444,
              "#bd3786"
             ],
             [
              0.5555555555555556,
              "#d8576b"
             ],
             [
              0.6666666666666666,
              "#ed7953"
             ],
             [
              0.7777777777777778,
              "#fb9f3a"
             ],
             [
              0.8888888888888888,
              "#fdca26"
             ],
             [
              1.0,
              "#f0f921"
             ]
            ]
           }
          ],
          "choropleth": [
           {
            "type": "choropleth",
            "colorbar": {
             "outlinewidth": 0,
             "ticks": ""
            }
           }
          ],
          "histogram2d": [
           {
            "type": "histogram2d",
            "colorbar": {
             "outlinewidth": 0,
             "ticks": ""
            },
            "colorscale": [
             [
              0.0,
              "#0d0887"
             ],
             [
              0.1111111111111111,
              "#46039f"
             ],
             [
              0.2222222222222222,
              "#7201a8"
             ],
             [
              0.3333333333333333,
              "#9c179e"
             ],
             [
              0.4444444444444444,
              "#bd3786"
             ],
             [
              0.5555555555555556,
              "#d8576b"
             ],
             [
              0.6666666666666666,
              "#ed7953"
             ],
             [
              0.7777777777777778,
              "#fb9f3a"
             ],
             [
              0.8888888888888888,
              "#fdca26"
             ],
             [
              1.0,
              "#f0f921"
             ]
            ]
           }
          ],
          "heatmap": [
           {
            "type": "heatmap",
            "colorbar": {
             "outlinewidth": 0,
             "ticks": ""
            },
            "colorscale": [
             [
              0.0,
              "#0d0887"
             ],
             [
              0.1111111111111111,
              "#46039f"
             ],
             [
              0.2222222222222222,
              "#7201a8"
             ],
             [
              0.3333333333333333,
              "#9c179e"
             ],
             [
              0.4444444444444444,
              "#bd3786"
             ],
             [
              0.5555555555555556,
              "#d8576b"
             ],
             [
              0.6666666666666666,
              "#ed7953"
             ],
             [
              0.7777777777777778,
              "#fb9f3a"
             ],
             [
              0.8888888888888888,
              "#fdca26"
             ],
             [
              1.0,
              "#f0f921"
             ]
            ]
           }
          ],
          "heatmapgl": [
           {
            "type": "heatmapgl",
            "colorbar": {
             "outlinewidth": 0,
             "ticks": ""
            },
            "colorscale": [
             [
              0.0,
              "#0d0887"
             ],
             [
              0.1111111111111111,
              "#46039f"
             ],
             [
              0.2222222222222222,
              "#7201a8"
             ],
             [
              0.3333333333333333,
              "#9c179e"
             ],
             [
              0.4444444444444444,
              "#bd3786"
             ],
             [
              0.5555555555555556,
              "#d8576b"
             ],
             [
              0.6666666666666666,
              "#ed7953"
             ],
             [
              0.7777777777777778,
              "#fb9f3a"
             ],
             [
              0.8888888888888888,
              "#fdca26"
             ],
             [
              1.0,
              "#f0f921"
             ]
            ]
           }
          ],
          "contourcarpet": [
           {
            "type": "contourcarpet",
            "colorbar": {
             "outlinewidth": 0,
             "ticks": ""
            }
           }
          ],
          "contour": [
           {
            "type": "contour",
            "colorbar": {
             "outlinewidth": 0,
             "ticks": ""
            },
            "colorscale": [
             [
              0.0,
              "#0d0887"
             ],
             [
              0.1111111111111111,
              "#46039f"
             ],
             [
              0.2222222222222222,
              "#7201a8"
             ],
             [
              0.3333333333333333,
              "#9c179e"
             ],
             [
              0.4444444444444444,
              "#bd3786"
             ],
             [
              0.5555555555555556,
              "#d8576b"
             ],
             [
              0.6666666666666666,
              "#ed7953"
             ],
             [
              0.7777777777777778,
              "#fb9f3a"
             ],
             [
              0.8888888888888888,
              "#fdca26"
             ],
             [
              1.0,
              "#f0f921"
             ]
            ]
           }
          ],
          "surface": [
           {
            "type": "surface",
            "colorbar": {
             "outlinewidth": 0,
             "ticks": ""
            },
            "colorscale": [
             [
              0.0,
              "#0d0887"
             ],
             [
              0.1111111111111111,
              "#46039f"
             ],
             [
              0.2222222222222222,
              "#7201a8"
             ],
             [
              0.3333333333333333,
              "#9c179e"
             ],
             [
              0.4444444444444444,
              "#bd3786"
             ],
             [
              0.5555555555555556,
              "#d8576b"
             ],
             [
              0.6666666666666666,
              "#ed7953"
             ],
             [
              0.7777777777777778,
              "#fb9f3a"
             ],
             [
              0.8888888888888888,
              "#fdca26"
             ],
             [
              1.0,
              "#f0f921"
             ]
            ]
           }
          ],
          "mesh3d": [
           {
            "type": "mesh3d",
            "colorbar": {
             "outlinewidth": 0,
             "ticks": ""
            }
           }
          ],
          "scatter": [
           {
            "fillpattern": {
             "fillmode": "overlay",
             "size": 10,
             "solidity": 0.2
            },
            "type": "scatter"
           }
          ],
          "parcoords": [
           {
            "type": "parcoords",
            "line": {
             "colorbar": {
              "outlinewidth": 0,
              "ticks": ""
             }
            }
           }
          ],
          "scatterpolargl": [
           {
            "type": "scatterpolargl",
            "marker": {
             "colorbar": {
              "outlinewidth": 0,
              "ticks": ""
             }
            }
           }
          ],
          "bar": [
           {
            "error_x": {
             "color": "#2a3f5f"
            },
            "error_y": {
             "color": "#2a3f5f"
            },
            "marker": {
             "line": {
              "color": "#E5ECF6",
              "width": 0.5
             },
             "pattern": {
              "fillmode": "overlay",
              "size": 10,
              "solidity": 0.2
             }
            },
            "type": "bar"
           }
          ],
          "scattergeo": [
           {
            "type": "scattergeo",
            "marker": {
             "colorbar": {
              "outlinewidth": 0,
              "ticks": ""
             }
            }
           }
          ],
          "scatterpolar": [
           {
            "type": "scatterpolar",
            "marker": {
             "colorbar": {
              "outlinewidth": 0,
              "ticks": ""
             }
            }
           }
          ],
          "histogram": [
           {
            "marker": {
             "pattern": {
              "fillmode": "overlay",
              "size": 10,
              "solidity": 0.2
             }
            },
            "type": "histogram"
           }
          ],
          "scattergl": [
           {
            "type": "scattergl",
            "marker": {
             "colorbar": {
              "outlinewidth": 0,
              "ticks": ""
             }
            }
           }
          ],
          "scatter3d": [
           {
            "type": "scatter3d",
            "line": {
             "colorbar": {
              "outlinewidth": 0,
              "ticks": ""
             }
            },
            "marker": {
             "colorbar": {
              "outlinewidth": 0,
              "ticks": ""
             }
            }
           }
          ],
          "scattermapbox": [
           {
            "type": "scattermapbox",
            "marker": {
             "colorbar": {
              "outlinewidth": 0,
              "ticks": ""
             }
            }
           }
          ],
          "scatterternary": [
           {
            "type": "scatterternary",
            "marker": {
             "colorbar": {
              "outlinewidth": 0,
              "ticks": ""
             }
            }
           }
          ],
          "scattercarpet": [
           {
            "type": "scattercarpet",
            "marker": {
             "colorbar": {
              "outlinewidth": 0,
              "ticks": ""
             }
            }
           }
          ],
          "carpet": [
           {
            "aaxis": {
             "endlinecolor": "#2a3f5f",
             "gridcolor": "white",
             "linecolor": "white",
             "minorgridcolor": "white",
             "startlinecolor": "#2a3f5f"
            },
            "baxis": {
             "endlinecolor": "#2a3f5f",
             "gridcolor": "white",
             "linecolor": "white",
             "minorgridcolor": "white",
             "startlinecolor": "#2a3f5f"
            },
            "type": "carpet"
           }
          ],
          "table": [
           {
            "cells": {
             "fill": {
              "color": "#EBF0F8"
             },
             "line": {
              "color": "white"
             }
            },
            "header": {
             "fill": {
              "color": "#C8D4E3"
             },
             "line": {
              "color": "white"
             }
            },
            "type": "table"
           }
          ],
          "barpolar": [
           {
            "marker": {
             "line": {
              "color": "#E5ECF6",
              "width": 0.5
             },
             "pattern": {
              "fillmode": "overlay",
              "size": 10,
              "solidity": 0.2
             }
            },
            "type": "barpolar"
           }
          ],
          "pie": [
           {
            "automargin": true,
            "type": "pie"
           }
          ]
         },
         "layout": {
          "autotypenumbers": "strict",
          "colorway": [
           "#636efa",
           "#EF553B",
           "#00cc96",
           "#ab63fa",
           "#FFA15A",
           "#19d3f3",
           "#FF6692",
           "#B6E880",
           "#FF97FF",
           "#FECB52"
          ],
          "font": {
           "color": "#2a3f5f"
          },
          "hovermode": "closest",
          "hoverlabel": {
           "align": "left"
          },
          "paper_bgcolor": "white",
          "plot_bgcolor": "#E5ECF6",
          "polar": {
           "bgcolor": "#E5ECF6",
           "angularaxis": {
            "gridcolor": "white",
            "linecolor": "white",
            "ticks": ""
           },
           "radialaxis": {
            "gridcolor": "white",
            "linecolor": "white",
            "ticks": ""
           }
          },
          "ternary": {
           "bgcolor": "#E5ECF6",
           "aaxis": {
            "gridcolor": "white",
            "linecolor": "white",
            "ticks": ""
           },
           "baxis": {
            "gridcolor": "white",
            "linecolor": "white",
            "ticks": ""
           },
           "caxis": {
            "gridcolor": "white",
            "linecolor": "white",
            "ticks": ""
           }
          },
          "coloraxis": {
           "colorbar": {
            "outlinewidth": 0,
            "ticks": ""
           }
          },
          "colorscale": {
           "sequential": [
            [
             0.0,
             "#0d0887"
            ],
            [
             0.1111111111111111,
             "#46039f"
            ],
            [
             0.2222222222222222,
             "#7201a8"
            ],
            [
             0.3333333333333333,
             "#9c179e"
            ],
            [
             0.4444444444444444,
             "#bd3786"
            ],
            [
             0.5555555555555556,
             "#d8576b"
            ],
            [
             0.6666666666666666,
             "#ed7953"
            ],
            [
             0.7777777777777778,
             "#fb9f3a"
            ],
            [
             0.8888888888888888,
             "#fdca26"
            ],
            [
             1.0,
             "#f0f921"
            ]
           ],
           "sequentialminus": [
            [
             0.0,
             "#0d0887"
            ],
            [
             0.1111111111111111,
             "#46039f"
            ],
            [
             0.2222222222222222,
             "#7201a8"
            ],
            [
             0.3333333333333333,
             "#9c179e"
            ],
            [
             0.4444444444444444,
             "#bd3786"
            ],
            [
             0.5555555555555556,
             "#d8576b"
            ],
            [
             0.6666666666666666,
             "#ed7953"
            ],
            [
             0.7777777777777778,
             "#fb9f3a"
            ],
            [
             0.8888888888888888,
             "#fdca26"
            ],
            [
             1.0,
             "#f0f921"
            ]
           ],
           "diverging": [
            [
             0,
             "#8e0152"
            ],
            [
             0.1,
             "#c51b7d"
            ],
            [
             0.2,
             "#de77ae"
            ],
            [
             0.3,
             "#f1b6da"
            ],
            [
             0.4,
             "#fde0ef"
            ],
            [
             0.5,
             "#f7f7f7"
            ],
            [
             0.6,
             "#e6f5d0"
            ],
            [
             0.7,
             "#b8e186"
            ],
            [
             0.8,
             "#7fbc41"
            ],
            [
             0.9,
             "#4d9221"
            ],
            [
             1,
             "#276419"
            ]
           ]
          },
          "xaxis": {
           "gridcolor": "white",
           "linecolor": "white",
           "ticks": "",
           "title": {
            "standoff": 15
           },
           "zerolinecolor": "white",
           "automargin": true,
           "zerolinewidth": 2
          },
          "yaxis": {
           "gridcolor": "white",
           "linecolor": "white",
           "ticks": "",
           "title": {
            "standoff": 15
           },
           "zerolinecolor": "white",
           "automargin": true,
           "zerolinewidth": 2
          },
          "scene": {
           "xaxis": {
            "backgroundcolor": "#E5ECF6",
            "gridcolor": "white",
            "linecolor": "white",
            "showbackground": true,
            "ticks": "",
            "zerolinecolor": "white",
            "gridwidth": 2
           },
           "yaxis": {
            "backgroundcolor": "#E5ECF6",
            "gridcolor": "white",
            "linecolor": "white",
            "showbackground": true,
            "ticks": "",
            "zerolinecolor": "white",
            "gridwidth": 2
           },
           "zaxis": {
            "backgroundcolor": "#E5ECF6",
            "gridcolor": "white",
            "linecolor": "white",
            "showbackground": true,
            "ticks": "",
            "zerolinecolor": "white",
            "gridwidth": 2
           }
          },
          "shapedefaults": {
           "line": {
            "color": "#2a3f5f"
           }
          },
          "annotationdefaults": {
           "arrowcolor": "#2a3f5f",
           "arrowhead": 0,
           "arrowwidth": 1
          },
          "geo": {
           "bgcolor": "white",
           "landcolor": "#E5ECF6",
           "subunitcolor": "white",
           "showland": true,
           "showlakes": true,
           "lakecolor": "white"
          },
          "title": {
           "x": 0.05
          },
          "mapbox": {
           "style": "light"
          }
         }
        },
        "title": {
         "text": "Dataset Sizes for Train, Test, and Valid"
        },
        "xaxis": {
         "title": {
          "text": "Size (GB)"
         }
        },
        "yaxis": {
         "title": {
          "text": "Dataset"
         }
        },
        "barmode": "group"
       },
       "config": {
        "plotlyServerURL": "https://plot.ly"
       }
      },
      "text/html": [
       "<div>                            <div id=\"b2880f3e-6648-405f-805b-fddb9f0924ee\" class=\"plotly-graph-div\" style=\"height:525px; width:100%;\"></div>            <script type=\"text/javascript\">                require([\"plotly\"], function(Plotly) {                    window.PLOTLYENV=window.PLOTLYENV || {};                                    if (document.getElementById(\"b2880f3e-6648-405f-805b-fddb9f0924ee\")) {                    Plotly.newPlot(                        \"b2880f3e-6648-405f-805b-fddb9f0924ee\",                        [{\"name\":\"Large\",\"orientation\":\"h\",\"text\":[\"11.6\",\"4.64\",\"3.1\"],\"textposition\":\"auto\",\"x\":[11.6,4.64,3.1],\"y\":[\"Train\",\"Test\",\"Valid\"],\"type\":\"bar\"},{\"name\":\"Medium\",\"orientation\":\"h\",\"text\":[\"5.8\",\"2.32\",\"1.55\"],\"textposition\":\"auto\",\"x\":[5.8,2.32,1.55],\"y\":[\"Train\",\"Test\",\"Valid\"],\"type\":\"bar\"},{\"name\":\"Small\",\"orientation\":\"h\",\"text\":[\"1.16\",\"0.464\",\"0.31\"],\"textposition\":\"auto\",\"x\":[1.16,0.464,0.31],\"y\":[\"Train\",\"Test\",\"Valid\"],\"type\":\"bar\"}],                        {\"template\":{\"data\":{\"histogram2dcontour\":[{\"type\":\"histogram2dcontour\",\"colorbar\":{\"outlinewidth\":0,\"ticks\":\"\"},\"colorscale\":[[0.0,\"#0d0887\"],[0.1111111111111111,\"#46039f\"],[0.2222222222222222,\"#7201a8\"],[0.3333333333333333,\"#9c179e\"],[0.4444444444444444,\"#bd3786\"],[0.5555555555555556,\"#d8576b\"],[0.6666666666666666,\"#ed7953\"],[0.7777777777777778,\"#fb9f3a\"],[0.8888888888888888,\"#fdca26\"],[1.0,\"#f0f921\"]]}],\"choropleth\":[{\"type\":\"choropleth\",\"colorbar\":{\"outlinewidth\":0,\"ticks\":\"\"}}],\"histogram2d\":[{\"type\":\"histogram2d\",\"colorbar\":{\"outlinewidth\":0,\"ticks\":\"\"},\"colorscale\":[[0.0,\"#0d0887\"],[0.1111111111111111,\"#46039f\"],[0.2222222222222222,\"#7201a8\"],[0.3333333333333333,\"#9c179e\"],[0.4444444444444444,\"#bd3786\"],[0.5555555555555556,\"#d8576b\"],[0.6666666666666666,\"#ed7953\"],[0.7777777777777778,\"#fb9f3a\"],[0.8888888888888888,\"#fdca26\"],[1.0,\"#f0f921\"]]}],\"heatmap\":[{\"type\":\"heatmap\",\"colorbar\":{\"outlinewidth\":0,\"ticks\":\"\"},\"colorscale\":[[0.0,\"#0d0887\"],[0.1111111111111111,\"#46039f\"],[0.2222222222222222,\"#7201a8\"],[0.3333333333333333,\"#9c179e\"],[0.4444444444444444,\"#bd3786\"],[0.5555555555555556,\"#d8576b\"],[0.6666666666666666,\"#ed7953\"],[0.7777777777777778,\"#fb9f3a\"],[0.8888888888888888,\"#fdca26\"],[1.0,\"#f0f921\"]]}],\"heatmapgl\":[{\"type\":\"heatmapgl\",\"colorbar\":{\"outlinewidth\":0,\"ticks\":\"\"},\"colorscale\":[[0.0,\"#0d0887\"],[0.1111111111111111,\"#46039f\"],[0.2222222222222222,\"#7201a8\"],[0.3333333333333333,\"#9c179e\"],[0.4444444444444444,\"#bd3786\"],[0.5555555555555556,\"#d8576b\"],[0.6666666666666666,\"#ed7953\"],[0.7777777777777778,\"#fb9f3a\"],[0.8888888888888888,\"#fdca26\"],[1.0,\"#f0f921\"]]}],\"contourcarpet\":[{\"type\":\"contourcarpet\",\"colorbar\":{\"outlinewidth\":0,\"ticks\":\"\"}}],\"contour\":[{\"type\":\"contour\",\"colorbar\":{\"outlinewidth\":0,\"ticks\":\"\"},\"colorscale\":[[0.0,\"#0d0887\"],[0.1111111111111111,\"#46039f\"],[0.2222222222222222,\"#7201a8\"],[0.3333333333333333,\"#9c179e\"],[0.4444444444444444,\"#bd3786\"],[0.5555555555555556,\"#d8576b\"],[0.6666666666666666,\"#ed7953\"],[0.7777777777777778,\"#fb9f3a\"],[0.8888888888888888,\"#fdca26\"],[1.0,\"#f0f921\"]]}],\"surface\":[{\"type\":\"surface\",\"colorbar\":{\"outlinewidth\":0,\"ticks\":\"\"},\"colorscale\":[[0.0,\"#0d0887\"],[0.1111111111111111,\"#46039f\"],[0.2222222222222222,\"#7201a8\"],[0.3333333333333333,\"#9c179e\"],[0.4444444444444444,\"#bd3786\"],[0.5555555555555556,\"#d8576b\"],[0.6666666666666666,\"#ed7953\"],[0.7777777777777778,\"#fb9f3a\"],[0.8888888888888888,\"#fdca26\"],[1.0,\"#f0f921\"]]}],\"mesh3d\":[{\"type\":\"mesh3d\",\"colorbar\":{\"outlinewidth\":0,\"ticks\":\"\"}}],\"scatter\":[{\"fillpattern\":{\"fillmode\":\"overlay\",\"size\":10,\"solidity\":0.2},\"type\":\"scatter\"}],\"parcoords\":[{\"type\":\"parcoords\",\"line\":{\"colorbar\":{\"outlinewidth\":0,\"ticks\":\"\"}}}],\"scatterpolargl\":[{\"type\":\"scatterpolargl\",\"marker\":{\"colorbar\":{\"outlinewidth\":0,\"ticks\":\"\"}}}],\"bar\":[{\"error_x\":{\"color\":\"#2a3f5f\"},\"error_y\":{\"color\":\"#2a3f5f\"},\"marker\":{\"line\":{\"color\":\"#E5ECF6\",\"width\":0.5},\"pattern\":{\"fillmode\":\"overlay\",\"size\":10,\"solidity\":0.2}},\"type\":\"bar\"}],\"scattergeo\":[{\"type\":\"scattergeo\",\"marker\":{\"colorbar\":{\"outlinewidth\":0,\"ticks\":\"\"}}}],\"scatterpolar\":[{\"type\":\"scatterpolar\",\"marker\":{\"colorbar\":{\"outlinewidth\":0,\"ticks\":\"\"}}}],\"histogram\":[{\"marker\":{\"pattern\":{\"fillmode\":\"overlay\",\"size\":10,\"solidity\":0.2}},\"type\":\"histogram\"}],\"scattergl\":[{\"type\":\"scattergl\",\"marker\":{\"colorbar\":{\"outlinewidth\":0,\"ticks\":\"\"}}}],\"scatter3d\":[{\"type\":\"scatter3d\",\"line\":{\"colorbar\":{\"outlinewidth\":0,\"ticks\":\"\"}},\"marker\":{\"colorbar\":{\"outlinewidth\":0,\"ticks\":\"\"}}}],\"scattermapbox\":[{\"type\":\"scattermapbox\",\"marker\":{\"colorbar\":{\"outlinewidth\":0,\"ticks\":\"\"}}}],\"scatterternary\":[{\"type\":\"scatterternary\",\"marker\":{\"colorbar\":{\"outlinewidth\":0,\"ticks\":\"\"}}}],\"scattercarpet\":[{\"type\":\"scattercarpet\",\"marker\":{\"colorbar\":{\"outlinewidth\":0,\"ticks\":\"\"}}}],\"carpet\":[{\"aaxis\":{\"endlinecolor\":\"#2a3f5f\",\"gridcolor\":\"white\",\"linecolor\":\"white\",\"minorgridcolor\":\"white\",\"startlinecolor\":\"#2a3f5f\"},\"baxis\":{\"endlinecolor\":\"#2a3f5f\",\"gridcolor\":\"white\",\"linecolor\":\"white\",\"minorgridcolor\":\"white\",\"startlinecolor\":\"#2a3f5f\"},\"type\":\"carpet\"}],\"table\":[{\"cells\":{\"fill\":{\"color\":\"#EBF0F8\"},\"line\":{\"color\":\"white\"}},\"header\":{\"fill\":{\"color\":\"#C8D4E3\"},\"line\":{\"color\":\"white\"}},\"type\":\"table\"}],\"barpolar\":[{\"marker\":{\"line\":{\"color\":\"#E5ECF6\",\"width\":0.5},\"pattern\":{\"fillmode\":\"overlay\",\"size\":10,\"solidity\":0.2}},\"type\":\"barpolar\"}],\"pie\":[{\"automargin\":true,\"type\":\"pie\"}]},\"layout\":{\"autotypenumbers\":\"strict\",\"colorway\":[\"#636efa\",\"#EF553B\",\"#00cc96\",\"#ab63fa\",\"#FFA15A\",\"#19d3f3\",\"#FF6692\",\"#B6E880\",\"#FF97FF\",\"#FECB52\"],\"font\":{\"color\":\"#2a3f5f\"},\"hovermode\":\"closest\",\"hoverlabel\":{\"align\":\"left\"},\"paper_bgcolor\":\"white\",\"plot_bgcolor\":\"#E5ECF6\",\"polar\":{\"bgcolor\":\"#E5ECF6\",\"angularaxis\":{\"gridcolor\":\"white\",\"linecolor\":\"white\",\"ticks\":\"\"},\"radialaxis\":{\"gridcolor\":\"white\",\"linecolor\":\"white\",\"ticks\":\"\"}},\"ternary\":{\"bgcolor\":\"#E5ECF6\",\"aaxis\":{\"gridcolor\":\"white\",\"linecolor\":\"white\",\"ticks\":\"\"},\"baxis\":{\"gridcolor\":\"white\",\"linecolor\":\"white\",\"ticks\":\"\"},\"caxis\":{\"gridcolor\":\"white\",\"linecolor\":\"white\",\"ticks\":\"\"}},\"coloraxis\":{\"colorbar\":{\"outlinewidth\":0,\"ticks\":\"\"}},\"colorscale\":{\"sequential\":[[0.0,\"#0d0887\"],[0.1111111111111111,\"#46039f\"],[0.2222222222222222,\"#7201a8\"],[0.3333333333333333,\"#9c179e\"],[0.4444444444444444,\"#bd3786\"],[0.5555555555555556,\"#d8576b\"],[0.6666666666666666,\"#ed7953\"],[0.7777777777777778,\"#fb9f3a\"],[0.8888888888888888,\"#fdca26\"],[1.0,\"#f0f921\"]],\"sequentialminus\":[[0.0,\"#0d0887\"],[0.1111111111111111,\"#46039f\"],[0.2222222222222222,\"#7201a8\"],[0.3333333333333333,\"#9c179e\"],[0.4444444444444444,\"#bd3786\"],[0.5555555555555556,\"#d8576b\"],[0.6666666666666666,\"#ed7953\"],[0.7777777777777778,\"#fb9f3a\"],[0.8888888888888888,\"#fdca26\"],[1.0,\"#f0f921\"]],\"diverging\":[[0,\"#8e0152\"],[0.1,\"#c51b7d\"],[0.2,\"#de77ae\"],[0.3,\"#f1b6da\"],[0.4,\"#fde0ef\"],[0.5,\"#f7f7f7\"],[0.6,\"#e6f5d0\"],[0.7,\"#b8e186\"],[0.8,\"#7fbc41\"],[0.9,\"#4d9221\"],[1,\"#276419\"]]},\"xaxis\":{\"gridcolor\":\"white\",\"linecolor\":\"white\",\"ticks\":\"\",\"title\":{\"standoff\":15},\"zerolinecolor\":\"white\",\"automargin\":true,\"zerolinewidth\":2},\"yaxis\":{\"gridcolor\":\"white\",\"linecolor\":\"white\",\"ticks\":\"\",\"title\":{\"standoff\":15},\"zerolinecolor\":\"white\",\"automargin\":true,\"zerolinewidth\":2},\"scene\":{\"xaxis\":{\"backgroundcolor\":\"#E5ECF6\",\"gridcolor\":\"white\",\"linecolor\":\"white\",\"showbackground\":true,\"ticks\":\"\",\"zerolinecolor\":\"white\",\"gridwidth\":2},\"yaxis\":{\"backgroundcolor\":\"#E5ECF6\",\"gridcolor\":\"white\",\"linecolor\":\"white\",\"showbackground\":true,\"ticks\":\"\",\"zerolinecolor\":\"white\",\"gridwidth\":2},\"zaxis\":{\"backgroundcolor\":\"#E5ECF6\",\"gridcolor\":\"white\",\"linecolor\":\"white\",\"showbackground\":true,\"ticks\":\"\",\"zerolinecolor\":\"white\",\"gridwidth\":2}},\"shapedefaults\":{\"line\":{\"color\":\"#2a3f5f\"}},\"annotationdefaults\":{\"arrowcolor\":\"#2a3f5f\",\"arrowhead\":0,\"arrowwidth\":1},\"geo\":{\"bgcolor\":\"white\",\"landcolor\":\"#E5ECF6\",\"subunitcolor\":\"white\",\"showland\":true,\"showlakes\":true,\"lakecolor\":\"white\"},\"title\":{\"x\":0.05},\"mapbox\":{\"style\":\"light\"}}},\"title\":{\"text\":\"Dataset Sizes for Train, Test, and Valid\"},\"xaxis\":{\"title\":{\"text\":\"Size (GB)\"}},\"yaxis\":{\"title\":{\"text\":\"Dataset\"}},\"barmode\":\"group\"},                        {\"responsive\": true}                    ).then(function(){\n",
       "                            \n",
       "var gd = document.getElementById('b2880f3e-6648-405f-805b-fddb9f0924ee');\n",
       "var x = new MutationObserver(function (mutations, observer) {{\n",
       "        var display = window.getComputedStyle(gd).display;\n",
       "        if (!display || display === 'none') {{\n",
       "            console.log([gd, 'removed!']);\n",
       "            Plotly.purge(gd);\n",
       "            observer.disconnect();\n",
       "        }}\n",
       "}});\n",
       "\n",
       "// Listen for the removal of the full notebook cells\n",
       "var notebookContainer = gd.closest('#notebook-container');\n",
       "if (notebookContainer) {{\n",
       "    x.observe(notebookContainer, {childList: true});\n",
       "}}\n",
       "\n",
       "// Listen for the clearing of the current output cell\n",
       "var outputEl = gd.closest('.output');\n",
       "if (outputEl) {{\n",
       "    x.observe(outputEl, {childList: true});\n",
       "}}\n",
       "\n",
       "                        })                };                });            </script>        </div>"
      ]
     },
     "metadata": {},
     "output_type": "display_data"
    }
   ],
   "execution_count": 46
  },
  {
   "metadata": {},
   "cell_type": "code",
   "outputs": [],
   "execution_count": null,
   "source": "",
   "id": "3d3aab0d283a9017"
  }
 ],
 "metadata": {
  "kernelspec": {
   "display_name": "masters_llm_eval",
   "language": "python",
   "name": "masters_llm_eval"
  },
  "language_info": {
   "codemirror_mode": {
    "name": "ipython",
    "version": 2
   },
   "file_extension": ".py",
   "mimetype": "text/x-python",
   "name": "python",
   "nbconvert_exporter": "python",
   "pygments_lexer": "ipython2",
   "version": "2.7.6"
  }
 },
 "nbformat": 4,
 "nbformat_minor": 5
}
