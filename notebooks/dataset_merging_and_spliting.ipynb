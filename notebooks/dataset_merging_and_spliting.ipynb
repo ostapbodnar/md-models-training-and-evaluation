{
 "cells": [
  {
   "cell_type": "code",
   "id": "initial_id",
   "metadata": {
    "collapsed": true,
    "ExecuteTime": {
     "end_time": "2024-09-01T16:57:59.719233Z",
     "start_time": "2024-09-01T16:57:59.715885Z"
    }
   },
   "source": [
    "import os\n",
    "from pathlib import Path\n",
    "\n",
    "import polars as pl"
   ],
   "outputs": [],
   "execution_count": 3
  },
  {
   "metadata": {
    "ExecuteTime": {
     "end_time": "2024-09-01T17:02:17.808566Z",
     "start_time": "2024-09-01T16:58:33.336597Z"
    }
   },
   "cell_type": "code",
   "source": [
    "dfs = []\n",
    "folder = Path(os.getcwd()).parent / 'data/merged_dataset/synthetic'\n",
    "for f in os.listdir(folder):\n",
    "    if f.endswith('.tsv') and not f.startswith('_'):\n",
    "        dfs.append(pl.read_csv(folder / f, separator='\\t', quote_char='\\\"', infer_schema=False))"
   ],
   "id": "d8181b9f3d24ec58",
   "outputs": [],
   "execution_count": 8
  },
  {
   "metadata": {
    "ExecuteTime": {
     "end_time": "2024-09-01T17:02:17.876284Z",
     "start_time": "2024-09-01T17:02:17.827452Z"
    }
   },
   "cell_type": "code",
   "source": "dfs",
   "id": "c12a91e1355de805",
   "outputs": [
    {
     "data": {
      "text/plain": [
       "[shape: (1_047_301, 5)\n",
       " ┌───────────────────────┬──────────────────────┬────────────────┬──────────────┬───────────────────┐\n",
       " │ input                 ┆ output               ┆ instruct       ┆ dataset_type ┆ dataloader_name   │\n",
       " │ ---                   ┆ ---                  ┆ ---            ┆ ---          ┆ ---               │\n",
       " │ str                   ┆ str                  ┆ str            ┆ str          ┆ str               │\n",
       " ╞═══════════════════════╪══════════════════════╪════════════════╪══════════════╪═══════════════════╡\n",
       " │ з фізики: Ерік        ┆ з фізики: Ерік       ┆ Використай     ┆ 1            ┆ UbertextV2Dataset │\n",
       " │ Корнелл, пКарл …      ┆ Корнелл, <g ed=…     ┆ наведені нижче ┆              ┆                   │\n",
       " │                       ┆                      ┆ інст…          ┆              ┆                   │\n",
       " │ 16 вересня вересня —: ┆ 16 <g ed=\"вересня\"   ┆ Використай     ┆ 1            ┆ UbertextV2Dataset │\n",
       " │ початок …             ┆ et=\"F/Repet…         ┆ наведені нижче ┆              ┆                   │\n",
       " │                       ┆                      ┆ інст…          ┆              ┆                   │\n",
       " │ Померли ивись також   ┆ Померли <g           ┆ Використай     ┆ 1            ┆ UbertextV2Dataset │\n",
       " │ :Категорія…           ┆ ed=\"Дивись\" et=\"Spe… ┆ наведені нижче ┆              ┆                   │\n",
       " │                       ┆                      ┆ інст…          ┆              ┆                   │\n",
       " │ Бань чжао Події       ┆ Бань <g ed=\"Чжао\"    ┆ Використай     ┆ 1            ┆ UbertextV2Dataset │\n",
       " │                       ┆ et=\"G/Case\">…        ┆ наведені нижче ┆              ┆                   │\n",
       " │                       ┆                      ┆ інст…          ┆              ┆                   │\n",
       " │ Народились * Ірод     ┆ Народились * Ірод    ┆ Використай     ┆ 1            ┆ UbertextV2Dataset │\n",
       " │ Аттичний — д…         ┆ Аттичний — д…        ┆ наведені нижче ┆              ┆                   │\n",
       " │                       ┆                      ┆ інст…          ┆              ┆                   │\n",
       " │ …                     ┆ …                    ┆ …              ┆ …            ┆ …                 │\n",
       " │ Валя Семеренко        ┆ Валя Семеренко       ┆ Використай     ┆ 1            ┆ UbertextV2Dataset │\n",
       " │ (Україна) - 0         ┆ (Україна) - 0        ┆ наведені нижче ┆              ┆                   │\n",
       " │                       ┆                      ┆ інст…          ┆              ┆                   │\n",
       " │ Франциска             ┆ Франциска            ┆ Використай     ┆ 1            ┆ UbertextV2Dataset │\n",
       " │ Хильдебрандт (Німечч… ┆ Хильдебрандт <g      ┆ наведені нижче ┆              ┆                   │\n",
       " │                       ┆ ed=\"…                ┆ інст…          ┆              ┆                   │\n",
       " │ Елізабет Хегберг      ┆ Елізабет Хегберг     ┆ Використай     ┆ 1            ┆ UbertextV2Dataset │\n",
       " │ (Швеція) - 1          ┆ (Швеція) - 1         ┆ наведені нижче ┆              ┆                   │\n",
       " │                       ┆                      ┆ інст…          ┆              ┆                   │\n",
       " │ Ольга Подчуфарова     ┆ Ольга Подчуфарова    ┆ Використай     ┆ 1            ┆ UbertextV2Dataset │\n",
       " │ (Росія) - 1           ┆ (Росія) - 1          ┆ наведені нижче ┆              ┆                   │\n",
       " │                       ┆                      ┆ інст…          ┆              ┆                   │\n",
       " │ ДТП сталося близько?  ┆ ДТП сталося          ┆ Використай     ┆ 1            ┆ UbertextV2Dataset │\n",
       " │ 18:00 чет…            ┆ близько<g ed=\"\" et…  ┆ наведені нижче ┆              ┆                   │\n",
       " │                       ┆                      ┆ інст…          ┆              ┆                   │\n",
       " └───────────────────────┴──────────────────────┴────────────────┴──────────────┴───────────────────┘,\n",
       " shape: (301_645, 5)\n",
       " ┌─────────────────────┬─────────────────────┬─────────────────────┬──────────────┬─────────────────┐\n",
       " │ input               ┆ output              ┆ instruct            ┆ dataset_type ┆ dataloader_name │\n",
       " │ ---                 ┆ ---                 ┆ ---                 ┆ ---          ┆ ---             │\n",
       " │ str                 ┆ str                 ┆ str                 ┆ str          ┆ str             │\n",
       " ╞═════════════════════╪═════════════════════╪═════════════════════╪══════════════╪═════════════════╡\n",
       " │ input               ┆ output              ┆ instruct            ┆ dataset_type ┆ dataloader_name │\n",
       " │ Йдеться про         ┆ <p t=\"VERB\">Йдеться ┆ Використай наведені ┆ 8            ┆ PapersDataset   │\n",
       " │ традицію феноменол… ┆ </p> <p t=\"…        ┆ нижче інст…         ┆              ┆                 │\n",
       " │ 3 З огляду на       ┆ <p t=\"NUM\">3</p> <p ┆ Використай наведені ┆ 8            ┆ PapersDataset   │\n",
       " │ багатозначність …   ┆ t=\"ADP\">З<…         ┆ нижче інст…         ┆              ┆                 │\n",
       " │ Коротке міркування  ┆ <p                  ┆ Використай наведені ┆ 8            ┆ PapersDataset   │\n",
       " │ про тотожні…        ┆ t=\"ADJ\">Коротке</p> ┆ нижче інст…         ┆              ┆                 │\n",
       " │                     ┆ <p t=\"N…            ┆                     ┆              ┆                 │\n",
       " │ Головні темпоральні ┆ <p                  ┆ Використай наведені ┆ 8            ┆ PapersDataset   │\n",
       " │ еиементи «…         ┆ t=\"ADJ\">Головні</p> ┆ нижче інст…         ┆              ┆                 │\n",
       " │                     ┆ <p t=\"A…            ┆                     ┆              ┆                 │\n",
       " │ …                   ┆ …                   ┆ …                   ┆ …            ┆ …               │\n",
       " │ Ɉɝɨɥɟɧɚ ɚɪɦɚɬɭɪɚ    ┆ <p                  ┆ Використай наведені ┆ 8            ┆ PapersDataset   │\n",
       " │ ɡɚɥɿɡɨɛɟɬɨɧɧɢ…      ┆ t=\"X\">Ɉɝɨɥɟɧɚ</p>   ┆ нижче інст…         ┆              ┆                 │\n",
       " │                     ┆ <p t=\"X\">…          ┆                     ┆              ┆                 │\n",
       " │ ɉɥɨɳɚ ɬɟɪɢɬɨɪɿʀ ɡɿ  ┆ <p t=\"X\">ɉɥɨɳɚ</p>  ┆ Використай наведені ┆ 8            ┆ PapersDataset   │\n",
       " │ ɳɿɥɶɧɿɫɬɸ ɡ…        ┆ <p t=\"X\">ɬɟ…        ┆ нижче інст…         ┆              ┆                 │\n",
       " │ Ⱦɨ ɧɚɣɛɿɥɶɲ         ┆ <p t=\"X\">Ⱦɨ</p> <p  ┆ Використай наведені ┆ 8            ┆ PapersDataset   │\n",
       " │ ɩɨɫɬɪɚɠɞɚɥɢɯ ɬɟɪɢɬ… ┆ t=\"X\">ɧɚɣɛɿ…        ┆ нижче інст…         ┆              ┆                 │\n",
       " │ -Ɏɪɚɧɤɿɜɫɶɤɚ ɋɚɡɨɦ  ┆ <p                  ┆ Використай наведені ┆ 8            ┆ PapersDataset   │\n",
       " │ əɤɳɨ ɫɟɪɟɞɧ…        ┆ t=\"PUNCT\">-</p><p   ┆ нижче інст…         ┆              ┆                 │\n",
       " │                     ┆ t=\"X\">Ɏɪɚ…          ┆                     ┆              ┆                 │\n",
       " │ Ʉɿɥɶɤɿɫɬɶ ɧɚɫɟɥɟɧɢɯ ┆ <p                  ┆ Використай наведені ┆ 8            ┆ PapersDataset   │\n",
       " │ ɩɭɧɤɬɿɜ, ɹ…         ┆ t=\"X\">Ʉɿɥɶɤɿɫɬɶ</p> ┆ нижче інст…         ┆              ┆                 │\n",
       " │                     ┆ <g ed=\"…            ┆                     ┆              ┆                 │\n",
       " └─────────────────────┴─────────────────────┴─────────────────────┴──────────────┴─────────────────┘,\n",
       " shape: (26_153, 5)\n",
       " ┌───────────────────────┬──────────────────────┬────────────────┬──────────────┬───────────────────┐\n",
       " │ input                 ┆ output               ┆ instruct       ┆ dataset_type ┆ dataloader_name   │\n",
       " │ ---                   ┆ ---                  ┆ ---            ┆ ---          ┆ ---               │\n",
       " │ str                   ┆ str                  ┆ str            ┆ str          ┆ str               │\n",
       " ╞═══════════════════════╪══════════════════════╪════════════════╪══════════════╪═══════════════════╡\n",
       " │ Дефіцит або надлишок  ┆ <p                   ┆ Використай     ┆ 8            ┆ PapersDataset     │\n",
       " │ макро- і …            ┆ t=\"NOUN\">Дефіцит</p> ┆ наведені нижче ┆              ┆                   │\n",
       " │                       ┆ <p t=\"…              ┆ інст…          ┆              ┆                   │\n",
       " │ Вікові складнощі у    ┆ <p                   ┆ Використай     ┆ 8            ┆ PapersDataset     │\n",
       " │ проведенні …          ┆ t=\"ADJ\">Вікові</p>   ┆ наведені нижче ┆              ┆                   │\n",
       " │                       ┆ <p t=\"NO…            ┆ інст…          ┆              ┆                   │\n",
       " │ Показники якості      ┆ <p t=\"NOUN\">Показник ┆ Використай     ┆ 8            ┆ PapersDataset     │\n",
       " │ життя дітей р…        ┆ и</p> <p t…          ┆ наведені нижче ┆              ┆                   │\n",
       " │                       ┆                      ┆ інст…          ┆              ┆                   │\n",
       " │ Отже, відсоток        ┆ <p                   ┆ Використай     ┆ 8            ┆ PapersDataset     │\n",
       " │ агресивних підл…      ┆ t=\"PART\">Отже</p><p  ┆ наведені нижче ┆              ┆                   │\n",
       " │                       ┆ t=\"PUNC…             ┆ інст…          ┆              ┆                   │\n",
       " │ Аналіз відповідей     ┆ <p                   ┆ Використай     ┆ 8            ┆ PapersDataset     │\n",
       " │ стосовно сво…         ┆ t=\"NOUN\">Аналіз</p>  ┆ наведені нижче ┆              ┆                   │\n",
       " │                       ┆ <p t=\"N…             ┆ інст…          ┆              ┆                   │\n",
       " │ …                     ┆ …                    ┆ …              ┆ …            ┆ …                 │\n",
       " │ Рішення схвалили      ┆ <p                   ┆ Використай     ┆ 8            ┆ UbertextV2Dataset │\n",
       " │ глава ЛДПР Во…        ┆ t=\"NOUN\">Рішення</p> ┆ наведені нижче ┆              ┆                   │\n",
       " │                       ┆ <p t=\"…              ┆ інст…          ┆              ┆                   │\n",
       " │ Артерія яєчка () або  ┆ <p                   ┆ Використай     ┆ 8            ┆ UbertextV2Dataset │\n",
       " │ яєчкова а…            ┆ t=\"NOUN\">Артерія</p> ┆ наведені нижче ┆              ┆                   │\n",
       " │                       ┆ <p t=\"…              ┆ інст…          ┆              ┆                   │\n",
       " │ 2009 Христинівка      ┆ <p t=\"ADJ\">2009</p>  ┆ Використай     ┆ 8            ┆ UbertextV2Dataset │\n",
       " │ Залізняку і Г…        ┆ <p t=\"NOUN…          ┆ наведені нижче ┆              ┆                   │\n",
       " │                       ┆                      ┆ інст…          ┆              ┆                   │\n",
       " │ Стеліос Казандидіс (, ┆ <p                   ┆ Використай     ┆ 8            ┆ UbertextV2Dataset │\n",
       " │ 1931 — 2…             ┆ t=\"NOUN\">Стеліос</p> ┆ наведені нижче ┆              ┆                   │\n",
       " │                       ┆ <p t=\"…              ┆ інст…          ┆              ┆                   │\n",
       " │ * Тенденція говорити  ┆ <p t=\"SYM\">*</p> <p  ┆ Використай     ┆ 8            ┆ UbertextV2Dataset │\n",
       " │ про речі,…            ┆ t=\"NOUN\">Т…          ┆ наведені нижче ┆              ┆                   │\n",
       " │                       ┆                      ┆ інст…          ┆              ┆                   │\n",
       " └───────────────────────┴──────────────────────┴────────────────┴──────────────┴───────────────────┘,\n",
       " shape: (417_069, 5)\n",
       " ┌─────────────────────┬─────────────────────┬─────────────────────┬──────────────┬─────────────────┐\n",
       " │ input               ┆ output              ┆ instruct            ┆ dataset_type ┆ dataloader_name │\n",
       " │ ---                 ┆ ---                 ┆ ---                 ┆ ---          ┆ ---             │\n",
       " │ str                 ┆ str                 ┆ str                 ┆ str          ┆ str             │\n",
       " ╞═════════════════════╪═════════════════════╪═════════════════════╪══════════════╪═════════════════╡\n",
       " │ дя позначення всіх  ┆ <g ed=\"для\"         ┆ Використай наведені ┆ 8            ┆ PapersDataset   │\n",
       " │ рідин твари…        ┆ et=\"Spelling\"><p t… ┆ нижче інст…         ┆              ┆                 │\n",
       " │ З усіх органічних   ┆ <p t=\"ADP\">З</p> <p ┆ Використай наведені ┆ 8            ┆ PapersDataset   │\n",
       " │ речовин, які…       ┆ t=\"DET\">ус…         ┆ нижче інст…         ┆              ┆                 │\n",
       " │ 92, N 4 ми,         ┆ <p t=\"NUM\">92</p><p ┆ Використай наведені ┆ 8            ┆ PapersDataset   │\n",
       " │ утворюючи численні… ┆ t=\"PUNCT\">…         ┆ нижче інст…         ┆              ┆                 │\n",
       " │ Один ізэ            ┆ <p t=\"DET\">Один</p> ┆ Використай наведені ┆ 8            ┆ PapersDataset   │\n",
       " │ найскладніших       ┆ <g ed=\"із\"…         ┆ нижче інст…         ┆              ┆                 │\n",
       " │ розділі…            ┆                     ┆                     ┆              ┆                 │\n",
       " │ Джеймс Самнер, Джон ┆ <p t=\"PROPN\">Джеймс ┆ Використай наведені ┆ 8            ┆ PapersDataset   │\n",
       " │ Нортроп і …         ┆ </p><n t=\"P…        ┆ нижче інст…         ┆              ┆                 │\n",
       " │ …                   ┆ …                   ┆ …                   ┆ …            ┆ …               │\n",
       " │ Roughly, NP states  ┆ <p                  ┆ Використай наведені ┆ 8            ┆ PapersDataset   │\n",
       " │ that oen is…        ┆ t=\"X\">Roughly</p><p ┆ нижче інст…         ┆              ┆                 │\n",
       " │                     ┆ t=\"PUNC…            ┆                     ┆              ┆                 │\n",
       " │ uk Nikolaj Jang Lee ┆ <p t=\"X\">uk</p> <p  ┆ Використай наведені ┆ 8            ┆ PapersDataset   │\n",
       " │ Linding Pe…         ┆ t=\"X\">Nikol…        ┆ нижче інст…         ┆              ┆                 │\n",
       " │ First I show that   ┆ <p                  ┆ Використай наведені ┆ 8            ┆ PapersDataset   │\n",
       " │ the epistemi…       ┆ t=\"X\">First</p><g   ┆ нижче інст…         ┆              ┆                 │\n",
       " │                     ┆ ed=\",\" et…          ┆                     ┆              ┆                 │\n",
       " │ Zentral für diese   ┆ <p                  ┆ Використай наведені ┆ 8            ┆ PapersDataset   │\n",
       " │ Positionen i…       ┆ t=\"X\">Zentral</p>   ┆ нижче інст…         ┆              ┆                 │\n",
       " │                     ┆ <p t=\"X\">…          ┆                     ┆              ┆                 │\n",
       " │ Ihnen kann jedoch   ┆ <p t=\"X\">Ihnen</p>  ┆ Використай наведені ┆ 8            ┆ PapersDataset   │\n",
       " │ mit einer ge…       ┆ <p t=\"X\">ka…        ┆ нижче інст…         ┆              ┆                 │\n",
       " └─────────────────────┴─────────────────────┴─────────────────────┴──────────────┴─────────────────┘]"
      ]
     },
     "execution_count": 9,
     "metadata": {},
     "output_type": "execute_result"
    }
   ],
   "execution_count": 9
  },
  {
   "metadata": {
    "ExecuteTime": {
     "end_time": "2024-09-01T17:03:42.161842Z",
     "start_time": "2024-09-01T17:02:17.878826Z"
    }
   },
   "cell_type": "code",
   "source": [
    "merged = pl.concat(dfs)\n",
    "shuffled_df = merged.sample(fraction=1, shuffle=True)"
   ],
   "id": "d035f3440b0c0d5e",
   "outputs": [],
   "execution_count": 10
  },
  {
   "metadata": {
    "ExecuteTime": {
     "end_time": "2024-09-01T17:05:39.497851Z",
     "start_time": "2024-09-01T17:05:39.491767Z"
    }
   },
   "cell_type": "code",
   "source": [
    "import math\n",
    "\n",
    "train_df = shuffled_df.head(math.ceil(len(shuffled_df) * 0.60))\n",
    "not_train_df = shuffled_df.tail(math.ceil(len(shuffled_df) * 0.40))\n",
    "valid_df = not_train_df.head(math.ceil(len(not_train_df) * 0.40))\n",
    "test_df = not_train_df.tail(math.ceil(len(not_train_df) * 0.60))\n"
   ],
   "id": "843de08ea03c48d9",
   "outputs": [],
   "execution_count": 12
  },
  {
   "metadata": {
    "ExecuteTime": {
     "end_time": "2024-09-01T17:06:02.362704Z",
     "start_time": "2024-09-01T17:06:02.352744Z"
    }
   },
   "cell_type": "code",
   "source": "len(test_df), len(valid_df), len(not_train_df), len(train_df)",
   "id": "2822d98fef145daf",
   "outputs": [
    {
     "data": {
      "text/plain": [
       "(430121, 286748, 716868, 1075301)"
      ]
     },
     "execution_count": 13,
     "metadata": {},
     "output_type": "execute_result"
    }
   ],
   "execution_count": 13
  },
  {
   "metadata": {
    "ExecuteTime": {
     "end_time": "2024-09-01T17:33:07.546388Z",
     "start_time": "2024-09-01T17:06:06.120328Z"
    }
   },
   "cell_type": "code",
   "source": [
    "merged_folder = folder / 'merged'\n",
    "train_df.write_csv(merged_folder / 'train.csv', separator='\\t', quote_char='\\\"')\n",
    "valid_df.write_csv(merged_folder / 'valid.csv', separator='\\t', quote_char='\\\"')\n",
    "test_df.write_csv(merged_folder / 'test.csv', separator='\\t', quote_char='\\\"')\n"
   ],
   "id": "e498e33c5bd7dda",
   "outputs": [],
   "execution_count": 14
  },
  {
   "metadata": {},
   "cell_type": "code",
   "outputs": [],
   "execution_count": null,
   "source": "",
   "id": "b4c4bfe1fd7b6de7"
  }
 ],
 "metadata": {
  "kernelspec": {
   "display_name": "masters_llm_eval",
   "language": "python",
   "name": "masters_llm_eval"
  },
  "language_info": {
   "codemirror_mode": {
    "name": "ipython",
    "version": 2
   },
   "file_extension": ".py",
   "mimetype": "text/x-python",
   "name": "python",
   "nbconvert_exporter": "python",
   "pygments_lexer": "ipython2",
   "version": "2.7.6"
  }
 },
 "nbformat": 4,
 "nbformat_minor": 5
}
