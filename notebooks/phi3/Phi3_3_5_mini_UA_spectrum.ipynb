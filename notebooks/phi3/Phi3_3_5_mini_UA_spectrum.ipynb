{
  "cells": [
    {
      "cell_type": "markdown",
      "metadata": {
        "id": "SlUEGFKPBMqv"
      },
      "source": [
        "# Phi-3.5-mini-UA-spectrum fine-tuning notebook\n"
      ]
    },
    {
      "cell_type": "markdown",
      "metadata": {
        "id": "1nRHeqtDBMqx"
      },
      "source": [
        "## Setup"
      ]
    },
    {
      "cell_type": "code",
      "execution_count": 1,
      "metadata": {
        "id": "eDj1Lg8ivfia",
        "colab": {
          "base_uri": "https://localhost:8080/"
        },
        "outputId": "90ed890a-7b03-48ff-f341-3a95bebeef52"
      },
      "outputs": [
        {
          "output_type": "stream",
          "name": "stdout",
          "text": [
            "Requirement already satisfied: datasets in /usr/local/lib/python3.10/dist-packages (2.21.0)\n",
            "Requirement already satisfied: transformers in /usr/local/lib/python3.10/dist-packages (4.44.2)\n",
            "Requirement already satisfied: trl in /usr/local/lib/python3.10/dist-packages (0.10.1)\n",
            "Requirement already satisfied: accelerate in /usr/local/lib/python3.10/dist-packages (0.33.0)\n",
            "Requirement already satisfied: scipy in /usr/local/lib/python3.10/dist-packages (1.13.1)\n",
            "Requirement already satisfied: filelock in /usr/local/lib/python3.10/dist-packages (from datasets) (3.15.4)\n",
            "Requirement already satisfied: numpy>=1.17 in /usr/local/lib/python3.10/dist-packages (from datasets) (1.26.4)\n",
            "Requirement already satisfied: pyarrow>=15.0.0 in /usr/local/lib/python3.10/dist-packages (from datasets) (17.0.0)\n",
            "Requirement already satisfied: dill<0.3.9,>=0.3.0 in /usr/local/lib/python3.10/dist-packages (from datasets) (0.3.8)\n",
            "Requirement already satisfied: pandas in /usr/local/lib/python3.10/dist-packages (from datasets) (2.1.4)\n",
            "Requirement already satisfied: requests>=2.32.2 in /usr/local/lib/python3.10/dist-packages (from datasets) (2.32.3)\n",
            "Requirement already satisfied: tqdm>=4.66.3 in /usr/local/lib/python3.10/dist-packages (from datasets) (4.66.5)\n",
            "Requirement already satisfied: xxhash in /usr/local/lib/python3.10/dist-packages (from datasets) (3.5.0)\n",
            "Requirement already satisfied: multiprocess in /usr/local/lib/python3.10/dist-packages (from datasets) (0.70.16)\n",
            "Requirement already satisfied: fsspec<=2024.6.1,>=2023.1.0 in /usr/local/lib/python3.10/dist-packages (from fsspec[http]<=2024.6.1,>=2023.1.0->datasets) (2024.6.1)\n",
            "Requirement already satisfied: aiohttp in /usr/local/lib/python3.10/dist-packages (from datasets) (3.10.5)\n",
            "Requirement already satisfied: huggingface-hub>=0.21.2 in /usr/local/lib/python3.10/dist-packages (from datasets) (0.24.6)\n",
            "Requirement already satisfied: packaging in /usr/local/lib/python3.10/dist-packages (from datasets) (24.1)\n",
            "Requirement already satisfied: pyyaml>=5.1 in /usr/local/lib/python3.10/dist-packages (from datasets) (6.0.2)\n",
            "Requirement already satisfied: regex!=2019.12.17 in /usr/local/lib/python3.10/dist-packages (from transformers) (2024.5.15)\n",
            "Requirement already satisfied: safetensors>=0.4.1 in /usr/local/lib/python3.10/dist-packages (from transformers) (0.4.4)\n",
            "Requirement already satisfied: tokenizers<0.20,>=0.19 in /usr/local/lib/python3.10/dist-packages (from transformers) (0.19.1)\n",
            "Requirement already satisfied: torch>=1.4.0 in /usr/local/lib/python3.10/dist-packages (from trl) (2.4.0+cu121)\n",
            "Requirement already satisfied: tyro>=0.5.11 in /usr/local/lib/python3.10/dist-packages (from trl) (0.8.10)\n",
            "Requirement already satisfied: psutil in /usr/local/lib/python3.10/dist-packages (from accelerate) (5.9.5)\n",
            "Requirement already satisfied: aiohappyeyeballs>=2.3.0 in /usr/local/lib/python3.10/dist-packages (from aiohttp->datasets) (2.4.0)\n",
            "Requirement already satisfied: aiosignal>=1.1.2 in /usr/local/lib/python3.10/dist-packages (from aiohttp->datasets) (1.3.1)\n",
            "Requirement already satisfied: attrs>=17.3.0 in /usr/local/lib/python3.10/dist-packages (from aiohttp->datasets) (24.2.0)\n",
            "Requirement already satisfied: frozenlist>=1.1.1 in /usr/local/lib/python3.10/dist-packages (from aiohttp->datasets) (1.4.1)\n",
            "Requirement already satisfied: multidict<7.0,>=4.5 in /usr/local/lib/python3.10/dist-packages (from aiohttp->datasets) (6.0.5)\n",
            "Requirement already satisfied: yarl<2.0,>=1.0 in /usr/local/lib/python3.10/dist-packages (from aiohttp->datasets) (1.9.4)\n",
            "Requirement already satisfied: async-timeout<5.0,>=4.0 in /usr/local/lib/python3.10/dist-packages (from aiohttp->datasets) (4.0.3)\n",
            "Requirement already satisfied: typing-extensions>=3.7.4.3 in /usr/local/lib/python3.10/dist-packages (from huggingface-hub>=0.21.2->datasets) (4.12.2)\n",
            "Requirement already satisfied: charset-normalizer<4,>=2 in /usr/local/lib/python3.10/dist-packages (from requests>=2.32.2->datasets) (3.3.2)\n",
            "Requirement already satisfied: idna<4,>=2.5 in /usr/local/lib/python3.10/dist-packages (from requests>=2.32.2->datasets) (3.8)\n",
            "Requirement already satisfied: urllib3<3,>=1.21.1 in /usr/local/lib/python3.10/dist-packages (from requests>=2.32.2->datasets) (2.0.7)\n",
            "Requirement already satisfied: certifi>=2017.4.17 in /usr/local/lib/python3.10/dist-packages (from requests>=2.32.2->datasets) (2024.8.30)\n",
            "Requirement already satisfied: sympy in /usr/local/lib/python3.10/dist-packages (from torch>=1.4.0->trl) (1.13.2)\n",
            "Requirement already satisfied: networkx in /usr/local/lib/python3.10/dist-packages (from torch>=1.4.0->trl) (3.3)\n",
            "Requirement already satisfied: jinja2 in /usr/local/lib/python3.10/dist-packages (from torch>=1.4.0->trl) (3.1.4)\n",
            "Requirement already satisfied: docstring-parser>=0.16 in /usr/local/lib/python3.10/dist-packages (from tyro>=0.5.11->trl) (0.16)\n",
            "Requirement already satisfied: rich>=11.1.0 in /usr/local/lib/python3.10/dist-packages (from tyro>=0.5.11->trl) (13.8.0)\n",
            "Requirement already satisfied: shtab>=1.5.6 in /usr/local/lib/python3.10/dist-packages (from tyro>=0.5.11->trl) (1.7.1)\n",
            "Requirement already satisfied: python-dateutil>=2.8.2 in /usr/local/lib/python3.10/dist-packages (from pandas->datasets) (2.8.2)\n",
            "Requirement already satisfied: pytz>=2020.1 in /usr/local/lib/python3.10/dist-packages (from pandas->datasets) (2024.1)\n",
            "Requirement already satisfied: tzdata>=2022.1 in /usr/local/lib/python3.10/dist-packages (from pandas->datasets) (2024.1)\n",
            "Requirement already satisfied: six>=1.5 in /usr/local/lib/python3.10/dist-packages (from python-dateutil>=2.8.2->pandas->datasets) (1.16.0)\n",
            "Requirement already satisfied: markdown-it-py>=2.2.0 in /usr/local/lib/python3.10/dist-packages (from rich>=11.1.0->tyro>=0.5.11->trl) (3.0.0)\n",
            "Requirement already satisfied: pygments<3.0.0,>=2.13.0 in /usr/local/lib/python3.10/dist-packages (from rich>=11.1.0->tyro>=0.5.11->trl) (2.16.1)\n",
            "Requirement already satisfied: MarkupSafe>=2.0 in /usr/local/lib/python3.10/dist-packages (from jinja2->torch>=1.4.0->trl) (2.1.5)\n",
            "Requirement already satisfied: mpmath<1.4,>=1.1.0 in /usr/local/lib/python3.10/dist-packages (from sympy->torch>=1.4.0->trl) (1.3.0)\n",
            "Requirement already satisfied: mdurl~=0.1 in /usr/local/lib/python3.10/dist-packages (from markdown-it-py>=2.2.0->rich>=11.1.0->tyro>=0.5.11->trl) (0.1.2)\n",
            "Requirement already satisfied: ninja in /usr/local/lib/python3.10/dist-packages (1.11.1.1)\n",
            "Requirement already satisfied: packaging in /usr/local/lib/python3.10/dist-packages (24.1)\n",
            "Requirement already satisfied: flash-attn in /usr/local/lib/python3.10/dist-packages (2.6.3)\n",
            "Requirement already satisfied: torch in /usr/local/lib/python3.10/dist-packages (from flash-attn) (2.4.0+cu121)\n",
            "Requirement already satisfied: einops in /usr/local/lib/python3.10/dist-packages (from flash-attn) (0.8.0)\n",
            "Requirement already satisfied: filelock in /usr/local/lib/python3.10/dist-packages (from torch->flash-attn) (3.15.4)\n",
            "Requirement already satisfied: typing-extensions>=4.8.0 in /usr/local/lib/python3.10/dist-packages (from torch->flash-attn) (4.12.2)\n",
            "Requirement already satisfied: sympy in /usr/local/lib/python3.10/dist-packages (from torch->flash-attn) (1.13.2)\n",
            "Requirement already satisfied: networkx in /usr/local/lib/python3.10/dist-packages (from torch->flash-attn) (3.3)\n",
            "Requirement already satisfied: jinja2 in /usr/local/lib/python3.10/dist-packages (from torch->flash-attn) (3.1.4)\n",
            "Requirement already satisfied: fsspec in /usr/local/lib/python3.10/dist-packages (from torch->flash-attn) (2024.6.1)\n",
            "Requirement already satisfied: MarkupSafe>=2.0 in /usr/local/lib/python3.10/dist-packages (from jinja2->torch->flash-attn) (2.1.5)\n",
            "Requirement already satisfied: mpmath<1.4,>=1.1.0 in /usr/local/lib/python3.10/dist-packages (from sympy->torch->flash-attn) (1.3.0)\n",
            "Requirement already satisfied: wandb in /usr/local/lib/python3.10/dist-packages (0.17.9)\n",
            "Requirement already satisfied: click!=8.0.0,>=7.1 in /usr/local/lib/python3.10/dist-packages (from wandb) (8.1.7)\n",
            "Requirement already satisfied: docker-pycreds>=0.4.0 in /usr/local/lib/python3.10/dist-packages (from wandb) (0.4.0)\n",
            "Requirement already satisfied: gitpython!=3.1.29,>=1.0.0 in /usr/local/lib/python3.10/dist-packages (from wandb) (3.1.43)\n",
            "Requirement already satisfied: platformdirs in /usr/local/lib/python3.10/dist-packages (from wandb) (4.2.2)\n",
            "Requirement already satisfied: protobuf!=4.21.0,<6,>=3.19.0 in /usr/local/lib/python3.10/dist-packages (from wandb) (3.20.3)\n",
            "Requirement already satisfied: psutil>=5.0.0 in /usr/local/lib/python3.10/dist-packages (from wandb) (5.9.5)\n",
            "Requirement already satisfied: pyyaml in /usr/local/lib/python3.10/dist-packages (from wandb) (6.0.2)\n",
            "Requirement already satisfied: requests<3,>=2.0.0 in /usr/local/lib/python3.10/dist-packages (from wandb) (2.32.3)\n",
            "Requirement already satisfied: sentry-sdk>=1.0.0 in /usr/local/lib/python3.10/dist-packages (from wandb) (2.14.0)\n",
            "Requirement already satisfied: setproctitle in /usr/local/lib/python3.10/dist-packages (from wandb) (1.3.3)\n",
            "Requirement already satisfied: setuptools in /usr/local/lib/python3.10/dist-packages (from wandb) (71.0.4)\n",
            "Requirement already satisfied: six>=1.4.0 in /usr/local/lib/python3.10/dist-packages (from docker-pycreds>=0.4.0->wandb) (1.16.0)\n",
            "Requirement already satisfied: gitdb<5,>=4.0.1 in /usr/local/lib/python3.10/dist-packages (from gitpython!=3.1.29,>=1.0.0->wandb) (4.0.11)\n",
            "Requirement already satisfied: charset-normalizer<4,>=2 in /usr/local/lib/python3.10/dist-packages (from requests<3,>=2.0.0->wandb) (3.3.2)\n",
            "Requirement already satisfied: idna<4,>=2.5 in /usr/local/lib/python3.10/dist-packages (from requests<3,>=2.0.0->wandb) (3.8)\n",
            "Requirement already satisfied: urllib3<3,>=1.21.1 in /usr/local/lib/python3.10/dist-packages (from requests<3,>=2.0.0->wandb) (2.0.7)\n",
            "Requirement already satisfied: certifi>=2017.4.17 in /usr/local/lib/python3.10/dist-packages (from requests<3,>=2.0.0->wandb) (2024.8.30)\n",
            "Requirement already satisfied: smmap<6,>=3.0.1 in /usr/local/lib/python3.10/dist-packages (from gitdb<5,>=4.0.1->gitpython!=3.1.29,>=1.0.0->wandb) (5.0.1)\n"
          ]
        }
      ],
      "source": [
        "! pip install datasets transformers trl accelerate scipy\n",
        "! pip install ninja packaging\n",
        "! MAX_JOBS=6 pip install flash-attn --no-build-isolation --upgrade\n",
        "! pip install wandb"
      ]
    },
    {
      "cell_type": "code",
      "source": [
        "from google.colab import userdata\n",
        "import os\n",
        "\n",
        "os.environ[\"HF_HUB_TOKEN\"] = userdata.get('HF_TOKEN')\n",
        "os.environ[\"WANDB_API_KEY\"] = userdata.get('WANDB_API_KEY')"
      ],
      "metadata": {
        "id": "-h4HS103W_iF"
      },
      "execution_count": 2,
      "outputs": []
    },
    {
      "cell_type": "code",
      "source": [
        "from huggingface_hub import login\n",
        "import os\n",
        "\n",
        "login(token=os.getenv(\"HF_HUB_TOKEN\"))"
      ],
      "metadata": {
        "id": "bl9wW9P2XBqu",
        "colab": {
          "base_uri": "https://localhost:8080/"
        },
        "outputId": "ef1aac54-f724-4ae9-b196-b52d7397a0dc"
      },
      "execution_count": 3,
      "outputs": [
        {
          "output_type": "stream",
          "name": "stdout",
          "text": [
            "The token has not been saved to the git credentials helper. Pass `add_to_git_credential=True` in this function directly or `--add-to-git-credential` if using via `huggingface-cli` if you want to set the git credential as well.\n",
            "Token is valid (permission: fineGrained).\n",
            "Your token has been saved to /root/.cache/huggingface/token\n",
            "Login successful\n"
          ]
        }
      ]
    },
    {
      "cell_type": "markdown",
      "metadata": {
        "id": "4NehCEisBMqy"
      },
      "source": [
        "## Data preparation\n",
        "\n",
        "The datasets used have different formats.\n",
        "We prepare and mix them in a single dataset."
      ]
    },
    {
      "cell_type": "code",
      "source": [
        "from datasets import load_dataset, Dataset, concatenate_datasets, Features, Value\n",
        "from transformers import AutoTokenizer\n",
        "\n",
        "# Define all columns as strings\n",
        "features = Features({\n",
        "    'input': Value('string'),\n",
        "    'output': Value('string'),\n",
        "    'instruct': Value('string'),\n",
        "    'dataset_type': Value('string'),\n",
        "    'dataloader_name': Value('string')\n",
        "})"
      ],
      "metadata": {
        "id": "343mwlLBXDNs"
      },
      "execution_count": 4,
      "outputs": []
    },
    {
      "cell_type": "code",
      "source": [
        "tokenizer = AutoTokenizer.from_pretrained(\"microsoft/Phi-3.5-mini-instruct\", trust_remote_code=True)\n",
        "tokenizer.padding_side = 'right'\n",
        "\n",
        "dataset = load_dataset(\"ostapbodnar/ua-gec-pos-ner-golden\", features=features)"
      ],
      "metadata": {
        "id": "6QIqWtJWXE3z"
      },
      "execution_count": 5,
      "outputs": []
    },
    {
      "cell_type": "code",
      "source": [
        "dataset"
      ],
      "metadata": {
        "id": "dDGgnKe-XGp2",
        "colab": {
          "base_uri": "https://localhost:8080/"
        },
        "outputId": "e0974cf3-71ce-4947-802f-4bc6168b2053"
      },
      "execution_count": 6,
      "outputs": [
        {
          "output_type": "execute_result",
          "data": {
            "text/plain": [
              "DatasetDict({\n",
              "    train: Dataset({\n",
              "        features: ['input', 'output', 'instruct', 'dataset_type', 'dataloader_name'],\n",
              "        num_rows: 213960\n",
              "    })\n",
              "    validation: Dataset({\n",
              "        features: ['input', 'output', 'instruct', 'dataset_type', 'dataloader_name'],\n",
              "        num_rows: 53490\n",
              "    })\n",
              "    test: Dataset({\n",
              "        features: ['input', 'output', 'instruct', 'dataset_type', 'dataloader_name'],\n",
              "        num_rows: 78990\n",
              "    })\n",
              "})"
            ]
          },
          "metadata": {},
          "execution_count": 6
        }
      ]
    },
    {
      "cell_type": "code",
      "source": [
        "len(dataset[\"test\"])"
      ],
      "metadata": {
        "id": "q-i_4ZaeXII7",
        "colab": {
          "base_uri": "https://localhost:8080/"
        },
        "outputId": "151b2484-452b-40a2-ecf0-94d3b5a0dd5a"
      },
      "execution_count": 7,
      "outputs": [
        {
          "output_type": "execute_result",
          "data": {
            "text/plain": [
              "78990"
            ]
          },
          "metadata": {},
          "execution_count": 7
        }
      ]
    },
    {
      "cell_type": "code",
      "source": [
        "from datasets import DatasetDict\n",
        "\n",
        "sampled_dataset = DatasetDict({\n",
        "    \"train\": dataset[\"train\"].shuffle(seed=42).select(range(30000)),\n",
        "    \"test\": dataset[\"test\"].shuffle(seed=42).select(range(1500)),\n",
        "})\n",
        "sampled_dataset"
      ],
      "metadata": {
        "id": "Fmj1cMbmXJb5",
        "colab": {
          "base_uri": "https://localhost:8080/"
        },
        "outputId": "a2531f9d-f07d-42fa-9e86-2bb9646bfce8"
      },
      "execution_count": 8,
      "outputs": [
        {
          "output_type": "execute_result",
          "data": {
            "text/plain": [
              "DatasetDict({\n",
              "    train: Dataset({\n",
              "        features: ['input', 'output', 'instruct', 'dataset_type', 'dataloader_name'],\n",
              "        num_rows: 30000\n",
              "    })\n",
              "    test: Dataset({\n",
              "        features: ['input', 'output', 'instruct', 'dataset_type', 'dataloader_name'],\n",
              "        num_rows: 1500\n",
              "    })\n",
              "})"
            ]
          },
          "metadata": {},
          "execution_count": 8
        }
      ]
    },
    {
      "cell_type": "code",
      "source": [
        "def create_message_column(row):\n",
        "    messages = []\n",
        "    user = {\n",
        "        \"content\": f\"{row['instruct']}\\n Input: {row['input']}\",\n",
        "        \"role\": \"user\"\n",
        "    }\n",
        "    messages.append(user)\n",
        "    assistant = {\n",
        "        \"content\": f\"{row['output']}\",\n",
        "        \"role\": \"assistant\"\n",
        "    }\n",
        "    messages.append(assistant)\n",
        "    return {\"messages\": messages}\n",
        "\n",
        "def format_dataset_chatml(row):\n",
        "    return {\"text\": tokenizer.apply_chat_template(row[\"messages\"], add_generation_prompt=False, tokenize=False)}"
      ],
      "metadata": {
        "id": "suc7BB61XLPf"
      },
      "execution_count": 9,
      "outputs": []
    },
    {
      "cell_type": "code",
      "execution_count": 10,
      "metadata": {
        "id": "9a97N_QOpgom"
      },
      "outputs": [],
      "source": [
        "dataset_chatml = sampled_dataset.map(create_message_column)\n",
        "dataset_chatml = dataset_chatml.map(format_dataset_chatml)"
      ]
    },
    {
      "cell_type": "code",
      "source": [
        "dataset_chatml"
      ],
      "metadata": {
        "id": "ISBXxP2uX9-U",
        "colab": {
          "base_uri": "https://localhost:8080/"
        },
        "outputId": "35bece06-f807-4cc6-a944-8470f9497ab3"
      },
      "execution_count": 11,
      "outputs": [
        {
          "output_type": "execute_result",
          "data": {
            "text/plain": [
              "DatasetDict({\n",
              "    train: Dataset({\n",
              "        features: ['input', 'output', 'instruct', 'dataset_type', 'dataloader_name', 'messages', 'text'],\n",
              "        num_rows: 30000\n",
              "    })\n",
              "    test: Dataset({\n",
              "        features: ['input', 'output', 'instruct', 'dataset_type', 'dataloader_name', 'messages', 'text'],\n",
              "        num_rows: 1500\n",
              "    })\n",
              "})"
            ]
          },
          "metadata": {},
          "execution_count": 11
        }
      ]
    },
    {
      "cell_type": "code",
      "source": [
        "print(dataset_chatml[\"train\"][587][\"text\"])"
      ],
      "metadata": {
        "id": "lRVNtVI0X_Z7",
        "colab": {
          "base_uri": "https://localhost:8080/"
        },
        "outputId": "01fc25df-b281-415c-acef-584cf6fd6b73"
      },
      "execution_count": 12,
      "outputs": [
        {
          "output_type": "stream",
          "name": "stdout",
          "text": [
            "<|user|>\n",
            "Ідентифікуй жанр новини на основі тексту.\n",
            " Input: Заголовок: {Шахтар} – {Сілекс} ⇒ Дивитися онлайн текстову трансляцію ≺{26.01.2021}≻ {Футбол} на СПОРТ.UA, текст: У вівторок, 26-го січня, відбудеться товариський поєдинок, в якому донецький «Шахтар» зіграє з македонським «Сілексом». Матч пройде в Анталії, початок гри о 10:00. На турецькому зборі діючі чемпіони України провели вже два спаринги: з польським «Лехом» (1:1) і болгарським «Лудогорцем» (2:2). Матч проти «срібного» призера минулого розіграшу чемпіонату Словенії - «Марібора», був скасований через спалах коронавірусу у словенців. «Сілекс» в Туреччині також без перемог. Команда на зборі провела два поєдинки і в обох зазнала поразки. В одному з них - від ковалівського «Колоса» Sport.ua проведе текстову трансляцію матчу «Шахтар» - «Сілекс». За перебігом поєдинку можна слідкувати за цим посиланням.<|end|>\n",
            "<|assistant|>\n",
            "спорт<|end|>\n",
            "<|endoftext|>\n"
          ]
        }
      ]
    },
    {
      "cell_type": "code",
      "execution_count": 13,
      "metadata": {
        "id": "9MhMw5PYBMq0",
        "colab": {
          "base_uri": "https://localhost:8080/"
        },
        "outputId": "27799305-0eef-49f1-ae1e-a9525e41cc06"
      },
      "outputs": [
        {
          "output_type": "stream",
          "name": "stdout",
          "text": [
            "<|user|>\n",
            "Ідентифікуй жанр новини на основі тексту.\n",
            " Input: Заголовок: {Шахтар} – {Сілекс} ⇒ Дивитися онлайн текстову трансляцію ≺{26.01.2021}≻ {Футбол} на СПОРТ.UA, текст: У вівторок, 26-го січня, відбудеться товариський поєдинок, в якому донецький «Шахтар» зіграє з македонським «Сілексом». Матч пройде в Анталії, початок гри о 10:00. На турецькому зборі діючі чемпіони України провели вже два спаринги: з польським «Лехом» (1:1) і болгарським «Лудогорцем» (2:2). Матч проти «срібного» призера минулого розіграшу чемпіонату Словенії - «Марібора», був скасований через спалах коронавірусу у словенців. «Сілекс» в Туреччині також без перемог. Команда на зборі провела два поєдинки і в обох зазнала поразки. В одному з них - від ковалівського «Колоса» Sport.ua проведе текстову трансляцію матчу «Шахтар» - «Сілекс». За перебігом поєдинку можна слідкувати за цим посиланням.<|end|>\n",
            "<|assistant|>\n",
            "спорт<|end|>\n",
            "<|endoftext|>\n"
          ]
        }
      ],
      "source": [
        "print(dataset_chatml[\"train\"][587][\"text\"])"
      ]
    },
    {
      "cell_type": "markdown",
      "metadata": {
        "id": "I6IVfMhVBMq1"
      },
      "source": [
        "We can then check how many examples will be truncated if we choose a maximum length of X tokens (2048 in this case)."
      ]
    },
    {
      "cell_type": "code",
      "execution_count": 14,
      "metadata": {
        "id": "hQlIBp_LqiEs"
      },
      "outputs": [],
      "source": [
        "from scipy.stats import percentileofscore\n",
        "import multiprocessing\n",
        "\n",
        "def calculate_lengths(batch):\n",
        "    return {\"conv_lengths\": [len(tokenizer(text)[\"input_ids\"]) for text in batch[\"text\"]]}\n",
        "\n",
        "conv_lengths = dataset_chatml[\"train\"].map(\n",
        "    calculate_lengths,\n",
        "    batched=True,\n",
        "    batch_size=1000,\n",
        "    num_proc=multiprocessing.cpu_count()\n",
        ")[\"conv_lengths\"]"
      ]
    },
    {
      "cell_type": "code",
      "execution_count": 15,
      "metadata": {
        "id": "-vHKNQI5rgZU",
        "colab": {
          "base_uri": "https://localhost:8080/"
        },
        "outputId": "99e1495d-2680-4763-a63d-92d08715e452"
      },
      "outputs": [
        {
          "output_type": "stream",
          "name": "stdout",
          "text": [
            "96.24666666666667\n"
          ]
        }
      ],
      "source": [
        "chosen_length=2048\n",
        "\n",
        "percentile = percentileofscore(conv_lengths, chosen_length)\n",
        "print(percentile)"
      ]
    },
    {
      "cell_type": "markdown",
      "metadata": {
        "id": "kmvBPNTJBMq2"
      },
      "source": [
        "## Load model\n",
        "\n",
        "For Spectrum, we need to load the model using Transformers, no quantization."
      ]
    },
    {
      "cell_type": "code",
      "execution_count": 16,
      "metadata": {
        "id": "WU9LxPhtyxgm",
        "colab": {
          "base_uri": "https://localhost:8080/",
          "height": 49,
          "referenced_widgets": [
            "4732766c82c04f3281ca5160d8e55b09",
            "81ab90756ac44f8b897a997098997d7b",
            "d054a4fe0b774b099e3e107e71bb15fb",
            "144e2ceb26f64c26b10eb9a524e78e5c",
            "290b7db7757e4cc6bd3b8279e9d6f74b",
            "3c41ff44384148d9902ab56f7e15dd78",
            "60b214b4315a4902844d08b833003f05",
            "9d564348f7d8414c85b4ebf1bf2f6e87",
            "e388832017f6491b95ec57b3d2f85f86",
            "e660d738f2ed4924b7bd9e8ec6a1ee35",
            "424210ed2697401ea9ece08a2ecdc994"
          ]
        },
        "outputId": "56404271-6e06-4a92-9490-c40101d8f4ee"
      },
      "outputs": [
        {
          "output_type": "display_data",
          "data": {
            "text/plain": [
              "Loading checkpoint shards:   0%|          | 0/2 [00:00<?, ?it/s]"
            ],
            "application/vnd.jupyter.widget-view+json": {
              "version_major": 2,
              "version_minor": 0,
              "model_id": "4732766c82c04f3281ca5160d8e55b09"
            }
          },
          "metadata": {}
        }
      ],
      "source": [
        "from transformers import AutoModelForCausalLM\n",
        "import torch\n",
        "\n",
        "model_id = \"microsoft/Phi-3.5-mini-instruct\"\n",
        "\n",
        "\n",
        "model = AutoModelForCausalLM.from_pretrained(\n",
        "    \"microsoft/Phi-3.5-mini-instruct\",\n",
        "    use_cache=False,\n",
        "    torch_dtype=torch.bfloat16,\n",
        "    attn_implementation=\"flash_attention_2\",\n",
        "    device_map=\"auto\",\n",
        "    trust_remote_code=True\n",
        ")\n",
        "model = model.half()\n",
        "\n",
        "# reference: https://huggingface.co/microsoft/Phi-3.5-mini-instruct/blob/main/sample_finetune.py\n",
        "# keep in mind that setting tokenizer.model_max_length = 2048 as suggested is WRONG\n",
        "tokenizer.pad_token = tokenizer.unk_token  # use unk rather than eos token to prevent endless generation\n",
        "tokenizer.pad_token_id = tokenizer.convert_tokens_to_ids(tokenizer.pad_token)\n",
        "tokenizer.padding_side = 'right'"
      ]
    },
    {
      "cell_type": "markdown",
      "metadata": {
        "id": "S5tDGu_YBMq7"
      },
      "source": [
        "## Apply Spectrum\n",
        "https://github.com/cognitivecomputations/spectrum\n",
        "https://arxiv.org/abs/2406.06623\n",
        "\n",
        "In short, when using Spectrum, we only fine-tune some layers of the model with high Signal-to-Noise Ratio.\n",
        "So, we need to freeze the other layers before training.\n",
        "\n",
        "---\n",
        "\n",
        "I computed the following YAML file using the Spectrum script, which unfortunately is not compatible with notebook environments.\n",
        "\n",
        "```bash\n",
        "# installation\n",
        "git clone https://github.com/cognitivecomputations/spectrum.git\n",
        "cd spectrum\n",
        "pip install -r requirements.txt\n",
        "\n",
        "# run\n",
        "python spectrum.py --model-name microsoft/Phi-3.5-mini-instruct --top-percent 30\n",
        "```\n",
        "\n",
        "This command first scans the model (if not available) and then produces the YAML file with top SNR layers."
      ]
    },
    {
      "cell_type": "code",
      "execution_count": 17,
      "metadata": {
        "id": "7Z8pOwB3BMq8"
      },
      "outputs": [],
      "source": [
        "# For simplicity, I'm pasting the YAML parameters here\n",
        "\n",
        "yaml_parameters=\"\"\"unfrozen_parameters:\n",
        "- ^lm_head.weight$\n",
        "- ^model.embed_tokens.weight$\n",
        "# mlp.down_proj layers\n",
        "- model.layers.2.mlp.down_proj\n",
        "- model.layers.3.mlp.down_proj\n",
        "- model.layers.1.mlp.down_proj\n",
        "- model.layers.23.mlp.down_proj\n",
        "- model.layers.4.mlp.down_proj\n",
        "- model.layers.26.mlp.down_proj\n",
        "- model.layers.25.mlp.down_proj\n",
        "- model.layers.24.mlp.down_proj\n",
        "- model.layers.28.mlp.down_proj\n",
        "# mlp.gate_up_proj layers\n",
        "- model.layers.31.mlp.gate_up_proj\n",
        "- model.layers.4.mlp.gate_up_proj\n",
        "- model.layers.3.mlp.gate_up_proj\n",
        "- model.layers.5.mlp.gate_up_proj\n",
        "- model.layers.6.mlp.gate_up_proj\n",
        "- model.layers.2.mlp.gate_up_proj\n",
        "- model.layers.30.mlp.gate_up_proj\n",
        "- model.layers.9.mlp.gate_up_proj\n",
        "- model.layers.28.mlp.gate_up_proj\n",
        "# self_attn.o_proj layers\n",
        "- model.layers.0.self_attn.o_proj\n",
        "- model.layers.1.self_attn.o_proj\n",
        "- model.layers.10.self_attn.o_proj\n",
        "- model.layers.11.self_attn.o_proj\n",
        "- model.layers.9.self_attn.o_proj\n",
        "- model.layers.3.self_attn.o_proj\n",
        "- model.layers.19.self_attn.o_proj\n",
        "- model.layers.8.self_attn.o_proj\n",
        "- model.layers.4.self_attn.o_proj\n",
        "# self_attn.qkv_proj layers\n",
        "- model.layers.23.self_attn.qkv_proj\n",
        "- model.layers.24.self_attn.qkv_proj\n",
        "- model.layers.22.self_attn.qkv_proj\n",
        "- model.layers.26.self_attn.qkv_proj\n",
        "- model.layers.27.self_attn.qkv_proj\n",
        "- model.layers.25.self_attn.qkv_proj\n",
        "- model.layers.28.self_attn.qkv_proj\n",
        "- model.layers.29.self_attn.qkv_proj\n",
        "- model.layers.31.self_attn.qkv_proj\n",
        "\"\"\""
      ]
    },
    {
      "cell_type": "code",
      "execution_count": 18,
      "metadata": {
        "id": "pqzWiju8BMq8"
      },
      "outputs": [],
      "source": [
        "unfrozen_parameters = []\n",
        "for line in yaml_parameters.splitlines():\n",
        "  if line.startswith(\"- \"):\n",
        "    unfrozen_parameters.append(line.split(\"- \")[1])"
      ]
    },
    {
      "cell_type": "code",
      "execution_count": 19,
      "metadata": {
        "id": "Qu6Kqw7rBMq8"
      },
      "outputs": [],
      "source": [
        "import re\n",
        "\n",
        "def _freeze_and_unfreeze_parameters(model, unfrozen_parameters):\n",
        "    # freeze all parameters\n",
        "    for param in model.parameters():\n",
        "        param.requires_grad = False\n",
        "    # unfreeze Spectrum parameters\n",
        "    for name, param in model.named_parameters():\n",
        "        if any(re.match(unfrozen_param, name) for unfrozen_param in unfrozen_parameters):\n",
        "            param.requires_grad = True"
      ]
    },
    {
      "cell_type": "code",
      "execution_count": 20,
      "metadata": {
        "id": "C9toybNCBMq9"
      },
      "outputs": [],
      "source": [
        "_freeze_and_unfreeze_parameters(model, unfrozen_parameters)"
      ]
    },
    {
      "cell_type": "code",
      "execution_count": 21,
      "metadata": {
        "id": "EPpaZf7bBMq9",
        "colab": {
          "base_uri": "https://localhost:8080/"
        },
        "outputId": "69a50702-48be-4471-84bd-5c9fe453c4a9"
      },
      "outputs": [
        {
          "output_type": "stream",
          "name": "stdout",
          "text": [
            "model.embed_tokens.weight True\n",
            "model.layers.0.self_attn.o_proj.weight True\n",
            "model.layers.1.self_attn.o_proj.weight True\n",
            "model.layers.1.mlp.down_proj.weight True\n",
            "model.layers.2.mlp.gate_up_proj.weight True\n",
            "model.layers.2.mlp.down_proj.weight True\n",
            "model.layers.3.self_attn.o_proj.weight True\n",
            "model.layers.3.mlp.gate_up_proj.weight True\n",
            "model.layers.3.mlp.down_proj.weight True\n",
            "model.layers.4.self_attn.o_proj.weight True\n",
            "model.layers.4.mlp.gate_up_proj.weight True\n",
            "model.layers.4.mlp.down_proj.weight True\n",
            "model.layers.5.mlp.gate_up_proj.weight True\n",
            "model.layers.6.mlp.gate_up_proj.weight True\n",
            "model.layers.8.self_attn.o_proj.weight True\n",
            "model.layers.9.self_attn.o_proj.weight True\n",
            "model.layers.9.mlp.gate_up_proj.weight True\n",
            "model.layers.10.self_attn.o_proj.weight True\n",
            "model.layers.11.self_attn.o_proj.weight True\n",
            "model.layers.19.self_attn.o_proj.weight True\n",
            "model.layers.22.self_attn.qkv_proj.weight True\n",
            "model.layers.23.self_attn.qkv_proj.weight True\n",
            "model.layers.23.mlp.down_proj.weight True\n",
            "model.layers.24.self_attn.qkv_proj.weight True\n",
            "model.layers.24.mlp.down_proj.weight True\n",
            "model.layers.25.self_attn.qkv_proj.weight True\n",
            "model.layers.25.mlp.down_proj.weight True\n",
            "model.layers.26.self_attn.qkv_proj.weight True\n",
            "model.layers.26.mlp.down_proj.weight True\n",
            "model.layers.27.self_attn.qkv_proj.weight True\n",
            "model.layers.28.self_attn.qkv_proj.weight True\n",
            "model.layers.28.mlp.gate_up_proj.weight True\n",
            "model.layers.28.mlp.down_proj.weight True\n",
            "model.layers.29.self_attn.qkv_proj.weight True\n",
            "model.layers.30.mlp.gate_up_proj.weight True\n",
            "model.layers.31.self_attn.qkv_proj.weight True\n",
            "model.layers.31.mlp.gate_up_proj.weight True\n",
            "lm_head.weight True\n"
          ]
        }
      ],
      "source": [
        "# check the outcome of our freezing operation\n",
        "for name, param in model.named_parameters():\n",
        "    if param.requires_grad:\n",
        "      print(name, param.requires_grad)\n",
        "\n",
        "# model.embed_tokens.weight True\n",
        "# model.layers.0.self_attn.o_proj.weight True\n",
        "# model.layers.1.self_attn.o_proj.weight True\n",
        "# model.layers.1.mlp.down_proj.weight True\n",
        "# ..."
      ]
    },
    {
      "cell_type": "markdown",
      "metadata": {
        "id": "3jKUWRAIBMq9"
      },
      "source": [
        "## Training configuration"
      ]
    },
    {
      "cell_type": "code",
      "execution_count": 22,
      "metadata": {
        "id": "9MxGB2hKBMq9",
        "colab": {
          "base_uri": "https://localhost:8080/",
          "height": 145
        },
        "outputId": "94c7c07f-48be-431b-b8e4-1a888d8cb7c6"
      },
      "outputs": [
        {
          "output_type": "stream",
          "name": "stderr",
          "text": [
            "\u001b[34m\u001b[1mwandb\u001b[0m: Currently logged in as: \u001b[33mostapbodnar\u001b[0m (\u001b[33mostap-bodnar\u001b[0m). Use \u001b[1m`wandb login --relogin`\u001b[0m to force relogin\n"
          ]
        },
        {
          "output_type": "display_data",
          "data": {
            "text/plain": [
              "<IPython.core.display.HTML object>"
            ],
            "text/html": [
              "Tracking run with wandb version 0.17.9"
            ]
          },
          "metadata": {}
        },
        {
          "output_type": "display_data",
          "data": {
            "text/plain": [
              "<IPython.core.display.HTML object>"
            ],
            "text/html": [
              "Run data is saved locally in <code>/content/wandb/run-20240911_112556-dwn8ijfg</code>"
            ]
          },
          "metadata": {}
        },
        {
          "output_type": "display_data",
          "data": {
            "text/plain": [
              "<IPython.core.display.HTML object>"
            ],
            "text/html": [
              "Syncing run <strong><a href='https://wandb.ai/ostap-bodnar/phi3.5-mini-ua-golden/runs/dwn8ijfg' target=\"_blank\">phi3.5-mini-ua-golden</a></strong> to <a href='https://wandb.ai/ostap-bodnar/phi3.5-mini-ua-golden' target=\"_blank\">Weights & Biases</a> (<a href='https://wandb.me/run' target=\"_blank\">docs</a>)<br/>"
            ]
          },
          "metadata": {}
        },
        {
          "output_type": "display_data",
          "data": {
            "text/plain": [
              "<IPython.core.display.HTML object>"
            ],
            "text/html": [
              " View project at <a href='https://wandb.ai/ostap-bodnar/phi3.5-mini-ua-golden' target=\"_blank\">https://wandb.ai/ostap-bodnar/phi3.5-mini-ua-golden</a>"
            ]
          },
          "metadata": {}
        },
        {
          "output_type": "display_data",
          "data": {
            "text/plain": [
              "<IPython.core.display.HTML object>"
            ],
            "text/html": [
              " View run at <a href='https://wandb.ai/ostap-bodnar/phi3.5-mini-ua-golden/runs/dwn8ijfg' target=\"_blank\">https://wandb.ai/ostap-bodnar/phi3.5-mini-ua-golden/runs/dwn8ijfg</a>"
            ]
          },
          "metadata": {}
        },
        {
          "output_type": "execute_result",
          "data": {
            "text/html": [
              "<button onClick=\"this.nextSibling.style.display='block';this.style.display='none';\">Display W&B run</button><iframe src='https://wandb.ai/ostap-bodnar/phi3.5-mini-ua-golden/runs/dwn8ijfg?jupyter=true' style='border:none;width:100%;height:420px;display:none;'></iframe>"
            ],
            "text/plain": [
              "<wandb.sdk.wandb_run.Run at 0x7a9f547ba530>"
            ]
          },
          "metadata": {},
          "execution_count": 22
        }
      ],
      "source": [
        "# WANDB configuration (optional)\n",
        "\n",
        "import wandb\n",
        "import os\n",
        "\n",
        "os.environ[\"PROJECT\"]=\"phi3.5-mini-ua-golden\"\n",
        "\n",
        "project_name = os.environ[\"PROJECT\"]\n",
        "\n",
        "wandb.init(project=project_name, name = project_name)"
      ]
    },
    {
      "cell_type": "code",
      "execution_count": 23,
      "metadata": {
        "id": "3_j_YeY2roJk",
        "colab": {
          "base_uri": "https://localhost:8080/"
        },
        "outputId": "542c316a-005f-462a-f30b-1f339902edfb"
      },
      "outputs": [
        {
          "output_type": "stream",
          "name": "stderr",
          "text": [
            "/usr/local/lib/python3.10/dist-packages/transformers/training_args.py:1525: FutureWarning: `evaluation_strategy` is deprecated and will be removed in version 4.46 of 🤗 Transformers. Use `eval_strategy` instead\n",
            "  warnings.warn(\n"
          ]
        }
      ],
      "source": [
        "from trl import SFTConfig, SFTTrainer\n",
        "\n",
        "new_model_id=\"ostapbodnar/Phi3.5-mini-instruct-UA-spectrum\"\n",
        "\n",
        "cfg = SFTConfig(\n",
        "    output_dir='./mymodel',\n",
        "    overwrite_output_dir=True,\n",
        "    hub_model_id=new_model_id,\n",
        "    hub_strategy=\"every_save\",\n",
        "    save_strategy=\"steps\",\n",
        "    save_steps=500,\n",
        "    save_total_limit=1,\n",
        "    push_to_hub=True,\n",
        "    do_eval=True,\n",
        "    evaluation_strategy=\"steps\",\n",
        "    logging_steps=100,\n",
        "    max_seq_length=3076,                    # reduced sequence length for lower memory usage\n",
        "    dataset_text_field=\"text\",              # since we already prepared the dataset, let's point the Trainer to the correct column\n",
        "    remove_unused_columns=True,\n",
        "    packing=True,                           # speeds up training. https://huggingface.co/docs/trl/en/sft_trainer#packing-dataset--constantlengthdataset-\n",
        "    num_train_epochs=2,\n",
        "    lr_scheduler_type=\"cosine\",\n",
        "    warmup_ratio=0.2,\n",
        "    bf16=True,                             # switched to fp16 for reduced memory consumption\n",
        "    tf32=False,                             # disabled tf32 to reduce memory usage\n",
        "    learning_rate=5.0e-06,                  # suggested in https://huggingface.co/microsoft/Phi-3.5-mini-instruct/blob/main/sample_finetune.py\n",
        "    per_device_train_batch_size=3,          # reduced batch size to avoid memory error\n",
        "    gradient_accumulation_steps=2,          # reduced gradient accumulation to lower memory consumption\n",
        "    per_device_eval_batch_size=3,\n",
        "    eval_steps=1000,\n",
        "    gradient_checkpointing=True             # enabled gradient checkpointing to save memory\n",
        ")\n"
      ]
    },
    {
      "cell_type": "code",
      "execution_count": 24,
      "metadata": {
        "id": "8eXWxsHHy4Cc",
        "colab": {
          "base_uri": "https://localhost:8080/",
          "height": 81,
          "referenced_widgets": [
            "ee3346b1f55e435d99463f3235e52390",
            "e16d6984244f42e5a070fe1693d28f86",
            "29fd999eddda4bbe80db6482c1384da5",
            "ec062f373e7d49b292fc4fd63c196c23",
            "1172c3d9fed841f287a7e84e6ed38bfd",
            "c20df6b036664b5a94b426ff98d21bfe",
            "003b81ea0ef7432787637b8270212180",
            "691415ea15f84cb2b97414374d3d9d4a",
            "614c9c11390c448ba5dfa14df8cab272",
            "fe85af3938594fc5b50f8224e88c73bf",
            "27de59d8651d4e64895fd5b9ce6275b2",
            "d59a999f6c134930b53b551f2d0d7d82",
            "dd90b2850f3f4cf0a778cf420a29daba",
            "d6c808fa4aad4004811f07f248ee735c",
            "a9444609ef36457a9c2146232474a771",
            "b8d15cf928df4637a107804f02a8217c",
            "c31e6b1ead0d45eea3607579c8f48cf1",
            "065f0b7ad4714424970f6e9002c7dd04",
            "4447eaa05863403c97226d475116181c",
            "b670e80b7f5740598f359c73943765cc",
            "f7fe1701aeab45849bbe2bc6c3cac3a8",
            "2d44844fbaa4428093c43f73aba1c926"
          ]
        },
        "outputId": "11b14ce3-c5ed-4b49-ad68-b8bae63650c0"
      },
      "outputs": [
        {
          "output_type": "display_data",
          "data": {
            "text/plain": [
              "Generating train split: 0 examples [00:00, ? examples/s]"
            ],
            "application/vnd.jupyter.widget-view+json": {
              "version_major": 2,
              "version_minor": 0,
              "model_id": "ee3346b1f55e435d99463f3235e52390"
            }
          },
          "metadata": {}
        },
        {
          "output_type": "display_data",
          "data": {
            "text/plain": [
              "Generating train split: 0 examples [00:00, ? examples/s]"
            ],
            "application/vnd.jupyter.widget-view+json": {
              "version_major": 2,
              "version_minor": 0,
              "model_id": "d59a999f6c134930b53b551f2d0d7d82"
            }
          },
          "metadata": {}
        }
      ],
      "source": [
        "sft_trainer = SFTTrainer(\n",
        "    model=model,\n",
        "    args=cfg,\n",
        "    train_dataset=dataset_chatml[\"train\"],\n",
        "    eval_dataset=dataset_chatml['test'],\n",
        "    tokenizer=tokenizer\n",
        ")"
      ]
    },
    {
      "cell_type": "code",
      "execution_count": 25,
      "metadata": {
        "id": "auUi2IXC0mxL",
        "colab": {
          "base_uri": "https://localhost:8080/",
          "height": 599
        },
        "outputId": "aa43c33f-04e8-48c3-89eb-c4e05e19b763"
      },
      "outputs": [
        {
          "output_type": "stream",
          "name": "stderr",
          "text": [
            "\u001b[34m\u001b[1mwandb\u001b[0m: \u001b[33mWARNING\u001b[0m The `run_name` is currently set to the same value as `TrainingArguments.output_dir`. If this was not intended, please specify a different run name by setting the `TrainingArguments.run_name` parameter.\n",
            "/usr/local/lib/python3.10/dist-packages/torch/_dynamo/eval_frame.py:600: UserWarning: torch.utils.checkpoint: the use_reentrant parameter should be passed explicitly. In version 2.4 we will raise an exception if use_reentrant is not passed. use_reentrant=False is recommended, but if you need to preserve the current default behavior, you can pass use_reentrant=True. Refer to docs for more details on the differences between the two variants.\n",
            "  return fn(*args, **kwargs)\n",
            "/usr/local/lib/python3.10/dist-packages/torch/utils/checkpoint.py:295: FutureWarning: `torch.cpu.amp.autocast(args...)` is deprecated. Please use `torch.amp.autocast('cpu', args...)` instead.\n",
            "  with torch.enable_grad(), device_autocast_ctx, torch.cpu.amp.autocast(**ctx.cpu_autocast_kwargs):  # type: ignore[attr-defined]\n"
          ]
        },
        {
          "output_type": "display_data",
          "data": {
            "text/plain": [
              "<IPython.core.display.HTML object>"
            ],
            "text/html": [
              "\n",
              "    <div>\n",
              "      \n",
              "      <progress value='2062' max='2062' style='width:300px; height:20px; vertical-align: middle;'></progress>\n",
              "      [2062/2062 2:05:53, Epoch 1/2]\n",
              "    </div>\n",
              "    <table border=\"1\" class=\"dataframe\">\n",
              "  <thead>\n",
              " <tr style=\"text-align: left;\">\n",
              "      <th>Step</th>\n",
              "      <th>Training Loss</th>\n",
              "      <th>Validation Loss</th>\n",
              "    </tr>\n",
              "  </thead>\n",
              "  <tbody>\n",
              "    <tr>\n",
              "      <td>1000</td>\n",
              "      <td>0.000000</td>\n",
              "      <td>nan</td>\n",
              "    </tr>\n",
              "    <tr>\n",
              "      <td>2000</td>\n",
              "      <td>0.000000</td>\n",
              "      <td>nan</td>\n",
              "    </tr>\n",
              "  </tbody>\n",
              "</table><p>"
            ]
          },
          "metadata": {}
        },
        {
          "output_type": "stream",
          "name": "stderr",
          "text": [
            "/usr/local/lib/python3.10/dist-packages/torch/_dynamo/eval_frame.py:600: UserWarning: torch.utils.checkpoint: the use_reentrant parameter should be passed explicitly. In version 2.4 we will raise an exception if use_reentrant is not passed. use_reentrant=False is recommended, but if you need to preserve the current default behavior, you can pass use_reentrant=True. Refer to docs for more details on the differences between the two variants.\n",
            "  return fn(*args, **kwargs)\n",
            "/usr/local/lib/python3.10/dist-packages/torch/utils/checkpoint.py:295: FutureWarning: `torch.cpu.amp.autocast(args...)` is deprecated. Please use `torch.amp.autocast('cpu', args...)` instead.\n",
            "  with torch.enable_grad(), device_autocast_ctx, torch.cpu.amp.autocast(**ctx.cpu_autocast_kwargs):  # type: ignore[attr-defined]\n",
            "/usr/local/lib/python3.10/dist-packages/torch/_dynamo/eval_frame.py:600: UserWarning: torch.utils.checkpoint: the use_reentrant parameter should be passed explicitly. In version 2.4 we will raise an exception if use_reentrant is not passed. use_reentrant=False is recommended, but if you need to preserve the current default behavior, you can pass use_reentrant=True. Refer to docs for more details on the differences between the two variants.\n",
            "  return fn(*args, **kwargs)\n",
            "/usr/local/lib/python3.10/dist-packages/torch/utils/checkpoint.py:295: FutureWarning: `torch.cpu.amp.autocast(args...)` is deprecated. Please use `torch.amp.autocast('cpu', args...)` instead.\n",
            "  with torch.enable_grad(), device_autocast_ctx, torch.cpu.amp.autocast(**ctx.cpu_autocast_kwargs):  # type: ignore[attr-defined]\n",
            "/usr/local/lib/python3.10/dist-packages/torch/_dynamo/eval_frame.py:600: UserWarning: torch.utils.checkpoint: the use_reentrant parameter should be passed explicitly. In version 2.4 we will raise an exception if use_reentrant is not passed. use_reentrant=False is recommended, but if you need to preserve the current default behavior, you can pass use_reentrant=True. Refer to docs for more details on the differences between the two variants.\n",
            "  return fn(*args, **kwargs)\n",
            "/usr/local/lib/python3.10/dist-packages/torch/utils/checkpoint.py:295: FutureWarning: `torch.cpu.amp.autocast(args...)` is deprecated. Please use `torch.amp.autocast('cpu', args...)` instead.\n",
            "  with torch.enable_grad(), device_autocast_ctx, torch.cpu.amp.autocast(**ctx.cpu_autocast_kwargs):  # type: ignore[attr-defined]\n",
            "/usr/local/lib/python3.10/dist-packages/torch/_dynamo/eval_frame.py:600: UserWarning: torch.utils.checkpoint: the use_reentrant parameter should be passed explicitly. In version 2.4 we will raise an exception if use_reentrant is not passed. use_reentrant=False is recommended, but if you need to preserve the current default behavior, you can pass use_reentrant=True. Refer to docs for more details on the differences between the two variants.\n",
            "  return fn(*args, **kwargs)\n",
            "/usr/local/lib/python3.10/dist-packages/torch/utils/checkpoint.py:295: FutureWarning: `torch.cpu.amp.autocast(args...)` is deprecated. Please use `torch.amp.autocast('cpu', args...)` instead.\n",
            "  with torch.enable_grad(), device_autocast_ctx, torch.cpu.amp.autocast(**ctx.cpu_autocast_kwargs):  # type: ignore[attr-defined]\n"
          ]
        },
        {
          "output_type": "execute_result",
          "data": {
            "text/plain": [
              "TrainOutput(global_step=2062, training_loss=3.0449157182044133, metrics={'train_runtime': 7557.9715, 'train_samples_per_second': 1.637, 'train_steps_per_second': 0.273, 'total_flos': 8.499361570890301e+17, 'train_loss': 3.0449157182044133, 'epoch': 1.9990305380513815})"
            ]
          },
          "metadata": {},
          "execution_count": 25
        }
      ],
      "source": [
        "sft_trainer.train()"
      ]
    },
    {
      "cell_type": "code",
      "source": [
        "sft_trainer.push_to_hub()"
      ],
      "metadata": {
        "id": "DD2jfD-PYaUW",
        "colab": {
          "base_uri": "https://localhost:8080/",
          "height": 72
        },
        "outputId": "80e25b60-112d-4873-9460-f365aa82cb06"
      },
      "execution_count": 26,
      "outputs": [
        {
          "output_type": "execute_result",
          "data": {
            "text/plain": [
              "CommitInfo(commit_url='https://huggingface.co/ostapbodnar/Phi3.5-mini-instruct-UA-spectrum/commit/dfcd5d7cafe9f80a657a810b2988d685b6dd70c2', commit_message='End of training', commit_description='', oid='dfcd5d7cafe9f80a657a810b2988d685b6dd70c2', pr_url=None, pr_revision=None, pr_num=None)"
            ],
            "application/vnd.google.colaboratory.intrinsic+json": {
              "type": "string"
            }
          },
          "metadata": {},
          "execution_count": 26
        }
      ]
    },
    {
      "cell_type": "code",
      "execution_count": 27,
      "metadata": {
        "id": "ci5MBGVqBMq-",
        "colab": {
          "base_uri": "https://localhost:8080/",
          "height": 104,
          "referenced_widgets": [
            "b91e1c5f3a344428af574f54216d89d6",
            "b9b8142d2b814d10aae7698fca49dc18",
            "484ec184eb1e4af6a27a95bcd18d1aec",
            "725b992924194d5089971bbcd1f38c30",
            "7636e1dcd71345f7af8614b3d1f6ceed",
            "88aeb7e02bf043a4b34541c99c71a7eb",
            "6bd6282e0e0347cda9d4fa82710909e3",
            "391ddc0d063840bcb1ffb6623b4eb52d",
            "e2000bb7075240f693e7947ed3bea641",
            "2b2f72d227a843c3960a3dbf79bf706d",
            "0b1cec522819494eac89ed27c0fabc25"
          ]
        },
        "outputId": "05c4bcd6-9370-4d68-9e15-bebe2b3e0325"
      },
      "outputs": [
        {
          "output_type": "display_data",
          "data": {
            "text/plain": [
              "README.md:   0%|          | 0.00/1.56k [00:00<?, ?B/s]"
            ],
            "application/vnd.jupyter.widget-view+json": {
              "version_major": 2,
              "version_minor": 0,
              "model_id": "b91e1c5f3a344428af574f54216d89d6"
            }
          },
          "metadata": {}
        },
        {
          "output_type": "execute_result",
          "data": {
            "text/plain": [
              "CommitInfo(commit_url='https://huggingface.co/ostapbodnar/Phi3.5-mini-instruct-UA-spectrum/commit/45469953b15c96a45597c2435f9efc0f0e20ed0d', commit_message='Upload tokenizer', commit_description='', oid='45469953b15c96a45597c2435f9efc0f0e20ed0d', pr_url=None, pr_revision=None, pr_num=None)"
            ],
            "application/vnd.google.colaboratory.intrinsic+json": {
              "type": "string"
            }
          },
          "metadata": {},
          "execution_count": 27
        }
      ],
      "source": [
        "tokenizer.pad_token = tokenizer.eos_token\n",
        "tokenizer.pad_token_id = tokenizer.convert_tokens_to_ids(tokenizer.eos_token)\n",
        "tokenizer.padding_side = 'left'\n",
        "\n",
        "tokenizer.push_to_hub(new_model_id)"
      ]
    },
    {
      "cell_type": "markdown",
      "metadata": {
        "id": "5Zt91dTPBMq_"
      },
      "source": [
        "I finally did some manual updates on the model repo:\n",
        "- copying some files from the original model to my model...\n",
        "- modifying config.json and generation_config.json to use the right tokens ids for `eos_token_id`."
      ]
    }
  ],
  "metadata": {
    "colab": {
      "provenance": [],
      "machine_shape": "hm",
      "gpuType": "A100"
    },
    "kernelspec": {
      "display_name": "Python 3",
      "name": "python3"
    },
    "language_info": {
      "codemirror_mode": {
        "name": "ipython",
        "version": 3
      },
      "file_extension": ".py",
      "mimetype": "text/x-python",
      "name": "python",
      "nbconvert_exporter": "python",
      "pygments_lexer": "ipython3",
      "version": "3.10.12"
    },
    "accelerator": "GPU",
    "widgets": {
      "application/vnd.jupyter.widget-state+json": {
        "4732766c82c04f3281ca5160d8e55b09": {
          "model_module": "@jupyter-widgets/controls",
          "model_name": "HBoxModel",
          "model_module_version": "1.5.0",
          "state": {
            "_dom_classes": [],
            "_model_module": "@jupyter-widgets/controls",
            "_model_module_version": "1.5.0",
            "_model_name": "HBoxModel",
            "_view_count": null,
            "_view_module": "@jupyter-widgets/controls",
            "_view_module_version": "1.5.0",
            "_view_name": "HBoxView",
            "box_style": "",
            "children": [
              "IPY_MODEL_81ab90756ac44f8b897a997098997d7b",
              "IPY_MODEL_d054a4fe0b774b099e3e107e71bb15fb",
              "IPY_MODEL_144e2ceb26f64c26b10eb9a524e78e5c"
            ],
            "layout": "IPY_MODEL_290b7db7757e4cc6bd3b8279e9d6f74b"
          }
        },
        "81ab90756ac44f8b897a997098997d7b": {
          "model_module": "@jupyter-widgets/controls",
          "model_name": "HTMLModel",
          "model_module_version": "1.5.0",
          "state": {
            "_dom_classes": [],
            "_model_module": "@jupyter-widgets/controls",
            "_model_module_version": "1.5.0",
            "_model_name": "HTMLModel",
            "_view_count": null,
            "_view_module": "@jupyter-widgets/controls",
            "_view_module_version": "1.5.0",
            "_view_name": "HTMLView",
            "description": "",
            "description_tooltip": null,
            "layout": "IPY_MODEL_3c41ff44384148d9902ab56f7e15dd78",
            "placeholder": "​",
            "style": "IPY_MODEL_60b214b4315a4902844d08b833003f05",
            "value": "Loading checkpoint shards: 100%"
          }
        },
        "d054a4fe0b774b099e3e107e71bb15fb": {
          "model_module": "@jupyter-widgets/controls",
          "model_name": "FloatProgressModel",
          "model_module_version": "1.5.0",
          "state": {
            "_dom_classes": [],
            "_model_module": "@jupyter-widgets/controls",
            "_model_module_version": "1.5.0",
            "_model_name": "FloatProgressModel",
            "_view_count": null,
            "_view_module": "@jupyter-widgets/controls",
            "_view_module_version": "1.5.0",
            "_view_name": "ProgressView",
            "bar_style": "success",
            "description": "",
            "description_tooltip": null,
            "layout": "IPY_MODEL_9d564348f7d8414c85b4ebf1bf2f6e87",
            "max": 2,
            "min": 0,
            "orientation": "horizontal",
            "style": "IPY_MODEL_e388832017f6491b95ec57b3d2f85f86",
            "value": 2
          }
        },
        "144e2ceb26f64c26b10eb9a524e78e5c": {
          "model_module": "@jupyter-widgets/controls",
          "model_name": "HTMLModel",
          "model_module_version": "1.5.0",
          "state": {
            "_dom_classes": [],
            "_model_module": "@jupyter-widgets/controls",
            "_model_module_version": "1.5.0",
            "_model_name": "HTMLModel",
            "_view_count": null,
            "_view_module": "@jupyter-widgets/controls",
            "_view_module_version": "1.5.0",
            "_view_name": "HTMLView",
            "description": "",
            "description_tooltip": null,
            "layout": "IPY_MODEL_e660d738f2ed4924b7bd9e8ec6a1ee35",
            "placeholder": "​",
            "style": "IPY_MODEL_424210ed2697401ea9ece08a2ecdc994",
            "value": " 2/2 [00:02&lt;00:00,  1.24s/it]"
          }
        },
        "290b7db7757e4cc6bd3b8279e9d6f74b": {
          "model_module": "@jupyter-widgets/base",
          "model_name": "LayoutModel",
          "model_module_version": "1.2.0",
          "state": {
            "_model_module": "@jupyter-widgets/base",
            "_model_module_version": "1.2.0",
            "_model_name": "LayoutModel",
            "_view_count": null,
            "_view_module": "@jupyter-widgets/base",
            "_view_module_version": "1.2.0",
            "_view_name": "LayoutView",
            "align_content": null,
            "align_items": null,
            "align_self": null,
            "border": null,
            "bottom": null,
            "display": null,
            "flex": null,
            "flex_flow": null,
            "grid_area": null,
            "grid_auto_columns": null,
            "grid_auto_flow": null,
            "grid_auto_rows": null,
            "grid_column": null,
            "grid_gap": null,
            "grid_row": null,
            "grid_template_areas": null,
            "grid_template_columns": null,
            "grid_template_rows": null,
            "height": null,
            "justify_content": null,
            "justify_items": null,
            "left": null,
            "margin": null,
            "max_height": null,
            "max_width": null,
            "min_height": null,
            "min_width": null,
            "object_fit": null,
            "object_position": null,
            "order": null,
            "overflow": null,
            "overflow_x": null,
            "overflow_y": null,
            "padding": null,
            "right": null,
            "top": null,
            "visibility": null,
            "width": null
          }
        },
        "3c41ff44384148d9902ab56f7e15dd78": {
          "model_module": "@jupyter-widgets/base",
          "model_name": "LayoutModel",
          "model_module_version": "1.2.0",
          "state": {
            "_model_module": "@jupyter-widgets/base",
            "_model_module_version": "1.2.0",
            "_model_name": "LayoutModel",
            "_view_count": null,
            "_view_module": "@jupyter-widgets/base",
            "_view_module_version": "1.2.0",
            "_view_name": "LayoutView",
            "align_content": null,
            "align_items": null,
            "align_self": null,
            "border": null,
            "bottom": null,
            "display": null,
            "flex": null,
            "flex_flow": null,
            "grid_area": null,
            "grid_auto_columns": null,
            "grid_auto_flow": null,
            "grid_auto_rows": null,
            "grid_column": null,
            "grid_gap": null,
            "grid_row": null,
            "grid_template_areas": null,
            "grid_template_columns": null,
            "grid_template_rows": null,
            "height": null,
            "justify_content": null,
            "justify_items": null,
            "left": null,
            "margin": null,
            "max_height": null,
            "max_width": null,
            "min_height": null,
            "min_width": null,
            "object_fit": null,
            "object_position": null,
            "order": null,
            "overflow": null,
            "overflow_x": null,
            "overflow_y": null,
            "padding": null,
            "right": null,
            "top": null,
            "visibility": null,
            "width": null
          }
        },
        "60b214b4315a4902844d08b833003f05": {
          "model_module": "@jupyter-widgets/controls",
          "model_name": "DescriptionStyleModel",
          "model_module_version": "1.5.0",
          "state": {
            "_model_module": "@jupyter-widgets/controls",
            "_model_module_version": "1.5.0",
            "_model_name": "DescriptionStyleModel",
            "_view_count": null,
            "_view_module": "@jupyter-widgets/base",
            "_view_module_version": "1.2.0",
            "_view_name": "StyleView",
            "description_width": ""
          }
        },
        "9d564348f7d8414c85b4ebf1bf2f6e87": {
          "model_module": "@jupyter-widgets/base",
          "model_name": "LayoutModel",
          "model_module_version": "1.2.0",
          "state": {
            "_model_module": "@jupyter-widgets/base",
            "_model_module_version": "1.2.0",
            "_model_name": "LayoutModel",
            "_view_count": null,
            "_view_module": "@jupyter-widgets/base",
            "_view_module_version": "1.2.0",
            "_view_name": "LayoutView",
            "align_content": null,
            "align_items": null,
            "align_self": null,
            "border": null,
            "bottom": null,
            "display": null,
            "flex": null,
            "flex_flow": null,
            "grid_area": null,
            "grid_auto_columns": null,
            "grid_auto_flow": null,
            "grid_auto_rows": null,
            "grid_column": null,
            "grid_gap": null,
            "grid_row": null,
            "grid_template_areas": null,
            "grid_template_columns": null,
            "grid_template_rows": null,
            "height": null,
            "justify_content": null,
            "justify_items": null,
            "left": null,
            "margin": null,
            "max_height": null,
            "max_width": null,
            "min_height": null,
            "min_width": null,
            "object_fit": null,
            "object_position": null,
            "order": null,
            "overflow": null,
            "overflow_x": null,
            "overflow_y": null,
            "padding": null,
            "right": null,
            "top": null,
            "visibility": null,
            "width": null
          }
        },
        "e388832017f6491b95ec57b3d2f85f86": {
          "model_module": "@jupyter-widgets/controls",
          "model_name": "ProgressStyleModel",
          "model_module_version": "1.5.0",
          "state": {
            "_model_module": "@jupyter-widgets/controls",
            "_model_module_version": "1.5.0",
            "_model_name": "ProgressStyleModel",
            "_view_count": null,
            "_view_module": "@jupyter-widgets/base",
            "_view_module_version": "1.2.0",
            "_view_name": "StyleView",
            "bar_color": null,
            "description_width": ""
          }
        },
        "e660d738f2ed4924b7bd9e8ec6a1ee35": {
          "model_module": "@jupyter-widgets/base",
          "model_name": "LayoutModel",
          "model_module_version": "1.2.0",
          "state": {
            "_model_module": "@jupyter-widgets/base",
            "_model_module_version": "1.2.0",
            "_model_name": "LayoutModel",
            "_view_count": null,
            "_view_module": "@jupyter-widgets/base",
            "_view_module_version": "1.2.0",
            "_view_name": "LayoutView",
            "align_content": null,
            "align_items": null,
            "align_self": null,
            "border": null,
            "bottom": null,
            "display": null,
            "flex": null,
            "flex_flow": null,
            "grid_area": null,
            "grid_auto_columns": null,
            "grid_auto_flow": null,
            "grid_auto_rows": null,
            "grid_column": null,
            "grid_gap": null,
            "grid_row": null,
            "grid_template_areas": null,
            "grid_template_columns": null,
            "grid_template_rows": null,
            "height": null,
            "justify_content": null,
            "justify_items": null,
            "left": null,
            "margin": null,
            "max_height": null,
            "max_width": null,
            "min_height": null,
            "min_width": null,
            "object_fit": null,
            "object_position": null,
            "order": null,
            "overflow": null,
            "overflow_x": null,
            "overflow_y": null,
            "padding": null,
            "right": null,
            "top": null,
            "visibility": null,
            "width": null
          }
        },
        "424210ed2697401ea9ece08a2ecdc994": {
          "model_module": "@jupyter-widgets/controls",
          "model_name": "DescriptionStyleModel",
          "model_module_version": "1.5.0",
          "state": {
            "_model_module": "@jupyter-widgets/controls",
            "_model_module_version": "1.5.0",
            "_model_name": "DescriptionStyleModel",
            "_view_count": null,
            "_view_module": "@jupyter-widgets/base",
            "_view_module_version": "1.2.0",
            "_view_name": "StyleView",
            "description_width": ""
          }
        },
        "ee3346b1f55e435d99463f3235e52390": {
          "model_module": "@jupyter-widgets/controls",
          "model_name": "HBoxModel",
          "model_module_version": "1.5.0",
          "state": {
            "_dom_classes": [],
            "_model_module": "@jupyter-widgets/controls",
            "_model_module_version": "1.5.0",
            "_model_name": "HBoxModel",
            "_view_count": null,
            "_view_module": "@jupyter-widgets/controls",
            "_view_module_version": "1.5.0",
            "_view_name": "HBoxView",
            "box_style": "",
            "children": [
              "IPY_MODEL_e16d6984244f42e5a070fe1693d28f86",
              "IPY_MODEL_29fd999eddda4bbe80db6482c1384da5",
              "IPY_MODEL_ec062f373e7d49b292fc4fd63c196c23"
            ],
            "layout": "IPY_MODEL_1172c3d9fed841f287a7e84e6ed38bfd"
          }
        },
        "e16d6984244f42e5a070fe1693d28f86": {
          "model_module": "@jupyter-widgets/controls",
          "model_name": "HTMLModel",
          "model_module_version": "1.5.0",
          "state": {
            "_dom_classes": [],
            "_model_module": "@jupyter-widgets/controls",
            "_model_module_version": "1.5.0",
            "_model_name": "HTMLModel",
            "_view_count": null,
            "_view_module": "@jupyter-widgets/controls",
            "_view_module_version": "1.5.0",
            "_view_name": "HTMLView",
            "description": "",
            "description_tooltip": null,
            "layout": "IPY_MODEL_c20df6b036664b5a94b426ff98d21bfe",
            "placeholder": "​",
            "style": "IPY_MODEL_003b81ea0ef7432787637b8270212180",
            "value": "Generating train split: "
          }
        },
        "29fd999eddda4bbe80db6482c1384da5": {
          "model_module": "@jupyter-widgets/controls",
          "model_name": "FloatProgressModel",
          "model_module_version": "1.5.0",
          "state": {
            "_dom_classes": [],
            "_model_module": "@jupyter-widgets/controls",
            "_model_module_version": "1.5.0",
            "_model_name": "FloatProgressModel",
            "_view_count": null,
            "_view_module": "@jupyter-widgets/controls",
            "_view_module_version": "1.5.0",
            "_view_name": "ProgressView",
            "bar_style": "success",
            "description": "",
            "description_tooltip": null,
            "layout": "IPY_MODEL_691415ea15f84cb2b97414374d3d9d4a",
            "max": 1,
            "min": 0,
            "orientation": "horizontal",
            "style": "IPY_MODEL_614c9c11390c448ba5dfa14df8cab272",
            "value": 1
          }
        },
        "ec062f373e7d49b292fc4fd63c196c23": {
          "model_module": "@jupyter-widgets/controls",
          "model_name": "HTMLModel",
          "model_module_version": "1.5.0",
          "state": {
            "_dom_classes": [],
            "_model_module": "@jupyter-widgets/controls",
            "_model_module_version": "1.5.0",
            "_model_name": "HTMLModel",
            "_view_count": null,
            "_view_module": "@jupyter-widgets/controls",
            "_view_module_version": "1.5.0",
            "_view_name": "HTMLView",
            "description": "",
            "description_tooltip": null,
            "layout": "IPY_MODEL_fe85af3938594fc5b50f8224e88c73bf",
            "placeholder": "​",
            "style": "IPY_MODEL_27de59d8651d4e64895fd5b9ce6275b2",
            "value": " 6188/0 [00:43&lt;00:00, 206.46 examples/s]"
          }
        },
        "1172c3d9fed841f287a7e84e6ed38bfd": {
          "model_module": "@jupyter-widgets/base",
          "model_name": "LayoutModel",
          "model_module_version": "1.2.0",
          "state": {
            "_model_module": "@jupyter-widgets/base",
            "_model_module_version": "1.2.0",
            "_model_name": "LayoutModel",
            "_view_count": null,
            "_view_module": "@jupyter-widgets/base",
            "_view_module_version": "1.2.0",
            "_view_name": "LayoutView",
            "align_content": null,
            "align_items": null,
            "align_self": null,
            "border": null,
            "bottom": null,
            "display": null,
            "flex": null,
            "flex_flow": null,
            "grid_area": null,
            "grid_auto_columns": null,
            "grid_auto_flow": null,
            "grid_auto_rows": null,
            "grid_column": null,
            "grid_gap": null,
            "grid_row": null,
            "grid_template_areas": null,
            "grid_template_columns": null,
            "grid_template_rows": null,
            "height": null,
            "justify_content": null,
            "justify_items": null,
            "left": null,
            "margin": null,
            "max_height": null,
            "max_width": null,
            "min_height": null,
            "min_width": null,
            "object_fit": null,
            "object_position": null,
            "order": null,
            "overflow": null,
            "overflow_x": null,
            "overflow_y": null,
            "padding": null,
            "right": null,
            "top": null,
            "visibility": null,
            "width": null
          }
        },
        "c20df6b036664b5a94b426ff98d21bfe": {
          "model_module": "@jupyter-widgets/base",
          "model_name": "LayoutModel",
          "model_module_version": "1.2.0",
          "state": {
            "_model_module": "@jupyter-widgets/base",
            "_model_module_version": "1.2.0",
            "_model_name": "LayoutModel",
            "_view_count": null,
            "_view_module": "@jupyter-widgets/base",
            "_view_module_version": "1.2.0",
            "_view_name": "LayoutView",
            "align_content": null,
            "align_items": null,
            "align_self": null,
            "border": null,
            "bottom": null,
            "display": null,
            "flex": null,
            "flex_flow": null,
            "grid_area": null,
            "grid_auto_columns": null,
            "grid_auto_flow": null,
            "grid_auto_rows": null,
            "grid_column": null,
            "grid_gap": null,
            "grid_row": null,
            "grid_template_areas": null,
            "grid_template_columns": null,
            "grid_template_rows": null,
            "height": null,
            "justify_content": null,
            "justify_items": null,
            "left": null,
            "margin": null,
            "max_height": null,
            "max_width": null,
            "min_height": null,
            "min_width": null,
            "object_fit": null,
            "object_position": null,
            "order": null,
            "overflow": null,
            "overflow_x": null,
            "overflow_y": null,
            "padding": null,
            "right": null,
            "top": null,
            "visibility": null,
            "width": null
          }
        },
        "003b81ea0ef7432787637b8270212180": {
          "model_module": "@jupyter-widgets/controls",
          "model_name": "DescriptionStyleModel",
          "model_module_version": "1.5.0",
          "state": {
            "_model_module": "@jupyter-widgets/controls",
            "_model_module_version": "1.5.0",
            "_model_name": "DescriptionStyleModel",
            "_view_count": null,
            "_view_module": "@jupyter-widgets/base",
            "_view_module_version": "1.2.0",
            "_view_name": "StyleView",
            "description_width": ""
          }
        },
        "691415ea15f84cb2b97414374d3d9d4a": {
          "model_module": "@jupyter-widgets/base",
          "model_name": "LayoutModel",
          "model_module_version": "1.2.0",
          "state": {
            "_model_module": "@jupyter-widgets/base",
            "_model_module_version": "1.2.0",
            "_model_name": "LayoutModel",
            "_view_count": null,
            "_view_module": "@jupyter-widgets/base",
            "_view_module_version": "1.2.0",
            "_view_name": "LayoutView",
            "align_content": null,
            "align_items": null,
            "align_self": null,
            "border": null,
            "bottom": null,
            "display": null,
            "flex": null,
            "flex_flow": null,
            "grid_area": null,
            "grid_auto_columns": null,
            "grid_auto_flow": null,
            "grid_auto_rows": null,
            "grid_column": null,
            "grid_gap": null,
            "grid_row": null,
            "grid_template_areas": null,
            "grid_template_columns": null,
            "grid_template_rows": null,
            "height": null,
            "justify_content": null,
            "justify_items": null,
            "left": null,
            "margin": null,
            "max_height": null,
            "max_width": null,
            "min_height": null,
            "min_width": null,
            "object_fit": null,
            "object_position": null,
            "order": null,
            "overflow": null,
            "overflow_x": null,
            "overflow_y": null,
            "padding": null,
            "right": null,
            "top": null,
            "visibility": null,
            "width": "20px"
          }
        },
        "614c9c11390c448ba5dfa14df8cab272": {
          "model_module": "@jupyter-widgets/controls",
          "model_name": "ProgressStyleModel",
          "model_module_version": "1.5.0",
          "state": {
            "_model_module": "@jupyter-widgets/controls",
            "_model_module_version": "1.5.0",
            "_model_name": "ProgressStyleModel",
            "_view_count": null,
            "_view_module": "@jupyter-widgets/base",
            "_view_module_version": "1.2.0",
            "_view_name": "StyleView",
            "bar_color": null,
            "description_width": ""
          }
        },
        "fe85af3938594fc5b50f8224e88c73bf": {
          "model_module": "@jupyter-widgets/base",
          "model_name": "LayoutModel",
          "model_module_version": "1.2.0",
          "state": {
            "_model_module": "@jupyter-widgets/base",
            "_model_module_version": "1.2.0",
            "_model_name": "LayoutModel",
            "_view_count": null,
            "_view_module": "@jupyter-widgets/base",
            "_view_module_version": "1.2.0",
            "_view_name": "LayoutView",
            "align_content": null,
            "align_items": null,
            "align_self": null,
            "border": null,
            "bottom": null,
            "display": null,
            "flex": null,
            "flex_flow": null,
            "grid_area": null,
            "grid_auto_columns": null,
            "grid_auto_flow": null,
            "grid_auto_rows": null,
            "grid_column": null,
            "grid_gap": null,
            "grid_row": null,
            "grid_template_areas": null,
            "grid_template_columns": null,
            "grid_template_rows": null,
            "height": null,
            "justify_content": null,
            "justify_items": null,
            "left": null,
            "margin": null,
            "max_height": null,
            "max_width": null,
            "min_height": null,
            "min_width": null,
            "object_fit": null,
            "object_position": null,
            "order": null,
            "overflow": null,
            "overflow_x": null,
            "overflow_y": null,
            "padding": null,
            "right": null,
            "top": null,
            "visibility": null,
            "width": null
          }
        },
        "27de59d8651d4e64895fd5b9ce6275b2": {
          "model_module": "@jupyter-widgets/controls",
          "model_name": "DescriptionStyleModel",
          "model_module_version": "1.5.0",
          "state": {
            "_model_module": "@jupyter-widgets/controls",
            "_model_module_version": "1.5.0",
            "_model_name": "DescriptionStyleModel",
            "_view_count": null,
            "_view_module": "@jupyter-widgets/base",
            "_view_module_version": "1.2.0",
            "_view_name": "StyleView",
            "description_width": ""
          }
        },
        "d59a999f6c134930b53b551f2d0d7d82": {
          "model_module": "@jupyter-widgets/controls",
          "model_name": "HBoxModel",
          "model_module_version": "1.5.0",
          "state": {
            "_dom_classes": [],
            "_model_module": "@jupyter-widgets/controls",
            "_model_module_version": "1.5.0",
            "_model_name": "HBoxModel",
            "_view_count": null,
            "_view_module": "@jupyter-widgets/controls",
            "_view_module_version": "1.5.0",
            "_view_name": "HBoxView",
            "box_style": "",
            "children": [
              "IPY_MODEL_dd90b2850f3f4cf0a778cf420a29daba",
              "IPY_MODEL_d6c808fa4aad4004811f07f248ee735c",
              "IPY_MODEL_a9444609ef36457a9c2146232474a771"
            ],
            "layout": "IPY_MODEL_b8d15cf928df4637a107804f02a8217c"
          }
        },
        "dd90b2850f3f4cf0a778cf420a29daba": {
          "model_module": "@jupyter-widgets/controls",
          "model_name": "HTMLModel",
          "model_module_version": "1.5.0",
          "state": {
            "_dom_classes": [],
            "_model_module": "@jupyter-widgets/controls",
            "_model_module_version": "1.5.0",
            "_model_name": "HTMLModel",
            "_view_count": null,
            "_view_module": "@jupyter-widgets/controls",
            "_view_module_version": "1.5.0",
            "_view_name": "HTMLView",
            "description": "",
            "description_tooltip": null,
            "layout": "IPY_MODEL_c31e6b1ead0d45eea3607579c8f48cf1",
            "placeholder": "​",
            "style": "IPY_MODEL_065f0b7ad4714424970f6e9002c7dd04",
            "value": "Generating train split: "
          }
        },
        "d6c808fa4aad4004811f07f248ee735c": {
          "model_module": "@jupyter-widgets/controls",
          "model_name": "FloatProgressModel",
          "model_module_version": "1.5.0",
          "state": {
            "_dom_classes": [],
            "_model_module": "@jupyter-widgets/controls",
            "_model_module_version": "1.5.0",
            "_model_name": "FloatProgressModel",
            "_view_count": null,
            "_view_module": "@jupyter-widgets/controls",
            "_view_module_version": "1.5.0",
            "_view_name": "ProgressView",
            "bar_style": "success",
            "description": "",
            "description_tooltip": null,
            "layout": "IPY_MODEL_4447eaa05863403c97226d475116181c",
            "max": 1,
            "min": 0,
            "orientation": "horizontal",
            "style": "IPY_MODEL_b670e80b7f5740598f359c73943765cc",
            "value": 1
          }
        },
        "a9444609ef36457a9c2146232474a771": {
          "model_module": "@jupyter-widgets/controls",
          "model_name": "HTMLModel",
          "model_module_version": "1.5.0",
          "state": {
            "_dom_classes": [],
            "_model_module": "@jupyter-widgets/controls",
            "_model_module_version": "1.5.0",
            "_model_name": "HTMLModel",
            "_view_count": null,
            "_view_module": "@jupyter-widgets/controls",
            "_view_module_version": "1.5.0",
            "_view_name": "HTMLView",
            "description": "",
            "description_tooltip": null,
            "layout": "IPY_MODEL_f7fe1701aeab45849bbe2bc6c3cac3a8",
            "placeholder": "​",
            "style": "IPY_MODEL_2d44844fbaa4428093c43f73aba1c926",
            "value": " 293/0 [00:02&lt;00:00, 107.52 examples/s]"
          }
        },
        "b8d15cf928df4637a107804f02a8217c": {
          "model_module": "@jupyter-widgets/base",
          "model_name": "LayoutModel",
          "model_module_version": "1.2.0",
          "state": {
            "_model_module": "@jupyter-widgets/base",
            "_model_module_version": "1.2.0",
            "_model_name": "LayoutModel",
            "_view_count": null,
            "_view_module": "@jupyter-widgets/base",
            "_view_module_version": "1.2.0",
            "_view_name": "LayoutView",
            "align_content": null,
            "align_items": null,
            "align_self": null,
            "border": null,
            "bottom": null,
            "display": null,
            "flex": null,
            "flex_flow": null,
            "grid_area": null,
            "grid_auto_columns": null,
            "grid_auto_flow": null,
            "grid_auto_rows": null,
            "grid_column": null,
            "grid_gap": null,
            "grid_row": null,
            "grid_template_areas": null,
            "grid_template_columns": null,
            "grid_template_rows": null,
            "height": null,
            "justify_content": null,
            "justify_items": null,
            "left": null,
            "margin": null,
            "max_height": null,
            "max_width": null,
            "min_height": null,
            "min_width": null,
            "object_fit": null,
            "object_position": null,
            "order": null,
            "overflow": null,
            "overflow_x": null,
            "overflow_y": null,
            "padding": null,
            "right": null,
            "top": null,
            "visibility": null,
            "width": null
          }
        },
        "c31e6b1ead0d45eea3607579c8f48cf1": {
          "model_module": "@jupyter-widgets/base",
          "model_name": "LayoutModel",
          "model_module_version": "1.2.0",
          "state": {
            "_model_module": "@jupyter-widgets/base",
            "_model_module_version": "1.2.0",
            "_model_name": "LayoutModel",
            "_view_count": null,
            "_view_module": "@jupyter-widgets/base",
            "_view_module_version": "1.2.0",
            "_view_name": "LayoutView",
            "align_content": null,
            "align_items": null,
            "align_self": null,
            "border": null,
            "bottom": null,
            "display": null,
            "flex": null,
            "flex_flow": null,
            "grid_area": null,
            "grid_auto_columns": null,
            "grid_auto_flow": null,
            "grid_auto_rows": null,
            "grid_column": null,
            "grid_gap": null,
            "grid_row": null,
            "grid_template_areas": null,
            "grid_template_columns": null,
            "grid_template_rows": null,
            "height": null,
            "justify_content": null,
            "justify_items": null,
            "left": null,
            "margin": null,
            "max_height": null,
            "max_width": null,
            "min_height": null,
            "min_width": null,
            "object_fit": null,
            "object_position": null,
            "order": null,
            "overflow": null,
            "overflow_x": null,
            "overflow_y": null,
            "padding": null,
            "right": null,
            "top": null,
            "visibility": null,
            "width": null
          }
        },
        "065f0b7ad4714424970f6e9002c7dd04": {
          "model_module": "@jupyter-widgets/controls",
          "model_name": "DescriptionStyleModel",
          "model_module_version": "1.5.0",
          "state": {
            "_model_module": "@jupyter-widgets/controls",
            "_model_module_version": "1.5.0",
            "_model_name": "DescriptionStyleModel",
            "_view_count": null,
            "_view_module": "@jupyter-widgets/base",
            "_view_module_version": "1.2.0",
            "_view_name": "StyleView",
            "description_width": ""
          }
        },
        "4447eaa05863403c97226d475116181c": {
          "model_module": "@jupyter-widgets/base",
          "model_name": "LayoutModel",
          "model_module_version": "1.2.0",
          "state": {
            "_model_module": "@jupyter-widgets/base",
            "_model_module_version": "1.2.0",
            "_model_name": "LayoutModel",
            "_view_count": null,
            "_view_module": "@jupyter-widgets/base",
            "_view_module_version": "1.2.0",
            "_view_name": "LayoutView",
            "align_content": null,
            "align_items": null,
            "align_self": null,
            "border": null,
            "bottom": null,
            "display": null,
            "flex": null,
            "flex_flow": null,
            "grid_area": null,
            "grid_auto_columns": null,
            "grid_auto_flow": null,
            "grid_auto_rows": null,
            "grid_column": null,
            "grid_gap": null,
            "grid_row": null,
            "grid_template_areas": null,
            "grid_template_columns": null,
            "grid_template_rows": null,
            "height": null,
            "justify_content": null,
            "justify_items": null,
            "left": null,
            "margin": null,
            "max_height": null,
            "max_width": null,
            "min_height": null,
            "min_width": null,
            "object_fit": null,
            "object_position": null,
            "order": null,
            "overflow": null,
            "overflow_x": null,
            "overflow_y": null,
            "padding": null,
            "right": null,
            "top": null,
            "visibility": null,
            "width": "20px"
          }
        },
        "b670e80b7f5740598f359c73943765cc": {
          "model_module": "@jupyter-widgets/controls",
          "model_name": "ProgressStyleModel",
          "model_module_version": "1.5.0",
          "state": {
            "_model_module": "@jupyter-widgets/controls",
            "_model_module_version": "1.5.0",
            "_model_name": "ProgressStyleModel",
            "_view_count": null,
            "_view_module": "@jupyter-widgets/base",
            "_view_module_version": "1.2.0",
            "_view_name": "StyleView",
            "bar_color": null,
            "description_width": ""
          }
        },
        "f7fe1701aeab45849bbe2bc6c3cac3a8": {
          "model_module": "@jupyter-widgets/base",
          "model_name": "LayoutModel",
          "model_module_version": "1.2.0",
          "state": {
            "_model_module": "@jupyter-widgets/base",
            "_model_module_version": "1.2.0",
            "_model_name": "LayoutModel",
            "_view_count": null,
            "_view_module": "@jupyter-widgets/base",
            "_view_module_version": "1.2.0",
            "_view_name": "LayoutView",
            "align_content": null,
            "align_items": null,
            "align_self": null,
            "border": null,
            "bottom": null,
            "display": null,
            "flex": null,
            "flex_flow": null,
            "grid_area": null,
            "grid_auto_columns": null,
            "grid_auto_flow": null,
            "grid_auto_rows": null,
            "grid_column": null,
            "grid_gap": null,
            "grid_row": null,
            "grid_template_areas": null,
            "grid_template_columns": null,
            "grid_template_rows": null,
            "height": null,
            "justify_content": null,
            "justify_items": null,
            "left": null,
            "margin": null,
            "max_height": null,
            "max_width": null,
            "min_height": null,
            "min_width": null,
            "object_fit": null,
            "object_position": null,
            "order": null,
            "overflow": null,
            "overflow_x": null,
            "overflow_y": null,
            "padding": null,
            "right": null,
            "top": null,
            "visibility": null,
            "width": null
          }
        },
        "2d44844fbaa4428093c43f73aba1c926": {
          "model_module": "@jupyter-widgets/controls",
          "model_name": "DescriptionStyleModel",
          "model_module_version": "1.5.0",
          "state": {
            "_model_module": "@jupyter-widgets/controls",
            "_model_module_version": "1.5.0",
            "_model_name": "DescriptionStyleModel",
            "_view_count": null,
            "_view_module": "@jupyter-widgets/base",
            "_view_module_version": "1.2.0",
            "_view_name": "StyleView",
            "description_width": ""
          }
        },
        "b91e1c5f3a344428af574f54216d89d6": {
          "model_module": "@jupyter-widgets/controls",
          "model_name": "HBoxModel",
          "model_module_version": "1.5.0",
          "state": {
            "_dom_classes": [],
            "_model_module": "@jupyter-widgets/controls",
            "_model_module_version": "1.5.0",
            "_model_name": "HBoxModel",
            "_view_count": null,
            "_view_module": "@jupyter-widgets/controls",
            "_view_module_version": "1.5.0",
            "_view_name": "HBoxView",
            "box_style": "",
            "children": [
              "IPY_MODEL_b9b8142d2b814d10aae7698fca49dc18",
              "IPY_MODEL_484ec184eb1e4af6a27a95bcd18d1aec",
              "IPY_MODEL_725b992924194d5089971bbcd1f38c30"
            ],
            "layout": "IPY_MODEL_7636e1dcd71345f7af8614b3d1f6ceed"
          }
        },
        "b9b8142d2b814d10aae7698fca49dc18": {
          "model_module": "@jupyter-widgets/controls",
          "model_name": "HTMLModel",
          "model_module_version": "1.5.0",
          "state": {
            "_dom_classes": [],
            "_model_module": "@jupyter-widgets/controls",
            "_model_module_version": "1.5.0",
            "_model_name": "HTMLModel",
            "_view_count": null,
            "_view_module": "@jupyter-widgets/controls",
            "_view_module_version": "1.5.0",
            "_view_name": "HTMLView",
            "description": "",
            "description_tooltip": null,
            "layout": "IPY_MODEL_88aeb7e02bf043a4b34541c99c71a7eb",
            "placeholder": "​",
            "style": "IPY_MODEL_6bd6282e0e0347cda9d4fa82710909e3",
            "value": "README.md: 100%"
          }
        },
        "484ec184eb1e4af6a27a95bcd18d1aec": {
          "model_module": "@jupyter-widgets/controls",
          "model_name": "FloatProgressModel",
          "model_module_version": "1.5.0",
          "state": {
            "_dom_classes": [],
            "_model_module": "@jupyter-widgets/controls",
            "_model_module_version": "1.5.0",
            "_model_name": "FloatProgressModel",
            "_view_count": null,
            "_view_module": "@jupyter-widgets/controls",
            "_view_module_version": "1.5.0",
            "_view_name": "ProgressView",
            "bar_style": "success",
            "description": "",
            "description_tooltip": null,
            "layout": "IPY_MODEL_391ddc0d063840bcb1ffb6623b4eb52d",
            "max": 1559,
            "min": 0,
            "orientation": "horizontal",
            "style": "IPY_MODEL_e2000bb7075240f693e7947ed3bea641",
            "value": 1559
          }
        },
        "725b992924194d5089971bbcd1f38c30": {
          "model_module": "@jupyter-widgets/controls",
          "model_name": "HTMLModel",
          "model_module_version": "1.5.0",
          "state": {
            "_dom_classes": [],
            "_model_module": "@jupyter-widgets/controls",
            "_model_module_version": "1.5.0",
            "_model_name": "HTMLModel",
            "_view_count": null,
            "_view_module": "@jupyter-widgets/controls",
            "_view_module_version": "1.5.0",
            "_view_name": "HTMLView",
            "description": "",
            "description_tooltip": null,
            "layout": "IPY_MODEL_2b2f72d227a843c3960a3dbf79bf706d",
            "placeholder": "​",
            "style": "IPY_MODEL_0b1cec522819494eac89ed27c0fabc25",
            "value": " 1.56k/1.56k [00:00&lt;00:00, 120kB/s]"
          }
        },
        "7636e1dcd71345f7af8614b3d1f6ceed": {
          "model_module": "@jupyter-widgets/base",
          "model_name": "LayoutModel",
          "model_module_version": "1.2.0",
          "state": {
            "_model_module": "@jupyter-widgets/base",
            "_model_module_version": "1.2.0",
            "_model_name": "LayoutModel",
            "_view_count": null,
            "_view_module": "@jupyter-widgets/base",
            "_view_module_version": "1.2.0",
            "_view_name": "LayoutView",
            "align_content": null,
            "align_items": null,
            "align_self": null,
            "border": null,
            "bottom": null,
            "display": null,
            "flex": null,
            "flex_flow": null,
            "grid_area": null,
            "grid_auto_columns": null,
            "grid_auto_flow": null,
            "grid_auto_rows": null,
            "grid_column": null,
            "grid_gap": null,
            "grid_row": null,
            "grid_template_areas": null,
            "grid_template_columns": null,
            "grid_template_rows": null,
            "height": null,
            "justify_content": null,
            "justify_items": null,
            "left": null,
            "margin": null,
            "max_height": null,
            "max_width": null,
            "min_height": null,
            "min_width": null,
            "object_fit": null,
            "object_position": null,
            "order": null,
            "overflow": null,
            "overflow_x": null,
            "overflow_y": null,
            "padding": null,
            "right": null,
            "top": null,
            "visibility": null,
            "width": null
          }
        },
        "88aeb7e02bf043a4b34541c99c71a7eb": {
          "model_module": "@jupyter-widgets/base",
          "model_name": "LayoutModel",
          "model_module_version": "1.2.0",
          "state": {
            "_model_module": "@jupyter-widgets/base",
            "_model_module_version": "1.2.0",
            "_model_name": "LayoutModel",
            "_view_count": null,
            "_view_module": "@jupyter-widgets/base",
            "_view_module_version": "1.2.0",
            "_view_name": "LayoutView",
            "align_content": null,
            "align_items": null,
            "align_self": null,
            "border": null,
            "bottom": null,
            "display": null,
            "flex": null,
            "flex_flow": null,
            "grid_area": null,
            "grid_auto_columns": null,
            "grid_auto_flow": null,
            "grid_auto_rows": null,
            "grid_column": null,
            "grid_gap": null,
            "grid_row": null,
            "grid_template_areas": null,
            "grid_template_columns": null,
            "grid_template_rows": null,
            "height": null,
            "justify_content": null,
            "justify_items": null,
            "left": null,
            "margin": null,
            "max_height": null,
            "max_width": null,
            "min_height": null,
            "min_width": null,
            "object_fit": null,
            "object_position": null,
            "order": null,
            "overflow": null,
            "overflow_x": null,
            "overflow_y": null,
            "padding": null,
            "right": null,
            "top": null,
            "visibility": null,
            "width": null
          }
        },
        "6bd6282e0e0347cda9d4fa82710909e3": {
          "model_module": "@jupyter-widgets/controls",
          "model_name": "DescriptionStyleModel",
          "model_module_version": "1.5.0",
          "state": {
            "_model_module": "@jupyter-widgets/controls",
            "_model_module_version": "1.5.0",
            "_model_name": "DescriptionStyleModel",
            "_view_count": null,
            "_view_module": "@jupyter-widgets/base",
            "_view_module_version": "1.2.0",
            "_view_name": "StyleView",
            "description_width": ""
          }
        },
        "391ddc0d063840bcb1ffb6623b4eb52d": {
          "model_module": "@jupyter-widgets/base",
          "model_name": "LayoutModel",
          "model_module_version": "1.2.0",
          "state": {
            "_model_module": "@jupyter-widgets/base",
            "_model_module_version": "1.2.0",
            "_model_name": "LayoutModel",
            "_view_count": null,
            "_view_module": "@jupyter-widgets/base",
            "_view_module_version": "1.2.0",
            "_view_name": "LayoutView",
            "align_content": null,
            "align_items": null,
            "align_self": null,
            "border": null,
            "bottom": null,
            "display": null,
            "flex": null,
            "flex_flow": null,
            "grid_area": null,
            "grid_auto_columns": null,
            "grid_auto_flow": null,
            "grid_auto_rows": null,
            "grid_column": null,
            "grid_gap": null,
            "grid_row": null,
            "grid_template_areas": null,
            "grid_template_columns": null,
            "grid_template_rows": null,
            "height": null,
            "justify_content": null,
            "justify_items": null,
            "left": null,
            "margin": null,
            "max_height": null,
            "max_width": null,
            "min_height": null,
            "min_width": null,
            "object_fit": null,
            "object_position": null,
            "order": null,
            "overflow": null,
            "overflow_x": null,
            "overflow_y": null,
            "padding": null,
            "right": null,
            "top": null,
            "visibility": null,
            "width": null
          }
        },
        "e2000bb7075240f693e7947ed3bea641": {
          "model_module": "@jupyter-widgets/controls",
          "model_name": "ProgressStyleModel",
          "model_module_version": "1.5.0",
          "state": {
            "_model_module": "@jupyter-widgets/controls",
            "_model_module_version": "1.5.0",
            "_model_name": "ProgressStyleModel",
            "_view_count": null,
            "_view_module": "@jupyter-widgets/base",
            "_view_module_version": "1.2.0",
            "_view_name": "StyleView",
            "bar_color": null,
            "description_width": ""
          }
        },
        "2b2f72d227a843c3960a3dbf79bf706d": {
          "model_module": "@jupyter-widgets/base",
          "model_name": "LayoutModel",
          "model_module_version": "1.2.0",
          "state": {
            "_model_module": "@jupyter-widgets/base",
            "_model_module_version": "1.2.0",
            "_model_name": "LayoutModel",
            "_view_count": null,
            "_view_module": "@jupyter-widgets/base",
            "_view_module_version": "1.2.0",
            "_view_name": "LayoutView",
            "align_content": null,
            "align_items": null,
            "align_self": null,
            "border": null,
            "bottom": null,
            "display": null,
            "flex": null,
            "flex_flow": null,
            "grid_area": null,
            "grid_auto_columns": null,
            "grid_auto_flow": null,
            "grid_auto_rows": null,
            "grid_column": null,
            "grid_gap": null,
            "grid_row": null,
            "grid_template_areas": null,
            "grid_template_columns": null,
            "grid_template_rows": null,
            "height": null,
            "justify_content": null,
            "justify_items": null,
            "left": null,
            "margin": null,
            "max_height": null,
            "max_width": null,
            "min_height": null,
            "min_width": null,
            "object_fit": null,
            "object_position": null,
            "order": null,
            "overflow": null,
            "overflow_x": null,
            "overflow_y": null,
            "padding": null,
            "right": null,
            "top": null,
            "visibility": null,
            "width": null
          }
        },
        "0b1cec522819494eac89ed27c0fabc25": {
          "model_module": "@jupyter-widgets/controls",
          "model_name": "DescriptionStyleModel",
          "model_module_version": "1.5.0",
          "state": {
            "_model_module": "@jupyter-widgets/controls",
            "_model_module_version": "1.5.0",
            "_model_name": "DescriptionStyleModel",
            "_view_count": null,
            "_view_module": "@jupyter-widgets/base",
            "_view_module_version": "1.2.0",
            "_view_name": "StyleView",
            "description_width": ""
          }
        }
      }
    }
  },
  "nbformat": 4,
  "nbformat_minor": 0
}