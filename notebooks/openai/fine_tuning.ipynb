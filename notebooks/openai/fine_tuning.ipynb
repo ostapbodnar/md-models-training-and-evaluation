{
 "cells": [
  {
   "metadata": {},
   "cell_type": "markdown",
   "source": "# Data preparation step",
   "id": "83cfabc6f6ecaa8f"
  },
  {
   "cell_type": "code",
   "id": "initial_id",
   "metadata": {
    "collapsed": true,
    "ExecuteTime": {
     "end_time": "2024-08-31T19:08:38.179219Z",
     "start_time": "2024-08-31T19:08:38.173608Z"
    }
   },
   "source": [
    "\n",
    "\n",
    "import os\n",
    "from pathlib import Path\n",
    "\n",
    "import polars as pl"
   ],
   "outputs": [],
   "execution_count": 5
  },
  {
   "metadata": {
    "ExecuteTime": {
     "end_time": "2024-08-31T20:20:47.997043Z",
     "start_time": "2024-08-31T20:20:36.880294Z"
    }
   },
   "cell_type": "code",
   "source": [
    "df = pl.read_csv(Path(os.getcwd()).parent.parent / \"data/merged_dataset/golden/train.tsv\", separator='\\t',\n",
    "                 quote_char='\\\"', infer_schema=False)\n",
    "df"
   ],
   "id": "8b5ba1975d0ed383",
   "outputs": [
    {
     "data": {
      "text/plain": [
       "shape: (267_449, 5)\n",
       "┌────────────────────┬────────────────────┬────────────────────┬──────────────┬────────────────────┐\n",
       "│ input              ┆ output             ┆ instruct           ┆ dataset_type ┆ dataloader_name    │\n",
       "│ ---                ┆ ---                ┆ ---                ┆ ---          ┆ ---                │\n",
       "│ str                ┆ str                ┆ str                ┆ str          ┆ str                │\n",
       "╞════════════════════╪════════════════════╪════════════════════╪══════════════╪════════════════════╡\n",
       "│ Byte for France    ┆ Byte for France    ┆ Виправ граматичні  ┆ 1            ┆ UaGecDataset       │\n",
       "│ або “Мій досві…    ┆ або “Мій досві…    ┆ помилки в по…      ┆              ┆                    │\n",
       "│ Сьогодні розповім  ┆ Сьогодні розповім  ┆ Виправ граматичні  ┆ 1            ┆ UaGecDataset       │\n",
       "│ про те як і …      ┆ про те<g ed=…      ┆ помилки в по…      ┆              ┆                    │\n",
       "│ Моє бачення        ┆ Моє бачення        ┆ Виправ граматичні  ┆ 1            ┆ UaGecDataset       │\n",
       "│ Instagram          ┆ Instagram          ┆ помилки в по…      ┆              ┆                    │\n",
       "│ Колись д…          ┆ Колись д…          ┆                    ┆              ┆                    │\n",
       "│ Було це за         ┆ Було це за <g      ┆ Виправ граматичні  ┆ 1            ┆ UaGecDataset       │\n",
       "│ декілька років до  ┆ ed=\"кілька\" et=\"…  ┆ помилки в по…      ┆              ┆                    │\n",
       "│ п…                 ┆                    ┆                    ┆              ┆                    │\n",
       "│ Instagram втілює   ┆ Instagram втілює   ┆ Виправ граматичні  ┆ 1            ┆ UaGecDataset       │\n",
       "│ глибинні бажа…     ┆ глибинні бажа…     ┆ помилки в по…      ┆              ┆                    │\n",
       "│ …                  ┆ …                  ┆ …                  ┆ …            ┆ …                  │\n",
       "│ Заголовок: Леон    ┆ Основні ключові    ┆ Із поданого тексту ┆ 7            ┆ NewsKeywordDataset │\n",
       "│ ГОРЕЦКА: «У ни…    ┆ слова: ['Футбо…    ┆ обери голов…       ┆              ┆                    │\n",
       "│ Заголовок:  Моряка ┆ Основні ключові    ┆ Витягни основні    ┆ 7            ┆ NewsKeywordDataset │\n",
       "│ Ейдера могл…       ┆ слова: ['Керче…    ┆ терміни з цьог…    ┆              ┆                    │\n",
       "│ Заголовок:  \"Укрга ┆ Основні ключові    ┆ Визнач, які слова  ┆ 7            ┆ NewsKeywordDataset │\n",
       "│ звидобування…      ┆ слова: ['Михай…    ┆ є найбільш з…      ┆              ┆                    │\n",
       "│ Заголовок: До 300  ┆ Основні ключові    ┆ Витягни основні    ┆ 7            ┆ NewsKeywordDataset │\n",
       "│ Мвт на годин…      ┆ слова: ['Енерг…    ┆ терміни з цьог…    ┆              ┆                    │\n",
       "│ Заголовок:         ┆ Основні ключові    ┆ Оберіть важливі    ┆ 7            ┆ NewsKeywordDataset │\n",
       "│ Берлусконі каже,   ┆ слова: ['анекс…    ┆ слова, що опис…    ┆              ┆                    │\n",
       "│ щ…                 ┆                    ┆                    ┆              ┆                    │\n",
       "└────────────────────┴────────────────────┴────────────────────┴──────────────┴────────────────────┘"
      ],
      "text/html": [
       "<div><style>\n",
       ".dataframe > thead > tr,\n",
       ".dataframe > tbody > tr {\n",
       "  text-align: right;\n",
       "  white-space: pre-wrap;\n",
       "}\n",
       "</style>\n",
       "<small>shape: (267_449, 5)</small><table border=\"1\" class=\"dataframe\"><thead><tr><th>input</th><th>output</th><th>instruct</th><th>dataset_type</th><th>dataloader_name</th></tr><tr><td>str</td><td>str</td><td>str</td><td>str</td><td>str</td></tr></thead><tbody><tr><td>&quot;Byte for France або “Мій досві…</td><td>&quot;Byte for France або “Мій досві…</td><td>&quot;Виправ граматичні помилки в по…</td><td>&quot;1&quot;</td><td>&quot;UaGecDataset&quot;</td></tr><tr><td>&quot;Сьогодні розповім про те як і …</td><td>&quot;Сьогодні розповім про те&lt;g ed=…</td><td>&quot;Виправ граматичні помилки в по…</td><td>&quot;1&quot;</td><td>&quot;UaGecDataset&quot;</td></tr><tr><td>&quot;Моє бачення Instagram\n",
       "Колись д…</td><td>&quot;Моє бачення Instagram\n",
       "Колись д…</td><td>&quot;Виправ граматичні помилки в по…</td><td>&quot;1&quot;</td><td>&quot;UaGecDataset&quot;</td></tr><tr><td>&quot;Було це за декілька років до п…</td><td>&quot;Було це за &lt;g ed=&quot;кілька&quot; et=&quot;…</td><td>&quot;Виправ граматичні помилки в по…</td><td>&quot;1&quot;</td><td>&quot;UaGecDataset&quot;</td></tr><tr><td>&quot;Instagram втілює глибинні бажа…</td><td>&quot;Instagram втілює глибинні бажа…</td><td>&quot;Виправ граматичні помилки в по…</td><td>&quot;1&quot;</td><td>&quot;UaGecDataset&quot;</td></tr><tr><td>&hellip;</td><td>&hellip;</td><td>&hellip;</td><td>&hellip;</td><td>&hellip;</td></tr><tr><td>&quot;Заголовок: Леон ГОРЕЦКА: «У ни…</td><td>&quot;Основні ключові слова: [&#x27;Футбо…</td><td>&quot;Із поданого тексту обери голов…</td><td>&quot;7&quot;</td><td>&quot;NewsKeywordDataset&quot;</td></tr><tr><td>&quot;Заголовок:  Моряка Ейдера могл…</td><td>&quot;Основні ключові слова: [&#x27;Керче…</td><td>&quot;Витягни основні терміни з цьог…</td><td>&quot;7&quot;</td><td>&quot;NewsKeywordDataset&quot;</td></tr><tr><td>&quot;Заголовок:  &quot;Укргазвидобування…</td><td>&quot;Основні ключові слова: [&#x27;Михай…</td><td>&quot;Визнач, які слова є найбільш з…</td><td>&quot;7&quot;</td><td>&quot;NewsKeywordDataset&quot;</td></tr><tr><td>&quot;Заголовок: До 300 Мвт на годин…</td><td>&quot;Основні ключові слова: [&#x27;Енерг…</td><td>&quot;Витягни основні терміни з цьог…</td><td>&quot;7&quot;</td><td>&quot;NewsKeywordDataset&quot;</td></tr><tr><td>&quot;Заголовок:  Берлусконі каже, щ…</td><td>&quot;Основні ключові слова: [&#x27;анекс…</td><td>&quot;Оберіть важливі слова, що опис…</td><td>&quot;7&quot;</td><td>&quot;NewsKeywordDataset&quot;</td></tr></tbody></table></div>"
      ]
     },
     "execution_count": 35,
     "metadata": {},
     "output_type": "execute_result"
    }
   ],
   "execution_count": 35
  },
  {
   "metadata": {
    "ExecuteTime": {
     "end_time": "2024-08-31T20:24:18.287341Z",
     "start_time": "2024-08-31T20:24:18.225252Z"
    }
   },
   "cell_type": "code",
   "source": [
    "shuffled_df = df.sample(fraction=1, shuffle=True)\n",
    "\n",
    "shuffled_df"
   ],
   "id": "31c61f4d4a8a48be",
   "outputs": [
    {
     "data": {
      "text/plain": [
       "shape: (267_449, 5)\n",
       "┌─────────────────────┬─────────────────┬─────────────────────┬──────────────┬─────────────────────┐\n",
       "│ input               ┆ output          ┆ instruct            ┆ dataset_type ┆ dataloader_name     │\n",
       "│ ---                 ┆ ---             ┆ ---                 ┆ ---          ┆ ---                 │\n",
       "│ str                 ┆ str             ┆ str                 ┆ str          ┆ str                 │\n",
       "╞═════════════════════╪═════════════════╪═════════════════════╪══════════════╪═════════════════════╡\n",
       "│ Заголовок: Кабмін   ┆ Основні ключові ┆ Із поданого тексту  ┆ 7            ┆ NewsKeywordDataset  │\n",
       "│ вдруге за дв…       ┆ слова: ['Кабін… ┆ обери голов…        ┆              ┆                     │\n",
       "│ \"Доку,\" сказав він, ┆ \"Доку<g ed=\" —\" ┆ Виправ граматичні   ┆ 1            ┆ UaGecDataset        │\n",
       "│ \"Придумав!…         ┆ et=\"Punctuatio… ┆ помилки в по…       ┆              ┆                     │\n",
       "│ Заголовок:  Дітей з ┆ Основні ключові ┆ Знайди і виділи     ┆ 7            ┆ NewsKeywordDataset  │\n",
       "│ Черкас нав…         ┆ слова: ['новин… ┆ ключові фрази …     ┆              ┆                     │\n",
       "│ Заголовок:          ┆ Основні ключові ┆ Оберіть важливі     ┆ 7            ┆ NewsKeywordDataset  │\n",
       "│ Автопілот Tesla за  ┆ слова: ['Техно… ┆ слова, що опис…     ┆              ┆                     │\n",
       "│ …                   ┆                 ┆                     ┆              ┆                     │\n",
       "│ Заголовок: Челсі    ┆ спорт           ┆ Оцініть текст       ┆ 7            ┆ NewsTopicClassifica │\n",
       "│ хоче перехопи…      ┆                 ┆ новини і віднесі…   ┆              ┆ tionDataset         │\n",
       "│ …                   ┆ …               ┆ …                   ┆ …            ┆ …                   │\n",
       "│ Заголовок: В        ┆ бізнес          ┆ Класифікуй новину,  ┆ 7            ┆ NewsTopicClassifica │\n",
       "│ Україні помітно з…  ┆                 ┆ виходячи з …        ┆              ┆ tionDataset         │\n",
       "│ Заголовок: В        ┆ спорт           ┆ Аналізуй текст      ┆ 7            ┆ NewsTopicClassifica │\n",
       "│ жіночій Лізі Наці…  ┆                 ┆ новини і вибери…    ┆              ┆ tionDataset         │\n",
       "│ Заголовок:          ┆ політика        ┆ Ідентифікуй жанр    ┆ 7            ┆ NewsTopicClassifica │\n",
       "│ Deutsche Bank нада… ┆                 ┆ новини на осн…      ┆              ┆ tionDataset         │\n",
       "│ Заголовок: Жертва   ┆ технології      ┆ Вибери жанр новини, ┆ 7            ┆ NewsTopicClassifica │\n",
       "│ богам? Архео…       ┆                 ┆ орієнтуючи…         ┆              ┆ tionDataset         │\n",
       "│ Заголовок:  На      ┆ Основні ключові ┆ Витягни основні     ┆ 7            ┆ NewsKeywordDataset  │\n",
       "│ Snapchat подали…    ┆ слова: ['Snapc… ┆ терміни з цьог…     ┆              ┆                     │\n",
       "└─────────────────────┴─────────────────┴─────────────────────┴──────────────┴─────────────────────┘"
      ],
      "text/html": [
       "<div><style>\n",
       ".dataframe > thead > tr,\n",
       ".dataframe > tbody > tr {\n",
       "  text-align: right;\n",
       "  white-space: pre-wrap;\n",
       "}\n",
       "</style>\n",
       "<small>shape: (267_449, 5)</small><table border=\"1\" class=\"dataframe\"><thead><tr><th>input</th><th>output</th><th>instruct</th><th>dataset_type</th><th>dataloader_name</th></tr><tr><td>str</td><td>str</td><td>str</td><td>str</td><td>str</td></tr></thead><tbody><tr><td>&quot;Заголовок: Кабмін вдруге за дв…</td><td>&quot;Основні ключові слова: [&#x27;Кабін…</td><td>&quot;Із поданого тексту обери голов…</td><td>&quot;7&quot;</td><td>&quot;NewsKeywordDataset&quot;</td></tr><tr><td>&quot;&quot;Доку,&quot; сказав він, &quot;Придумав!…</td><td>&quot;&quot;Доку&lt;g ed=&quot; —&quot; et=&quot;Punctuatio…</td><td>&quot;Виправ граматичні помилки в по…</td><td>&quot;1&quot;</td><td>&quot;UaGecDataset&quot;</td></tr><tr><td>&quot;Заголовок:  Дітей з Черкас нав…</td><td>&quot;Основні ключові слова: [&#x27;новин…</td><td>&quot;Знайди і виділи ключові фрази …</td><td>&quot;7&quot;</td><td>&quot;NewsKeywordDataset&quot;</td></tr><tr><td>&quot;Заголовок: Автопілот Tesla за …</td><td>&quot;Основні ключові слова: [&#x27;Техно…</td><td>&quot;Оберіть важливі слова, що опис…</td><td>&quot;7&quot;</td><td>&quot;NewsKeywordDataset&quot;</td></tr><tr><td>&quot;Заголовок: Челсі хоче перехопи…</td><td>&quot;спорт&quot;</td><td>&quot;Оцініть текст новини і віднесі…</td><td>&quot;7&quot;</td><td>&quot;NewsTopicClassificationDataset&quot;</td></tr><tr><td>&hellip;</td><td>&hellip;</td><td>&hellip;</td><td>&hellip;</td><td>&hellip;</td></tr><tr><td>&quot;Заголовок: В Україні помітно з…</td><td>&quot;бізнес&quot;</td><td>&quot;Класифікуй новину, виходячи з …</td><td>&quot;7&quot;</td><td>&quot;NewsTopicClassificationDataset&quot;</td></tr><tr><td>&quot;Заголовок: В жіночій Лізі Наці…</td><td>&quot;спорт&quot;</td><td>&quot;Аналізуй текст новини і вибери…</td><td>&quot;7&quot;</td><td>&quot;NewsTopicClassificationDataset&quot;</td></tr><tr><td>&quot;Заголовок:  Deutsche Bank нада…</td><td>&quot;політика&quot;</td><td>&quot;Ідентифікуй жанр новини на осн…</td><td>&quot;7&quot;</td><td>&quot;NewsTopicClassificationDataset&quot;</td></tr><tr><td>&quot;Заголовок: Жертва богам? Архео…</td><td>&quot;технології&quot;</td><td>&quot;Вибери жанр новини, орієнтуючи…</td><td>&quot;7&quot;</td><td>&quot;NewsTopicClassificationDataset&quot;</td></tr><tr><td>&quot;Заголовок:  На Snapchat подали…</td><td>&quot;Основні ключові слова: [&#x27;Snapc…</td><td>&quot;Витягни основні терміни з цьог…</td><td>&quot;7&quot;</td><td>&quot;NewsKeywordDataset&quot;</td></tr></tbody></table></div>"
      ]
     },
     "execution_count": 38,
     "metadata": {},
     "output_type": "execute_result"
    }
   ],
   "execution_count": 38
  },
  {
   "metadata": {
    "ExecuteTime": {
     "end_time": "2024-08-31T20:26:05.855323Z",
     "start_time": "2024-08-31T20:26:05.846716Z"
    }
   },
   "cell_type": "code",
   "source": [
    "import math\n",
    "\n",
    "train_df = shuffled_df.head(math.ceil(len(shuffled_df) * 0.75))\n",
    "valid_df = shuffled_df.tail(math.ceil(len(shuffled_df) * 0.25))"
   ],
   "id": "dd1cadd2c1179b5c",
   "outputs": [],
   "execution_count": 40
  },
  {
   "metadata": {
    "ExecuteTime": {
     "end_time": "2024-08-31T20:27:59.798296Z",
     "start_time": "2024-08-31T20:27:59.789103Z"
    }
   },
   "cell_type": "code",
   "source": [
    "def create_json(row):\n",
    "    return {\n",
    "        \"messages\": [\n",
    "            {\"role\": \"system\", \"content\": row[\"instruct\"]},\n",
    "            {\"role\": \"user\", \"content\": row[\"input\"]},\n",
    "            {\"role\": \"assistant\", \"content\": row[\"output\"]}\n",
    "        ]\n",
    "    }"
   ],
   "id": "46993c01a8208a68",
   "outputs": [],
   "execution_count": 42
  },
  {
   "metadata": {
    "ExecuteTime": {
     "end_time": "2024-08-31T20:28:49.020225Z",
     "start_time": "2024-08-31T20:28:13.317951Z"
    }
   },
   "cell_type": "code",
   "source": [
    "from tqdm import tqdm\n",
    "import json\n",
    "\n",
    "train_path = Path(Path(os.getcwd()).parent.parent / 'data/merged_dataset/golden/openai/train.jsonl')\n",
    "valid_path = Path(Path(os.getcwd()).parent.parent / 'data/merged_dataset/golden/openai/valid.jsonl')\n",
    "\n",
    "with open(train_path, 'w', encoding=\"utf-8\") as file:\n",
    "    for row in tqdm(train_df.iter_rows(named=True), total=len(train_df), desc=\"Processing train rows\"):\n",
    "        json_obj = create_json(row)\n",
    "        file.write(json.dumps(json_obj, ensure_ascii=False) + '\\n')\n",
    "\n",
    "with open(valid_path, 'w', encoding=\"utf-8\") as file:\n",
    "    for row in tqdm(valid_df.iter_rows(named=True), total=len(valid_df), desc=\"Processing valid rows\"):\n",
    "        json_obj = create_json(row)\n",
    "        file.write(json.dumps(json_obj, ensure_ascii=False) + '\\n')"
   ],
   "id": "c08571b09dddfac9",
   "outputs": [
    {
     "name": "stderr",
     "output_type": "stream",
     "text": [
      "Processing train rows: 100%|██████████| 200587/200587 [00:26<00:00, 7487.44it/s]\n",
      "Processing valid rows: 100%|██████████| 66863/66863 [00:08<00:00, 7552.12it/s]\n"
     ]
    }
   ],
   "execution_count": 44
  },
  {
   "metadata": {},
   "cell_type": "markdown",
   "source": "## OpenAI",
   "id": "b244753a8961d979"
  },
  {
   "metadata": {},
   "cell_type": "markdown",
   "source": "#### File loading for pretrain",
   "id": "a72455fdd9e88681"
  },
  {
   "metadata": {},
   "cell_type": "markdown",
   "source": "# TODO: add epoch number",
   "id": "a1a1725984e7d123"
  },
  {
   "metadata": {
    "ExecuteTime": {
     "end_time": "2024-08-31T20:03:00.115530Z",
     "start_time": "2024-08-31T20:02:59.988520Z"
    }
   },
   "cell_type": "code",
   "source": [
    "from dotenv import load_dotenv\n",
    "\n",
    "load_dotenv()"
   ],
   "id": "e7a54565947d59af",
   "outputs": [
    {
     "data": {
      "text/plain": [
       "True"
      ]
     },
     "execution_count": 31,
     "metadata": {},
     "output_type": "execute_result"
    }
   ],
   "execution_count": 31
  },
  {
   "metadata": {},
   "cell_type": "code",
   "outputs": [],
   "execution_count": null,
   "source": "openai_folder_root_path = Path(os.getcwd()).parent.parent / 'data/merged_dataset/golden/openai'",
   "id": "fb8f6b5b8c7234aa"
  },
  {
   "metadata": {
    "ExecuteTime": {
     "end_time": "2024-08-31T20:03:00.232168Z",
     "start_time": "2024-08-31T20:03:00.225089Z"
    }
   },
   "cell_type": "code",
   "source": [
    "train_path = Path(openai_folder_root_path / '/train.jsonl')\n",
    "valid_path = Path(openai_folder_root_path / '/valid.jsonl')"
   ],
   "id": "69e624f28a38edf3",
   "outputs": [],
   "execution_count": 32
  },
  {
   "metadata": {
    "ExecuteTime": {
     "end_time": "2024-08-31T20:03:09.454779Z",
     "start_time": "2024-08-31T20:03:09.445958Z"
    }
   },
   "cell_type": "code",
   "source": [
    "OPENAI_API_KEY = os.getenv(\"OPENAI_API_KEY\")\n",
    "len(OPENAI_API_KEY)"
   ],
   "id": "f51006a2f5dae95b",
   "outputs": [
    {
     "data": {
      "text/plain": [
       "161"
      ]
     },
     "execution_count": 34,
     "metadata": {},
     "output_type": "execute_result"
    }
   ],
   "execution_count": 34
  },
  {
   "metadata": {},
   "cell_type": "code",
   "outputs": [],
   "execution_count": null,
   "source": [
    "from openai import OpenAI\n",
    "\n",
    "client = OpenAI()"
   ],
   "id": "68ebef755e9f2a84"
  },
  {
   "metadata": {},
   "cell_type": "code",
   "outputs": [],
   "execution_count": null,
   "source": [
    "train_oai_file = client.files.create(\n",
    "    file=open(train_path, \"rb\"),\n",
    "    purpose=\"fine-tune\"\n",
    ")\n",
    "valid_oai_file = client.files.create(\n",
    "    file=open(valid_path, \"rb\"),\n",
    "    purpose=\"fine-tune\"\n",
    ")\n",
    "train_oai_file, valid_oai_file"
   ],
   "id": "498ec5b6e74e1b2e"
  },
  {
   "metadata": {},
   "cell_type": "markdown",
   "source": "#### Fine tuning",
   "id": "6506259d2f873815"
  },
  {
   "metadata": {},
   "cell_type": "code",
   "outputs": [],
   "execution_count": null,
   "source": [
    "fine_tuning_job = client.fine_tuning.jobs.create(\n",
    "    training_file=train_oai_file.id,\n",
    "    validation_file=valid_oai_file.id,\n",
    "    model='gpt-4o-mini-2024-07-18'\n",
    ")\n",
    "fine_tuning_job"
   ],
   "id": "eb9ee42078f1995"
  },
  {
   "metadata": {},
   "cell_type": "code",
   "outputs": [],
   "execution_count": null,
   "source": [
    "response = client.fine_tuning.jobs.list_events(fine_tuning_job.id)\n",
    "\n",
    "events = response.data\n",
    "events.reverse()\n",
    "\n",
    "for event in events:\n",
    "    print(event.message)"
   ],
   "id": "a8bd9f63df506e3f"
  },
  {
   "metadata": {},
   "cell_type": "code",
   "outputs": [],
   "execution_count": null,
   "source": [
    "response = client.fine_tuning.jobs.retrieve(fine_tuning_job.id)\n",
    "\n",
    "print(\"Job ID:\", response.id)\n",
    "print(\"Status:\", response.status)\n",
    "print(\"Trained Tokens:\", response.trained_tokens)\n"
   ],
   "id": "2224a15454cab439"
  },
  {
   "metadata": {},
   "cell_type": "code",
   "outputs": [],
   "execution_count": null,
   "source": [
    "for f_id in response.result_files:\n",
    "    result_file = client.files.content(f_id)\n",
    "    ans = result_file.decode()\n",
    "    with open(openai_folder_root_path / 'fine_tuning_metrics.csv', 'w') as f:\n",
    "        f.write(ans)"
   ],
   "id": "1e9ac0347ee043f3"
  }
 ],
 "metadata": {
  "kernelspec": {
   "display_name": "masters_llm_eval",
   "language": "python",
   "name": "masters_llm_eval"
  },
  "language_info": {
   "codemirror_mode": {
    "name": "ipython",
    "version": 2
   },
   "file_extension": ".py",
   "mimetype": "text/x-python",
   "name": "python",
   "nbconvert_exporter": "python",
   "pygments_lexer": "ipython2",
   "version": "2.7.6"
  }
 },
 "nbformat": 4,
 "nbformat_minor": 5
}
