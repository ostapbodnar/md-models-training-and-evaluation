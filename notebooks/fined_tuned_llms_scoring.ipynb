{
 "cells": [
  {
   "cell_type": "code",
   "id": "9e4cb8f4-456b-4b56-a6ac-bf9709f9e70a",
   "metadata": {
    "ExecuteTime": {
     "end_time": "2024-09-13T09:15:55.538362Z",
     "start_time": "2024-09-13T09:15:55.533867Z"
    }
   },
   "source": [
    "\n",
    "import sys\n",
    "\n",
    "sys.path.append(\"../\")"
   ],
   "outputs": [],
   "execution_count": 1
  },
  {
   "cell_type": "code",
   "id": "initial_id",
   "metadata": {
    "ExecuteTime": {
     "end_time": "2024-09-13T09:15:55.922449Z",
     "start_time": "2024-09-13T09:15:55.573811Z"
    }
   },
   "source": [
    "import polars as pl\n",
    "from dotenv import load_dotenv\n",
    "\n",
    "from evaluation.annotation import TaggedText\n",
    "from evaluation.eval_algorithm import TaggedTextComparison\n",
    "\n",
    "load_dotenv()"
   ],
   "outputs": [
    {
     "data": {
      "text/plain": [
       "True"
      ]
     },
     "execution_count": 2,
     "metadata": {},
     "output_type": "execute_result"
    }
   ],
   "execution_count": 2
  },
  {
   "cell_type": "code",
   "id": "525da483a4789efc",
   "metadata": {
    "ExecuteTime": {
     "end_time": "2024-09-13T09:15:56.628910Z",
     "start_time": "2024-09-13T09:15:55.924463Z"
    }
   },
   "source": [
    "from huggingface_hub import login\n",
    "import os\n",
    "\n",
    "login(token=os.getenv(\"HF_TOKEN\"))"
   ],
   "outputs": [
    {
     "name": "stdout",
     "output_type": "stream",
     "text": [
      "The token has not been saved to the git credentials helper. Pass `add_to_git_credential=True` in this function directly or `--add-to-git-credential` if using via `huggingface-cli` if you want to set the git credential as well.\n",
      "Token is valid (permission: fineGrained).\n",
      "Your token has been saved to /Users/ostapbodnar/.cache/huggingface/token\n",
      "Login successful\n"
     ]
    }
   ],
   "execution_count": 3
  },
  {
   "cell_type": "code",
   "id": "a7fae72c33b341c5",
   "metadata": {
    "ExecuteTime": {
     "end_time": "2024-09-13T09:15:56.633855Z",
     "start_time": "2024-09-13T09:15:56.630720Z"
    }
   },
   "source": [
    "from huggingface_hub import InferenceClient\n",
    "\n",
    "client = InferenceClient(base_url=\"https://jnovl897uj1glqgn.us-east-1.aws.endpoints.huggingface.cloud\")"
   ],
   "outputs": [],
   "execution_count": 4
  },
  {
   "cell_type": "code",
   "id": "d2b353e8f911b2db",
   "metadata": {
    "ExecuteTime": {
     "end_time": "2024-09-13T09:26:53.385646Z",
     "start_time": "2024-09-13T09:26:53.116628Z"
    }
   },
   "source": [
    "compl = client.chat.completions.create(\n",
    "    [\n",
    "        {\"role\": \"system\", \"content\": \"You are a helpful assistant\"},\n",
    "        {\"role\": \"user\", \"content\": \"Давай відповіді на запитання. \\n Input: Яка столиця України?\\n Output:\"},\n",
    "    ],\n",
    "    max_tokens=2096,\n",
    "    # top_k=30,\n",
    "    top_p=0.9,\n",
    "    temperature=0.2,\n",
    "    # repetition_penalty=1.02,\n",
    "    stop=[\"\\nUser:\", \"<|endoftext|>\", \"</s>\"],\n",
    ")\n",
    "compl"
   ],
   "outputs": [
    {
     "data": {
      "text/plain": [
       "ChatCompletionOutput(choices=[ChatCompletionOutputComplete(finish_reason='stop', index=0, message=ChatCompletionOutputMessage(role='assistant', content='Київ', tool_calls=None), logprobs=None)], created=1726219613, id='', model='/repository', system_fingerprint='2.2.1-dev0-sha-f852190', usage=ChatCompletionOutputUsage(completion_tokens=3, prompt_tokens=36, total_tokens=39))"
      ]
     },
     "execution_count": 8,
     "metadata": {},
     "output_type": "execute_result"
    }
   ],
   "execution_count": 8
  },
  {
   "cell_type": "code",
   "id": "102dd4d6ee8e6e50",
   "metadata": {
    "ExecuteTime": {
     "end_time": "2024-09-13T09:26:53.494305Z",
     "start_time": "2024-09-13T09:26:53.487060Z"
    }
   },
   "source": [
    "compl.choices[0].message['content']"
   ],
   "outputs": [
    {
     "name": "stderr",
     "output_type": "stream",
     "text": [
      "/Users/ostapbodnar/Library/Caches/pypoetry/virtualenvs/llm-evaluation--UvhI9ny-py3.12/lib/python3.12/site-packages/huggingface_hub/inference/_generated/types/base.py:139: FutureWarning: Accessing 'ChatCompletionOutputMessage' values through dict is deprecated and will be removed from version '0.25'. Use dataclass attributes instead.\n",
      "  warnings.warn(\n"
     ]
    },
    {
     "data": {
      "text/plain": [
       "'Київ'"
      ]
     },
     "execution_count": 9,
     "metadata": {},
     "output_type": "execute_result"
    }
   ],
   "execution_count": 9
  },
  {
   "cell_type": "code",
   "id": "61050a5e7fc3347b",
   "metadata": {
    "ExecuteTime": {
     "end_time": "2024-09-13T09:26:55.682760Z",
     "start_time": "2024-09-13T09:26:53.858591Z"
    }
   },
   "source": [
    "from datasets import load_dataset, Features, Value, concatenate_datasets\n",
    "from collections import Counter\n",
    "\n",
    "features = Features({\n",
    "    'input': Value('string'),\n",
    "    'output': Value('string'),\n",
    "    'instruct': Value('string'),\n",
    "    'dataset_type': Value('string'),\n",
    "    'dataloader_name': Value('string')\n",
    "})\n",
    "\n",
    "\n",
    "def custom_sample(dataset, sampling_fractions):\n",
    "    sampled_datasets = []\n",
    "    for name, fraction in sampling_fractions.items():\n",
    "        filtered_dataset = dataset.filter(lambda x: x['dataloader_name'] == name)\n",
    "        if fraction < 1.0:\n",
    "            sampled_dataset = filtered_dataset.train_test_split(train_size=fraction, seed=42)['train']\n",
    "        else:\n",
    "            sampled_dataset = filtered_dataset\n",
    "        sampled_datasets.append(sampled_dataset)\n",
    "\n",
    "    return concatenate_datasets(sampled_datasets)\n",
    "\n",
    "\n",
    "def value_counts(data):\n",
    "    value_counts = Counter(data)\n",
    "    print(value_counts)"
   ],
   "outputs": [],
   "execution_count": 10
  },
  {
   "cell_type": "code",
   "id": "16f350cce0706c08",
   "metadata": {
    "ExecuteTime": {
     "end_time": "2024-09-13T09:26:57.910616Z",
     "start_time": "2024-09-13T09:26:55.684768Z"
    }
   },
   "source": [
    "artificial_ds = load_dataset(\"ostapbodnar/ua-gec-pos-ner-artificial\", data_dir=\"small\", split=\"validation\",\n",
    "                             features=features)"
   ],
   "outputs": [],
   "execution_count": 11
  },
  {
   "cell_type": "code",
   "id": "e77dc2a0ba98f7a8",
   "metadata": {
    "ExecuteTime": {
     "end_time": "2024-09-13T09:26:57.916481Z",
     "start_time": "2024-09-13T09:26:57.911932Z"
    }
   },
   "source": [
    "artificial_ds"
   ],
   "outputs": [
    {
     "data": {
      "text/plain": [
       "Dataset({\n",
       "    features: ['input', 'output', 'instruct', 'dataset_type', 'dataloader_name'],\n",
       "    num_rows: 25549\n",
       "})"
      ]
     },
     "execution_count": 12,
     "metadata": {},
     "output_type": "execute_result"
    }
   ],
   "execution_count": 12
  },
  {
   "cell_type": "code",
   "id": "1f07b1d20add94f3",
   "metadata": {
    "ExecuteTime": {
     "end_time": "2024-09-13T09:26:57.994850Z",
     "start_time": "2024-09-13T09:26:57.920195Z"
    }
   },
   "source": [
    "sampling_fractions = {\n",
    "    \"PapersDataset\": 0.65,\n",
    "    \"UbertextV2Dataset\": 1.0,\n",
    "}\n",
    "\n",
    "artificial_ds = artificial_ds.filter(lambda x: x['dataloader_name'] in sampling_fractions)\n",
    "artificial_ds = custom_sample(artificial_ds, sampling_fractions)\n",
    "artificial_ds = artificial_ds.shuffle(seed=42)\n",
    "\n",
    "artificial_ds = artificial_ds.shuffle(seed=42).select(range(1000))\n",
    "\n",
    "value_counts(artificial_ds['dataloader_name'])"
   ],
   "outputs": [
    {
     "name": "stdout",
     "output_type": "stream",
     "text": [
      "Counter({'PapersDataset': 548, 'UbertextV2Dataset': 452})\n"
     ]
    }
   ],
   "execution_count": 13
  },
  {
   "cell_type": "code",
   "id": "68a7f7d8f89775d2",
   "metadata": {
    "ExecuteTime": {
     "end_time": "2024-09-13T09:27:00.510452Z",
     "start_time": "2024-09-13T09:26:57.996662Z"
    }
   },
   "source": [
    "golden_ds = load_dataset(\"ostapbodnar/ua-gec-pos-ner-golden\", features=features, split=\"validation\")"
   ],
   "outputs": [],
   "execution_count": 14
  },
  {
   "cell_type": "code",
   "id": "636fb145aa0d0f83",
   "metadata": {
    "ExecuteTime": {
     "end_time": "2024-09-13T09:27:00.585891Z",
     "start_time": "2024-09-13T09:27:00.512707Z"
    }
   },
   "source": [
    "sampling_fractions = {\n",
    "    \"UaSqaudDataset\": 0.35,\n",
    "    \"NewsTopicClassificationDataset\": 0.03,\n",
    "    \"NewsKeywordDataset\": 0.03,\n",
    "    \"WscDataset\": 1.0,\n",
    "    'ZnoDataset': 0.85,\n",
    "}\n",
    "\n",
    "golden_ds_class = golden_ds.filter(lambda x: x['dataloader_name'] in sampling_fractions)\n",
    "golden_ds_class = custom_sample(golden_ds_class, sampling_fractions)\n",
    "golden_ds_class = golden_ds_class.shuffle(seed=42)\n",
    "\n",
    "golden_ds_class = golden_ds_class.shuffle(seed=42).select(range(1000))\n",
    "\n",
    "value_counts(golden_ds_class['dataloader_name'])"
   ],
   "outputs": [
    {
     "name": "stdout",
     "output_type": "stream",
     "text": [
      "Counter({'UaSqaudDataset': 295, 'NewsTopicClassificationDataset': 276, 'NewsKeywordDataset': 241, 'ZnoDataset': 176, 'WscDataset': 12})\n"
     ]
    }
   ],
   "execution_count": 15
  },
  {
   "cell_type": "code",
   "id": "997cb9b475cf3469",
   "metadata": {
    "ExecuteTime": {
     "end_time": "2024-09-13T09:27:00.632093Z",
     "start_time": "2024-09-13T09:27:00.587288Z"
    }
   },
   "source": [
    "sampling_fractions = {\n",
    "    \"UaGecDataset\": 0.55,\n",
    "    \"NerDataset\": 1.0,\n",
    "    'MovaInstPosDataset': 0.55,\n",
    "}\n",
    "\n",
    "golden_ds_tag = golden_ds.filter(lambda x: x['dataloader_name'] in sampling_fractions)\n",
    "golden_ds_tag = custom_sample(golden_ds_tag, sampling_fractions)\n",
    "golden_ds_tag = golden_ds_tag.shuffle(seed=42)\n",
    "\n",
    "golden_ds_tag = golden_ds_tag.shuffle(seed=42).select(range(1000))\n",
    "value_counts(golden_ds_tag['dataloader_name'])"
   ],
   "outputs": [
    {
     "name": "stdout",
     "output_type": "stream",
     "text": [
      "Counter({'UaGecDataset': 485, 'MovaInstPosDataset': 471, 'NerDataset': 44})\n"
     ]
    }
   ],
   "execution_count": 16
  },
  {
   "cell_type": "code",
   "id": "d055427d1538b285",
   "metadata": {
    "ExecuteTime": {
     "end_time": "2024-09-13T09:27:01.481584Z",
     "start_time": "2024-09-13T09:27:00.633579Z"
    }
   },
   "source": [
    "import os\n",
    "from openai import OpenAI, AsyncOpenAI\n",
    "from huggingface_hub import AsyncInferenceClient\n",
    "\n",
    "openai_client = AsyncOpenAI(api_key=os.environ['OPENAI_API_KEY'])\n",
    "\n",
    "models = {\n",
    "    'microsoft/Phi-3.5-mini-instruct': AsyncInferenceClient(\n",
    "        base_url=\"https://jo64cpqkvayl7daj.us-east-1.aws.endpoints.huggingface.cloud\"),\n",
    "    # 'ostapbodnar/Phi3-mini-4k-instruct-UA': InferenceClient(base_url=\"https://it7s4lcu4sy306c2.eu-west-1.aws.endpoints.huggingface.cloud\"),\n",
    "    'ostapbodnar/Phi3.5-mini-instruct-UA-qlora': AsyncInferenceClient(\n",
    "        base_url=\"https://it7s4lcu4sy306c2.eu-west-1.aws.endpoints.huggingface.cloud\"),\n",
    "    'ostapbodnar/Phi3.5-mini-instruct-UA-lora-unsloth-artificial': AsyncInferenceClient(\n",
    "        base_url=\"https://kg2x3u556icag7u2.eu-west-1.aws.endpoints.huggingface.cloud\"),\n",
    "    'ostapbodnar/Phi3.5-mini-instruct-UA-lora-unsloth-mixed': AsyncInferenceClient(\n",
    "        base_url=\"https://jnovl897uj1glqgn.us-east-1.aws.endpoints.huggingface.cloud\"),\n",
    "    'ft:gpt-4o-mini-2024-07-18:personal::A6RBdxHu': openai_client,\n",
    "    'gpt-4o-mini': openai_client,\n",
    "    'gpt-4o': openai_client\n",
    "}\n"
   ],
   "outputs": [],
   "execution_count": 17
  },
  {
   "metadata": {
    "ExecuteTime": {
     "end_time": "2024-09-13T09:27:02.206817Z",
     "start_time": "2024-09-13T09:27:01.484906Z"
    }
   },
   "cell_type": "code",
   "source": [
    "compl = await openai_client.chat.completions.create(\n",
    "\n",
    "    messages=[\n",
    "        {\"role\": \"system\", \"content\": \"You are a helpful assistant\"},\n",
    "        {\"role\": \"user\", \"content\": \"Давай відповіді на запитання. \\n Input: Яка столиця України?\\n Output:\"},\n",
    "    ],\n",
    "        model=\"gpt-4o\",\n",
    "    max_tokens=2096,\n",
    "    # top_k=30,\n",
    "    top_p=0.9,\n",
    "    temperature=0.2,\n",
    "    # repetition_penalty=1.02,\n",
    "    stop=[\"\\nUser:\", \"<|endoftext|>\", \"</s>\"],\n",
    ")\n",
    "compl"
   ],
   "id": "276fbe469c201934",
   "outputs": [
    {
     "data": {
      "text/plain": [
       "ChatCompletion(id='chatcmpl-A6wrtCmxonN8j7mpaVm0Doea6FCZK', choices=[Choice(finish_reason='stop', index=0, logprobs=None, message=ChatCompletionMessage(content='Київ є столицею України.', refusal=None, role='assistant', function_call=None, tool_calls=None))], created=1726219621, model='gpt-4o-2024-05-13', object='chat.completion', service_tier=None, system_fingerprint='fp_25624ae3a5', usage=CompletionUsage(completion_tokens=9, prompt_tokens=39, total_tokens=48, completion_tokens_details={'reasoning_tokens': 0}))"
      ]
     },
     "execution_count": 18,
     "metadata": {},
     "output_type": "execute_result"
    }
   ],
   "execution_count": 18
  },
  {
   "cell_type": "code",
   "id": "7c7e5db4141a9afd",
   "metadata": {
    "ExecuteTime": {
     "end_time": "2024-09-13T09:27:02.220082Z",
     "start_time": "2024-09-13T09:27:02.208370Z"
    }
   },
   "source": [
    "from difflib import SequenceMatcher\n",
    "from datasets import Dataset\n",
    "from tqdm.notebook import tqdm_notebook\n",
    "import asyncio\n",
    "\n",
    "\n",
    "async def _eval_model(model_name, client: AsyncOpenAI | AsyncInferenceClient, dataset, scoring_func, max_tokens,\n",
    "                      concurrency_limit=10):\n",
    "    print(f\"Evaluation of {model_name}\")\n",
    "\n",
    "    semaphore = asyncio.Semaphore(concurrency_limit)  # Limit concurrent tasks\n",
    "    results = [None] * len(dataset)  # Pre-allocate results list\n",
    "\n",
    "    # Create a tqdm progress bar\n",
    "    progress_bar = tqdm_notebook(total=len(dataset), desc=f'Evaluating {model_name}')\n",
    "\n",
    "    async def process_row(index, row):\n",
    "        async with semaphore:\n",
    "            input_request = f'{row[\"instruct\"]} \\n Input: {row[\"input\"]}\\n Output:'\n",
    "            messages = [\n",
    "                {\"role\": \"system\", \"content\": \"You are a helpful assistant\"},\n",
    "                {\"role\": \"user\", \"content\": input_request},\n",
    "            ]\n",
    "\n",
    "            try:\n",
    "                response = await client.chat.completions.create(\n",
    "                    model=model_name,\n",
    "                    messages=messages,\n",
    "                    max_tokens=max_tokens,\n",
    "                    top_p=0.9,\n",
    "                    temperature=0.2,\n",
    "                    frequency_penalty=1.7,\n",
    "                    stop=[\"\\nUser:\", \"<|endoftext|>\", \"</s>\", \"\\n\"],\n",
    "                )\n",
    "                generated_text = response.choices[0].message.content\n",
    "            except Exception as e:\n",
    "                print(e)\n",
    "                generated_text = None\n",
    "                input_request = None\n",
    "\n",
    "            try:\n",
    "                accuracy_score = scoring_func(row, generated_text)\n",
    "            except Exception as e:\n",
    "                print(e)\n",
    "                accuracy_score = None\n",
    "\n",
    "            # Store results with proper ordering\n",
    "            results[index] = {\n",
    "                \"model\": model_name,\n",
    "                \"input\": input_request,\n",
    "                \"output\": row[\"output\"],\n",
    "                \"generated_output\": generated_text,\n",
    "                \"dataset_type\": row['dataloader_name'],\n",
    "                \"accuracy\": accuracy_score\n",
    "            }\n",
    "\n",
    "            progress_bar.update(1)\n",
    "\n",
    "    if 'gpt' in model_name:\n",
    "        for i, row in enumerate(dataset):\n",
    "            await process_row(i, row)\n",
    "    else:\n",
    "        tasks = [process_row(i, row) for i, row in enumerate(dataset)]\n",
    "        await asyncio.gather(*tasks)\n",
    "\n",
    "    progress_bar.close()\n",
    "    df = pl.DataFrame(results)\n",
    "    return df\n",
    "\n",
    "\n",
    "async def perform_eval_async(dataset: Dataset, scoring_func, max_tokens=2096):\n",
    "    tasks = [\n",
    "        _eval_model(model_name, client, dataset, scoring_func, max_tokens)\n",
    "        for model_name, client in models.items()\n",
    "    ]\n",
    "    results = await asyncio.gather(*tasks)\n",
    "    return pl.concat(results)\n",
    "\n",
    "\n",
    "def get_score_grammar_func(*args, **kwargs):\n",
    "    comparator = TaggedTextComparison(*args, **(dict(max_position_deviation=2, ignore_additional_tags=False) | kwargs))\n",
    "\n",
    "    def score_grammar(row, generated_text):\n",
    "        reference_text = TaggedText(row[\"output\"])\n",
    "        proposed_text = TaggedText(generated_text)\n",
    "        return comparator.compute_accuracy_score(reference_text, proposed_text)\n",
    "\n",
    "    return score_grammar\n",
    "\n",
    "\n",
    "def score_q_and_a_func(row, generated_text):\n",
    "    reference_text = row[\"output\"]\n",
    "    similarity_ratio = SequenceMatcher(None, reference_text, generated_text).ratio()\n",
    "    return similarity_ratio"
   ],
   "outputs": [],
   "execution_count": 19
  },
  {
   "metadata": {
    "ExecuteTime": {
     "end_time": "2024-09-13T10:14:23.177311Z",
     "start_time": "2024-09-13T10:14:23.173445Z"
    }
   },
   "cell_type": "code",
   "source": [
    "def calc_stats(df):\n",
    "    accuracy_df = df.group_by(['model', 'dataset_type']).agg([\n",
    "            (pl.col('accuracy').sum() / pl.len()).alias('accuracy')\n",
    "        ])\n",
    "    pivot_df = (\n",
    "        accuracy_df.pivot(\n",
    "            values='accuracy',\n",
    "            index='model',\n",
    "            columns='dataset_type'\n",
    "        )\n",
    "    )\n",
    "    \n",
    "    col_means = pivot_df.select(pl.all().exclude('model')).mean_horizontal()\n",
    "    pivot_df = pivot_df.with_columns(mean=col_means)\n",
    "    \n",
    "    row_means = pivot_df.select(pl.all().exclude('model')).mean()\n",
    "    row_means = row_means.with_columns(model=pl.lit('mean')).select(pivot_df.columns)\n",
    "    return pl.concat([pivot_df, row_means])"
   ],
   "id": "f4f9a8cd43cd59f",
   "outputs": [],
   "execution_count": 55
  },
  {
   "metadata": {},
   "cell_type": "code",
   "outputs": [
    {
     "data": {
      "text/plain": [
       "dict_keys(['microsoft/Phi-3.5-mini-instruct', 'ostapbodnar/Phi3.5-mini-instruct-UA-qlora', 'ostapbodnar/Phi3.5-mini-instruct-UA-lora-unsloth-artificial', 'ostapbodnar/Phi3.5-mini-instruct-UA-lora-unsloth-mixed', 'ft:gpt-4o-mini-2024-07-18:personal::A6RBdxHu', 'gpt-4o-mini', 'gpt-4o'])"
      ]
     },
     "execution_count": 20,
     "metadata": {},
     "output_type": "execute_result"
    }
   ],
   "execution_count": 20,
   "source": "models.keys()",
   "id": "6b9740591eadac88"
  },
  {
   "metadata": {},
   "cell_type": "code",
   "outputs": [
    {
     "name": "stdout",
     "output_type": "stream",
     "text": [
      "Evaluation of microsoft/Phi-3.5-mini-instruct\n"
     ]
    },
    {
     "data": {
      "text/plain": [
       "Evaluating microsoft/Phi-3.5-mini-instruct:   0%|          | 0/10 [00:00<?, ?it/s]"
      ],
      "application/vnd.jupyter.widget-view+json": {
       "version_major": 2,
       "version_minor": 0,
       "model_id": "1f3ea198dff74ba09f00669cb2db4dbb"
      }
     },
     "metadata": {},
     "output_type": "display_data"
    },
    {
     "name": "stdout",
     "output_type": "stream",
     "text": [
      "Evaluation of ostapbodnar/Phi3.5-mini-instruct-UA-qlora\n"
     ]
    },
    {
     "data": {
      "text/plain": [
       "Evaluating ostapbodnar/Phi3.5-mini-instruct-UA-qlora:   0%|          | 0/10 [00:00<?, ?it/s]"
      ],
      "application/vnd.jupyter.widget-view+json": {
       "version_major": 2,
       "version_minor": 0,
       "model_id": "6325e261b72743efa73c62ce92c79a1a"
      }
     },
     "metadata": {},
     "output_type": "display_data"
    },
    {
     "name": "stdout",
     "output_type": "stream",
     "text": [
      "Evaluation of ostapbodnar/Phi3.5-mini-instruct-UA-lora-unsloth-artificial\n"
     ]
    },
    {
     "data": {
      "text/plain": [
       "Evaluating ostapbodnar/Phi3.5-mini-instruct-UA-lora-unsloth-artificial:   0%|          | 0/10 [00:00<?, ?it/s]"
      ],
      "application/vnd.jupyter.widget-view+json": {
       "version_major": 2,
       "version_minor": 0,
       "model_id": "b79c99b9a3d6466492b808acf4041ff3"
      }
     },
     "metadata": {},
     "output_type": "display_data"
    },
    {
     "name": "stdout",
     "output_type": "stream",
     "text": [
      "Evaluation of ostapbodnar/Phi3.5-mini-instruct-UA-lora-unsloth-mixed\n"
     ]
    },
    {
     "data": {
      "text/plain": [
       "Evaluating ostapbodnar/Phi3.5-mini-instruct-UA-lora-unsloth-mixed:   0%|          | 0/10 [00:00<?, ?it/s]"
      ],
      "application/vnd.jupyter.widget-view+json": {
       "version_major": 2,
       "version_minor": 0,
       "model_id": "6ee6e29e572b44229e5303b374dabb0d"
      }
     },
     "metadata": {},
     "output_type": "display_data"
    },
    {
     "name": "stdout",
     "output_type": "stream",
     "text": [
      "Evaluation of ft:gpt-4o-mini-2024-07-18:personal::A6RBdxHu\n"
     ]
    },
    {
     "data": {
      "text/plain": [
       "Evaluating ft:gpt-4o-mini-2024-07-18:personal::A6RBdxHu:   0%|          | 0/10 [00:00<?, ?it/s]"
      ],
      "application/vnd.jupyter.widget-view+json": {
       "version_major": 2,
       "version_minor": 0,
       "model_id": "1123f0098bc348e5b8f9c6a801c52702"
      }
     },
     "metadata": {},
     "output_type": "display_data"
    },
    {
     "name": "stdout",
     "output_type": "stream",
     "text": [
      "Evaluation of gpt-4o-mini\n"
     ]
    },
    {
     "data": {
      "text/plain": [
       "Evaluating gpt-4o-mini:   0%|          | 0/10 [00:00<?, ?it/s]"
      ],
      "application/vnd.jupyter.widget-view+json": {
       "version_major": 2,
       "version_minor": 0,
       "model_id": "10c60afffb8143efa1b8bd36b2306b7d"
      }
     },
     "metadata": {},
     "output_type": "display_data"
    },
    {
     "name": "stdout",
     "output_type": "stream",
     "text": [
      "Evaluation of gpt-4o\n"
     ]
    },
    {
     "data": {
      "text/plain": [
       "Evaluating gpt-4o:   0%|          | 0/10 [00:00<?, ?it/s]"
      ],
      "application/vnd.jupyter.widget-view+json": {
       "version_major": 2,
       "version_minor": 0,
       "model_id": "c9f1640a08ce4920ba4c1d136613cb5f"
      }
     },
     "metadata": {},
     "output_type": "display_data"
    },
    {
     "name": "stdout",
     "output_type": "stream",
     "text": [
      "422, message='Unprocessable Entity', url='https://it7s4lcu4sy306c2.eu-west-1.aws.endpoints.huggingface.cloud/v1/chat/completions'\n",
      "`text` must be string, not <class 'NoneType'>\n",
      "422, message='Unprocessable Entity', url='https://kg2x3u556icag7u2.eu-west-1.aws.endpoints.huggingface.cloud/v1/chat/completions'\n",
      "`text` must be string, not <class 'NoneType'>\n",
      "422, message='Unprocessable Entity', url='https://jo64cpqkvayl7daj.us-east-1.aws.endpoints.huggingface.cloud/v1/chat/completions'\n",
      "`text` must be string, not <class 'NoneType'>\n",
      "422, message='Unprocessable Entity', url='https://jnovl897uj1glqgn.us-east-1.aws.endpoints.huggingface.cloud/v1/chat/completions'\n",
      "`text` must be string, not <class 'NoneType'>\n"
     ]
    },
    {
     "data": {
      "text/plain": [
       "shape: (70, 6)\n",
       "┌─────────────────┬─────────────────┬─────────────────┬────────────────┬────────────────┬──────────┐\n",
       "│ model           ┆ input           ┆ output          ┆ generated_outp ┆ dataset_type   ┆ accuracy │\n",
       "│ ---             ┆ ---             ┆ ---             ┆ ut             ┆ ---            ┆ ---      │\n",
       "│ str             ┆ str             ┆ str             ┆ ---            ┆ str            ┆ f64      │\n",
       "│                 ┆                 ┆                 ┆ str            ┆                ┆          │\n",
       "╞═════════════════╪═════════════════╪═════════════════╪════════════════╪════════════════╪══════════╡\n",
       "│ microsoft/Phi-3 ┆ Використай      ┆ <p t=\"X\">уничто ┆ <g ed=\"G/Case\" ┆ PapersDataset  ┆ 0.005952 │\n",
       "│ .5-mini-instruc ┆ наведені нижче  ┆ жены</p> <p     ┆ et=\"Тип        ┆                ┆          │\n",
       "│ …               ┆ інст…           ┆ t=\"…            ┆ помилки…       ┆                ┆          │\n",
       "│ microsoft/Phi-3 ┆ Використай      ┆ <p t=\"ADJ\">Опер ┆ <g ed=\"G/Case\" ┆ PapersDataset  ┆ 0.004587 │\n",
       "│ .5-mini-instruc ┆ наведені нижче  ┆ ативная</p> <p  ┆ et=\"Тип        ┆                ┆          │\n",
       "│ …               ┆ інст…           ┆ …               ┆ помилки…       ┆                ┆          │\n",
       "│ microsoft/Phi-3 ┆ Використай      ┆ <p t=\"NOUN\">Рок ┆ <g ed=\"G/Case\" ┆ PapersDataset  ┆ 0.0      │\n",
       "│ .5-mini-instruc ┆ наведені нижче  ┆ у</p> <p        ┆ et=\"Тип        ┆                ┆          │\n",
       "│ …               ┆ інст…           ┆ t=\"ADJ…         ┆ помилки…       ┆                ┆          │\n",
       "│ microsoft/Phi-3 ┆ Використай      ┆ <g ed=\".\"       ┆ <g ed=\"G/Date\" ┆ PapersDataset  ┆ 0.0      │\n",
       "│ .5-mini-instruc ┆ наведені нижче  ┆ et=\"G/Case\"><p  ┆ et=\"Тип        ┆                ┆          │\n",
       "│ …               ┆ інст…           ┆ t=\"PU…          ┆ помилки…       ┆                ┆          │\n",
       "│ microsoft/Phi-3 ┆ null            ┆ <p              ┆ null           ┆ PapersDataset  ┆ null     │\n",
       "│ .5-mini-instruc ┆                 ┆ t=\"X\">Ɍɚɤɢɦ</p> ┆                ┆                ┆          │\n",
       "│ …               ┆                 ┆ <p t=\"X\">ɱɢ…    ┆                ┆                ┆          │\n",
       "│ …               ┆ …               ┆ …               ┆ …              ┆ …              ┆ …        │\n",
       "│ gpt-4o          ┆ Використай      ┆ <p t=\"ADJ\">Моти ┆ Мотивувальна   ┆ UbertextV2Data ┆ 0.009375 │\n",
       "│                 ┆ наведені нижче  ┆ вувальна</p>    ┆ частина <n     ┆ set            ┆          │\n",
       "│                 ┆ інст…           ┆ <p…             ┆ t=\"ORG…        ┆                ┆          │\n",
       "│ gpt-4o          ┆ Використай      ┆ <p t=\"NOUN\">Тре ┆ Тренінг в      ┆ PapersDataset  ┆ 0.0      │\n",
       "│                 ┆ наведені нижче  ┆ нинг</p> <p     ┆ сучасній <g    ┆                ┆          │\n",
       "│                 ┆ інст…           ┆ t=\"…            ┆ ed=\"літе…      ┆                ┆          │\n",
       "│ gpt-4o          ┆ Використай      ┆ <p t=\"NOUN\">Спі ┆ Співробітники  ┆ UbertextV2Data ┆ 0.0      │\n",
       "│                 ┆ наведені нижче  ┆ вробітники</p>  ┆ <n             ┆ set            ┆          │\n",
       "│                 ┆ інст…           ┆ …               ┆ t=\"LOC\">Вінни… ┆                ┆          │\n",
       "│ gpt-4o          ┆ Використай      ┆ <p t=\"ADV\">Сьог ┆ Сьогодні ці    ┆ PapersDataset  ┆ 0.006024 │\n",
       "│                 ┆ наведені нижче  ┆ одні</p> <p     ┆ ідеї           ┆                ┆          │\n",
       "│                 ┆ інст…           ┆ t=\"…            ┆ використання … ┆                ┆          │\n",
       "│ gpt-4o          ┆ Використай      ┆ <p t=\"ADJ\">Перш ┆ Першого <n t=\" ┆ UbertextV2Data ┆ 0.006849 │\n",
       "│                 ┆ наведені нижче  ┆ ого</p> <p      ┆ DATE\">липня</n ┆ set            ┆          │\n",
       "│                 ┆ інст…           ┆ t=\"N…           ┆ > …            ┆                ┆          │\n",
       "└─────────────────┴─────────────────┴─────────────────┴────────────────┴────────────────┴──────────┘"
      ],
      "text/html": [
       "<div><style>\n",
       ".dataframe > thead > tr,\n",
       ".dataframe > tbody > tr {\n",
       "  text-align: right;\n",
       "  white-space: pre-wrap;\n",
       "}\n",
       "</style>\n",
       "<small>shape: (70, 6)</small><table border=\"1\" class=\"dataframe\"><thead><tr><th>model</th><th>input</th><th>output</th><th>generated_output</th><th>dataset_type</th><th>accuracy</th></tr><tr><td>str</td><td>str</td><td>str</td><td>str</td><td>str</td><td>f64</td></tr></thead><tbody><tr><td>&quot;microsoft/Phi-3.5-mini-instruc…</td><td>&quot;Використай наведені нижче інст…</td><td>&quot;&lt;p t=&quot;X&quot;&gt;уничтожены&lt;/p&gt; &lt;p t=&quot;…</td><td>&quot;&lt;g ed=&quot;G/Case&quot; et=&quot;Тип помилки…</td><td>&quot;PapersDataset&quot;</td><td>0.005952</td></tr><tr><td>&quot;microsoft/Phi-3.5-mini-instruc…</td><td>&quot;Використай наведені нижче інст…</td><td>&quot;&lt;p t=&quot;ADJ&quot;&gt;Оперативная&lt;/p&gt; &lt;p …</td><td>&quot;&lt;g ed=&quot;G/Case&quot; et=&quot;Тип помилки…</td><td>&quot;PapersDataset&quot;</td><td>0.004587</td></tr><tr><td>&quot;microsoft/Phi-3.5-mini-instruc…</td><td>&quot;Використай наведені нижче інст…</td><td>&quot;&lt;p t=&quot;NOUN&quot;&gt;Року&lt;/p&gt; &lt;p t=&quot;ADJ…</td><td>&quot;&lt;g ed=&quot;G/Case&quot; et=&quot;Тип помилки…</td><td>&quot;PapersDataset&quot;</td><td>0.0</td></tr><tr><td>&quot;microsoft/Phi-3.5-mini-instruc…</td><td>&quot;Використай наведені нижче інст…</td><td>&quot;&lt;g ed=&quot;.&quot; et=&quot;G/Case&quot;&gt;&lt;p t=&quot;PU…</td><td>&quot;&lt;g ed=&quot;G/Date&quot; et=&quot;Тип помилки…</td><td>&quot;PapersDataset&quot;</td><td>0.0</td></tr><tr><td>&quot;microsoft/Phi-3.5-mini-instruc…</td><td>null</td><td>&quot;&lt;p t=&quot;X&quot;&gt;Ɍɚɤɢɦ&lt;/p&gt; &lt;p t=&quot;X&quot;&gt;ɱɢ…</td><td>null</td><td>&quot;PapersDataset&quot;</td><td>null</td></tr><tr><td>&hellip;</td><td>&hellip;</td><td>&hellip;</td><td>&hellip;</td><td>&hellip;</td><td>&hellip;</td></tr><tr><td>&quot;gpt-4o&quot;</td><td>&quot;Використай наведені нижче інст…</td><td>&quot;&lt;p t=&quot;ADJ&quot;&gt;Мотивувальна&lt;/p&gt; &lt;p…</td><td>&quot;Мотивувальна частина &lt;n t=&quot;ORG…</td><td>&quot;UbertextV2Dataset&quot;</td><td>0.009375</td></tr><tr><td>&quot;gpt-4o&quot;</td><td>&quot;Використай наведені нижче інст…</td><td>&quot;&lt;p t=&quot;NOUN&quot;&gt;Тренинг&lt;/p&gt; &lt;p t=&quot;…</td><td>&quot;Тренінг в сучасній &lt;g ed=&quot;літе…</td><td>&quot;PapersDataset&quot;</td><td>0.0</td></tr><tr><td>&quot;gpt-4o&quot;</td><td>&quot;Використай наведені нижче інст…</td><td>&quot;&lt;p t=&quot;NOUN&quot;&gt;Співробітники&lt;/p&gt; …</td><td>&quot;Співробітники &lt;n t=&quot;LOC&quot;&gt;Вінни…</td><td>&quot;UbertextV2Dataset&quot;</td><td>0.0</td></tr><tr><td>&quot;gpt-4o&quot;</td><td>&quot;Використай наведені нижче інст…</td><td>&quot;&lt;p t=&quot;ADV&quot;&gt;Сьогодні&lt;/p&gt; &lt;p t=&quot;…</td><td>&quot;Сьогодні ці ідеї використання …</td><td>&quot;PapersDataset&quot;</td><td>0.006024</td></tr><tr><td>&quot;gpt-4o&quot;</td><td>&quot;Використай наведені нижче інст…</td><td>&quot;&lt;p t=&quot;ADJ&quot;&gt;Першого&lt;/p&gt; &lt;p t=&quot;N…</td><td>&quot;Першого &lt;n t=&quot;DATE&quot;&gt;липня&lt;/n&gt; …</td><td>&quot;UbertextV2Dataset&quot;</td><td>0.006849</td></tr></tbody></table></div>"
      ]
     },
     "execution_count": 21,
     "metadata": {},
     "output_type": "execute_result"
    }
   ],
   "execution_count": 21,
   "source": [
    "artificial_results = await perform_eval_async(artificial_ds.shuffle(seed=42).select(range(10)),\n",
    "                                              get_score_grammar_func())\n",
    "artificial_results.write_csv(\"artificial_scores.csv\")\n",
    "artificial_results"
   ],
   "id": "26d5dc039a565e54"
  },
  {
   "metadata": {
    "ExecuteTime": {
     "end_time": "2024-09-13T10:14:33.840993Z",
     "start_time": "2024-09-13T10:14:33.833144Z"
    }
   },
   "cell_type": "code",
   "source": "calc_stats(artificial_results)",
   "id": "f7506e0d-95bc-4e73-a68d-d22da5d0a59f",
   "outputs": [
    {
     "name": "stderr",
     "output_type": "stream",
     "text": [
      "/var/folders/mq/lvh6fs2s70vffqwr4lz5sy240000gn/T/ipykernel_44811/3406399673.py:6: DeprecationWarning: The argument `columns` for `DataFrame.pivot` is deprecated. It has been renamed to `on`.\n",
      "  accuracy_df.pivot(\n"
     ]
    },
    {
     "data": {
      "text/plain": [
       "shape: (8, 4)\n",
       "┌─────────────────────────────────┬───────────────┬───────────────────┬──────────┐\n",
       "│ model                           ┆ PapersDataset ┆ UbertextV2Dataset ┆ mean     │\n",
       "│ ---                             ┆ ---           ┆ ---               ┆ ---      │\n",
       "│ str                             ┆ f64           ┆ f64               ┆ f64      │\n",
       "╞═════════════════════════════════╪═══════════════╪═══════════════════╪══════════╡\n",
       "│ gpt-4o                          ┆ 0.004325      ┆ 0.005408          ┆ 0.004867 │\n",
       "│ ft:gpt-4o-mini-2024-07-18:pers… ┆ 0.0061        ┆ 0.003805          ┆ 0.004953 │\n",
       "│ ostapbodnar/Phi3.5-mini-instru… ┆ 0.092747      ┆ 0.130036          ┆ 0.111391 │\n",
       "│ ostapbodnar/Phi3.5-mini-instru… ┆ 0.111426      ┆ 0.101297          ┆ 0.106362 │\n",
       "│ microsoft/Phi-3.5-mini-instruc… ┆ 0.002009      ┆ 0.000963          ┆ 0.001486 │\n",
       "│ ostapbodnar/Phi3.5-mini-instru… ┆ 0.0           ┆ 0.000761          ┆ 0.000381 │\n",
       "│ gpt-4o-mini                     ┆ 0.001311      ┆ 0.0               ┆ 0.000655 │\n",
       "│ mean                            ┆ 0.031131      ┆ 0.03461           ┆ 0.032871 │\n",
       "└─────────────────────────────────┴───────────────┴───────────────────┴──────────┘"
      ],
      "text/html": [
       "<div><style>\n",
       ".dataframe > thead > tr,\n",
       ".dataframe > tbody > tr {\n",
       "  text-align: right;\n",
       "  white-space: pre-wrap;\n",
       "}\n",
       "</style>\n",
       "<small>shape: (8, 4)</small><table border=\"1\" class=\"dataframe\"><thead><tr><th>model</th><th>PapersDataset</th><th>UbertextV2Dataset</th><th>mean</th></tr><tr><td>str</td><td>f64</td><td>f64</td><td>f64</td></tr></thead><tbody><tr><td>&quot;gpt-4o&quot;</td><td>0.004325</td><td>0.005408</td><td>0.004867</td></tr><tr><td>&quot;ft:gpt-4o-mini-2024-07-18:pers…</td><td>0.0061</td><td>0.003805</td><td>0.004953</td></tr><tr><td>&quot;ostapbodnar/Phi3.5-mini-instru…</td><td>0.092747</td><td>0.130036</td><td>0.111391</td></tr><tr><td>&quot;ostapbodnar/Phi3.5-mini-instru…</td><td>0.111426</td><td>0.101297</td><td>0.106362</td></tr><tr><td>&quot;microsoft/Phi-3.5-mini-instruc…</td><td>0.002009</td><td>0.000963</td><td>0.001486</td></tr><tr><td>&quot;ostapbodnar/Phi3.5-mini-instru…</td><td>0.0</td><td>0.000761</td><td>0.000381</td></tr><tr><td>&quot;gpt-4o-mini&quot;</td><td>0.001311</td><td>0.0</td><td>0.000655</td></tr><tr><td>&quot;mean&quot;</td><td>0.031131</td><td>0.03461</td><td>0.032871</td></tr></tbody></table></div>"
      ]
     },
     "execution_count": 56,
     "metadata": {},
     "output_type": "execute_result"
    }
   ],
   "execution_count": 56
  },
  {
   "cell_type": "code",
   "id": "dd2b4decc97bed84",
   "metadata": {
    "ExecuteTime": {
     "end_time": "2024-09-13T09:35:04.352364Z",
     "start_time": "2024-09-13T09:31:57.586612Z"
    }
   },
   "source": [
    "golden_grammar_results = await perform_eval_async(golden_ds_tag.shuffle(seed=42).select(range(10)),\n",
    "                                                  get_score_grammar_func())\n",
    "golden_grammar_results.write_csv(\"golden_grammar_results_scores.csv\")\n",
    "golden_grammar_results"
   ],
   "outputs": [
    {
     "name": "stdout",
     "output_type": "stream",
     "text": [
      "Evaluation of microsoft/Phi-3.5-mini-instruct\n"
     ]
    },
    {
     "data": {
      "text/plain": [
       "Evaluating microsoft/Phi-3.5-mini-instruct:   0%|          | 0/10 [00:00<?, ?it/s]"
      ],
      "application/vnd.jupyter.widget-view+json": {
       "version_major": 2,
       "version_minor": 0,
       "model_id": "827f548c65ed479c89045dc30df7e14e"
      }
     },
     "metadata": {},
     "output_type": "display_data"
    },
    {
     "name": "stdout",
     "output_type": "stream",
     "text": [
      "Evaluation of ostapbodnar/Phi3.5-mini-instruct-UA-qlora\n"
     ]
    },
    {
     "data": {
      "text/plain": [
       "Evaluating ostapbodnar/Phi3.5-mini-instruct-UA-qlora:   0%|          | 0/10 [00:00<?, ?it/s]"
      ],
      "application/vnd.jupyter.widget-view+json": {
       "version_major": 2,
       "version_minor": 0,
       "model_id": "ad0d26b20e8443d2b21b4ec53d711ed6"
      }
     },
     "metadata": {},
     "output_type": "display_data"
    },
    {
     "name": "stdout",
     "output_type": "stream",
     "text": [
      "Evaluation of ostapbodnar/Phi3.5-mini-instruct-UA-lora-unsloth-artificial\n"
     ]
    },
    {
     "data": {
      "text/plain": [
       "Evaluating ostapbodnar/Phi3.5-mini-instruct-UA-lora-unsloth-artificial:   0%|          | 0/10 [00:00<?, ?it/s]"
      ],
      "application/vnd.jupyter.widget-view+json": {
       "version_major": 2,
       "version_minor": 0,
       "model_id": "6a86c51467ba4e198460f82310bdd24a"
      }
     },
     "metadata": {},
     "output_type": "display_data"
    },
    {
     "name": "stdout",
     "output_type": "stream",
     "text": [
      "Evaluation of ostapbodnar/Phi3.5-mini-instruct-UA-lora-unsloth-mixed\n"
     ]
    },
    {
     "data": {
      "text/plain": [
       "Evaluating ostapbodnar/Phi3.5-mini-instruct-UA-lora-unsloth-mixed:   0%|          | 0/10 [00:00<?, ?it/s]"
      ],
      "application/vnd.jupyter.widget-view+json": {
       "version_major": 2,
       "version_minor": 0,
       "model_id": "42d3306264c340c8b50e879829818752"
      }
     },
     "metadata": {},
     "output_type": "display_data"
    },
    {
     "name": "stdout",
     "output_type": "stream",
     "text": [
      "Evaluation of ft:gpt-4o-mini-2024-07-18:personal::A6RBdxHu\n"
     ]
    },
    {
     "data": {
      "text/plain": [
       "Evaluating ft:gpt-4o-mini-2024-07-18:personal::A6RBdxHu:   0%|          | 0/10 [00:00<?, ?it/s]"
      ],
      "application/vnd.jupyter.widget-view+json": {
       "version_major": 2,
       "version_minor": 0,
       "model_id": "cdfcd8d7a8154e1a84556cc429a03abc"
      }
     },
     "metadata": {},
     "output_type": "display_data"
    },
    {
     "name": "stdout",
     "output_type": "stream",
     "text": [
      "Evaluation of gpt-4o-mini\n"
     ]
    },
    {
     "data": {
      "text/plain": [
       "Evaluating gpt-4o-mini:   0%|          | 0/10 [00:00<?, ?it/s]"
      ],
      "application/vnd.jupyter.widget-view+json": {
       "version_major": 2,
       "version_minor": 0,
       "model_id": "2a6740a6901740299efcf85f8fed1720"
      }
     },
     "metadata": {},
     "output_type": "display_data"
    },
    {
     "name": "stdout",
     "output_type": "stream",
     "text": [
      "Evaluation of gpt-4o\n"
     ]
    },
    {
     "data": {
      "text/plain": [
       "Evaluating gpt-4o:   0%|          | 0/10 [00:00<?, ?it/s]"
      ],
      "application/vnd.jupyter.widget-view+json": {
       "version_major": 2,
       "version_minor": 0,
       "model_id": "876c9f940be340fdb6763a80616b5cb7"
      }
     },
     "metadata": {},
     "output_type": "display_data"
    },
    {
     "data": {
      "text/plain": [
       "shape: (70, 6)\n",
       "┌─────────────────┬─────────────────┬─────────────────┬────────────────┬────────────────┬──────────┐\n",
       "│ model           ┆ input           ┆ output          ┆ generated_outp ┆ dataset_type   ┆ accuracy │\n",
       "│ ---             ┆ ---             ┆ ---             ┆ ut             ┆ ---            ┆ ---      │\n",
       "│ str             ┆ str             ┆ str             ┆ ---            ┆ str            ┆ f64      │\n",
       "│                 ┆                 ┆                 ┆ str            ┆                ┆          │\n",
       "╞═════════════════╪═════════════════╪═════════════════╪════════════════╪════════════════╪══════════╡\n",
       "│ microsoft/Phi-3 ┆ Визнач частину  ┆ <p t=\"VERB\">Заг ┆ `<p t=\"VERB\">З ┆ MovaInstPosDat ┆ 0.833333 │\n",
       "│ .5-mini-instruc ┆ мови для        ┆ лянула</p> <p   ┆ аглянула</p>   ┆ aset           ┆          │\n",
       "│ …               ┆ кожног…         ┆ t…              ┆ <p …           ┆                ┆          │\n",
       "│ microsoft/Phi-3 ┆ Виправ          ┆ Варто згадати,  ┆ <g ed=\"Prep\"   ┆ UaGecDataset   ┆ 0.0      │\n",
       "│ .5-mini-instruc ┆ граматичні      ┆ що цей період … ┆ et=\"G/Prep\">су ┆                ┆          │\n",
       "│ …               ┆ помилки в по…   ┆                 ┆ про…           ┆                ┆          │\n",
       "│ microsoft/Phi-3 ┆ Виправ          ┆ Льоня відірвав  ┆ <g ed=\"D/Prep\" ┆ UaGecDataset   ┆ 0.0      │\n",
       "│ .5-mini-instruc ┆ граматичні      ┆ очі від стелі   ┆ et=\"Grammar\">Л ┆                ┆          │\n",
       "│ …               ┆ помилки в по…   ┆ і…              ┆ о…             ┆                ┆          │\n",
       "│ microsoft/Phi-3 ┆ Визнач частину  ┆ <p              ┆ `<p t=\"PREP\">Н ┆ MovaInstPosDat ┆ 0.5      │\n",
       "│ .5-mini-instruc ┆ мови для        ┆ t=\"PART\">Не</p> ┆ е</p> <p       ┆ aset           ┆          │\n",
       "│ …               ┆ кожног…         ┆ <p t=\"NOUN\"…    ┆ t=\"PART…       ┆                ┆          │\n",
       "│ microsoft/Phi-3 ┆ Виправ          ┆ Якщо <g ed=\"в   ┆ <g ed=\"Punctua ┆ UaGecDataset   ┆ 0.0      │\n",
       "│ .5-mini-instruc ┆ граматичні      ┆ заняттях\"       ┆ tion\"          ┆                ┆          │\n",
       "│ …               ┆ помилки в по…   ┆ et=\"G/…         ┆ et=\"Punctu…    ┆                ┆          │\n",
       "│ …               ┆ …               ┆ …               ┆ …              ┆ …              ┆ …        │\n",
       "│ gpt-4o          ┆ Визнач частину  ┆ <p t=\"NOUN\">Пос ┆ <p t=\"NOUN\">По ┆ MovaInstPosDat ┆ 0.195652 │\n",
       "│                 ┆ мови для        ┆ ол</p> <p       ┆ сол</p> <p     ┆ aset           ┆          │\n",
       "│                 ┆ кожног…         ┆ t=\"PR…          ┆ t=\"NO…         ┆                ┆          │\n",
       "│ gpt-4o          ┆ Визнач частину  ┆ <p t=\"NOUN\">Худ ┆ <p t=\"NOUN\">Ху ┆ MovaInstPosDat ┆ 0.07377  │\n",
       "│                 ┆ мови для        ┆ ожник</p> <p    ┆ дожник</p> <p  ┆ aset           ┆          │\n",
       "│                 ┆ кожног…         ┆ t=…             ┆ t=…            ┆                ┆          │\n",
       "│ gpt-4o          ┆ Визнач частину  ┆ <p t=\"INTJ\">Блі ┆ <p t=\"NOUN\">Бл ┆ MovaInstPosDat ┆ 0.75     │\n",
       "│                 ┆ мови для        ┆ на</p> <p       ┆ іна</p> <p     ┆ aset           ┆          │\n",
       "│                 ┆ кожног…         ┆ t=\"PU…          ┆ t=\"PU…         ┆                ┆          │\n",
       "│ gpt-4o          ┆ Виправ          ┆ — Свіські       ┆ — <g           ┆ UaGecDataset   ┆ 0.0      │\n",
       "│                 ┆ граматичні      ┆ сірники! <g     ┆ ed=\"Сільські\"  ┆                ┆          │\n",
       "│                 ┆ помилки в по…   ┆ ed=\"О\" e…       ┆ et=\"Spellin…   ┆                ┆          │\n",
       "│ gpt-4o          ┆ Визнач частину  ┆ <p              ┆ <p t=\"PART\">Ну ┆ MovaInstPosDat ┆ 0.363636 │\n",
       "│                 ┆ мови для        ┆ t=\"PART\">Ну</p> ┆ </p> <p        ┆ aset           ┆          │\n",
       "│                 ┆ кожног…         ┆ <p t=\"PART\"…    ┆ t=\"ADV\">…      ┆                ┆          │\n",
       "└─────────────────┴─────────────────┴─────────────────┴────────────────┴────────────────┴──────────┘"
      ],
      "text/html": [
       "<div><style>\n",
       ".dataframe > thead > tr,\n",
       ".dataframe > tbody > tr {\n",
       "  text-align: right;\n",
       "  white-space: pre-wrap;\n",
       "}\n",
       "</style>\n",
       "<small>shape: (70, 6)</small><table border=\"1\" class=\"dataframe\"><thead><tr><th>model</th><th>input</th><th>output</th><th>generated_output</th><th>dataset_type</th><th>accuracy</th></tr><tr><td>str</td><td>str</td><td>str</td><td>str</td><td>str</td><td>f64</td></tr></thead><tbody><tr><td>&quot;microsoft/Phi-3.5-mini-instruc…</td><td>&quot;Визнач частину мови для кожног…</td><td>&quot;&lt;p t=&quot;VERB&quot;&gt;Заглянула&lt;/p&gt; &lt;p t…</td><td>&quot;`&lt;p t=&quot;VERB&quot;&gt;Заглянула&lt;/p&gt; &lt;p …</td><td>&quot;MovaInstPosDataset&quot;</td><td>0.833333</td></tr><tr><td>&quot;microsoft/Phi-3.5-mini-instruc…</td><td>&quot;Виправ граматичні помилки в по…</td><td>&quot; Варто згадати, що цей період …</td><td>&quot;&lt;g ed=&quot;Prep&quot; et=&quot;G/Prep&quot;&gt;супро…</td><td>&quot;UaGecDataset&quot;</td><td>0.0</td></tr><tr><td>&quot;microsoft/Phi-3.5-mini-instruc…</td><td>&quot;Виправ граматичні помилки в по…</td><td>&quot;Льоня відірвав очі від стелі і…</td><td>&quot;&lt;g ed=&quot;D/Prep&quot; et=&quot;Grammar&quot;&gt;Ло…</td><td>&quot;UaGecDataset&quot;</td><td>0.0</td></tr><tr><td>&quot;microsoft/Phi-3.5-mini-instruc…</td><td>&quot;Визнач частину мови для кожног…</td><td>&quot;&lt;p t=&quot;PART&quot;&gt;Не&lt;/p&gt; &lt;p t=&quot;NOUN&quot;…</td><td>&quot;`&lt;p t=&quot;PREP&quot;&gt;Не&lt;/p&gt; &lt;p t=&quot;PART…</td><td>&quot;MovaInstPosDataset&quot;</td><td>0.5</td></tr><tr><td>&quot;microsoft/Phi-3.5-mini-instruc…</td><td>&quot;Виправ граматичні помилки в по…</td><td>&quot;Якщо &lt;g ed=&quot;в заняттях&quot; et=&quot;G/…</td><td>&quot;&lt;g ed=&quot;Punctuation&quot; et=&quot;Punctu…</td><td>&quot;UaGecDataset&quot;</td><td>0.0</td></tr><tr><td>&hellip;</td><td>&hellip;</td><td>&hellip;</td><td>&hellip;</td><td>&hellip;</td><td>&hellip;</td></tr><tr><td>&quot;gpt-4o&quot;</td><td>&quot;Визнач частину мови для кожног…</td><td>&quot;&lt;p t=&quot;NOUN&quot;&gt;Посол&lt;/p&gt; &lt;p t=&quot;PR…</td><td>&quot;&lt;p t=&quot;NOUN&quot;&gt;Посол&lt;/p&gt; &lt;p t=&quot;NO…</td><td>&quot;MovaInstPosDataset&quot;</td><td>0.195652</td></tr><tr><td>&quot;gpt-4o&quot;</td><td>&quot;Визнач частину мови для кожног…</td><td>&quot;&lt;p t=&quot;NOUN&quot;&gt;Художник&lt;/p&gt; &lt;p t=…</td><td>&quot;&lt;p t=&quot;NOUN&quot;&gt;Художник&lt;/p&gt; &lt;p t=…</td><td>&quot;MovaInstPosDataset&quot;</td><td>0.07377</td></tr><tr><td>&quot;gpt-4o&quot;</td><td>&quot;Визнач частину мови для кожног…</td><td>&quot;&lt;p t=&quot;INTJ&quot;&gt;Бліна&lt;/p&gt; &lt;p t=&quot;PU…</td><td>&quot;&lt;p t=&quot;NOUN&quot;&gt;Бліна&lt;/p&gt; &lt;p t=&quot;PU…</td><td>&quot;MovaInstPosDataset&quot;</td><td>0.75</td></tr><tr><td>&quot;gpt-4o&quot;</td><td>&quot;Виправ граматичні помилки в по…</td><td>&quot;— Свіські сірники! &lt;g ed=&quot;О&quot; e…</td><td>&quot;— &lt;g ed=&quot;Сільські&quot; et=&quot;Spellin…</td><td>&quot;UaGecDataset&quot;</td><td>0.0</td></tr><tr><td>&quot;gpt-4o&quot;</td><td>&quot;Визнач частину мови для кожног…</td><td>&quot;&lt;p t=&quot;PART&quot;&gt;Ну&lt;/p&gt; &lt;p t=&quot;PART&quot;…</td><td>&quot;&lt;p t=&quot;PART&quot;&gt;Ну&lt;/p&gt; &lt;p t=&quot;ADV&quot;&gt;…</td><td>&quot;MovaInstPosDataset&quot;</td><td>0.363636</td></tr></tbody></table></div>"
      ]
     },
     "execution_count": 23,
     "metadata": {},
     "output_type": "execute_result"
    }
   ],
   "execution_count": 23
  },
  {
   "metadata": {
    "ExecuteTime": {
     "end_time": "2024-09-13T10:15:02.611293Z",
     "start_time": "2024-09-13T10:15:02.602043Z"
    }
   },
   "cell_type": "code",
   "source": "calc_stats(golden_grammar_results)",
   "id": "ffc4c9d2390f2cee",
   "outputs": [
    {
     "name": "stderr",
     "output_type": "stream",
     "text": [
      "/var/folders/mq/lvh6fs2s70vffqwr4lz5sy240000gn/T/ipykernel_44811/3406399673.py:6: DeprecationWarning: The argument `columns` for `DataFrame.pivot` is deprecated. It has been renamed to `on`.\n",
      "  accuracy_df.pivot(\n"
     ]
    },
    {
     "data": {
      "text/plain": [
       "shape: (8, 4)\n",
       "┌─────────────────────────────────┬──────────────┬────────────────────┬──────────┐\n",
       "│ model                           ┆ UaGecDataset ┆ MovaInstPosDataset ┆ mean     │\n",
       "│ ---                             ┆ ---          ┆ ---                ┆ ---      │\n",
       "│ str                             ┆ f64          ┆ f64                ┆ f64      │\n",
       "╞═════════════════════════════════╪══════════════╪════════════════════╪══════════╡\n",
       "│ ostapbodnar/Phi3.5-mini-instru… ┆ 0.0          ┆ 0.425              ┆ 0.2125   │\n",
       "│ ostapbodnar/Phi3.5-mini-instru… ┆ 0.0          ┆ 0.255601           ┆ 0.127801 │\n",
       "│ ostapbodnar/Phi3.5-mini-instru… ┆ 0.0          ┆ 0.0                ┆ 0.0      │\n",
       "│ gpt-4o                          ┆ 0.0          ┆ 0.549954           ┆ 0.274977 │\n",
       "│ gpt-4o-mini                     ┆ 0.007353     ┆ 0.524616           ┆ 0.265984 │\n",
       "│ microsoft/Phi-3.5-mini-instruc… ┆ 0.0          ┆ 0.473726           ┆ 0.236863 │\n",
       "│ ft:gpt-4o-mini-2024-07-18:pers… ┆ 0.044118     ┆ 0.298              ┆ 0.171059 │\n",
       "│ mean                            ┆ 0.007353     ┆ 0.360985           ┆ 0.184169 │\n",
       "└─────────────────────────────────┴──────────────┴────────────────────┴──────────┘"
      ],
      "text/html": [
       "<div><style>\n",
       ".dataframe > thead > tr,\n",
       ".dataframe > tbody > tr {\n",
       "  text-align: right;\n",
       "  white-space: pre-wrap;\n",
       "}\n",
       "</style>\n",
       "<small>shape: (8, 4)</small><table border=\"1\" class=\"dataframe\"><thead><tr><th>model</th><th>UaGecDataset</th><th>MovaInstPosDataset</th><th>mean</th></tr><tr><td>str</td><td>f64</td><td>f64</td><td>f64</td></tr></thead><tbody><tr><td>&quot;ostapbodnar/Phi3.5-mini-instru…</td><td>0.0</td><td>0.425</td><td>0.2125</td></tr><tr><td>&quot;ostapbodnar/Phi3.5-mini-instru…</td><td>0.0</td><td>0.255601</td><td>0.127801</td></tr><tr><td>&quot;ostapbodnar/Phi3.5-mini-instru…</td><td>0.0</td><td>0.0</td><td>0.0</td></tr><tr><td>&quot;gpt-4o&quot;</td><td>0.0</td><td>0.549954</td><td>0.274977</td></tr><tr><td>&quot;gpt-4o-mini&quot;</td><td>0.007353</td><td>0.524616</td><td>0.265984</td></tr><tr><td>&quot;microsoft/Phi-3.5-mini-instruc…</td><td>0.0</td><td>0.473726</td><td>0.236863</td></tr><tr><td>&quot;ft:gpt-4o-mini-2024-07-18:pers…</td><td>0.044118</td><td>0.298</td><td>0.171059</td></tr><tr><td>&quot;mean&quot;</td><td>0.007353</td><td>0.360985</td><td>0.184169</td></tr></tbody></table></div>"
      ]
     },
     "execution_count": 58,
     "metadata": {},
     "output_type": "execute_result"
    }
   ],
   "execution_count": 58
  },
  {
   "cell_type": "code",
   "id": "63175fd2e906c9a4",
   "metadata": {
    "ExecuteTime": {
     "end_time": "2024-09-13T10:16:08.576326Z",
     "start_time": "2024-09-13T10:15:58.491894Z"
    }
   },
   "source": [
    "golden_results = await perform_eval_async(golden_ds_class.shuffle(seed=42).select(range(10)), score_q_and_a_func, max_tokens=128)\n",
    "golden_results.write_csv(\"golden_q_and_a_scores.csv\")\n",
    "golden_results"
   ],
   "outputs": [
    {
     "name": "stdout",
     "output_type": "stream",
     "text": [
      "Evaluation of microsoft/Phi-3.5-mini-instruct\n"
     ]
    },
    {
     "data": {
      "text/plain": [
       "Evaluating microsoft/Phi-3.5-mini-instruct:   0%|          | 0/10 [00:00<?, ?it/s]"
      ],
      "application/vnd.jupyter.widget-view+json": {
       "version_major": 2,
       "version_minor": 0,
       "model_id": "0b00323c2c5d4029a8346704e921b86e"
      }
     },
     "metadata": {},
     "output_type": "display_data"
    },
    {
     "name": "stdout",
     "output_type": "stream",
     "text": [
      "Evaluation of ostapbodnar/Phi3.5-mini-instruct-UA-qlora\n"
     ]
    },
    {
     "data": {
      "text/plain": [
       "Evaluating ostapbodnar/Phi3.5-mini-instruct-UA-qlora:   0%|          | 0/10 [00:00<?, ?it/s]"
      ],
      "application/vnd.jupyter.widget-view+json": {
       "version_major": 2,
       "version_minor": 0,
       "model_id": "ea1151a5a17144cd8134f72046dd65ca"
      }
     },
     "metadata": {},
     "output_type": "display_data"
    },
    {
     "name": "stdout",
     "output_type": "stream",
     "text": [
      "Evaluation of ostapbodnar/Phi3.5-mini-instruct-UA-lora-unsloth-artificial\n"
     ]
    },
    {
     "data": {
      "text/plain": [
       "Evaluating ostapbodnar/Phi3.5-mini-instruct-UA-lora-unsloth-artificial:   0%|          | 0/10 [00:00<?, ?it/s]"
      ],
      "application/vnd.jupyter.widget-view+json": {
       "version_major": 2,
       "version_minor": 0,
       "model_id": "573918577a7e41e38ee28b2fdcda06f1"
      }
     },
     "metadata": {},
     "output_type": "display_data"
    },
    {
     "name": "stdout",
     "output_type": "stream",
     "text": [
      "Evaluation of ostapbodnar/Phi3.5-mini-instruct-UA-lora-unsloth-mixed\n"
     ]
    },
    {
     "data": {
      "text/plain": [
       "Evaluating ostapbodnar/Phi3.5-mini-instruct-UA-lora-unsloth-mixed:   0%|          | 0/10 [00:00<?, ?it/s]"
      ],
      "application/vnd.jupyter.widget-view+json": {
       "version_major": 2,
       "version_minor": 0,
       "model_id": "6173c796dbfd4fba948601a17187112e"
      }
     },
     "metadata": {},
     "output_type": "display_data"
    },
    {
     "name": "stdout",
     "output_type": "stream",
     "text": [
      "Evaluation of ft:gpt-4o-mini-2024-07-18:personal::A6RBdxHu\n"
     ]
    },
    {
     "data": {
      "text/plain": [
       "Evaluating ft:gpt-4o-mini-2024-07-18:personal::A6RBdxHu:   0%|          | 0/10 [00:00<?, ?it/s]"
      ],
      "application/vnd.jupyter.widget-view+json": {
       "version_major": 2,
       "version_minor": 0,
       "model_id": "295c7c2aa2ee47419b453100d362cc07"
      }
     },
     "metadata": {},
     "output_type": "display_data"
    },
    {
     "name": "stdout",
     "output_type": "stream",
     "text": [
      "Evaluation of gpt-4o-mini\n"
     ]
    },
    {
     "data": {
      "text/plain": [
       "Evaluating gpt-4o-mini:   0%|          | 0/10 [00:00<?, ?it/s]"
      ],
      "application/vnd.jupyter.widget-view+json": {
       "version_major": 2,
       "version_minor": 0,
       "model_id": "39c14d12478b46f5b89c493a0ceb4a6f"
      }
     },
     "metadata": {},
     "output_type": "display_data"
    },
    {
     "name": "stdout",
     "output_type": "stream",
     "text": [
      "Evaluation of gpt-4o\n"
     ]
    },
    {
     "data": {
      "text/plain": [
       "Evaluating gpt-4o:   0%|          | 0/10 [00:00<?, ?it/s]"
      ],
      "application/vnd.jupyter.widget-view+json": {
       "version_major": 2,
       "version_minor": 0,
       "model_id": "f525f697daea45dfba5d0e6daed6cd57"
      }
     },
     "metadata": {},
     "output_type": "display_data"
    },
    {
     "name": "stdout",
     "output_type": "stream",
     "text": [
      "400, message='Bad Request', url='https://it7s4lcu4sy306c2.eu-west-1.aws.endpoints.huggingface.cloud/v1/chat/completions'\n",
      "object of type 'NoneType' has no len()\n",
      "400, message='Bad Request', url='https://it7s4lcu4sy306c2.eu-west-1.aws.endpoints.huggingface.cloud/v1/chat/completions'\n",
      "object of type 'NoneType' has no len()\n",
      "400, message='Bad Request', url='https://it7s4lcu4sy306c2.eu-west-1.aws.endpoints.huggingface.cloud/v1/chat/completions'\n",
      "object of type 'NoneType' has no len()\n",
      "400, message='Bad Request', url='https://it7s4lcu4sy306c2.eu-west-1.aws.endpoints.huggingface.cloud/v1/chat/completions'\n",
      "object of type 'NoneType' has no len()\n",
      "400, message='Bad Request', url='https://it7s4lcu4sy306c2.eu-west-1.aws.endpoints.huggingface.cloud/v1/chat/completions'\n",
      "object of type 'NoneType' has no len()\n",
      "400, message='Bad Request', url='https://it7s4lcu4sy306c2.eu-west-1.aws.endpoints.huggingface.cloud/v1/chat/completions'\n",
      "object of type 'NoneType' has no len()\n",
      "400, message='Bad Request', url='https://it7s4lcu4sy306c2.eu-west-1.aws.endpoints.huggingface.cloud/v1/chat/completions'\n",
      "object of type 'NoneType' has no len()\n",
      "400, message='Bad Request', url='https://it7s4lcu4sy306c2.eu-west-1.aws.endpoints.huggingface.cloud/v1/chat/completions'\n",
      "object of type 'NoneType' has no len()\n",
      "400, message='Bad Request', url='https://it7s4lcu4sy306c2.eu-west-1.aws.endpoints.huggingface.cloud/v1/chat/completions'\n",
      "object of type 'NoneType' has no len()\n",
      "400, message='Bad Request', url='https://it7s4lcu4sy306c2.eu-west-1.aws.endpoints.huggingface.cloud/v1/chat/completions'\n",
      "object of type 'NoneType' has no len()\n",
      "400, message='Bad Request', url='https://kg2x3u556icag7u2.eu-west-1.aws.endpoints.huggingface.cloud/v1/chat/completions'\n",
      "object of type 'NoneType' has no len()\n",
      "400, message='Bad Request', url='https://kg2x3u556icag7u2.eu-west-1.aws.endpoints.huggingface.cloud/v1/chat/completions'\n",
      "object of type 'NoneType' has no len()\n",
      "400, message='Bad Request', url='https://kg2x3u556icag7u2.eu-west-1.aws.endpoints.huggingface.cloud/v1/chat/completions'\n",
      "object of type 'NoneType' has no len()\n",
      "400, message='Bad Request', url='https://kg2x3u556icag7u2.eu-west-1.aws.endpoints.huggingface.cloud/v1/chat/completions'\n",
      "object of type 'NoneType' has no len()\n",
      "400, message='Bad Request', url='https://kg2x3u556icag7u2.eu-west-1.aws.endpoints.huggingface.cloud/v1/chat/completions'\n",
      "object of type 'NoneType' has no len()\n",
      "400, message='Bad Request', url='https://kg2x3u556icag7u2.eu-west-1.aws.endpoints.huggingface.cloud/v1/chat/completions'\n",
      "object of type 'NoneType' has no len()\n",
      "400, message='Bad Request', url='https://kg2x3u556icag7u2.eu-west-1.aws.endpoints.huggingface.cloud/v1/chat/completions'\n",
      "object of type 'NoneType' has no len()\n",
      "400, message='Bad Request', url='https://kg2x3u556icag7u2.eu-west-1.aws.endpoints.huggingface.cloud/v1/chat/completions'\n",
      "object of type 'NoneType' has no len()\n",
      "400, message='Bad Request', url='https://kg2x3u556icag7u2.eu-west-1.aws.endpoints.huggingface.cloud/v1/chat/completions'\n",
      "object of type 'NoneType' has no len()\n",
      "400, message='Bad Request', url='https://kg2x3u556icag7u2.eu-west-1.aws.endpoints.huggingface.cloud/v1/chat/completions'\n",
      "object of type 'NoneType' has no len()\n",
      "400, message='Bad Request', url='https://jo64cpqkvayl7daj.us-east-1.aws.endpoints.huggingface.cloud/v1/chat/completions'\n",
      "object of type 'NoneType' has no len()\n",
      "400, message='Bad Request', url='https://jo64cpqkvayl7daj.us-east-1.aws.endpoints.huggingface.cloud/v1/chat/completions'\n",
      "object of type 'NoneType' has no len()\n",
      "400, message='Bad Request', url='https://jo64cpqkvayl7daj.us-east-1.aws.endpoints.huggingface.cloud/v1/chat/completions'\n",
      "object of type 'NoneType' has no len()\n",
      "400, message='Bad Request', url='https://jo64cpqkvayl7daj.us-east-1.aws.endpoints.huggingface.cloud/v1/chat/completions'\n",
      "object of type 'NoneType' has no len()\n",
      "400, message='Bad Request', url='https://jo64cpqkvayl7daj.us-east-1.aws.endpoints.huggingface.cloud/v1/chat/completions'\n",
      "object of type 'NoneType' has no len()\n",
      "400, message='Bad Request', url='https://jo64cpqkvayl7daj.us-east-1.aws.endpoints.huggingface.cloud/v1/chat/completions'\n",
      "object of type 'NoneType' has no len()\n",
      "400, message='Bad Request', url='https://jo64cpqkvayl7daj.us-east-1.aws.endpoints.huggingface.cloud/v1/chat/completions'\n",
      "object of type 'NoneType' has no len()\n",
      "400, message='Bad Request', url='https://jo64cpqkvayl7daj.us-east-1.aws.endpoints.huggingface.cloud/v1/chat/completions'\n",
      "object of type 'NoneType' has no len()\n",
      "400, message='Bad Request', url='https://jo64cpqkvayl7daj.us-east-1.aws.endpoints.huggingface.cloud/v1/chat/completions'\n",
      "object of type 'NoneType' has no len()\n",
      "400, message='Bad Request', url='https://jo64cpqkvayl7daj.us-east-1.aws.endpoints.huggingface.cloud/v1/chat/completions'\n",
      "object of type 'NoneType' has no len()\n",
      "400, message='Bad Request', url='https://jnovl897uj1glqgn.us-east-1.aws.endpoints.huggingface.cloud/v1/chat/completions'\n",
      "object of type 'NoneType' has no len()\n",
      "400, message='Bad Request', url='https://jnovl897uj1glqgn.us-east-1.aws.endpoints.huggingface.cloud/v1/chat/completions'\n",
      "object of type 'NoneType' has no len()\n",
      "400, message='Bad Request', url='https://jnovl897uj1glqgn.us-east-1.aws.endpoints.huggingface.cloud/v1/chat/completions'\n",
      "object of type 'NoneType' has no len()\n",
      "400, message='Bad Request', url='https://jnovl897uj1glqgn.us-east-1.aws.endpoints.huggingface.cloud/v1/chat/completions'\n",
      "object of type 'NoneType' has no len()\n",
      "400, message='Bad Request', url='https://jnovl897uj1glqgn.us-east-1.aws.endpoints.huggingface.cloud/v1/chat/completions'\n",
      "object of type 'NoneType' has no len()\n",
      "400, message='Bad Request', url='https://jnovl897uj1glqgn.us-east-1.aws.endpoints.huggingface.cloud/v1/chat/completions'\n",
      "object of type 'NoneType' has no len()\n",
      "400, message='Bad Request', url='https://jnovl897uj1glqgn.us-east-1.aws.endpoints.huggingface.cloud/v1/chat/completions'\n",
      "object of type 'NoneType' has no len()\n",
      "400, message='Bad Request', url='https://jnovl897uj1glqgn.us-east-1.aws.endpoints.huggingface.cloud/v1/chat/completions'\n",
      "object of type 'NoneType' has no len()\n",
      "400, message='Bad Request', url='https://jnovl897uj1glqgn.us-east-1.aws.endpoints.huggingface.cloud/v1/chat/completions'\n",
      "object of type 'NoneType' has no len()\n",
      "400, message='Bad Request', url='https://jnovl897uj1glqgn.us-east-1.aws.endpoints.huggingface.cloud/v1/chat/completions'\n",
      "object of type 'NoneType' has no len()\n"
     ]
    },
    {
     "ename": "CancelledError",
     "evalue": "",
     "output_type": "error",
     "traceback": [
      "\u001B[0;31m---------------------------------------------------------------------------\u001B[0m",
      "\u001B[0;31mCancelledError\u001B[0m                            Traceback (most recent call last)",
      "Cell \u001B[0;32mIn[59], line 1\u001B[0m\n\u001B[0;32m----> 1\u001B[0m golden_results \u001B[38;5;241m=\u001B[39m \u001B[38;5;28;01mawait\u001B[39;00m perform_eval_async(golden_ds_class\u001B[38;5;241m.\u001B[39mshuffle(seed\u001B[38;5;241m=\u001B[39m\u001B[38;5;241m42\u001B[39m)\u001B[38;5;241m.\u001B[39mselect(\u001B[38;5;28mrange\u001B[39m(\u001B[38;5;241m10\u001B[39m)), score_q_and_a_func, max_tokens\u001B[38;5;241m=\u001B[39m\u001B[38;5;241m128\u001B[39m)\n\u001B[1;32m      2\u001B[0m golden_results\u001B[38;5;241m.\u001B[39mwrite_csv(\u001B[38;5;124m\"\u001B[39m\u001B[38;5;124mgolden_q_and_a_scores.csv\u001B[39m\u001B[38;5;124m\"\u001B[39m)\n\u001B[1;32m      3\u001B[0m golden_results\n",
      "Cell \u001B[0;32mIn[19], line 76\u001B[0m, in \u001B[0;36mperform_eval_async\u001B[0;34m(dataset, scoring_func, max_tokens)\u001B[0m\n\u001B[1;32m     71\u001B[0m \u001B[38;5;28;01masync\u001B[39;00m \u001B[38;5;28;01mdef\u001B[39;00m \u001B[38;5;21mperform_eval_async\u001B[39m(dataset: Dataset, scoring_func, max_tokens\u001B[38;5;241m=\u001B[39m\u001B[38;5;241m2096\u001B[39m):\n\u001B[1;32m     72\u001B[0m     tasks \u001B[38;5;241m=\u001B[39m [\n\u001B[1;32m     73\u001B[0m         _eval_model(model_name, client, dataset, scoring_func, max_tokens)\n\u001B[1;32m     74\u001B[0m         \u001B[38;5;28;01mfor\u001B[39;00m model_name, client \u001B[38;5;129;01min\u001B[39;00m models\u001B[38;5;241m.\u001B[39mitems()\n\u001B[1;32m     75\u001B[0m     ]\n\u001B[0;32m---> 76\u001B[0m     results \u001B[38;5;241m=\u001B[39m \u001B[38;5;28;01mawait\u001B[39;00m asyncio\u001B[38;5;241m.\u001B[39mgather(\u001B[38;5;241m*\u001B[39mtasks)\n\u001B[1;32m     77\u001B[0m     \u001B[38;5;28;01mreturn\u001B[39;00m pl\u001B[38;5;241m.\u001B[39mconcat(results)\n",
      "Cell \u001B[0;32mIn[19], line 61\u001B[0m, in \u001B[0;36m_eval_model\u001B[0;34m(model_name, client, dataset, scoring_func, max_tokens, concurrency_limit)\u001B[0m\n\u001B[1;32m     59\u001B[0m \u001B[38;5;28;01mif\u001B[39;00m \u001B[38;5;124m'\u001B[39m\u001B[38;5;124mgpt\u001B[39m\u001B[38;5;124m'\u001B[39m \u001B[38;5;129;01min\u001B[39;00m model_name:\n\u001B[1;32m     60\u001B[0m     \u001B[38;5;28;01mfor\u001B[39;00m i, row \u001B[38;5;129;01min\u001B[39;00m \u001B[38;5;28menumerate\u001B[39m(dataset):\n\u001B[0;32m---> 61\u001B[0m         \u001B[38;5;28;01mawait\u001B[39;00m process_row(i, row)\n\u001B[1;32m     62\u001B[0m \u001B[38;5;28;01melse\u001B[39;00m:\n\u001B[1;32m     63\u001B[0m     tasks \u001B[38;5;241m=\u001B[39m [process_row(i, row) \u001B[38;5;28;01mfor\u001B[39;00m i, row \u001B[38;5;129;01min\u001B[39;00m \u001B[38;5;28menumerate\u001B[39m(dataset)]\n",
      "Cell \u001B[0;32mIn[19], line 26\u001B[0m, in \u001B[0;36m_eval_model.<locals>.process_row\u001B[0;34m(index, row)\u001B[0m\n\u001B[1;32m     20\u001B[0m messages \u001B[38;5;241m=\u001B[39m [\n\u001B[1;32m     21\u001B[0m     {\u001B[38;5;124m\"\u001B[39m\u001B[38;5;124mrole\u001B[39m\u001B[38;5;124m\"\u001B[39m: \u001B[38;5;124m\"\u001B[39m\u001B[38;5;124msystem\u001B[39m\u001B[38;5;124m\"\u001B[39m, \u001B[38;5;124m\"\u001B[39m\u001B[38;5;124mcontent\u001B[39m\u001B[38;5;124m\"\u001B[39m: \u001B[38;5;124m\"\u001B[39m\u001B[38;5;124mYou are a helpful assistant\u001B[39m\u001B[38;5;124m\"\u001B[39m},\n\u001B[1;32m     22\u001B[0m     {\u001B[38;5;124m\"\u001B[39m\u001B[38;5;124mrole\u001B[39m\u001B[38;5;124m\"\u001B[39m: \u001B[38;5;124m\"\u001B[39m\u001B[38;5;124muser\u001B[39m\u001B[38;5;124m\"\u001B[39m, \u001B[38;5;124m\"\u001B[39m\u001B[38;5;124mcontent\u001B[39m\u001B[38;5;124m\"\u001B[39m: input_request},\n\u001B[1;32m     23\u001B[0m ]\n\u001B[1;32m     25\u001B[0m \u001B[38;5;28;01mtry\u001B[39;00m:\n\u001B[0;32m---> 26\u001B[0m     response \u001B[38;5;241m=\u001B[39m \u001B[38;5;28;01mawait\u001B[39;00m client\u001B[38;5;241m.\u001B[39mchat\u001B[38;5;241m.\u001B[39mcompletions\u001B[38;5;241m.\u001B[39mcreate(\n\u001B[1;32m     27\u001B[0m         model\u001B[38;5;241m=\u001B[39mmodel_name,\n\u001B[1;32m     28\u001B[0m         messages\u001B[38;5;241m=\u001B[39mmessages,\n\u001B[1;32m     29\u001B[0m         max_tokens\u001B[38;5;241m=\u001B[39mmax_tokens,\n\u001B[1;32m     30\u001B[0m         top_p\u001B[38;5;241m=\u001B[39m\u001B[38;5;241m0.9\u001B[39m,\n\u001B[1;32m     31\u001B[0m         temperature\u001B[38;5;241m=\u001B[39m\u001B[38;5;241m0.2\u001B[39m,\n\u001B[1;32m     32\u001B[0m         frequency_penalty\u001B[38;5;241m=\u001B[39m\u001B[38;5;241m1.7\u001B[39m,\n\u001B[1;32m     33\u001B[0m         stop\u001B[38;5;241m=\u001B[39m[\u001B[38;5;124m\"\u001B[39m\u001B[38;5;130;01m\\n\u001B[39;00m\u001B[38;5;124mUser:\u001B[39m\u001B[38;5;124m\"\u001B[39m, \u001B[38;5;124m\"\u001B[39m\u001B[38;5;124m<|endoftext|>\u001B[39m\u001B[38;5;124m\"\u001B[39m, \u001B[38;5;124m\"\u001B[39m\u001B[38;5;124m</s>\u001B[39m\u001B[38;5;124m\"\u001B[39m, \u001B[38;5;124m\"\u001B[39m\u001B[38;5;130;01m\\n\u001B[39;00m\u001B[38;5;124m\"\u001B[39m],\n\u001B[1;32m     34\u001B[0m     )\n\u001B[1;32m     35\u001B[0m     generated_text \u001B[38;5;241m=\u001B[39m response\u001B[38;5;241m.\u001B[39mchoices[\u001B[38;5;241m0\u001B[39m]\u001B[38;5;241m.\u001B[39mmessage\u001B[38;5;241m.\u001B[39mcontent\n\u001B[1;32m     36\u001B[0m \u001B[38;5;28;01mexcept\u001B[39;00m \u001B[38;5;167;01mException\u001B[39;00m \u001B[38;5;28;01mas\u001B[39;00m e:\n",
      "File \u001B[0;32m~/Library/Caches/pypoetry/virtualenvs/llm-evaluation--UvhI9ny-py3.12/lib/python3.12/site-packages/openai/resources/chat/completions.py:1339\u001B[0m, in \u001B[0;36mAsyncCompletions.create\u001B[0;34m(self, messages, model, frequency_penalty, function_call, functions, logit_bias, logprobs, max_tokens, n, parallel_tool_calls, presence_penalty, response_format, seed, service_tier, stop, stream, stream_options, temperature, tool_choice, tools, top_logprobs, top_p, user, extra_headers, extra_query, extra_body, timeout)\u001B[0m\n\u001B[1;32m   1304\u001B[0m \u001B[38;5;129m@required_args\u001B[39m([\u001B[38;5;124m\"\u001B[39m\u001B[38;5;124mmessages\u001B[39m\u001B[38;5;124m\"\u001B[39m, \u001B[38;5;124m\"\u001B[39m\u001B[38;5;124mmodel\u001B[39m\u001B[38;5;124m\"\u001B[39m], [\u001B[38;5;124m\"\u001B[39m\u001B[38;5;124mmessages\u001B[39m\u001B[38;5;124m\"\u001B[39m, \u001B[38;5;124m\"\u001B[39m\u001B[38;5;124mmodel\u001B[39m\u001B[38;5;124m\"\u001B[39m, \u001B[38;5;124m\"\u001B[39m\u001B[38;5;124mstream\u001B[39m\u001B[38;5;124m\"\u001B[39m])\n\u001B[1;32m   1305\u001B[0m \u001B[38;5;28;01masync\u001B[39;00m \u001B[38;5;28;01mdef\u001B[39;00m \u001B[38;5;21mcreate\u001B[39m(\n\u001B[1;32m   1306\u001B[0m     \u001B[38;5;28mself\u001B[39m,\n\u001B[0;32m   (...)\u001B[0m\n\u001B[1;32m   1336\u001B[0m     timeout: \u001B[38;5;28mfloat\u001B[39m \u001B[38;5;241m|\u001B[39m httpx\u001B[38;5;241m.\u001B[39mTimeout \u001B[38;5;241m|\u001B[39m \u001B[38;5;28;01mNone\u001B[39;00m \u001B[38;5;241m|\u001B[39m NotGiven \u001B[38;5;241m=\u001B[39m NOT_GIVEN,\n\u001B[1;32m   1337\u001B[0m ) \u001B[38;5;241m-\u001B[39m\u001B[38;5;241m>\u001B[39m ChatCompletion \u001B[38;5;241m|\u001B[39m AsyncStream[ChatCompletionChunk]:\n\u001B[1;32m   1338\u001B[0m     validate_response_format(response_format)\n\u001B[0;32m-> 1339\u001B[0m     \u001B[38;5;28;01mreturn\u001B[39;00m \u001B[38;5;28;01mawait\u001B[39;00m \u001B[38;5;28mself\u001B[39m\u001B[38;5;241m.\u001B[39m_post(\n\u001B[1;32m   1340\u001B[0m         \u001B[38;5;124m\"\u001B[39m\u001B[38;5;124m/chat/completions\u001B[39m\u001B[38;5;124m\"\u001B[39m,\n\u001B[1;32m   1341\u001B[0m         body\u001B[38;5;241m=\u001B[39m\u001B[38;5;28;01mawait\u001B[39;00m async_maybe_transform(\n\u001B[1;32m   1342\u001B[0m             {\n\u001B[1;32m   1343\u001B[0m                 \u001B[38;5;124m\"\u001B[39m\u001B[38;5;124mmessages\u001B[39m\u001B[38;5;124m\"\u001B[39m: messages,\n\u001B[1;32m   1344\u001B[0m                 \u001B[38;5;124m\"\u001B[39m\u001B[38;5;124mmodel\u001B[39m\u001B[38;5;124m\"\u001B[39m: model,\n\u001B[1;32m   1345\u001B[0m                 \u001B[38;5;124m\"\u001B[39m\u001B[38;5;124mfrequency_penalty\u001B[39m\u001B[38;5;124m\"\u001B[39m: frequency_penalty,\n\u001B[1;32m   1346\u001B[0m                 \u001B[38;5;124m\"\u001B[39m\u001B[38;5;124mfunction_call\u001B[39m\u001B[38;5;124m\"\u001B[39m: function_call,\n\u001B[1;32m   1347\u001B[0m                 \u001B[38;5;124m\"\u001B[39m\u001B[38;5;124mfunctions\u001B[39m\u001B[38;5;124m\"\u001B[39m: functions,\n\u001B[1;32m   1348\u001B[0m                 \u001B[38;5;124m\"\u001B[39m\u001B[38;5;124mlogit_bias\u001B[39m\u001B[38;5;124m\"\u001B[39m: logit_bias,\n\u001B[1;32m   1349\u001B[0m                 \u001B[38;5;124m\"\u001B[39m\u001B[38;5;124mlogprobs\u001B[39m\u001B[38;5;124m\"\u001B[39m: logprobs,\n\u001B[1;32m   1350\u001B[0m                 \u001B[38;5;124m\"\u001B[39m\u001B[38;5;124mmax_tokens\u001B[39m\u001B[38;5;124m\"\u001B[39m: max_tokens,\n\u001B[1;32m   1351\u001B[0m                 \u001B[38;5;124m\"\u001B[39m\u001B[38;5;124mn\u001B[39m\u001B[38;5;124m\"\u001B[39m: n,\n\u001B[1;32m   1352\u001B[0m                 \u001B[38;5;124m\"\u001B[39m\u001B[38;5;124mparallel_tool_calls\u001B[39m\u001B[38;5;124m\"\u001B[39m: parallel_tool_calls,\n\u001B[1;32m   1353\u001B[0m                 \u001B[38;5;124m\"\u001B[39m\u001B[38;5;124mpresence_penalty\u001B[39m\u001B[38;5;124m\"\u001B[39m: presence_penalty,\n\u001B[1;32m   1354\u001B[0m                 \u001B[38;5;124m\"\u001B[39m\u001B[38;5;124mresponse_format\u001B[39m\u001B[38;5;124m\"\u001B[39m: response_format,\n\u001B[1;32m   1355\u001B[0m                 \u001B[38;5;124m\"\u001B[39m\u001B[38;5;124mseed\u001B[39m\u001B[38;5;124m\"\u001B[39m: seed,\n\u001B[1;32m   1356\u001B[0m                 \u001B[38;5;124m\"\u001B[39m\u001B[38;5;124mservice_tier\u001B[39m\u001B[38;5;124m\"\u001B[39m: service_tier,\n\u001B[1;32m   1357\u001B[0m                 \u001B[38;5;124m\"\u001B[39m\u001B[38;5;124mstop\u001B[39m\u001B[38;5;124m\"\u001B[39m: stop,\n\u001B[1;32m   1358\u001B[0m                 \u001B[38;5;124m\"\u001B[39m\u001B[38;5;124mstream\u001B[39m\u001B[38;5;124m\"\u001B[39m: stream,\n\u001B[1;32m   1359\u001B[0m                 \u001B[38;5;124m\"\u001B[39m\u001B[38;5;124mstream_options\u001B[39m\u001B[38;5;124m\"\u001B[39m: stream_options,\n\u001B[1;32m   1360\u001B[0m                 \u001B[38;5;124m\"\u001B[39m\u001B[38;5;124mtemperature\u001B[39m\u001B[38;5;124m\"\u001B[39m: temperature,\n\u001B[1;32m   1361\u001B[0m                 \u001B[38;5;124m\"\u001B[39m\u001B[38;5;124mtool_choice\u001B[39m\u001B[38;5;124m\"\u001B[39m: tool_choice,\n\u001B[1;32m   1362\u001B[0m                 \u001B[38;5;124m\"\u001B[39m\u001B[38;5;124mtools\u001B[39m\u001B[38;5;124m\"\u001B[39m: tools,\n\u001B[1;32m   1363\u001B[0m                 \u001B[38;5;124m\"\u001B[39m\u001B[38;5;124mtop_logprobs\u001B[39m\u001B[38;5;124m\"\u001B[39m: top_logprobs,\n\u001B[1;32m   1364\u001B[0m                 \u001B[38;5;124m\"\u001B[39m\u001B[38;5;124mtop_p\u001B[39m\u001B[38;5;124m\"\u001B[39m: top_p,\n\u001B[1;32m   1365\u001B[0m                 \u001B[38;5;124m\"\u001B[39m\u001B[38;5;124muser\u001B[39m\u001B[38;5;124m\"\u001B[39m: user,\n\u001B[1;32m   1366\u001B[0m             },\n\u001B[1;32m   1367\u001B[0m             completion_create_params\u001B[38;5;241m.\u001B[39mCompletionCreateParams,\n\u001B[1;32m   1368\u001B[0m         ),\n\u001B[1;32m   1369\u001B[0m         options\u001B[38;5;241m=\u001B[39mmake_request_options(\n\u001B[1;32m   1370\u001B[0m             extra_headers\u001B[38;5;241m=\u001B[39mextra_headers, extra_query\u001B[38;5;241m=\u001B[39mextra_query, extra_body\u001B[38;5;241m=\u001B[39mextra_body, timeout\u001B[38;5;241m=\u001B[39mtimeout\n\u001B[1;32m   1371\u001B[0m         ),\n\u001B[1;32m   1372\u001B[0m         cast_to\u001B[38;5;241m=\u001B[39mChatCompletion,\n\u001B[1;32m   1373\u001B[0m         stream\u001B[38;5;241m=\u001B[39mstream \u001B[38;5;129;01mor\u001B[39;00m \u001B[38;5;28;01mFalse\u001B[39;00m,\n\u001B[1;32m   1374\u001B[0m         stream_cls\u001B[38;5;241m=\u001B[39mAsyncStream[ChatCompletionChunk],\n\u001B[1;32m   1375\u001B[0m     )\n",
      "File \u001B[0;32m~/Library/Caches/pypoetry/virtualenvs/llm-evaluation--UvhI9ny-py3.12/lib/python3.12/site-packages/openai/_base_client.py:1816\u001B[0m, in \u001B[0;36mAsyncAPIClient.post\u001B[0;34m(self, path, cast_to, body, files, options, stream, stream_cls)\u001B[0m\n\u001B[1;32m   1802\u001B[0m \u001B[38;5;28;01masync\u001B[39;00m \u001B[38;5;28;01mdef\u001B[39;00m \u001B[38;5;21mpost\u001B[39m(\n\u001B[1;32m   1803\u001B[0m     \u001B[38;5;28mself\u001B[39m,\n\u001B[1;32m   1804\u001B[0m     path: \u001B[38;5;28mstr\u001B[39m,\n\u001B[0;32m   (...)\u001B[0m\n\u001B[1;32m   1811\u001B[0m     stream_cls: \u001B[38;5;28mtype\u001B[39m[_AsyncStreamT] \u001B[38;5;241m|\u001B[39m \u001B[38;5;28;01mNone\u001B[39;00m \u001B[38;5;241m=\u001B[39m \u001B[38;5;28;01mNone\u001B[39;00m,\n\u001B[1;32m   1812\u001B[0m ) \u001B[38;5;241m-\u001B[39m\u001B[38;5;241m>\u001B[39m ResponseT \u001B[38;5;241m|\u001B[39m _AsyncStreamT:\n\u001B[1;32m   1813\u001B[0m     opts \u001B[38;5;241m=\u001B[39m FinalRequestOptions\u001B[38;5;241m.\u001B[39mconstruct(\n\u001B[1;32m   1814\u001B[0m         method\u001B[38;5;241m=\u001B[39m\u001B[38;5;124m\"\u001B[39m\u001B[38;5;124mpost\u001B[39m\u001B[38;5;124m\"\u001B[39m, url\u001B[38;5;241m=\u001B[39mpath, json_data\u001B[38;5;241m=\u001B[39mbody, files\u001B[38;5;241m=\u001B[39m\u001B[38;5;28;01mawait\u001B[39;00m async_to_httpx_files(files), \u001B[38;5;241m*\u001B[39m\u001B[38;5;241m*\u001B[39moptions\n\u001B[1;32m   1815\u001B[0m     )\n\u001B[0;32m-> 1816\u001B[0m     \u001B[38;5;28;01mreturn\u001B[39;00m \u001B[38;5;28;01mawait\u001B[39;00m \u001B[38;5;28mself\u001B[39m\u001B[38;5;241m.\u001B[39mrequest(cast_to, opts, stream\u001B[38;5;241m=\u001B[39mstream, stream_cls\u001B[38;5;241m=\u001B[39mstream_cls)\n",
      "File \u001B[0;32m~/Library/Caches/pypoetry/virtualenvs/llm-evaluation--UvhI9ny-py3.12/lib/python3.12/site-packages/openai/_base_client.py:1510\u001B[0m, in \u001B[0;36mAsyncAPIClient.request\u001B[0;34m(self, cast_to, options, stream, stream_cls, remaining_retries)\u001B[0m\n\u001B[1;32m   1501\u001B[0m \u001B[38;5;28;01masync\u001B[39;00m \u001B[38;5;28;01mdef\u001B[39;00m \u001B[38;5;21mrequest\u001B[39m(\n\u001B[1;32m   1502\u001B[0m     \u001B[38;5;28mself\u001B[39m,\n\u001B[1;32m   1503\u001B[0m     cast_to: Type[ResponseT],\n\u001B[0;32m   (...)\u001B[0m\n\u001B[1;32m   1508\u001B[0m     remaining_retries: Optional[\u001B[38;5;28mint\u001B[39m] \u001B[38;5;241m=\u001B[39m \u001B[38;5;28;01mNone\u001B[39;00m,\n\u001B[1;32m   1509\u001B[0m ) \u001B[38;5;241m-\u001B[39m\u001B[38;5;241m>\u001B[39m ResponseT \u001B[38;5;241m|\u001B[39m _AsyncStreamT:\n\u001B[0;32m-> 1510\u001B[0m     \u001B[38;5;28;01mreturn\u001B[39;00m \u001B[38;5;28;01mawait\u001B[39;00m \u001B[38;5;28mself\u001B[39m\u001B[38;5;241m.\u001B[39m_request(\n\u001B[1;32m   1511\u001B[0m         cast_to\u001B[38;5;241m=\u001B[39mcast_to,\n\u001B[1;32m   1512\u001B[0m         options\u001B[38;5;241m=\u001B[39moptions,\n\u001B[1;32m   1513\u001B[0m         stream\u001B[38;5;241m=\u001B[39mstream,\n\u001B[1;32m   1514\u001B[0m         stream_cls\u001B[38;5;241m=\u001B[39mstream_cls,\n\u001B[1;32m   1515\u001B[0m         remaining_retries\u001B[38;5;241m=\u001B[39mremaining_retries,\n\u001B[1;32m   1516\u001B[0m     )\n",
      "File \u001B[0;32m~/Library/Caches/pypoetry/virtualenvs/llm-evaluation--UvhI9ny-py3.12/lib/python3.12/site-packages/openai/_base_client.py:1549\u001B[0m, in \u001B[0;36mAsyncAPIClient._request\u001B[0;34m(self, cast_to, options, stream, stream_cls, remaining_retries)\u001B[0m\n\u001B[1;32m   1546\u001B[0m     kwargs[\u001B[38;5;124m\"\u001B[39m\u001B[38;5;124mauth\u001B[39m\u001B[38;5;124m\"\u001B[39m] \u001B[38;5;241m=\u001B[39m \u001B[38;5;28mself\u001B[39m\u001B[38;5;241m.\u001B[39mcustom_auth\n\u001B[1;32m   1548\u001B[0m \u001B[38;5;28;01mtry\u001B[39;00m:\n\u001B[0;32m-> 1549\u001B[0m     response \u001B[38;5;241m=\u001B[39m \u001B[38;5;28;01mawait\u001B[39;00m \u001B[38;5;28mself\u001B[39m\u001B[38;5;241m.\u001B[39m_client\u001B[38;5;241m.\u001B[39msend(\n\u001B[1;32m   1550\u001B[0m         request,\n\u001B[1;32m   1551\u001B[0m         stream\u001B[38;5;241m=\u001B[39mstream \u001B[38;5;129;01mor\u001B[39;00m \u001B[38;5;28mself\u001B[39m\u001B[38;5;241m.\u001B[39m_should_stream_response_body(request\u001B[38;5;241m=\u001B[39mrequest),\n\u001B[1;32m   1552\u001B[0m         \u001B[38;5;241m*\u001B[39m\u001B[38;5;241m*\u001B[39mkwargs,\n\u001B[1;32m   1553\u001B[0m     )\n\u001B[1;32m   1554\u001B[0m \u001B[38;5;28;01mexcept\u001B[39;00m httpx\u001B[38;5;241m.\u001B[39mTimeoutException \u001B[38;5;28;01mas\u001B[39;00m err:\n\u001B[1;32m   1555\u001B[0m     log\u001B[38;5;241m.\u001B[39mdebug(\u001B[38;5;124m\"\u001B[39m\u001B[38;5;124mEncountered httpx.TimeoutException\u001B[39m\u001B[38;5;124m\"\u001B[39m, exc_info\u001B[38;5;241m=\u001B[39m\u001B[38;5;28;01mTrue\u001B[39;00m)\n",
      "File \u001B[0;32m~/Library/Caches/pypoetry/virtualenvs/llm-evaluation--UvhI9ny-py3.12/lib/python3.12/site-packages/httpx/_client.py:1674\u001B[0m, in \u001B[0;36mAsyncClient.send\u001B[0;34m(self, request, stream, auth, follow_redirects)\u001B[0m\n\u001B[1;32m   1670\u001B[0m \u001B[38;5;28mself\u001B[39m\u001B[38;5;241m.\u001B[39m_set_timeout(request)\n\u001B[1;32m   1672\u001B[0m auth \u001B[38;5;241m=\u001B[39m \u001B[38;5;28mself\u001B[39m\u001B[38;5;241m.\u001B[39m_build_request_auth(request, auth)\n\u001B[0;32m-> 1674\u001B[0m response \u001B[38;5;241m=\u001B[39m \u001B[38;5;28;01mawait\u001B[39;00m \u001B[38;5;28mself\u001B[39m\u001B[38;5;241m.\u001B[39m_send_handling_auth(\n\u001B[1;32m   1675\u001B[0m     request,\n\u001B[1;32m   1676\u001B[0m     auth\u001B[38;5;241m=\u001B[39mauth,\n\u001B[1;32m   1677\u001B[0m     follow_redirects\u001B[38;5;241m=\u001B[39mfollow_redirects,\n\u001B[1;32m   1678\u001B[0m     history\u001B[38;5;241m=\u001B[39m[],\n\u001B[1;32m   1679\u001B[0m )\n\u001B[1;32m   1680\u001B[0m \u001B[38;5;28;01mtry\u001B[39;00m:\n\u001B[1;32m   1681\u001B[0m     \u001B[38;5;28;01mif\u001B[39;00m \u001B[38;5;129;01mnot\u001B[39;00m stream:\n",
      "File \u001B[0;32m~/Library/Caches/pypoetry/virtualenvs/llm-evaluation--UvhI9ny-py3.12/lib/python3.12/site-packages/httpx/_client.py:1702\u001B[0m, in \u001B[0;36mAsyncClient._send_handling_auth\u001B[0;34m(self, request, auth, follow_redirects, history)\u001B[0m\n\u001B[1;32m   1699\u001B[0m request \u001B[38;5;241m=\u001B[39m \u001B[38;5;28;01mawait\u001B[39;00m auth_flow\u001B[38;5;241m.\u001B[39m\u001B[38;5;21m__anext__\u001B[39m()\n\u001B[1;32m   1701\u001B[0m \u001B[38;5;28;01mwhile\u001B[39;00m \u001B[38;5;28;01mTrue\u001B[39;00m:\n\u001B[0;32m-> 1702\u001B[0m     response \u001B[38;5;241m=\u001B[39m \u001B[38;5;28;01mawait\u001B[39;00m \u001B[38;5;28mself\u001B[39m\u001B[38;5;241m.\u001B[39m_send_handling_redirects(\n\u001B[1;32m   1703\u001B[0m         request,\n\u001B[1;32m   1704\u001B[0m         follow_redirects\u001B[38;5;241m=\u001B[39mfollow_redirects,\n\u001B[1;32m   1705\u001B[0m         history\u001B[38;5;241m=\u001B[39mhistory,\n\u001B[1;32m   1706\u001B[0m     )\n\u001B[1;32m   1707\u001B[0m     \u001B[38;5;28;01mtry\u001B[39;00m:\n\u001B[1;32m   1708\u001B[0m         \u001B[38;5;28;01mtry\u001B[39;00m:\n",
      "File \u001B[0;32m~/Library/Caches/pypoetry/virtualenvs/llm-evaluation--UvhI9ny-py3.12/lib/python3.12/site-packages/httpx/_client.py:1739\u001B[0m, in \u001B[0;36mAsyncClient._send_handling_redirects\u001B[0;34m(self, request, follow_redirects, history)\u001B[0m\n\u001B[1;32m   1736\u001B[0m \u001B[38;5;28;01mfor\u001B[39;00m hook \u001B[38;5;129;01min\u001B[39;00m \u001B[38;5;28mself\u001B[39m\u001B[38;5;241m.\u001B[39m_event_hooks[\u001B[38;5;124m\"\u001B[39m\u001B[38;5;124mrequest\u001B[39m\u001B[38;5;124m\"\u001B[39m]:\n\u001B[1;32m   1737\u001B[0m     \u001B[38;5;28;01mawait\u001B[39;00m hook(request)\n\u001B[0;32m-> 1739\u001B[0m response \u001B[38;5;241m=\u001B[39m \u001B[38;5;28;01mawait\u001B[39;00m \u001B[38;5;28mself\u001B[39m\u001B[38;5;241m.\u001B[39m_send_single_request(request)\n\u001B[1;32m   1740\u001B[0m \u001B[38;5;28;01mtry\u001B[39;00m:\n\u001B[1;32m   1741\u001B[0m     \u001B[38;5;28;01mfor\u001B[39;00m hook \u001B[38;5;129;01min\u001B[39;00m \u001B[38;5;28mself\u001B[39m\u001B[38;5;241m.\u001B[39m_event_hooks[\u001B[38;5;124m\"\u001B[39m\u001B[38;5;124mresponse\u001B[39m\u001B[38;5;124m\"\u001B[39m]:\n",
      "File \u001B[0;32m~/Library/Caches/pypoetry/virtualenvs/llm-evaluation--UvhI9ny-py3.12/lib/python3.12/site-packages/httpx/_client.py:1776\u001B[0m, in \u001B[0;36mAsyncClient._send_single_request\u001B[0;34m(self, request)\u001B[0m\n\u001B[1;32m   1771\u001B[0m     \u001B[38;5;28;01mraise\u001B[39;00m \u001B[38;5;167;01mRuntimeError\u001B[39;00m(\n\u001B[1;32m   1772\u001B[0m         \u001B[38;5;124m\"\u001B[39m\u001B[38;5;124mAttempted to send an sync request with an AsyncClient instance.\u001B[39m\u001B[38;5;124m\"\u001B[39m\n\u001B[1;32m   1773\u001B[0m     )\n\u001B[1;32m   1775\u001B[0m \u001B[38;5;28;01mwith\u001B[39;00m request_context(request\u001B[38;5;241m=\u001B[39mrequest):\n\u001B[0;32m-> 1776\u001B[0m     response \u001B[38;5;241m=\u001B[39m \u001B[38;5;28;01mawait\u001B[39;00m transport\u001B[38;5;241m.\u001B[39mhandle_async_request(request)\n\u001B[1;32m   1778\u001B[0m \u001B[38;5;28;01massert\u001B[39;00m \u001B[38;5;28misinstance\u001B[39m(response\u001B[38;5;241m.\u001B[39mstream, AsyncByteStream)\n\u001B[1;32m   1779\u001B[0m response\u001B[38;5;241m.\u001B[39mrequest \u001B[38;5;241m=\u001B[39m request\n",
      "File \u001B[0;32m~/Library/Caches/pypoetry/virtualenvs/llm-evaluation--UvhI9ny-py3.12/lib/python3.12/site-packages/httpx/_transports/default.py:377\u001B[0m, in \u001B[0;36mAsyncHTTPTransport.handle_async_request\u001B[0;34m(self, request)\u001B[0m\n\u001B[1;32m    364\u001B[0m req \u001B[38;5;241m=\u001B[39m httpcore\u001B[38;5;241m.\u001B[39mRequest(\n\u001B[1;32m    365\u001B[0m     method\u001B[38;5;241m=\u001B[39mrequest\u001B[38;5;241m.\u001B[39mmethod,\n\u001B[1;32m    366\u001B[0m     url\u001B[38;5;241m=\u001B[39mhttpcore\u001B[38;5;241m.\u001B[39mURL(\n\u001B[0;32m   (...)\u001B[0m\n\u001B[1;32m    374\u001B[0m     extensions\u001B[38;5;241m=\u001B[39mrequest\u001B[38;5;241m.\u001B[39mextensions,\n\u001B[1;32m    375\u001B[0m )\n\u001B[1;32m    376\u001B[0m \u001B[38;5;28;01mwith\u001B[39;00m map_httpcore_exceptions():\n\u001B[0;32m--> 377\u001B[0m     resp \u001B[38;5;241m=\u001B[39m \u001B[38;5;28;01mawait\u001B[39;00m \u001B[38;5;28mself\u001B[39m\u001B[38;5;241m.\u001B[39m_pool\u001B[38;5;241m.\u001B[39mhandle_async_request(req)\n\u001B[1;32m    379\u001B[0m \u001B[38;5;28;01massert\u001B[39;00m \u001B[38;5;28misinstance\u001B[39m(resp\u001B[38;5;241m.\u001B[39mstream, typing\u001B[38;5;241m.\u001B[39mAsyncIterable)\n\u001B[1;32m    381\u001B[0m \u001B[38;5;28;01mreturn\u001B[39;00m Response(\n\u001B[1;32m    382\u001B[0m     status_code\u001B[38;5;241m=\u001B[39mresp\u001B[38;5;241m.\u001B[39mstatus,\n\u001B[1;32m    383\u001B[0m     headers\u001B[38;5;241m=\u001B[39mresp\u001B[38;5;241m.\u001B[39mheaders,\n\u001B[1;32m    384\u001B[0m     stream\u001B[38;5;241m=\u001B[39mAsyncResponseStream(resp\u001B[38;5;241m.\u001B[39mstream),\n\u001B[1;32m    385\u001B[0m     extensions\u001B[38;5;241m=\u001B[39mresp\u001B[38;5;241m.\u001B[39mextensions,\n\u001B[1;32m    386\u001B[0m )\n",
      "File \u001B[0;32m~/Library/Caches/pypoetry/virtualenvs/llm-evaluation--UvhI9ny-py3.12/lib/python3.12/site-packages/httpcore/_async/connection_pool.py:216\u001B[0m, in \u001B[0;36mAsyncConnectionPool.handle_async_request\u001B[0;34m(self, request)\u001B[0m\n\u001B[1;32m    213\u001B[0m         closing \u001B[38;5;241m=\u001B[39m \u001B[38;5;28mself\u001B[39m\u001B[38;5;241m.\u001B[39m_assign_requests_to_connections()\n\u001B[1;32m    215\u001B[0m     \u001B[38;5;28;01mawait\u001B[39;00m \u001B[38;5;28mself\u001B[39m\u001B[38;5;241m.\u001B[39m_close_connections(closing)\n\u001B[0;32m--> 216\u001B[0m     \u001B[38;5;28;01mraise\u001B[39;00m exc \u001B[38;5;28;01mfrom\u001B[39;00m \u001B[38;5;28;01mNone\u001B[39;00m\n\u001B[1;32m    218\u001B[0m \u001B[38;5;66;03m# Return the response. Note that in this case we still have to manage\u001B[39;00m\n\u001B[1;32m    219\u001B[0m \u001B[38;5;66;03m# the point at which the response is closed.\u001B[39;00m\n\u001B[1;32m    220\u001B[0m \u001B[38;5;28;01massert\u001B[39;00m \u001B[38;5;28misinstance\u001B[39m(response\u001B[38;5;241m.\u001B[39mstream, AsyncIterable)\n",
      "File \u001B[0;32m~/Library/Caches/pypoetry/virtualenvs/llm-evaluation--UvhI9ny-py3.12/lib/python3.12/site-packages/httpcore/_async/connection_pool.py:196\u001B[0m, in \u001B[0;36mAsyncConnectionPool.handle_async_request\u001B[0;34m(self, request)\u001B[0m\n\u001B[1;32m    192\u001B[0m connection \u001B[38;5;241m=\u001B[39m \u001B[38;5;28;01mawait\u001B[39;00m pool_request\u001B[38;5;241m.\u001B[39mwait_for_connection(timeout\u001B[38;5;241m=\u001B[39mtimeout)\n\u001B[1;32m    194\u001B[0m \u001B[38;5;28;01mtry\u001B[39;00m:\n\u001B[1;32m    195\u001B[0m     \u001B[38;5;66;03m# Send the request on the assigned connection.\u001B[39;00m\n\u001B[0;32m--> 196\u001B[0m     response \u001B[38;5;241m=\u001B[39m \u001B[38;5;28;01mawait\u001B[39;00m connection\u001B[38;5;241m.\u001B[39mhandle_async_request(\n\u001B[1;32m    197\u001B[0m         pool_request\u001B[38;5;241m.\u001B[39mrequest\n\u001B[1;32m    198\u001B[0m     )\n\u001B[1;32m    199\u001B[0m \u001B[38;5;28;01mexcept\u001B[39;00m ConnectionNotAvailable:\n\u001B[1;32m    200\u001B[0m     \u001B[38;5;66;03m# In some cases a connection may initially be available to\u001B[39;00m\n\u001B[1;32m    201\u001B[0m     \u001B[38;5;66;03m# handle a request, but then become unavailable.\u001B[39;00m\n\u001B[1;32m    202\u001B[0m     \u001B[38;5;66;03m#\u001B[39;00m\n\u001B[1;32m    203\u001B[0m     \u001B[38;5;66;03m# In this case we clear the connection and try again.\u001B[39;00m\n\u001B[1;32m    204\u001B[0m     pool_request\u001B[38;5;241m.\u001B[39mclear_connection()\n",
      "File \u001B[0;32m~/Library/Caches/pypoetry/virtualenvs/llm-evaluation--UvhI9ny-py3.12/lib/python3.12/site-packages/httpcore/_async/connection.py:101\u001B[0m, in \u001B[0;36mAsyncHTTPConnection.handle_async_request\u001B[0;34m(self, request)\u001B[0m\n\u001B[1;32m     98\u001B[0m     \u001B[38;5;28mself\u001B[39m\u001B[38;5;241m.\u001B[39m_connect_failed \u001B[38;5;241m=\u001B[39m \u001B[38;5;28;01mTrue\u001B[39;00m\n\u001B[1;32m     99\u001B[0m     \u001B[38;5;28;01mraise\u001B[39;00m exc\n\u001B[0;32m--> 101\u001B[0m \u001B[38;5;28;01mreturn\u001B[39;00m \u001B[38;5;28;01mawait\u001B[39;00m \u001B[38;5;28mself\u001B[39m\u001B[38;5;241m.\u001B[39m_connection\u001B[38;5;241m.\u001B[39mhandle_async_request(request)\n",
      "File \u001B[0;32m~/Library/Caches/pypoetry/virtualenvs/llm-evaluation--UvhI9ny-py3.12/lib/python3.12/site-packages/httpcore/_async/http11.py:143\u001B[0m, in \u001B[0;36mAsyncHTTP11Connection.handle_async_request\u001B[0;34m(self, request)\u001B[0m\n\u001B[1;32m    141\u001B[0m     \u001B[38;5;28;01masync\u001B[39;00m \u001B[38;5;28;01mwith\u001B[39;00m Trace(\u001B[38;5;124m\"\u001B[39m\u001B[38;5;124mresponse_closed\u001B[39m\u001B[38;5;124m\"\u001B[39m, logger, request) \u001B[38;5;28;01mas\u001B[39;00m trace:\n\u001B[1;32m    142\u001B[0m         \u001B[38;5;28;01mawait\u001B[39;00m \u001B[38;5;28mself\u001B[39m\u001B[38;5;241m.\u001B[39m_response_closed()\n\u001B[0;32m--> 143\u001B[0m \u001B[38;5;28;01mraise\u001B[39;00m exc\n",
      "File \u001B[0;32m~/Library/Caches/pypoetry/virtualenvs/llm-evaluation--UvhI9ny-py3.12/lib/python3.12/site-packages/httpcore/_async/http11.py:113\u001B[0m, in \u001B[0;36mAsyncHTTP11Connection.handle_async_request\u001B[0;34m(self, request)\u001B[0m\n\u001B[1;32m    102\u001B[0m     \u001B[38;5;28;01mpass\u001B[39;00m\n\u001B[1;32m    104\u001B[0m \u001B[38;5;28;01masync\u001B[39;00m \u001B[38;5;28;01mwith\u001B[39;00m Trace(\n\u001B[1;32m    105\u001B[0m     \u001B[38;5;124m\"\u001B[39m\u001B[38;5;124mreceive_response_headers\u001B[39m\u001B[38;5;124m\"\u001B[39m, logger, request, kwargs\n\u001B[1;32m    106\u001B[0m ) \u001B[38;5;28;01mas\u001B[39;00m trace:\n\u001B[1;32m    107\u001B[0m     (\n\u001B[1;32m    108\u001B[0m         http_version,\n\u001B[1;32m    109\u001B[0m         status,\n\u001B[1;32m    110\u001B[0m         reason_phrase,\n\u001B[1;32m    111\u001B[0m         headers,\n\u001B[1;32m    112\u001B[0m         trailing_data,\n\u001B[0;32m--> 113\u001B[0m     ) \u001B[38;5;241m=\u001B[39m \u001B[38;5;28;01mawait\u001B[39;00m \u001B[38;5;28mself\u001B[39m\u001B[38;5;241m.\u001B[39m_receive_response_headers(\u001B[38;5;241m*\u001B[39m\u001B[38;5;241m*\u001B[39mkwargs)\n\u001B[1;32m    114\u001B[0m     trace\u001B[38;5;241m.\u001B[39mreturn_value \u001B[38;5;241m=\u001B[39m (\n\u001B[1;32m    115\u001B[0m         http_version,\n\u001B[1;32m    116\u001B[0m         status,\n\u001B[1;32m    117\u001B[0m         reason_phrase,\n\u001B[1;32m    118\u001B[0m         headers,\n\u001B[1;32m    119\u001B[0m     )\n\u001B[1;32m    121\u001B[0m network_stream \u001B[38;5;241m=\u001B[39m \u001B[38;5;28mself\u001B[39m\u001B[38;5;241m.\u001B[39m_network_stream\n",
      "File \u001B[0;32m~/Library/Caches/pypoetry/virtualenvs/llm-evaluation--UvhI9ny-py3.12/lib/python3.12/site-packages/httpcore/_async/http11.py:186\u001B[0m, in \u001B[0;36mAsyncHTTP11Connection._receive_response_headers\u001B[0;34m(self, request)\u001B[0m\n\u001B[1;32m    183\u001B[0m timeout \u001B[38;5;241m=\u001B[39m timeouts\u001B[38;5;241m.\u001B[39mget(\u001B[38;5;124m\"\u001B[39m\u001B[38;5;124mread\u001B[39m\u001B[38;5;124m\"\u001B[39m, \u001B[38;5;28;01mNone\u001B[39;00m)\n\u001B[1;32m    185\u001B[0m \u001B[38;5;28;01mwhile\u001B[39;00m \u001B[38;5;28;01mTrue\u001B[39;00m:\n\u001B[0;32m--> 186\u001B[0m     event \u001B[38;5;241m=\u001B[39m \u001B[38;5;28;01mawait\u001B[39;00m \u001B[38;5;28mself\u001B[39m\u001B[38;5;241m.\u001B[39m_receive_event(timeout\u001B[38;5;241m=\u001B[39mtimeout)\n\u001B[1;32m    187\u001B[0m     \u001B[38;5;28;01mif\u001B[39;00m \u001B[38;5;28misinstance\u001B[39m(event, h11\u001B[38;5;241m.\u001B[39mResponse):\n\u001B[1;32m    188\u001B[0m         \u001B[38;5;28;01mbreak\u001B[39;00m\n",
      "File \u001B[0;32m~/Library/Caches/pypoetry/virtualenvs/llm-evaluation--UvhI9ny-py3.12/lib/python3.12/site-packages/httpcore/_async/http11.py:224\u001B[0m, in \u001B[0;36mAsyncHTTP11Connection._receive_event\u001B[0;34m(self, timeout)\u001B[0m\n\u001B[1;32m    221\u001B[0m     event \u001B[38;5;241m=\u001B[39m \u001B[38;5;28mself\u001B[39m\u001B[38;5;241m.\u001B[39m_h11_state\u001B[38;5;241m.\u001B[39mnext_event()\n\u001B[1;32m    223\u001B[0m \u001B[38;5;28;01mif\u001B[39;00m event \u001B[38;5;129;01mis\u001B[39;00m h11\u001B[38;5;241m.\u001B[39mNEED_DATA:\n\u001B[0;32m--> 224\u001B[0m     data \u001B[38;5;241m=\u001B[39m \u001B[38;5;28;01mawait\u001B[39;00m \u001B[38;5;28mself\u001B[39m\u001B[38;5;241m.\u001B[39m_network_stream\u001B[38;5;241m.\u001B[39mread(\n\u001B[1;32m    225\u001B[0m         \u001B[38;5;28mself\u001B[39m\u001B[38;5;241m.\u001B[39mREAD_NUM_BYTES, timeout\u001B[38;5;241m=\u001B[39mtimeout\n\u001B[1;32m    226\u001B[0m     )\n\u001B[1;32m    228\u001B[0m     \u001B[38;5;66;03m# If we feed this case through h11 we'll raise an exception like:\u001B[39;00m\n\u001B[1;32m    229\u001B[0m     \u001B[38;5;66;03m#\u001B[39;00m\n\u001B[1;32m    230\u001B[0m     \u001B[38;5;66;03m#     httpcore.RemoteProtocolError: can't handle event type\u001B[39;00m\n\u001B[0;32m   (...)\u001B[0m\n\u001B[1;32m    234\u001B[0m     \u001B[38;5;66;03m# perspective. Instead we handle this case distinctly and treat\u001B[39;00m\n\u001B[1;32m    235\u001B[0m     \u001B[38;5;66;03m# it as a ConnectError.\u001B[39;00m\n\u001B[1;32m    236\u001B[0m     \u001B[38;5;28;01mif\u001B[39;00m data \u001B[38;5;241m==\u001B[39m \u001B[38;5;124mb\u001B[39m\u001B[38;5;124m\"\u001B[39m\u001B[38;5;124m\"\u001B[39m \u001B[38;5;129;01mand\u001B[39;00m \u001B[38;5;28mself\u001B[39m\u001B[38;5;241m.\u001B[39m_h11_state\u001B[38;5;241m.\u001B[39mtheir_state \u001B[38;5;241m==\u001B[39m h11\u001B[38;5;241m.\u001B[39mSEND_RESPONSE:\n",
      "File \u001B[0;32m~/Library/Caches/pypoetry/virtualenvs/llm-evaluation--UvhI9ny-py3.12/lib/python3.12/site-packages/httpcore/_backends/anyio.py:35\u001B[0m, in \u001B[0;36mAnyIOStream.read\u001B[0;34m(self, max_bytes, timeout)\u001B[0m\n\u001B[1;32m     33\u001B[0m \u001B[38;5;28;01mwith\u001B[39;00m anyio\u001B[38;5;241m.\u001B[39mfail_after(timeout):\n\u001B[1;32m     34\u001B[0m     \u001B[38;5;28;01mtry\u001B[39;00m:\n\u001B[0;32m---> 35\u001B[0m         \u001B[38;5;28;01mreturn\u001B[39;00m \u001B[38;5;28;01mawait\u001B[39;00m \u001B[38;5;28mself\u001B[39m\u001B[38;5;241m.\u001B[39m_stream\u001B[38;5;241m.\u001B[39mreceive(max_bytes\u001B[38;5;241m=\u001B[39mmax_bytes)\n\u001B[1;32m     36\u001B[0m     \u001B[38;5;28;01mexcept\u001B[39;00m anyio\u001B[38;5;241m.\u001B[39mEndOfStream:  \u001B[38;5;66;03m# pragma: nocover\u001B[39;00m\n\u001B[1;32m     37\u001B[0m         \u001B[38;5;28;01mreturn\u001B[39;00m \u001B[38;5;124mb\u001B[39m\u001B[38;5;124m\"\u001B[39m\u001B[38;5;124m\"\u001B[39m\n",
      "File \u001B[0;32m~/Library/Caches/pypoetry/virtualenvs/llm-evaluation--UvhI9ny-py3.12/lib/python3.12/site-packages/anyio/streams/tls.py:205\u001B[0m, in \u001B[0;36mTLSStream.receive\u001B[0;34m(self, max_bytes)\u001B[0m\n\u001B[1;32m    204\u001B[0m \u001B[38;5;28;01masync\u001B[39;00m \u001B[38;5;28;01mdef\u001B[39;00m \u001B[38;5;21mreceive\u001B[39m(\u001B[38;5;28mself\u001B[39m, max_bytes: \u001B[38;5;28mint\u001B[39m \u001B[38;5;241m=\u001B[39m \u001B[38;5;241m65536\u001B[39m) \u001B[38;5;241m-\u001B[39m\u001B[38;5;241m>\u001B[39m \u001B[38;5;28mbytes\u001B[39m:\n\u001B[0;32m--> 205\u001B[0m     data \u001B[38;5;241m=\u001B[39m \u001B[38;5;28;01mawait\u001B[39;00m \u001B[38;5;28mself\u001B[39m\u001B[38;5;241m.\u001B[39m_call_sslobject_method(\u001B[38;5;28mself\u001B[39m\u001B[38;5;241m.\u001B[39m_ssl_object\u001B[38;5;241m.\u001B[39mread, max_bytes)\n\u001B[1;32m    206\u001B[0m     \u001B[38;5;28;01mif\u001B[39;00m \u001B[38;5;129;01mnot\u001B[39;00m data:\n\u001B[1;32m    207\u001B[0m         \u001B[38;5;28;01mraise\u001B[39;00m EndOfStream\n",
      "File \u001B[0;32m~/Library/Caches/pypoetry/virtualenvs/llm-evaluation--UvhI9ny-py3.12/lib/python3.12/site-packages/anyio/streams/tls.py:147\u001B[0m, in \u001B[0;36mTLSStream._call_sslobject_method\u001B[0;34m(self, func, *args)\u001B[0m\n\u001B[1;32m    144\u001B[0m     \u001B[38;5;28;01mif\u001B[39;00m \u001B[38;5;28mself\u001B[39m\u001B[38;5;241m.\u001B[39m_write_bio\u001B[38;5;241m.\u001B[39mpending:\n\u001B[1;32m    145\u001B[0m         \u001B[38;5;28;01mawait\u001B[39;00m \u001B[38;5;28mself\u001B[39m\u001B[38;5;241m.\u001B[39mtransport_stream\u001B[38;5;241m.\u001B[39msend(\u001B[38;5;28mself\u001B[39m\u001B[38;5;241m.\u001B[39m_write_bio\u001B[38;5;241m.\u001B[39mread())\n\u001B[0;32m--> 147\u001B[0m     data \u001B[38;5;241m=\u001B[39m \u001B[38;5;28;01mawait\u001B[39;00m \u001B[38;5;28mself\u001B[39m\u001B[38;5;241m.\u001B[39mtransport_stream\u001B[38;5;241m.\u001B[39mreceive()\n\u001B[1;32m    148\u001B[0m \u001B[38;5;28;01mexcept\u001B[39;00m EndOfStream:\n\u001B[1;32m    149\u001B[0m     \u001B[38;5;28mself\u001B[39m\u001B[38;5;241m.\u001B[39m_read_bio\u001B[38;5;241m.\u001B[39mwrite_eof()\n",
      "File \u001B[0;32m~/Library/Caches/pypoetry/virtualenvs/llm-evaluation--UvhI9ny-py3.12/lib/python3.12/site-packages/anyio/_backends/_asyncio.py:1142\u001B[0m, in \u001B[0;36mSocketStream.receive\u001B[0;34m(self, max_bytes)\u001B[0m\n\u001B[1;32m   1136\u001B[0m \u001B[38;5;28;01mif\u001B[39;00m (\n\u001B[1;32m   1137\u001B[0m     \u001B[38;5;129;01mnot\u001B[39;00m \u001B[38;5;28mself\u001B[39m\u001B[38;5;241m.\u001B[39m_protocol\u001B[38;5;241m.\u001B[39mread_event\u001B[38;5;241m.\u001B[39mis_set()\n\u001B[1;32m   1138\u001B[0m     \u001B[38;5;129;01mand\u001B[39;00m \u001B[38;5;129;01mnot\u001B[39;00m \u001B[38;5;28mself\u001B[39m\u001B[38;5;241m.\u001B[39m_transport\u001B[38;5;241m.\u001B[39mis_closing()\n\u001B[1;32m   1139\u001B[0m     \u001B[38;5;129;01mand\u001B[39;00m \u001B[38;5;129;01mnot\u001B[39;00m \u001B[38;5;28mself\u001B[39m\u001B[38;5;241m.\u001B[39m_protocol\u001B[38;5;241m.\u001B[39mis_at_eof\n\u001B[1;32m   1140\u001B[0m ):\n\u001B[1;32m   1141\u001B[0m     \u001B[38;5;28mself\u001B[39m\u001B[38;5;241m.\u001B[39m_transport\u001B[38;5;241m.\u001B[39mresume_reading()\n\u001B[0;32m-> 1142\u001B[0m     \u001B[38;5;28;01mawait\u001B[39;00m \u001B[38;5;28mself\u001B[39m\u001B[38;5;241m.\u001B[39m_protocol\u001B[38;5;241m.\u001B[39mread_event\u001B[38;5;241m.\u001B[39mwait()\n\u001B[1;32m   1143\u001B[0m     \u001B[38;5;28mself\u001B[39m\u001B[38;5;241m.\u001B[39m_transport\u001B[38;5;241m.\u001B[39mpause_reading()\n\u001B[1;32m   1144\u001B[0m \u001B[38;5;28;01melse\u001B[39;00m:\n",
      "File \u001B[0;32m~/.pyenv/versions/3.12.2/lib/python3.12/asyncio/locks.py:212\u001B[0m, in \u001B[0;36mEvent.wait\u001B[0;34m(self)\u001B[0m\n\u001B[1;32m    210\u001B[0m \u001B[38;5;28mself\u001B[39m\u001B[38;5;241m.\u001B[39m_waiters\u001B[38;5;241m.\u001B[39mappend(fut)\n\u001B[1;32m    211\u001B[0m \u001B[38;5;28;01mtry\u001B[39;00m:\n\u001B[0;32m--> 212\u001B[0m     \u001B[38;5;28;01mawait\u001B[39;00m fut\n\u001B[1;32m    213\u001B[0m     \u001B[38;5;28;01mreturn\u001B[39;00m \u001B[38;5;28;01mTrue\u001B[39;00m\n\u001B[1;32m    214\u001B[0m \u001B[38;5;28;01mfinally\u001B[39;00m:\n",
      "\u001B[0;31mCancelledError\u001B[0m: "
     ]
    }
   ],
   "execution_count": 59
  },
  {
   "metadata": {
    "ExecuteTime": {
     "end_time": "2024-09-13T10:16:14.386106Z",
     "start_time": "2024-09-13T10:16:14.378375Z"
    }
   },
   "cell_type": "code",
   "source": "calc_stats(golden_results)",
   "id": "d2bde52c77c956",
   "outputs": [
    {
     "name": "stderr",
     "output_type": "stream",
     "text": [
      "/var/folders/mq/lvh6fs2s70vffqwr4lz5sy240000gn/T/ipykernel_44811/3406399673.py:6: DeprecationWarning: The argument `columns` for `DataFrame.pivot` is deprecated. It has been renamed to `on`.\n",
      "  accuracy_df.pivot(\n"
     ]
    },
    {
     "data": {
      "text/plain": [
       "shape: (8, 5)\n",
       "┌──────────────────────────┬──────────────────────────┬────────────┬────────────────────┬──────────┐\n",
       "│ model                    ┆ NewsTopicClassificationD ┆ ZnoDataset ┆ NewsKeywordDataset ┆ mean     │\n",
       "│ ---                      ┆ ataset                   ┆ ---        ┆ ---                ┆ ---      │\n",
       "│ str                      ┆ ---                      ┆ f64        ┆ f64                ┆ f64      │\n",
       "│                          ┆ f64                      ┆            ┆                    ┆          │\n",
       "╞══════════════════════════╪══════════════════════════╪════════════╪════════════════════╪══════════╡\n",
       "│ ostapbodnar/Phi3.5-mini- ┆ 0.049828                 ┆ 0.003401   ┆ 0.198051           ┆ 0.08376  │\n",
       "│ instru…                  ┆                          ┆            ┆                    ┆          │\n",
       "│ microsoft/Phi-3.5-mini-i ┆ 0.151098                 ┆ 0.007576   ┆ 0.267253           ┆ 0.141976 │\n",
       "│ nstruc…                  ┆                          ┆            ┆                    ┆          │\n",
       "│ ft:gpt-4o-mini-2024-07-1 ┆ 0.8125                   ┆ 0.061279   ┆ 0.642144           ┆ 0.505308 │\n",
       "│ 8:pers…                  ┆                          ┆            ┆                    ┆          │\n",
       "│ ostapbodnar/Phi3.5-mini- ┆ 0.124008                 ┆ 0.003268   ┆ 0.005698           ┆ 0.044324 │\n",
       "│ instru…                  ┆                          ┆            ┆                    ┆          │\n",
       "│ gpt-4o                   ┆ 0.247146                 ┆ 0.006944   ┆ 0.205545           ┆ 0.153212 │\n",
       "│ gpt-4o-mini              ┆ 0.225103                 ┆ 0.005556   ┆ 0.125078           ┆ 0.118579 │\n",
       "│ ostapbodnar/Phi3.5-mini- ┆ 0.604423                 ┆ 0.007576   ┆ 0.61127            ┆ 0.407756 │\n",
       "│ instru…                  ┆                          ┆            ┆                    ┆          │\n",
       "│ mean                     ┆ 0.316301                 ┆ 0.013657   ┆ 0.293577           ┆ 0.207845 │\n",
       "└──────────────────────────┴──────────────────────────┴────────────┴────────────────────┴──────────┘"
      ],
      "text/html": [
       "<div><style>\n",
       ".dataframe > thead > tr,\n",
       ".dataframe > tbody > tr {\n",
       "  text-align: right;\n",
       "  white-space: pre-wrap;\n",
       "}\n",
       "</style>\n",
       "<small>shape: (8, 5)</small><table border=\"1\" class=\"dataframe\"><thead><tr><th>model</th><th>NewsTopicClassificationDataset</th><th>ZnoDataset</th><th>NewsKeywordDataset</th><th>mean</th></tr><tr><td>str</td><td>f64</td><td>f64</td><td>f64</td><td>f64</td></tr></thead><tbody><tr><td>&quot;ostapbodnar/Phi3.5-mini-instru…</td><td>0.049828</td><td>0.003401</td><td>0.198051</td><td>0.08376</td></tr><tr><td>&quot;microsoft/Phi-3.5-mini-instruc…</td><td>0.151098</td><td>0.007576</td><td>0.267253</td><td>0.141976</td></tr><tr><td>&quot;ft:gpt-4o-mini-2024-07-18:pers…</td><td>0.8125</td><td>0.061279</td><td>0.642144</td><td>0.505308</td></tr><tr><td>&quot;ostapbodnar/Phi3.5-mini-instru…</td><td>0.124008</td><td>0.003268</td><td>0.005698</td><td>0.044324</td></tr><tr><td>&quot;gpt-4o&quot;</td><td>0.247146</td><td>0.006944</td><td>0.205545</td><td>0.153212</td></tr><tr><td>&quot;gpt-4o-mini&quot;</td><td>0.225103</td><td>0.005556</td><td>0.125078</td><td>0.118579</td></tr><tr><td>&quot;ostapbodnar/Phi3.5-mini-instru…</td><td>0.604423</td><td>0.007576</td><td>0.61127</td><td>0.407756</td></tr><tr><td>&quot;mean&quot;</td><td>0.316301</td><td>0.013657</td><td>0.293577</td><td>0.207845</td></tr></tbody></table></div>"
      ]
     },
     "execution_count": 60,
     "metadata": {},
     "output_type": "execute_result"
    }
   ],
   "execution_count": 60
  },
  {
   "cell_type": "code",
   "id": "f08a0474494229c3",
   "metadata": {},
   "source": [],
   "outputs": [],
   "execution_count": null
  },
  {
   "metadata": {},
   "cell_type": "markdown",
   "source": "python main.py     --tasks=mmlu_uk --limit=100     --model_args pretrained=microsoft/Phi-3.5-mini-instruct     --device=cuda",
   "id": "c5684af095c92445"
  },
  {
   "metadata": {},
   "cell_type": "markdown",
   "source": "python main.py     --tasks=mmlu_uk --limit=100     --model_args pretrained=ostapbodnar/Phi3.5-mini-instruct-UA-lora-unsloth-mixed-16bit     --device=cuda",
   "id": "a6cd13c82d64b49c"
  },
  {
   "metadata": {},
   "cell_type": "markdown",
   "source": "export HF_DATASETS_TRUST_REMOTE_CODE=true",
   "id": "faea4bb78de79979"
  }
 ],
 "metadata": {
  "kernelspec": {
   "display_name": "masters_llm_eval",
   "language": "python",
   "name": "masters_llm_eval"
  },
  "language_info": {
   "codemirror_mode": {
    "name": "ipython",
    "version": 3
   },
   "file_extension": ".py",
   "mimetype": "text/x-python",
   "name": "python",
   "nbconvert_exporter": "python",
   "pygments_lexer": "ipython3",
   "version": "3.12.2"
  }
 },
 "nbformat": 4,
 "nbformat_minor": 5
}
