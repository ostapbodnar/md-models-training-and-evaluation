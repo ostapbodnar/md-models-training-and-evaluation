{
 "cells": [
  {
   "cell_type": "code",
   "id": "9e4cb8f4-456b-4b56-a6ac-bf9709f9e70a",
   "metadata": {
    "ExecuteTime": {
     "end_time": "2024-09-13T09:15:55.538362Z",
     "start_time": "2024-09-13T09:15:55.533867Z"
    }
   },
   "source": [
    "\n",
    "import sys\n",
    "\n",
    "sys.path.append(\"../\")"
   ],
   "outputs": [],
   "execution_count": 1
  },
  {
   "cell_type": "code",
   "id": "initial_id",
   "metadata": {
    "ExecuteTime": {
     "end_time": "2024-09-15T12:30:06.781305Z",
     "start_time": "2024-09-15T12:30:06.764681Z"
    }
   },
   "source": [
    "import polars as pl\n",
    "from dotenv import load_dotenv\n",
    "\n",
    "from evaluation.annotation import TaggedText\n",
    "from evaluation.eval_algorithm import TaggedTextComparison\n",
    "\n",
    "load_dotenv()"
   ],
   "outputs": [
    {
     "data": {
      "text/plain": [
       "True"
      ]
     },
     "execution_count": 2,
     "metadata": {},
     "output_type": "execute_result"
    }
   ],
   "execution_count": 2
  },
  {
   "cell_type": "code",
   "id": "525da483a4789efc",
   "metadata": {
    "ExecuteTime": {
     "end_time": "2024-09-15T12:30:08.228341Z",
     "start_time": "2024-09-15T12:30:07.248402Z"
    }
   },
   "source": [
    "from huggingface_hub import login\n",
    "import os\n",
    "\n",
    "login(token=os.getenv(\"HF_TOKEN\"))"
   ],
   "outputs": [
    {
     "name": "stdout",
     "output_type": "stream",
     "text": [
      "The token has not been saved to the git credentials helper. Pass `add_to_git_credential=True` in this function directly or `--add-to-git-credential` if using via `huggingface-cli` if you want to set the git credential as well.\n",
      "Token is valid (permission: fineGrained).\n",
      "Your token has been saved to /Users/ostapbodnar/.cache/huggingface/token\n",
      "Login successful\n"
     ]
    }
   ],
   "execution_count": 3
  },
  {
   "cell_type": "code",
   "id": "a7fae72c33b341c5",
   "metadata": {
    "ExecuteTime": {
     "end_time": "2024-09-15T12:30:08.232967Z",
     "start_time": "2024-09-15T12:30:08.230171Z"
    }
   },
   "source": [
    "from huggingface_hub import InferenceClient\n",
    "\n",
    "client = InferenceClient(base_url=\"https://jnovl897uj1glqgn.us-east-1.aws.endpoints.huggingface.cloud\")"
   ],
   "outputs": [],
   "execution_count": 4
  },
  {
   "cell_type": "code",
   "id": "d2b353e8f911b2db",
   "metadata": {
    "ExecuteTime": {
     "end_time": "2024-09-15T12:30:09.094084Z",
     "start_time": "2024-09-15T12:30:08.234466Z"
    }
   },
   "source": [
    "compl = client.chat.completions.create(\n",
    "    [\n",
    "        {\"role\": \"system\", \"content\": \"You are a helpful assistant\"},\n",
    "        {\"role\": \"user\", \"content\": \"Давай відповіді на запитання. \\n Input: Яка столиця України?\\n Output:\"},\n",
    "    ],\n",
    "    max_tokens=2096,\n",
    "    # top_k=30,\n",
    "    top_p=0.9,\n",
    "    temperature=0.2,\n",
    "    # repetition_penalty=1.02,\n",
    "    stop=[\"\\nUser:\", \"<|endoftext|>\", \"</s>\"],\n",
    ")\n",
    "compl"
   ],
   "outputs": [
    {
     "data": {
      "text/plain": [
       "ChatCompletionOutput(choices=[ChatCompletionOutputComplete(finish_reason='stop', index=0, message=ChatCompletionOutputMessage(role='assistant', content='Київ', tool_calls=None), logprobs=None)], created=1726403409, id='', model='/repository', system_fingerprint='2.2.1-dev0-sha-f852190', usage=ChatCompletionOutputUsage(completion_tokens=3, prompt_tokens=36, total_tokens=39))"
      ]
     },
     "execution_count": 5,
     "metadata": {},
     "output_type": "execute_result"
    }
   ],
   "execution_count": 5
  },
  {
   "cell_type": "code",
   "id": "102dd4d6ee8e6e50",
   "metadata": {
    "ExecuteTime": {
     "end_time": "2024-09-15T12:30:10.172236Z",
     "start_time": "2024-09-15T12:30:10.166928Z"
    }
   },
   "source": [
    "compl.choices[0].message['content']"
   ],
   "outputs": [
    {
     "name": "stderr",
     "output_type": "stream",
     "text": [
      "/Users/ostapbodnar/Library/Caches/pypoetry/virtualenvs/llm-evaluation--UvhI9ny-py3.12/lib/python3.12/site-packages/huggingface_hub/inference/_generated/types/base.py:139: FutureWarning: Accessing 'ChatCompletionOutputMessage' values through dict is deprecated and will be removed from version '0.25'. Use dataclass attributes instead.\n",
      "  warnings.warn(\n"
     ]
    },
    {
     "data": {
      "text/plain": [
       "'Київ'"
      ]
     },
     "execution_count": 6,
     "metadata": {},
     "output_type": "execute_result"
    }
   ],
   "execution_count": 6
  },
  {
   "cell_type": "code",
   "id": "61050a5e7fc3347b",
   "metadata": {
    "ExecuteTime": {
     "end_time": "2024-09-15T12:30:14.061203Z",
     "start_time": "2024-09-15T12:30:12.454840Z"
    }
   },
   "source": [
    "from datasets import load_dataset, Features, Value, concatenate_datasets\n",
    "from collections import Counter\n",
    "\n",
    "features = Features({\n",
    "    'input': Value('string'),\n",
    "    'output': Value('string'),\n",
    "    'instruct': Value('string'),\n",
    "    'dataset_type': Value('string'),\n",
    "    'dataloader_name': Value('string')\n",
    "})\n",
    "\n",
    "\n",
    "def custom_sample(dataset, sampling_fractions):\n",
    "    sampled_datasets = []\n",
    "    for name, fraction in sampling_fractions.items():\n",
    "        filtered_dataset = dataset.filter(lambda x: x['dataloader_name'] == name)\n",
    "        if fraction < 1.0:\n",
    "            sampled_dataset = filtered_dataset.train_test_split(train_size=fraction, seed=42)['train']\n",
    "        else:\n",
    "            sampled_dataset = filtered_dataset\n",
    "        sampled_datasets.append(sampled_dataset)\n",
    "\n",
    "    return concatenate_datasets(sampled_datasets)\n",
    "\n",
    "\n",
    "def value_counts(data):\n",
    "    value_counts = Counter(data)\n",
    "    print(value_counts)"
   ],
   "outputs": [],
   "execution_count": 7
  },
  {
   "cell_type": "code",
   "id": "16f350cce0706c08",
   "metadata": {
    "ExecuteTime": {
     "end_time": "2024-09-15T12:30:16.912302Z",
     "start_time": "2024-09-15T12:30:14.063026Z"
    }
   },
   "source": [
    "artificial_ds = load_dataset(\"ostapbodnar/ua-gec-pos-ner-artificial\", data_dir=\"small\", split=\"validation\",\n",
    "                             features=features)"
   ],
   "outputs": [],
   "execution_count": 8
  },
  {
   "cell_type": "code",
   "id": "e77dc2a0ba98f7a8",
   "metadata": {
    "ExecuteTime": {
     "end_time": "2024-09-15T12:30:16.923496Z",
     "start_time": "2024-09-15T12:30:16.915971Z"
    }
   },
   "source": [
    "artificial_ds"
   ],
   "outputs": [
    {
     "data": {
      "text/plain": [
       "Dataset({\n",
       "    features: ['input', 'output', 'instruct', 'dataset_type', 'dataloader_name'],\n",
       "    num_rows: 25549\n",
       "})"
      ]
     },
     "execution_count": 9,
     "metadata": {},
     "output_type": "execute_result"
    }
   ],
   "execution_count": 9
  },
  {
   "cell_type": "code",
   "id": "1f07b1d20add94f3",
   "metadata": {
    "ExecuteTime": {
     "end_time": "2024-09-15T12:30:17.016125Z",
     "start_time": "2024-09-15T12:30:16.925587Z"
    }
   },
   "source": [
    "sampling_fractions = {\n",
    "    \"PapersDataset\": 0.65,\n",
    "    \"UbertextV2Dataset\": 1.0,\n",
    "}\n",
    "\n",
    "artificial_ds = artificial_ds.filter(lambda x: x['dataloader_name'] in sampling_fractions)\n",
    "artificial_ds = custom_sample(artificial_ds, sampling_fractions)\n",
    "artificial_ds = artificial_ds.shuffle(seed=42)\n",
    "\n",
    "artificial_ds = artificial_ds.shuffle(seed=42).select(range(1000))\n",
    "\n",
    "value_counts(artificial_ds['dataloader_name'])"
   ],
   "outputs": [
    {
     "name": "stdout",
     "output_type": "stream",
     "text": [
      "Counter({'PapersDataset': 548, 'UbertextV2Dataset': 452})\n"
     ]
    }
   ],
   "execution_count": 10
  },
  {
   "cell_type": "code",
   "id": "68a7f7d8f89775d2",
   "metadata": {
    "ExecuteTime": {
     "end_time": "2024-09-15T12:30:19.351727Z",
     "start_time": "2024-09-15T12:30:17.020192Z"
    }
   },
   "source": [
    "golden_ds = load_dataset(\"ostapbodnar/ua-gec-pos-ner-golden\", features=features, split=\"validation\")"
   ],
   "outputs": [],
   "execution_count": 11
  },
  {
   "cell_type": "code",
   "id": "636fb145aa0d0f83",
   "metadata": {
    "ExecuteTime": {
     "end_time": "2024-09-15T12:30:19.427628Z",
     "start_time": "2024-09-15T12:30:19.352963Z"
    }
   },
   "source": [
    "sampling_fractions = {\n",
    "    \"UaSqaudDataset\": 0.35,\n",
    "    \"NewsTopicClassificationDataset\": 0.03,\n",
    "    \"NewsKeywordDataset\": 0.03,\n",
    "    \"WscDataset\": 1.0,\n",
    "    'ZnoDataset': 0.85,\n",
    "}\n",
    "\n",
    "golden_ds_class = golden_ds.filter(lambda x: x['dataloader_name'] in sampling_fractions)\n",
    "golden_ds_class = custom_sample(golden_ds_class, sampling_fractions)\n",
    "golden_ds_class = golden_ds_class.shuffle(seed=42)\n",
    "\n",
    "golden_ds_class = golden_ds_class.shuffle(seed=42).select(range(1000))\n",
    "\n",
    "value_counts(golden_ds_class['dataloader_name'])"
   ],
   "outputs": [
    {
     "name": "stdout",
     "output_type": "stream",
     "text": [
      "Counter({'UaSqaudDataset': 295, 'NewsTopicClassificationDataset': 276, 'NewsKeywordDataset': 241, 'ZnoDataset': 176, 'WscDataset': 12})\n"
     ]
    }
   ],
   "execution_count": 12
  },
  {
   "cell_type": "code",
   "id": "997cb9b475cf3469",
   "metadata": {
    "ExecuteTime": {
     "end_time": "2024-09-15T12:30:19.485390Z",
     "start_time": "2024-09-15T12:30:19.430456Z"
    }
   },
   "source": [
    "sampling_fractions = {\n",
    "    \"UaGecDataset\": 0.55,\n",
    "    \"NerDataset\": 1.0,\n",
    "    'MovaInstPosDataset': 0.55,\n",
    "}\n",
    "\n",
    "golden_ds_tag = golden_ds.filter(lambda x: x['dataloader_name'] in sampling_fractions)\n",
    "golden_ds_tag = custom_sample(golden_ds_tag, sampling_fractions)\n",
    "golden_ds_tag = golden_ds_tag.shuffle(seed=42)\n",
    "\n",
    "golden_ds_tag = golden_ds_tag.shuffle(seed=42).select(range(1000))\n",
    "value_counts(golden_ds_tag['dataloader_name'])"
   ],
   "outputs": [
    {
     "name": "stdout",
     "output_type": "stream",
     "text": [
      "Counter({'UaGecDataset': 485, 'MovaInstPosDataset': 471, 'NerDataset': 44})\n"
     ]
    }
   ],
   "execution_count": 13
  },
  {
   "cell_type": "code",
   "id": "d055427d1538b285",
   "metadata": {
    "ExecuteTime": {
     "end_time": "2024-09-15T12:30:20.281929Z",
     "start_time": "2024-09-15T12:30:19.487509Z"
    }
   },
   "source": [
    "import os\n",
    "from openai import OpenAI, AsyncOpenAI\n",
    "from huggingface_hub import AsyncInferenceClient\n",
    "\n",
    "openai_client = AsyncOpenAI(api_key=os.environ['OPENAI_API_KEY'])\n",
    "\n",
    "models = {\n",
    "    'microsoft/Phi-3.5-mini-instruct': AsyncInferenceClient(\n",
    "        base_url=\"https://jo64cpqkvayl7daj.us-east-1.aws.endpoints.huggingface.cloud\"),\n",
    "    # 'ostapbodnar/Phi3-mini-4k-instruct-UA': InferenceClient(base_url=\"https://it7s4lcu4sy306c2.eu-west-1.aws.endpoints.huggingface.cloud\"),\n",
    "    'ostapbodnar/Phi3.5-mini-instruct-UA-qlora': AsyncInferenceClient(\n",
    "        base_url=\"https://it7s4lcu4sy306c2.eu-west-1.aws.endpoints.huggingface.cloud\"),\n",
    "    'ostapbodnar/Phi3.5-mini-instruct-UA-lora-unsloth-artificial': AsyncInferenceClient(\n",
    "        base_url=\"https://kg2x3u556icag7u2.eu-west-1.aws.endpoints.huggingface.cloud\"),\n",
    "    'ostapbodnar/Phi3.5-mini-instruct-UA-lora-unsloth-mixed': AsyncInferenceClient(\n",
    "        base_url=\"https://jnovl897uj1glqgn.us-east-1.aws.endpoints.huggingface.cloud\"),\n",
    "    'ft:gpt-4o-mini-2024-07-18:personal::A7fOmagX': openai_client,\n",
    "    'gpt-4o-mini': openai_client,\n",
    "}\n"
   ],
   "outputs": [],
   "execution_count": 14
  },
  {
   "metadata": {
    "ExecuteTime": {
     "end_time": "2024-09-15T12:30:21.312568Z",
     "start_time": "2024-09-15T12:30:20.285319Z"
    }
   },
   "cell_type": "code",
   "source": [
    "compl = await openai_client.chat.completions.create(\n",
    "\n",
    "    messages=[\n",
    "        {\"role\": \"system\", \"content\": \"You are a helpful assistant\"},\n",
    "        {\"role\": \"user\", \"content\": \"Давай відповіді на запитання. \\n Input: Яка столиця України?\\n Output:\"},\n",
    "    ],\n",
    "        model=\"gpt-4o\",\n",
    "    max_tokens=2096,\n",
    "    # top_k=30,\n",
    "    top_p=0.9,\n",
    "    temperature=0.2,\n",
    "    # repetition_penalty=1.02,\n",
    "    stop=[\"\\nUser:\", \"<|endoftext|>\", \"</s>\"],\n",
    ")\n",
    "compl"
   ],
   "id": "276fbe469c201934",
   "outputs": [
    {
     "data": {
      "text/plain": [
       "ChatCompletion(id='chatcmpl-A7igP6oezD6bFdqBjx9UCbEIPdkdd', choices=[Choice(finish_reason='stop', index=0, logprobs=None, message=ChatCompletionMessage(content='Київ є столицею України.', refusal=None, role='assistant', function_call=None, tool_calls=None))], created=1726403421, model='gpt-4o-2024-05-13', object='chat.completion', service_tier=None, system_fingerprint='fp_25624ae3a5', usage=CompletionUsage(completion_tokens=9, prompt_tokens=39, total_tokens=48, completion_tokens_details={'reasoning_tokens': 0}))"
      ]
     },
     "execution_count": 15,
     "metadata": {},
     "output_type": "execute_result"
    }
   ],
   "execution_count": 15
  },
  {
   "cell_type": "code",
   "id": "7c7e5db4141a9afd",
   "metadata": {
    "ExecuteTime": {
     "end_time": "2024-09-15T12:30:21.327214Z",
     "start_time": "2024-09-15T12:30:21.314746Z"
    }
   },
   "source": [
    "from difflib import SequenceMatcher\n",
    "from datasets import Dataset\n",
    "from tqdm.notebook import tqdm_notebook\n",
    "import asyncio\n",
    "\n",
    "\n",
    "async def _eval_model(model_name, client: AsyncOpenAI | AsyncInferenceClient, dataset, scoring_func, max_tokens,\n",
    "                      concurrency_limit=10):\n",
    "    print(f\"Evaluation of {model_name}\")\n",
    "\n",
    "    semaphore = asyncio.Semaphore(concurrency_limit)  # Limit concurrent tasks\n",
    "    results = [None] * len(dataset)  # Pre-allocate results list\n",
    "\n",
    "    # Create a tqdm progress bar\n",
    "    progress_bar = tqdm_notebook(total=len(dataset), desc=f'Evaluating {model_name}')\n",
    "\n",
    "    async def process_row(index, row):\n",
    "        async with semaphore:\n",
    "            input_request = f'{row[\"instruct\"]} \\n Input: {row[\"input\"]}\\n Output:'\n",
    "            messages = [\n",
    "                {\"role\": \"system\", \"content\": \"You are a helpful assistant\"},\n",
    "                {\"role\": \"user\", \"content\": input_request},\n",
    "            ]\n",
    "\n",
    "            try:\n",
    "                response = await client.chat.completions.create(\n",
    "                    model=model_name,\n",
    "                    messages=messages,\n",
    "                    max_tokens=max_tokens,\n",
    "                    top_p=0.9,\n",
    "                    temperature=0.2,\n",
    "                    frequency_penalty=1.7,\n",
    "                    stop=[\"\\nUser:\", \"<|endoftext|>\", \"</s>\", \"\\n\"],\n",
    "                )\n",
    "                generated_text = response.choices[0].message.content\n",
    "            except Exception as e:\n",
    "                print(e)\n",
    "                generated_text = None\n",
    "                input_request = None\n",
    "\n",
    "            try:\n",
    "                accuracy_score = scoring_func(row, generated_text)\n",
    "            except Exception as e:\n",
    "                print(e)\n",
    "                accuracy_score = None\n",
    "\n",
    "            # Store results with proper ordering\n",
    "            results[index] = {\n",
    "                \"model\": model_name,\n",
    "                \"input\": input_request,\n",
    "                \"output\": row[\"output\"],\n",
    "                \"generated_output\": generated_text,\n",
    "                \"dataset_type\": row['dataloader_name'],\n",
    "                \"accuracy\": accuracy_score\n",
    "            }\n",
    "\n",
    "            progress_bar.update(1)\n",
    "\n",
    "    if 'gpt' in model_name:\n",
    "        for i, row in enumerate(dataset):\n",
    "            await process_row(i, row)\n",
    "    else:\n",
    "        tasks = [process_row(i, row) for i, row in enumerate(dataset)]\n",
    "        await asyncio.gather(*tasks)\n",
    "\n",
    "    progress_bar.close()\n",
    "    df = pl.DataFrame(results)\n",
    "    return df\n",
    "\n",
    "\n",
    "async def perform_eval_async(dataset: Dataset, scoring_func, max_tokens=2096):\n",
    "    tasks = [\n",
    "        _eval_model(model_name, client, dataset, scoring_func, max_tokens)\n",
    "        for model_name, client in models.items()\n",
    "    ]\n",
    "    results = await asyncio.gather(*tasks)\n",
    "    return pl.concat(results)\n",
    "\n",
    "\n",
    "def get_score_grammar_func(*args, **kwargs):\n",
    "    comparator = TaggedTextComparison(*args, **(dict(max_position_deviation=2, ignore_additional_tags=False) | kwargs))\n",
    "\n",
    "    def score_grammar(row, generated_text):\n",
    "        reference_text = TaggedText(row[\"output\"])\n",
    "        proposed_text = TaggedText(generated_text)\n",
    "        return comparator.compute_accuracy_score(reference_text, proposed_text)\n",
    "\n",
    "    return score_grammar\n",
    "\n",
    "\n",
    "def score_q_and_a_func(row, generated_text):\n",
    "    reference_text = row[\"output\"]\n",
    "    similarity_ratio = SequenceMatcher(None, reference_text, generated_text).ratio()\n",
    "    return similarity_ratio"
   ],
   "outputs": [],
   "execution_count": 16
  },
  {
   "metadata": {
    "ExecuteTime": {
     "end_time": "2024-09-15T12:30:21.333105Z",
     "start_time": "2024-09-15T12:30:21.328908Z"
    }
   },
   "cell_type": "code",
   "source": [
    "def calc_stats(df):\n",
    "    accuracy_df = df.group_by(['model', 'dataset_type']).agg([\n",
    "            (pl.col('accuracy').sum() / pl.len()).alias('accuracy')\n",
    "        ])\n",
    "    pivot_df = (\n",
    "        accuracy_df.pivot(\n",
    "            values='accuracy',\n",
    "            index='model',\n",
    "            columns='dataset_type'\n",
    "        )\n",
    "    )\n",
    "    \n",
    "    col_means = pivot_df.select(pl.all().exclude('model')).mean_horizontal()\n",
    "    pivot_df = pivot_df.with_columns(mean=col_means)\n",
    "    \n",
    "    row_means = pivot_df.select(pl.all().exclude('model')).mean()\n",
    "    row_means = row_means.with_columns(model=pl.lit('mean')).select(pivot_df.columns)\n",
    "    return pl.concat([pivot_df, row_means])"
   ],
   "id": "f4f9a8cd43cd59f",
   "outputs": [],
   "execution_count": 17
  },
  {
   "metadata": {
    "ExecuteTime": {
     "end_time": "2024-09-15T12:30:21.338445Z",
     "start_time": "2024-09-15T12:30:21.334451Z"
    }
   },
   "cell_type": "code",
   "source": "models.keys()",
   "id": "6b9740591eadac88",
   "outputs": [
    {
     "data": {
      "text/plain": [
       "dict_keys(['microsoft/Phi-3.5-mini-instruct', 'ostapbodnar/Phi3.5-mini-instruct-UA-qlora', 'ostapbodnar/Phi3.5-mini-instruct-UA-lora-unsloth-artificial', 'ostapbodnar/Phi3.5-mini-instruct-UA-lora-unsloth-mixed', 'ft:gpt-4o-mini-2024-07-18:personal::A7fOmagX', 'gpt-4o-mini'])"
      ]
     },
     "execution_count": 18,
     "metadata": {},
     "output_type": "execute_result"
    }
   ],
   "execution_count": 18
  },
  {
   "metadata": {
    "ExecuteTime": {
     "end_time": "2024-09-15T13:23:11.678642Z",
     "start_time": "2024-09-15T12:37:50.515308Z"
    }
   },
   "cell_type": "code",
   "source": [
    "artificial_results = await perform_eval_async(artificial_ds.shuffle(seed=42).select(range(100)),\n",
    "                                              get_score_grammar_func())\n",
    "artificial_results.write_csv(\"artificial_scores.csv\")\n",
    "artificial_results"
   ],
   "id": "26d5dc039a565e54",
   "outputs": [
    {
     "name": "stdout",
     "output_type": "stream",
     "text": [
      "Evaluation of microsoft/Phi-3.5-mini-instruct\n"
     ]
    },
    {
     "data": {
      "text/plain": [
       "Evaluating microsoft/Phi-3.5-mini-instruct:   0%|          | 0/100 [00:00<?, ?it/s]"
      ],
      "application/vnd.jupyter.widget-view+json": {
       "version_major": 2,
       "version_minor": 0,
       "model_id": "5df1006011444640a5d3bcc70168dbef"
      }
     },
     "metadata": {},
     "output_type": "display_data"
    },
    {
     "name": "stdout",
     "output_type": "stream",
     "text": [
      "Evaluation of ostapbodnar/Phi3.5-mini-instruct-UA-qlora\n"
     ]
    },
    {
     "data": {
      "text/plain": [
       "Evaluating ostapbodnar/Phi3.5-mini-instruct-UA-qlora:   0%|          | 0/100 [00:00<?, ?it/s]"
      ],
      "application/vnd.jupyter.widget-view+json": {
       "version_major": 2,
       "version_minor": 0,
       "model_id": "e665a2036df44d718052b74123e38a3e"
      }
     },
     "metadata": {},
     "output_type": "display_data"
    },
    {
     "name": "stdout",
     "output_type": "stream",
     "text": [
      "Evaluation of ostapbodnar/Phi3.5-mini-instruct-UA-lora-unsloth-artificial\n"
     ]
    },
    {
     "data": {
      "text/plain": [
       "Evaluating ostapbodnar/Phi3.5-mini-instruct-UA-lora-unsloth-artificial:   0%|          | 0/100 [00:00<?, ?it/s…"
      ],
      "application/vnd.jupyter.widget-view+json": {
       "version_major": 2,
       "version_minor": 0,
       "model_id": "0aa77c9b6c4e4e8cb43a227da4ae754c"
      }
     },
     "metadata": {},
     "output_type": "display_data"
    },
    {
     "name": "stdout",
     "output_type": "stream",
     "text": [
      "Evaluation of ostapbodnar/Phi3.5-mini-instruct-UA-lora-unsloth-mixed\n"
     ]
    },
    {
     "data": {
      "text/plain": [
       "Evaluating ostapbodnar/Phi3.5-mini-instruct-UA-lora-unsloth-mixed:   0%|          | 0/100 [00:00<?, ?it/s]"
      ],
      "application/vnd.jupyter.widget-view+json": {
       "version_major": 2,
       "version_minor": 0,
       "model_id": "bf14d46eee3142d0b80fc8c9d357f372"
      }
     },
     "metadata": {},
     "output_type": "display_data"
    },
    {
     "name": "stdout",
     "output_type": "stream",
     "text": [
      "Evaluation of ft:gpt-4o-mini-2024-07-18:personal::A7fOmagX\n"
     ]
    },
    {
     "data": {
      "text/plain": [
       "Evaluating ft:gpt-4o-mini-2024-07-18:personal::A7fOmagX:   0%|          | 0/100 [00:00<?, ?it/s]"
      ],
      "application/vnd.jupyter.widget-view+json": {
       "version_major": 2,
       "version_minor": 0,
       "model_id": "1ed01912c79f4a4d8e3a6e6da5ee7ff6"
      }
     },
     "metadata": {},
     "output_type": "display_data"
    },
    {
     "name": "stdout",
     "output_type": "stream",
     "text": [
      "Evaluation of gpt-4o-mini\n"
     ]
    },
    {
     "data": {
      "text/plain": [
       "Evaluating gpt-4o-mini:   0%|          | 0/100 [00:00<?, ?it/s]"
      ],
      "application/vnd.jupyter.widget-view+json": {
       "version_major": 2,
       "version_minor": 0,
       "model_id": "01db8de745cb47f7b711ee740084079f"
      }
     },
     "metadata": {},
     "output_type": "display_data"
    },
    {
     "name": "stdout",
     "output_type": "stream",
     "text": [
      "422, message='Unprocessable Entity', url='https://it7s4lcu4sy306c2.eu-west-1.aws.endpoints.huggingface.cloud/v1/chat/completions'\n",
      "`text` must be string, not <class 'NoneType'>\n",
      "422, message='Unprocessable Entity', url='https://kg2x3u556icag7u2.eu-west-1.aws.endpoints.huggingface.cloud/v1/chat/completions'\n",
      "`text` must be string, not <class 'NoneType'>\n",
      "422, message='Unprocessable Entity', url='https://jo64cpqkvayl7daj.us-east-1.aws.endpoints.huggingface.cloud/v1/chat/completions'\n",
      "`text` must be string, not <class 'NoneType'>\n",
      "422, message='Unprocessable Entity', url='https://jnovl897uj1glqgn.us-east-1.aws.endpoints.huggingface.cloud/v1/chat/completions'\n",
      "`text` must be string, not <class 'NoneType'>\n"
     ]
    },
    {
     "data": {
      "text/plain": [
       "shape: (600, 6)\n",
       "┌─────────────────┬─────────────────┬─────────────────┬────────────────┬────────────────┬──────────┐\n",
       "│ model           ┆ input           ┆ output          ┆ generated_outp ┆ dataset_type   ┆ accuracy │\n",
       "│ ---             ┆ ---             ┆ ---             ┆ ut             ┆ ---            ┆ ---      │\n",
       "│ str             ┆ str             ┆ str             ┆ ---            ┆ str            ┆ f64      │\n",
       "│                 ┆                 ┆                 ┆ str            ┆                ┆          │\n",
       "╞═════════════════╪═════════════════╪═════════════════╪════════════════╪════════════════╪══════════╡\n",
       "│ microsoft/Phi-3 ┆ Використай      ┆ <p t=\"X\">уничто ┆ <g ed=\"G/Case\" ┆ PapersDataset  ┆ 0.005952 │\n",
       "│ .5-mini-instruc ┆ наведені нижче  ┆ жены</p> <p     ┆ et=\"Тип        ┆                ┆          │\n",
       "│ …               ┆ інст…           ┆ t=\"…            ┆ помилки…       ┆                ┆          │\n",
       "│ microsoft/Phi-3 ┆ Використай      ┆ <p t=\"ADJ\">Опер ┆ <g ed=\"G/Case\" ┆ PapersDataset  ┆ 0.004587 │\n",
       "│ .5-mini-instruc ┆ наведені нижче  ┆ ативная</p> <p  ┆ et=\"Тип        ┆                ┆          │\n",
       "│ …               ┆ інст…           ┆ …               ┆ помилки…       ┆                ┆          │\n",
       "│ microsoft/Phi-3 ┆ Використай      ┆ <p t=\"NOUN\">Рок ┆ <g ed=\"G/Case\" ┆ PapersDataset  ┆ 0.0      │\n",
       "│ .5-mini-instruc ┆ наведені нижче  ┆ у</p> <p        ┆ et=\"Тип        ┆                ┆          │\n",
       "│ …               ┆ інст…           ┆ t=\"ADJ…         ┆ помилки…       ┆                ┆          │\n",
       "│ microsoft/Phi-3 ┆ Використай      ┆ <g ed=\".\"       ┆ <g ed=\"G/Date\" ┆ PapersDataset  ┆ 0.0      │\n",
       "│ .5-mini-instruc ┆ наведені нижче  ┆ et=\"G/Case\"><p  ┆ et=\"Тип        ┆                ┆          │\n",
       "│ …               ┆ інст…           ┆ t=\"PU…          ┆ помилки…       ┆                ┆          │\n",
       "│ microsoft/Phi-3 ┆ null            ┆ <p              ┆ null           ┆ PapersDataset  ┆ null     │\n",
       "│ .5-mini-instruc ┆                 ┆ t=\"X\">Ɍɚɤɢɦ</p> ┆                ┆                ┆          │\n",
       "│ …               ┆                 ┆ <p t=\"X\">ɱɢ…    ┆                ┆                ┆          │\n",
       "│ …               ┆ …               ┆ …               ┆ …              ┆ …              ┆ …        │\n",
       "│ gpt-4o-mini     ┆ Використай      ┆ <p t=\"X\">Sympto ┆ ```xml         ┆ PapersDataset  ┆ 0.0      │\n",
       "│                 ┆ наведені нижче  ┆ ms</p> <p       ┆                ┆                ┆          │\n",
       "│                 ┆ інст…           ┆ t=\"X\"…          ┆                ┆                ┆          │\n",
       "│ gpt-4o-mini     ┆ Використай      ┆ <p t=\"X\">He</p> ┆ ```xml         ┆ PapersDataset  ┆ 0.0      │\n",
       "│                 ┆ наведені нижче  ┆ <p t=\"X\">is</p… ┆                ┆                ┆          │\n",
       "│                 ┆ інст…           ┆                 ┆                ┆                ┆          │\n",
       "│ gpt-4o-mini     ┆ Використай      ┆ <p              ┆ ```xml         ┆ PapersDataset  ┆ 0.0      │\n",
       "│                 ┆ наведені нижче  ┆ t=\"ADP\">В</p>   ┆                ┆                ┆          │\n",
       "│                 ┆ інст…           ┆ <p t=\"X\">боль…  ┆                ┆                ┆          │\n",
       "│ gpt-4o-mini     ┆ Використай      ┆ <p t=\"X\">Keywor ┆ ```xml         ┆ PapersDataset  ┆ 0.0      │\n",
       "│                 ┆ наведені нижче  ┆ ds</p><p        ┆                ┆                ┆          │\n",
       "│                 ┆ інст…           ┆ t=\"PUN…         ┆                ┆                ┆          │\n",
       "│ gpt-4o-mini     ┆ Використай      ┆ <g ed=\"2005\"    ┆ ```xml         ┆ UbertextV2Data ┆ 0.0      │\n",
       "│                 ┆ наведені нижче  ┆ et=\"Spelling\">< ┆                ┆ set            ┆          │\n",
       "│                 ┆ інст…           ┆ p …             ┆                ┆                ┆          │\n",
       "└─────────────────┴─────────────────┴─────────────────┴────────────────┴────────────────┴──────────┘"
      ],
      "text/html": [
       "<div><style>\n",
       ".dataframe > thead > tr,\n",
       ".dataframe > tbody > tr {\n",
       "  text-align: right;\n",
       "  white-space: pre-wrap;\n",
       "}\n",
       "</style>\n",
       "<small>shape: (600, 6)</small><table border=\"1\" class=\"dataframe\"><thead><tr><th>model</th><th>input</th><th>output</th><th>generated_output</th><th>dataset_type</th><th>accuracy</th></tr><tr><td>str</td><td>str</td><td>str</td><td>str</td><td>str</td><td>f64</td></tr></thead><tbody><tr><td>&quot;microsoft/Phi-3.5-mini-instruc…</td><td>&quot;Використай наведені нижче інст…</td><td>&quot;&lt;p t=&quot;X&quot;&gt;уничтожены&lt;/p&gt; &lt;p t=&quot;…</td><td>&quot;&lt;g ed=&quot;G/Case&quot; et=&quot;Тип помилки…</td><td>&quot;PapersDataset&quot;</td><td>0.005952</td></tr><tr><td>&quot;microsoft/Phi-3.5-mini-instruc…</td><td>&quot;Використай наведені нижче інст…</td><td>&quot;&lt;p t=&quot;ADJ&quot;&gt;Оперативная&lt;/p&gt; &lt;p …</td><td>&quot;&lt;g ed=&quot;G/Case&quot; et=&quot;Тип помилки…</td><td>&quot;PapersDataset&quot;</td><td>0.004587</td></tr><tr><td>&quot;microsoft/Phi-3.5-mini-instruc…</td><td>&quot;Використай наведені нижче інст…</td><td>&quot;&lt;p t=&quot;NOUN&quot;&gt;Року&lt;/p&gt; &lt;p t=&quot;ADJ…</td><td>&quot;&lt;g ed=&quot;G/Case&quot; et=&quot;Тип помилки…</td><td>&quot;PapersDataset&quot;</td><td>0.0</td></tr><tr><td>&quot;microsoft/Phi-3.5-mini-instruc…</td><td>&quot;Використай наведені нижче інст…</td><td>&quot;&lt;g ed=&quot;.&quot; et=&quot;G/Case&quot;&gt;&lt;p t=&quot;PU…</td><td>&quot;&lt;g ed=&quot;G/Date&quot; et=&quot;Тип помилки…</td><td>&quot;PapersDataset&quot;</td><td>0.0</td></tr><tr><td>&quot;microsoft/Phi-3.5-mini-instruc…</td><td>null</td><td>&quot;&lt;p t=&quot;X&quot;&gt;Ɍɚɤɢɦ&lt;/p&gt; &lt;p t=&quot;X&quot;&gt;ɱɢ…</td><td>null</td><td>&quot;PapersDataset&quot;</td><td>null</td></tr><tr><td>&hellip;</td><td>&hellip;</td><td>&hellip;</td><td>&hellip;</td><td>&hellip;</td><td>&hellip;</td></tr><tr><td>&quot;gpt-4o-mini&quot;</td><td>&quot;Використай наведені нижче інст…</td><td>&quot;&lt;p t=&quot;X&quot;&gt;Symptoms&lt;/p&gt; &lt;p t=&quot;X&quot;…</td><td>&quot;```xml&quot;</td><td>&quot;PapersDataset&quot;</td><td>0.0</td></tr><tr><td>&quot;gpt-4o-mini&quot;</td><td>&quot;Використай наведені нижче інст…</td><td>&quot;&lt;p t=&quot;X&quot;&gt;He&lt;/p&gt; &lt;p t=&quot;X&quot;&gt;is&lt;/p…</td><td>&quot;```xml&quot;</td><td>&quot;PapersDataset&quot;</td><td>0.0</td></tr><tr><td>&quot;gpt-4o-mini&quot;</td><td>&quot;Використай наведені нижче інст…</td><td>&quot;&lt;p t=&quot;ADP&quot;&gt;В&lt;/p&gt; &lt;p t=&quot;X&quot;&gt;боль…</td><td>&quot;```xml&quot;</td><td>&quot;PapersDataset&quot;</td><td>0.0</td></tr><tr><td>&quot;gpt-4o-mini&quot;</td><td>&quot;Використай наведені нижче інст…</td><td>&quot;&lt;p t=&quot;X&quot;&gt;Keywords&lt;/p&gt;&lt;p t=&quot;PUN…</td><td>&quot;```xml&quot;</td><td>&quot;PapersDataset&quot;</td><td>0.0</td></tr><tr><td>&quot;gpt-4o-mini&quot;</td><td>&quot;Використай наведені нижче інст…</td><td>&quot;&lt;g ed=&quot;2005&quot; et=&quot;Spelling&quot;&gt;&lt;p …</td><td>&quot;```xml&quot;</td><td>&quot;UbertextV2Dataset&quot;</td><td>0.0</td></tr></tbody></table></div>"
      ]
     },
     "execution_count": 20,
     "metadata": {},
     "output_type": "execute_result"
    }
   ],
   "execution_count": 20
  },
  {
   "metadata": {
    "ExecuteTime": {
     "end_time": "2024-09-15T13:23:11.791251Z",
     "start_time": "2024-09-15T13:23:11.685205Z"
    }
   },
   "cell_type": "code",
   "source": "calc_stats(artificial_results)",
   "id": "f7506e0d-95bc-4e73-a68d-d22da5d0a59f",
   "outputs": [
    {
     "name": "stderr",
     "output_type": "stream",
     "text": [
      "/var/folders/mq/lvh6fs2s70vffqwr4lz5sy240000gn/T/ipykernel_62786/3406399673.py:6: DeprecationWarning: The argument `columns` for `DataFrame.pivot` is deprecated. It has been renamed to `on`.\n",
      "  accuracy_df.pivot(\n"
     ]
    },
    {
     "data": {
      "text/plain": [
       "shape: (7, 4)\n",
       "┌─────────────────────────────────┬───────────────┬───────────────────┬──────────┐\n",
       "│ model                           ┆ PapersDataset ┆ UbertextV2Dataset ┆ mean     │\n",
       "│ ---                             ┆ ---           ┆ ---               ┆ ---      │\n",
       "│ str                             ┆ f64           ┆ f64               ┆ f64      │\n",
       "╞═════════════════════════════════╪═══════════════╪═══════════════════╪══════════╡\n",
       "│ ft:gpt-4o-mini-2024-07-18:pers… ┆ 0.010919      ┆ 0.00567           ┆ 0.008295 │\n",
       "│ ostapbodnar/Phi3.5-mini-instru… ┆ 0.171621      ┆ 0.230448          ┆ 0.201034 │\n",
       "│ ostapbodnar/Phi3.5-mini-instru… ┆ 0.0           ┆ 0.000118          ┆ 0.000059 │\n",
       "│ ostapbodnar/Phi3.5-mini-instru… ┆ 0.168541      ┆ 0.206307          ┆ 0.187424 │\n",
       "│ microsoft/Phi-3.5-mini-instruc… ┆ 0.001642      ┆ 0.000764          ┆ 0.001203 │\n",
       "│ gpt-4o-mini                     ┆ 0.000641      ┆ 0.000656          ┆ 0.000649 │\n",
       "│ mean                            ┆ 0.058894      ┆ 0.073994          ┆ 0.066444 │\n",
       "└─────────────────────────────────┴───────────────┴───────────────────┴──────────┘"
      ],
      "text/html": [
       "<div><style>\n",
       ".dataframe > thead > tr,\n",
       ".dataframe > tbody > tr {\n",
       "  text-align: right;\n",
       "  white-space: pre-wrap;\n",
       "}\n",
       "</style>\n",
       "<small>shape: (7, 4)</small><table border=\"1\" class=\"dataframe\"><thead><tr><th>model</th><th>PapersDataset</th><th>UbertextV2Dataset</th><th>mean</th></tr><tr><td>str</td><td>f64</td><td>f64</td><td>f64</td></tr></thead><tbody><tr><td>&quot;ft:gpt-4o-mini-2024-07-18:pers…</td><td>0.010919</td><td>0.00567</td><td>0.008295</td></tr><tr><td>&quot;ostapbodnar/Phi3.5-mini-instru…</td><td>0.171621</td><td>0.230448</td><td>0.201034</td></tr><tr><td>&quot;ostapbodnar/Phi3.5-mini-instru…</td><td>0.0</td><td>0.000118</td><td>0.000059</td></tr><tr><td>&quot;ostapbodnar/Phi3.5-mini-instru…</td><td>0.168541</td><td>0.206307</td><td>0.187424</td></tr><tr><td>&quot;microsoft/Phi-3.5-mini-instruc…</td><td>0.001642</td><td>0.000764</td><td>0.001203</td></tr><tr><td>&quot;gpt-4o-mini&quot;</td><td>0.000641</td><td>0.000656</td><td>0.000649</td></tr><tr><td>&quot;mean&quot;</td><td>0.058894</td><td>0.073994</td><td>0.066444</td></tr></tbody></table></div>"
      ]
     },
     "execution_count": 21,
     "metadata": {},
     "output_type": "execute_result"
    }
   ],
   "execution_count": 21
  },
  {
   "cell_type": "code",
   "id": "dd2b4decc97bed84",
   "metadata": {
    "ExecuteTime": {
     "end_time": "2024-09-15T13:45:37.934956Z",
     "start_time": "2024-09-15T13:23:11.792600Z"
    }
   },
   "source": [
    "golden_grammar_results = await perform_eval_async(golden_ds_tag.shuffle(seed=42).select(range(100)),\n",
    "                                                  get_score_grammar_func())\n",
    "golden_grammar_results.write_csv(\"golden_grammar_results_scores.csv\")\n",
    "golden_grammar_results"
   ],
   "outputs": [
    {
     "name": "stdout",
     "output_type": "stream",
     "text": [
      "Evaluation of microsoft/Phi-3.5-mini-instruct\n"
     ]
    },
    {
     "data": {
      "text/plain": [
       "Evaluating microsoft/Phi-3.5-mini-instruct:   0%|          | 0/100 [00:00<?, ?it/s]"
      ],
      "application/vnd.jupyter.widget-view+json": {
       "version_major": 2,
       "version_minor": 0,
       "model_id": "d001f3268e604e7a8852284ae00170a4"
      }
     },
     "metadata": {},
     "output_type": "display_data"
    },
    {
     "name": "stdout",
     "output_type": "stream",
     "text": [
      "Evaluation of ostapbodnar/Phi3.5-mini-instruct-UA-qlora\n"
     ]
    },
    {
     "data": {
      "text/plain": [
       "Evaluating ostapbodnar/Phi3.5-mini-instruct-UA-qlora:   0%|          | 0/100 [00:00<?, ?it/s]"
      ],
      "application/vnd.jupyter.widget-view+json": {
       "version_major": 2,
       "version_minor": 0,
       "model_id": "1dd5f41072fa4ccb80e20a3bf5a704dc"
      }
     },
     "metadata": {},
     "output_type": "display_data"
    },
    {
     "name": "stdout",
     "output_type": "stream",
     "text": [
      "Evaluation of ostapbodnar/Phi3.5-mini-instruct-UA-lora-unsloth-artificial\n"
     ]
    },
    {
     "data": {
      "text/plain": [
       "Evaluating ostapbodnar/Phi3.5-mini-instruct-UA-lora-unsloth-artificial:   0%|          | 0/100 [00:00<?, ?it/s…"
      ],
      "application/vnd.jupyter.widget-view+json": {
       "version_major": 2,
       "version_minor": 0,
       "model_id": "92d15fc7a5204e1783de4fcf2d19891f"
      }
     },
     "metadata": {},
     "output_type": "display_data"
    },
    {
     "name": "stdout",
     "output_type": "stream",
     "text": [
      "Evaluation of ostapbodnar/Phi3.5-mini-instruct-UA-lora-unsloth-mixed\n"
     ]
    },
    {
     "data": {
      "text/plain": [
       "Evaluating ostapbodnar/Phi3.5-mini-instruct-UA-lora-unsloth-mixed:   0%|          | 0/100 [00:00<?, ?it/s]"
      ],
      "application/vnd.jupyter.widget-view+json": {
       "version_major": 2,
       "version_minor": 0,
       "model_id": "47037775efdb43b281a27f371204f8c3"
      }
     },
     "metadata": {},
     "output_type": "display_data"
    },
    {
     "name": "stdout",
     "output_type": "stream",
     "text": [
      "Evaluation of ft:gpt-4o-mini-2024-07-18:personal::A7fOmagX\n"
     ]
    },
    {
     "data": {
      "text/plain": [
       "Evaluating ft:gpt-4o-mini-2024-07-18:personal::A7fOmagX:   0%|          | 0/100 [00:00<?, ?it/s]"
      ],
      "application/vnd.jupyter.widget-view+json": {
       "version_major": 2,
       "version_minor": 0,
       "model_id": "68eda1ea5c4c4befac1fed16a8a24ce5"
      }
     },
     "metadata": {},
     "output_type": "display_data"
    },
    {
     "name": "stdout",
     "output_type": "stream",
     "text": [
      "Evaluation of gpt-4o-mini\n"
     ]
    },
    {
     "data": {
      "text/plain": [
       "Evaluating gpt-4o-mini:   0%|          | 0/100 [00:00<?, ?it/s]"
      ],
      "application/vnd.jupyter.widget-view+json": {
       "version_major": 2,
       "version_minor": 0,
       "model_id": "028b1fd0e43e4a529828df9f23fb861a"
      }
     },
     "metadata": {},
     "output_type": "display_data"
    },
    {
     "name": "stdout",
     "output_type": "stream",
     "text": [
      "500, message='Internal Server Error', url='https://it7s4lcu4sy306c2.eu-west-1.aws.endpoints.huggingface.cloud/v1/chat/completions'\n",
      "`text` must be string, not <class 'NoneType'>\n",
      "500, message='Internal Server Error', url='https://it7s4lcu4sy306c2.eu-west-1.aws.endpoints.huggingface.cloud/v1/chat/completions'\n",
      "`text` must be string, not <class 'NoneType'>\n",
      "500, message='Internal Server Error', url='https://it7s4lcu4sy306c2.eu-west-1.aws.endpoints.huggingface.cloud/v1/chat/completions'\n",
      "`text` must be string, not <class 'NoneType'>\n",
      "500, message='Internal Server Error', url='https://it7s4lcu4sy306c2.eu-west-1.aws.endpoints.huggingface.cloud/v1/chat/completions'\n",
      "`text` must be string, not <class 'NoneType'>\n",
      "500, message='Internal Server Error', url='https://it7s4lcu4sy306c2.eu-west-1.aws.endpoints.huggingface.cloud/v1/chat/completions'\n",
      "`text` must be string, not <class 'NoneType'>\n",
      "500, message='Internal Server Error', url='https://it7s4lcu4sy306c2.eu-west-1.aws.endpoints.huggingface.cloud/v1/chat/completions'\n",
      "`text` must be string, not <class 'NoneType'>\n",
      "500, message='Internal Server Error', url='https://it7s4lcu4sy306c2.eu-west-1.aws.endpoints.huggingface.cloud/v1/chat/completions'\n",
      "`text` must be string, not <class 'NoneType'>\n",
      "500, message='Internal Server Error', url='https://it7s4lcu4sy306c2.eu-west-1.aws.endpoints.huggingface.cloud/v1/chat/completions'\n",
      "`text` must be string, not <class 'NoneType'>\n",
      "500, message='Internal Server Error', url='https://it7s4lcu4sy306c2.eu-west-1.aws.endpoints.huggingface.cloud/v1/chat/completions'\n",
      "`text` must be string, not <class 'NoneType'>\n",
      "422, message='Unprocessable Entity', url='https://jo64cpqkvayl7daj.us-east-1.aws.endpoints.huggingface.cloud/v1/chat/completions'\n",
      "`text` must be string, not <class 'NoneType'>\n",
      "422, message='Unprocessable Entity', url='https://it7s4lcu4sy306c2.eu-west-1.aws.endpoints.huggingface.cloud/v1/chat/completions'\n",
      "`text` must be string, not <class 'NoneType'>\n",
      "422, message='Unprocessable Entity', url='https://jnovl897uj1glqgn.us-east-1.aws.endpoints.huggingface.cloud/v1/chat/completions'\n",
      "`text` must be string, not <class 'NoneType'>\n",
      "422, message='Unprocessable Entity', url='https://kg2x3u556icag7u2.eu-west-1.aws.endpoints.huggingface.cloud/v1/chat/completions'\n",
      "`text` must be string, not <class 'NoneType'>\n"
     ]
    },
    {
     "data": {
      "text/plain": [
       "shape: (600, 6)\n",
       "┌─────────────────┬─────────────────┬─────────────────┬────────────────┬────────────────┬──────────┐\n",
       "│ model           ┆ input           ┆ output          ┆ generated_outp ┆ dataset_type   ┆ accuracy │\n",
       "│ ---             ┆ ---             ┆ ---             ┆ ut             ┆ ---            ┆ ---      │\n",
       "│ str             ┆ str             ┆ str             ┆ ---            ┆ str            ┆ f64      │\n",
       "│                 ┆                 ┆                 ┆ str            ┆                ┆          │\n",
       "╞═════════════════╪═════════════════╪═════════════════╪════════════════╪════════════════╪══════════╡\n",
       "│ microsoft/Phi-3 ┆ Визнач частину  ┆ <p t=\"VERB\">Заг ┆ `<p t=\"VERB\">З ┆ MovaInstPosDat ┆ 0.833333 │\n",
       "│ .5-mini-instruc ┆ мови для        ┆ лянула</p> <p   ┆ аглянула</p>   ┆ aset           ┆          │\n",
       "│ …               ┆ кожног…         ┆ t…              ┆ <p …           ┆                ┆          │\n",
       "│ microsoft/Phi-3 ┆ Виправ          ┆ Варто згадати,  ┆ <g ed=\"Prep\"   ┆ UaGecDataset   ┆ 0.0      │\n",
       "│ .5-mini-instruc ┆ граматичні      ┆ що цей період … ┆ et=\"G/Prep\">су ┆                ┆          │\n",
       "│ …               ┆ помилки в по…   ┆                 ┆ про…           ┆                ┆          │\n",
       "│ microsoft/Phi-3 ┆ Виправ          ┆ Льоня відірвав  ┆ <g ed=\"D/Prep\" ┆ UaGecDataset   ┆ 0.0      │\n",
       "│ .5-mini-instruc ┆ граматичні      ┆ очі від стелі   ┆ et=\"Grammar\">Л ┆                ┆          │\n",
       "│ …               ┆ помилки в по…   ┆ і…              ┆ о…             ┆                ┆          │\n",
       "│ microsoft/Phi-3 ┆ Визнач частину  ┆ <p              ┆ `<p t=\"PREP\">Н ┆ MovaInstPosDat ┆ 0.5      │\n",
       "│ .5-mini-instruc ┆ мови для        ┆ t=\"PART\">Не</p> ┆ е</p> <p       ┆ aset           ┆          │\n",
       "│ …               ┆ кожног…         ┆ <p t=\"NOUN\"…    ┆ t=\"PART…       ┆                ┆          │\n",
       "│ microsoft/Phi-3 ┆ Виправ          ┆ Якщо <g ed=\"в   ┆ <g ed=\"Punctua ┆ UaGecDataset   ┆ 0.0      │\n",
       "│ .5-mini-instruc ┆ граматичні      ┆ заняттях\"       ┆ tion\"          ┆                ┆          │\n",
       "│ …               ┆ помилки в по…   ┆ et=\"G/…         ┆ et=\"Punctu…    ┆                ┆          │\n",
       "│ …               ┆ …               ┆ …               ┆ …              ┆ …              ┆ …        │\n",
       "│ gpt-4o-mini     ┆ Визнач частину  ┆ <p t=\"DET\">Один ┆ <p t=\"NUMR\">Од ┆ MovaInstPosDat ┆ 0.454545 │\n",
       "│                 ┆ мови для        ┆ </p> <p         ┆ ин</p> <p      ┆ aset           ┆          │\n",
       "│                 ┆ кожног…         ┆ t=\"ADP\"…        ┆ t=\"PRE…        ┆                ┆          │\n",
       "│ gpt-4o-mini     ┆ Визнач частину  ┆ <p t=\"CCONJ\">Ал ┆ <p t=\"CONJ\">Ал ┆ MovaInstPosDat ┆ 0.875    │\n",
       "│                 ┆ мови для        ┆ е</p> <p        ┆ е</p> <p       ┆ aset           ┆          │\n",
       "│                 ┆ кожног…         ┆ t=\"PRO…         ┆ t=\"PRON…       ┆                ┆          │\n",
       "│ gpt-4o-mini     ┆ Ось інструкція  ┆ <n t=\"ORG\">Міні ┆ <n t=\"ORG\">Мін ┆ NerDataset     ┆ 0.184211 │\n",
       "│                 ┆ з               ┆ стерство        ┆ істерство      ┆                ┆          │\n",
       "│                 ┆ використанням…  ┆ економ…         ┆ економ…        ┆                ┆          │\n",
       "│ gpt-4o-mini     ┆ Виправ          ┆ О, я трохи      ┆ О, я <g        ┆ UaGecDataset   ┆ 0.0      │\n",
       "│                 ┆ граматичні      ┆ виріс після     ┆ ed=\"виріс\"     ┆                ┆          │\n",
       "│                 ┆ помилки в по…   ┆ двадцят…        ┆ et=\"G/Tense…   ┆                ┆          │\n",
       "│ gpt-4o-mini     ┆ Визнач частину  ┆ <p t=\"NOUN\">Пре ┆ <p t=\"NOUN\">Пр ┆ MovaInstPosDat ┆ 0.1875   │\n",
       "│                 ┆ мови для        ┆ дставникам</p>  ┆ едставникам</p ┆ aset           ┆          │\n",
       "│                 ┆ кожног…         ┆ …               ┆ > …            ┆                ┆          │\n",
       "└─────────────────┴─────────────────┴─────────────────┴────────────────┴────────────────┴──────────┘"
      ],
      "text/html": [
       "<div><style>\n",
       ".dataframe > thead > tr,\n",
       ".dataframe > tbody > tr {\n",
       "  text-align: right;\n",
       "  white-space: pre-wrap;\n",
       "}\n",
       "</style>\n",
       "<small>shape: (600, 6)</small><table border=\"1\" class=\"dataframe\"><thead><tr><th>model</th><th>input</th><th>output</th><th>generated_output</th><th>dataset_type</th><th>accuracy</th></tr><tr><td>str</td><td>str</td><td>str</td><td>str</td><td>str</td><td>f64</td></tr></thead><tbody><tr><td>&quot;microsoft/Phi-3.5-mini-instruc…</td><td>&quot;Визнач частину мови для кожног…</td><td>&quot;&lt;p t=&quot;VERB&quot;&gt;Заглянула&lt;/p&gt; &lt;p t…</td><td>&quot;`&lt;p t=&quot;VERB&quot;&gt;Заглянула&lt;/p&gt; &lt;p …</td><td>&quot;MovaInstPosDataset&quot;</td><td>0.833333</td></tr><tr><td>&quot;microsoft/Phi-3.5-mini-instruc…</td><td>&quot;Виправ граматичні помилки в по…</td><td>&quot; Варто згадати, що цей період …</td><td>&quot;&lt;g ed=&quot;Prep&quot; et=&quot;G/Prep&quot;&gt;супро…</td><td>&quot;UaGecDataset&quot;</td><td>0.0</td></tr><tr><td>&quot;microsoft/Phi-3.5-mini-instruc…</td><td>&quot;Виправ граматичні помилки в по…</td><td>&quot;Льоня відірвав очі від стелі і…</td><td>&quot;&lt;g ed=&quot;D/Prep&quot; et=&quot;Grammar&quot;&gt;Ло…</td><td>&quot;UaGecDataset&quot;</td><td>0.0</td></tr><tr><td>&quot;microsoft/Phi-3.5-mini-instruc…</td><td>&quot;Визнач частину мови для кожног…</td><td>&quot;&lt;p t=&quot;PART&quot;&gt;Не&lt;/p&gt; &lt;p t=&quot;NOUN&quot;…</td><td>&quot;`&lt;p t=&quot;PREP&quot;&gt;Не&lt;/p&gt; &lt;p t=&quot;PART…</td><td>&quot;MovaInstPosDataset&quot;</td><td>0.5</td></tr><tr><td>&quot;microsoft/Phi-3.5-mini-instruc…</td><td>&quot;Виправ граматичні помилки в по…</td><td>&quot;Якщо &lt;g ed=&quot;в заняттях&quot; et=&quot;G/…</td><td>&quot;&lt;g ed=&quot;Punctuation&quot; et=&quot;Punctu…</td><td>&quot;UaGecDataset&quot;</td><td>0.0</td></tr><tr><td>&hellip;</td><td>&hellip;</td><td>&hellip;</td><td>&hellip;</td><td>&hellip;</td><td>&hellip;</td></tr><tr><td>&quot;gpt-4o-mini&quot;</td><td>&quot;Визнач частину мови для кожног…</td><td>&quot;&lt;p t=&quot;DET&quot;&gt;Один&lt;/p&gt; &lt;p t=&quot;ADP&quot;…</td><td>&quot;&lt;p t=&quot;NUMR&quot;&gt;Один&lt;/p&gt; &lt;p t=&quot;PRE…</td><td>&quot;MovaInstPosDataset&quot;</td><td>0.454545</td></tr><tr><td>&quot;gpt-4o-mini&quot;</td><td>&quot;Визнач частину мови для кожног…</td><td>&quot;&lt;p t=&quot;CCONJ&quot;&gt;Але&lt;/p&gt; &lt;p t=&quot;PRO…</td><td>&quot;&lt;p t=&quot;CONJ&quot;&gt;Але&lt;/p&gt; &lt;p t=&quot;PRON…</td><td>&quot;MovaInstPosDataset&quot;</td><td>0.875</td></tr><tr><td>&quot;gpt-4o-mini&quot;</td><td>&quot;Ось інструкція з використанням…</td><td>&quot;&lt;n t=&quot;ORG&quot;&gt;Міністерство економ…</td><td>&quot;&lt;n t=&quot;ORG&quot;&gt;Міністерство економ…</td><td>&quot;NerDataset&quot;</td><td>0.184211</td></tr><tr><td>&quot;gpt-4o-mini&quot;</td><td>&quot;Виправ граматичні помилки в по…</td><td>&quot;О, я трохи виріс після двадцят…</td><td>&quot;О, я &lt;g ed=&quot;виріс&quot; et=&quot;G/Tense…</td><td>&quot;UaGecDataset&quot;</td><td>0.0</td></tr><tr><td>&quot;gpt-4o-mini&quot;</td><td>&quot;Визнач частину мови для кожног…</td><td>&quot;&lt;p t=&quot;NOUN&quot;&gt;Представникам&lt;/p&gt; …</td><td>&quot;&lt;p t=&quot;NOUN&quot;&gt;Представникам&lt;/p&gt; …</td><td>&quot;MovaInstPosDataset&quot;</td><td>0.1875</td></tr></tbody></table></div>"
      ]
     },
     "execution_count": 22,
     "metadata": {},
     "output_type": "execute_result"
    }
   ],
   "execution_count": 22
  },
  {
   "metadata": {
    "ExecuteTime": {
     "end_time": "2024-09-15T13:45:37.949645Z",
     "start_time": "2024-09-15T13:45:37.937039Z"
    }
   },
   "cell_type": "code",
   "source": "calc_stats(golden_grammar_results)",
   "id": "ffc4c9d2390f2cee",
   "outputs": [
    {
     "name": "stderr",
     "output_type": "stream",
     "text": [
      "/var/folders/mq/lvh6fs2s70vffqwr4lz5sy240000gn/T/ipykernel_62786/3406399673.py:6: DeprecationWarning: The argument `columns` for `DataFrame.pivot` is deprecated. It has been renamed to `on`.\n",
      "  accuracy_df.pivot(\n"
     ]
    },
    {
     "data": {
      "text/plain": [
       "shape: (7, 5)\n",
       "┌─────────────────────────────────┬────────────────────┬────────────┬──────────────┬──────────┐\n",
       "│ model                           ┆ MovaInstPosDataset ┆ NerDataset ┆ UaGecDataset ┆ mean     │\n",
       "│ ---                             ┆ ---                ┆ ---        ┆ ---          ┆ ---      │\n",
       "│ str                             ┆ f64                ┆ f64        ┆ f64          ┆ f64      │\n",
       "╞═════════════════════════════════╪════════════════════╪════════════╪══════════════╪══════════╡\n",
       "│ ostapbodnar/Phi3.5-mini-instru… ┆ 0.0                ┆ 0.0        ┆ 0.0          ┆ 0.0      │\n",
       "│ ft:gpt-4o-mini-2024-07-18:pers… ┆ 0.434864           ┆ 0.052632   ┆ 0.186708     ┆ 0.224734 │\n",
       "│ ostapbodnar/Phi3.5-mini-instru… ┆ 0.860283           ┆ 0.052632   ┆ 0.117307     ┆ 0.343407 │\n",
       "│ ostapbodnar/Phi3.5-mini-instru… ┆ 0.504781           ┆ 0.0        ┆ 0.0          ┆ 0.16826  │\n",
       "│ microsoft/Phi-3.5-mini-instruc… ┆ 0.349037           ┆ 0.013158   ┆ 0.004743     ┆ 0.122313 │\n",
       "│ gpt-4o-mini                     ┆ 0.474848           ┆ 0.092105   ┆ 0.02681      ┆ 0.197921 │\n",
       "│ mean                            ┆ 0.437302           ┆ 0.035088   ┆ 0.055928     ┆ 0.176106 │\n",
       "└─────────────────────────────────┴────────────────────┴────────────┴──────────────┴──────────┘"
      ],
      "text/html": [
       "<div><style>\n",
       ".dataframe > thead > tr,\n",
       ".dataframe > tbody > tr {\n",
       "  text-align: right;\n",
       "  white-space: pre-wrap;\n",
       "}\n",
       "</style>\n",
       "<small>shape: (7, 5)</small><table border=\"1\" class=\"dataframe\"><thead><tr><th>model</th><th>MovaInstPosDataset</th><th>NerDataset</th><th>UaGecDataset</th><th>mean</th></tr><tr><td>str</td><td>f64</td><td>f64</td><td>f64</td><td>f64</td></tr></thead><tbody><tr><td>&quot;ostapbodnar/Phi3.5-mini-instru…</td><td>0.0</td><td>0.0</td><td>0.0</td><td>0.0</td></tr><tr><td>&quot;ft:gpt-4o-mini-2024-07-18:pers…</td><td>0.434864</td><td>0.052632</td><td>0.186708</td><td>0.224734</td></tr><tr><td>&quot;ostapbodnar/Phi3.5-mini-instru…</td><td>0.860283</td><td>0.052632</td><td>0.117307</td><td>0.343407</td></tr><tr><td>&quot;ostapbodnar/Phi3.5-mini-instru…</td><td>0.504781</td><td>0.0</td><td>0.0</td><td>0.16826</td></tr><tr><td>&quot;microsoft/Phi-3.5-mini-instruc…</td><td>0.349037</td><td>0.013158</td><td>0.004743</td><td>0.122313</td></tr><tr><td>&quot;gpt-4o-mini&quot;</td><td>0.474848</td><td>0.092105</td><td>0.02681</td><td>0.197921</td></tr><tr><td>&quot;mean&quot;</td><td>0.437302</td><td>0.035088</td><td>0.055928</td><td>0.176106</td></tr></tbody></table></div>"
      ]
     },
     "execution_count": 23,
     "metadata": {},
     "output_type": "execute_result"
    }
   ],
   "execution_count": 23
  },
  {
   "cell_type": "code",
   "id": "63175fd2e906c9a4",
   "metadata": {
    "ExecuteTime": {
     "end_time": "2024-09-15T13:49:08.621759Z",
     "start_time": "2024-09-15T13:45:37.951867Z"
    }
   },
   "source": [
    "golden_results = await perform_eval_async(golden_ds_class.shuffle(seed=42).select(range(100)), score_q_and_a_func, max_tokens=128)\n",
    "golden_results.write_csv(\"golden_q_and_a_scores.csv\")\n",
    "golden_results"
   ],
   "outputs": [
    {
     "name": "stdout",
     "output_type": "stream",
     "text": [
      "Evaluation of microsoft/Phi-3.5-mini-instruct\n"
     ]
    },
    {
     "data": {
      "text/plain": [
       "Evaluating microsoft/Phi-3.5-mini-instruct:   0%|          | 0/100 [00:00<?, ?it/s]"
      ],
      "application/vnd.jupyter.widget-view+json": {
       "version_major": 2,
       "version_minor": 0,
       "model_id": "405d6c6bfa714be5b6cecca4a32089e3"
      }
     },
     "metadata": {},
     "output_type": "display_data"
    },
    {
     "name": "stdout",
     "output_type": "stream",
     "text": [
      "Evaluation of ostapbodnar/Phi3.5-mini-instruct-UA-qlora\n"
     ]
    },
    {
     "data": {
      "text/plain": [
       "Evaluating ostapbodnar/Phi3.5-mini-instruct-UA-qlora:   0%|          | 0/100 [00:00<?, ?it/s]"
      ],
      "application/vnd.jupyter.widget-view+json": {
       "version_major": 2,
       "version_minor": 0,
       "model_id": "658ba0b4f750470d8da1059430ab71f8"
      }
     },
     "metadata": {},
     "output_type": "display_data"
    },
    {
     "name": "stdout",
     "output_type": "stream",
     "text": [
      "Evaluation of ostapbodnar/Phi3.5-mini-instruct-UA-lora-unsloth-artificial\n"
     ]
    },
    {
     "data": {
      "text/plain": [
       "Evaluating ostapbodnar/Phi3.5-mini-instruct-UA-lora-unsloth-artificial:   0%|          | 0/100 [00:00<?, ?it/s…"
      ],
      "application/vnd.jupyter.widget-view+json": {
       "version_major": 2,
       "version_minor": 0,
       "model_id": "d0e22a1a791d40dab2e845d268f3aeb8"
      }
     },
     "metadata": {},
     "output_type": "display_data"
    },
    {
     "name": "stdout",
     "output_type": "stream",
     "text": [
      "Evaluation of ostapbodnar/Phi3.5-mini-instruct-UA-lora-unsloth-mixed\n"
     ]
    },
    {
     "data": {
      "text/plain": [
       "Evaluating ostapbodnar/Phi3.5-mini-instruct-UA-lora-unsloth-mixed:   0%|          | 0/100 [00:00<?, ?it/s]"
      ],
      "application/vnd.jupyter.widget-view+json": {
       "version_major": 2,
       "version_minor": 0,
       "model_id": "ffafb5a69004448aa6a998166780d59c"
      }
     },
     "metadata": {},
     "output_type": "display_data"
    },
    {
     "name": "stdout",
     "output_type": "stream",
     "text": [
      "Evaluation of ft:gpt-4o-mini-2024-07-18:personal::A7fOmagX\n"
     ]
    },
    {
     "data": {
      "text/plain": [
       "Evaluating ft:gpt-4o-mini-2024-07-18:personal::A7fOmagX:   0%|          | 0/100 [00:00<?, ?it/s]"
      ],
      "application/vnd.jupyter.widget-view+json": {
       "version_major": 2,
       "version_minor": 0,
       "model_id": "64b9238c91854f109d87323efe26f253"
      }
     },
     "metadata": {},
     "output_type": "display_data"
    },
    {
     "name": "stdout",
     "output_type": "stream",
     "text": [
      "Evaluation of gpt-4o-mini\n"
     ]
    },
    {
     "data": {
      "text/plain": [
       "Evaluating gpt-4o-mini:   0%|          | 0/100 [00:00<?, ?it/s]"
      ],
      "application/vnd.jupyter.widget-view+json": {
       "version_major": 2,
       "version_minor": 0,
       "model_id": "7db649dc11f74b239711519ce3d869ea"
      }
     },
     "metadata": {},
     "output_type": "display_data"
    },
    {
     "name": "stdout",
     "output_type": "stream",
     "text": [
      "500, message='Internal Server Error', url='https://jnovl897uj1glqgn.us-east-1.aws.endpoints.huggingface.cloud/v1/chat/completions'\n",
      "object of type 'NoneType' has no len()\n",
      "500, message='Internal Server Error', url='https://jnovl897uj1glqgn.us-east-1.aws.endpoints.huggingface.cloud/v1/chat/completions'\n",
      "object of type 'NoneType' has no len()\n",
      "500, message='Internal Server Error', url='https://jnovl897uj1glqgn.us-east-1.aws.endpoints.huggingface.cloud/v1/chat/completions'\n",
      "object of type 'NoneType' has no len()\n",
      "500, message='Internal Server Error', url='https://jnovl897uj1glqgn.us-east-1.aws.endpoints.huggingface.cloud/v1/chat/completions'\n",
      "object of type 'NoneType' has no len()\n",
      "500, message='Internal Server Error', url='https://jnovl897uj1glqgn.us-east-1.aws.endpoints.huggingface.cloud/v1/chat/completions'\n",
      "object of type 'NoneType' has no len()\n",
      "500, message='Internal Server Error', url='https://jnovl897uj1glqgn.us-east-1.aws.endpoints.huggingface.cloud/v1/chat/completions'\n",
      "object of type 'NoneType' has no len()\n",
      "500, message='Internal Server Error', url='https://jnovl897uj1glqgn.us-east-1.aws.endpoints.huggingface.cloud/v1/chat/completions'\n",
      "object of type 'NoneType' has no len()\n",
      "500, message='Internal Server Error', url='https://jnovl897uj1glqgn.us-east-1.aws.endpoints.huggingface.cloud/v1/chat/completions'\n",
      "object of type 'NoneType' has no len()\n",
      "500, message='Internal Server Error', url='https://jnovl897uj1glqgn.us-east-1.aws.endpoints.huggingface.cloud/v1/chat/completions'\n",
      "object of type 'NoneType' has no len()\n",
      "500, message='Internal Server Error', url='https://it7s4lcu4sy306c2.eu-west-1.aws.endpoints.huggingface.cloud/v1/chat/completions'\n",
      "object of type 'NoneType' has no len()\n",
      "500, message='Internal Server Error', url='https://it7s4lcu4sy306c2.eu-west-1.aws.endpoints.huggingface.cloud/v1/chat/completions'\n",
      "object of type 'NoneType' has no len()\n",
      "500, message='Internal Server Error', url='https://it7s4lcu4sy306c2.eu-west-1.aws.endpoints.huggingface.cloud/v1/chat/completions'\n",
      "object of type 'NoneType' has no len()\n",
      "500, message='Internal Server Error', url='https://it7s4lcu4sy306c2.eu-west-1.aws.endpoints.huggingface.cloud/v1/chat/completions'\n",
      "object of type 'NoneType' has no len()\n",
      "500, message='Internal Server Error', url='https://it7s4lcu4sy306c2.eu-west-1.aws.endpoints.huggingface.cloud/v1/chat/completions'\n",
      "object of type 'NoneType' has no len()\n",
      "500, message='Internal Server Error', url='https://it7s4lcu4sy306c2.eu-west-1.aws.endpoints.huggingface.cloud/v1/chat/completions'\n",
      "object of type 'NoneType' has no len()\n",
      "500, message='Internal Server Error', url='https://it7s4lcu4sy306c2.eu-west-1.aws.endpoints.huggingface.cloud/v1/chat/completions'\n",
      "object of type 'NoneType' has no len()\n",
      "500, message='Internal Server Error', url='https://it7s4lcu4sy306c2.eu-west-1.aws.endpoints.huggingface.cloud/v1/chat/completions'\n",
      "object of type 'NoneType' has no len()\n",
      "500, message='Internal Server Error', url='https://it7s4lcu4sy306c2.eu-west-1.aws.endpoints.huggingface.cloud/v1/chat/completions'\n",
      "object of type 'NoneType' has no len()\n",
      "object of type 'NoneType' has no len()\n",
      "object of type 'NoneType' has no len()\n",
      "object of type 'NoneType' has no len()\n",
      "object of type 'NoneType' has no len()\n",
      "object of type 'NoneType' has no len()\n",
      "object of type 'NoneType' has no len()\n",
      "object of type 'NoneType' has no len()\n",
      "object of type 'NoneType' has no len()\n",
      "422, message='Unprocessable Entity', url='https://kg2x3u556icag7u2.eu-west-1.aws.endpoints.huggingface.cloud/v1/chat/completions'\n",
      "object of type 'NoneType' has no len()\n",
      "object of type 'NoneType' has no len()\n",
      "object of type 'NoneType' has no len()\n",
      "object of type 'NoneType' has no len()\n",
      "422, message='Unprocessable Entity', url='https://jo64cpqkvayl7daj.us-east-1.aws.endpoints.huggingface.cloud/v1/chat/completions'\n",
      "object of type 'NoneType' has no len()\n",
      "object of type 'NoneType' has no len()\n",
      "object of type 'NoneType' has no len()\n",
      "object of type 'NoneType' has no len()\n",
      "object of type 'NoneType' has no len()\n",
      "422, message='Unprocessable Entity', url='https://kg2x3u556icag7u2.eu-west-1.aws.endpoints.huggingface.cloud/v1/chat/completions'\n",
      "object of type 'NoneType' has no len()\n",
      "object of type 'NoneType' has no len()\n",
      "object of type 'NoneType' has no len()\n",
      "object of type 'NoneType' has no len()\n",
      "object of type 'NoneType' has no len()\n",
      "object of type 'NoneType' has no len()\n",
      "object of type 'NoneType' has no len()\n",
      "422, message='Unprocessable Entity', url='https://it7s4lcu4sy306c2.eu-west-1.aws.endpoints.huggingface.cloud/v1/chat/completions'\n",
      "object of type 'NoneType' has no len()\n",
      "422, message='Unprocessable Entity', url='https://kg2x3u556icag7u2.eu-west-1.aws.endpoints.huggingface.cloud/v1/chat/completions'\n",
      "object of type 'NoneType' has no len()\n",
      "object of type 'NoneType' has no len()\n",
      "422, message='Unprocessable Entity', url='https://jo64cpqkvayl7daj.us-east-1.aws.endpoints.huggingface.cloud/v1/chat/completions'\n",
      "object of type 'NoneType' has no len()\n",
      "object of type 'NoneType' has no len()\n",
      "object of type 'NoneType' has no len()\n",
      "object of type 'NoneType' has no len()\n",
      "422, message='Unprocessable Entity', url='https://jo64cpqkvayl7daj.us-east-1.aws.endpoints.huggingface.cloud/v1/chat/completions'\n",
      "object of type 'NoneType' has no len()\n",
      "object of type 'NoneType' has no len()\n",
      "object of type 'NoneType' has no len()\n",
      "object of type 'NoneType' has no len()\n",
      "object of type 'NoneType' has no len()\n",
      "object of type 'NoneType' has no len()\n",
      "object of type 'NoneType' has no len()\n",
      "object of type 'NoneType' has no len()\n",
      "object of type 'NoneType' has no len()\n",
      "object of type 'NoneType' has no len()\n",
      "object of type 'NoneType' has no len()\n",
      "object of type 'NoneType' has no len()\n",
      "object of type 'NoneType' has no len()\n",
      "422, message='Unprocessable Entity', url='https://it7s4lcu4sy306c2.eu-west-1.aws.endpoints.huggingface.cloud/v1/chat/completions'\n",
      "object of type 'NoneType' has no len()\n",
      "422, message='Unprocessable Entity', url='https://jnovl897uj1glqgn.us-east-1.aws.endpoints.huggingface.cloud/v1/chat/completions'\n",
      "object of type 'NoneType' has no len()\n",
      "object of type 'NoneType' has no len()\n",
      "object of type 'NoneType' has no len()\n",
      "object of type 'NoneType' has no len()\n",
      "422, message='Unprocessable Entity', url='https://it7s4lcu4sy306c2.eu-west-1.aws.endpoints.huggingface.cloud/v1/chat/completions'\n",
      "object of type 'NoneType' has no len()\n",
      "object of type 'NoneType' has no len()\n",
      "object of type 'NoneType' has no len()\n",
      "object of type 'NoneType' has no len()\n",
      "object of type 'NoneType' has no len()\n",
      "422, message='Unprocessable Entity', url='https://jnovl897uj1glqgn.us-east-1.aws.endpoints.huggingface.cloud/v1/chat/completions'\n",
      "object of type 'NoneType' has no len()\n",
      "object of type 'NoneType' has no len()\n",
      "object of type 'NoneType' has no len()\n",
      "422, message='Unprocessable Entity', url='https://jnovl897uj1glqgn.us-east-1.aws.endpoints.huggingface.cloud/v1/chat/completions'\n",
      "object of type 'NoneType' has no len()\n",
      "object of type 'NoneType' has no len()\n",
      "object of type 'NoneType' has no len()\n",
      "object of type 'NoneType' has no len()\n",
      "object of type 'NoneType' has no len()\n",
      "object of type 'NoneType' has no len()\n",
      "object of type 'NoneType' has no len()\n",
      "object of type 'NoneType' has no len()\n",
      "object of type 'NoneType' has no len()\n"
     ]
    },
    {
     "data": {
      "text/plain": [
       "shape: (600, 6)\n",
       "┌─────────────────┬─────────────────┬─────────────────┬────────────────┬────────────────┬──────────┐\n",
       "│ model           ┆ input           ┆ output          ┆ generated_outp ┆ dataset_type   ┆ accuracy │\n",
       "│ ---             ┆ ---             ┆ ---             ┆ ut             ┆ ---            ┆ ---      │\n",
       "│ str             ┆ str             ┆ str             ┆ ---            ┆ str            ┆ f64      │\n",
       "│                 ┆                 ┆                 ┆ str            ┆                ┆          │\n",
       "╞═════════════════╪═════════════════╪═════════════════╪════════════════╪════════════════╪══════════╡\n",
       "│ microsoft/Phi-3 ┆ Визнач, які     ┆ Основні ключові ┆ Найбільш       ┆ NewsKeywordDat ┆ 0.277778 │\n",
       "│ .5-mini-instruc ┆ слова є         ┆ слова: ['Росія… ┆ значущі слова  ┆ aset           ┆          │\n",
       "│ …               ┆ найбільш з…     ┆                 ┆ у текст…       ┆                ┆          │\n",
       "│ microsoft/Phi-3 ┆ Розглянь        ┆ В               ┆ Г) підтвердити ┆ ZnoDataset     ┆ 0.022727 │\n",
       "│ .5-mini-instruc ┆ варіанти        ┆                 ┆ думку про      ┆                ┆          │\n",
       "│ …               ┆ відповідей н…   ┆                 ┆ Вікіп…         ┆                ┆          │\n",
       "│ microsoft/Phi-3 ┆ Класифікуй      ┆ технології      ┆ Тематика: Sony ┆ NewsTopicClass ┆ 0.162602 │\n",
       "│ .5-mini-instruc ┆ новину,         ┆                 ┆ PlayStation 5; ┆ ificationDatas ┆          │\n",
       "│ …               ┆ виходячи з …    ┆                 ┆ …              ┆ et             ┆          │\n",
       "│ microsoft/Phi-3 ┆ Базуючись на    ┆ політика        ┆ Ця контент     ┆ NewsTopicClass ┆ 0.0      │\n",
       "│ .5-mini-instruc ┆ контенті тексту ┆                 ┆ тексту         ┆ ificationDatas ┆          │\n",
       "│ …               ┆ в…              ┆                 ┆ відноситься …  ┆ et             ┆          │\n",
       "│ microsoft/Phi-3 ┆ Аналізуй текст  ┆ політика        ┆ Політична      ┆ NewsTopicClass ┆ 0.0      │\n",
       "│ .5-mini-instruc ┆ новини і        ┆                 ┆ новина - цей   ┆ ificationDatas ┆          │\n",
       "│ …               ┆ вибери…         ┆                 ┆ жанр на…       ┆ et             ┆          │\n",
       "│ …               ┆ …               ┆ …               ┆ …              ┆ …              ┆ …        │\n",
       "│ gpt-4o-mini     ┆ Проаналізуй     ┆ В               ┆ Щоб вибрати    ┆ ZnoDataset     ┆ 0.013514 │\n",
       "│                 ┆ варіанти        ┆                 ┆ правильну      ┆                ┆          │\n",
       "│                 ┆ відповіде…      ┆                 ┆ відповід…      ┆                ┆          │\n",
       "│ gpt-4o-mini     ┆ Проаналізуй     ┆ Основні ключові ┆ Ключові        ┆ NewsKeywordDat ┆ 0.297872 │\n",
       "│                 ┆ текст і визнач  ┆ слова: ['Техно… ┆ елементи       ┆ aset           ┆          │\n",
       "│                 ┆ клю…            ┆                 ┆ тексту:        ┆                ┆          │\n",
       "│ gpt-4o-mini     ┆ Визнач          ┆ Б               ┆ Правильний     ┆ ZnoDataset     ┆ 0.0      │\n",
       "│                 ┆ правильний      ┆                 ┆ варіант        ┆                ┆          │\n",
       "│                 ┆ варіант відп…   ┆                 ┆ відповіді н…   ┆                ┆          │\n",
       "│ gpt-4o-mini     ┆ На основі       ┆ політика        ┆ Жанр новини:   ┆ NewsTopicClass ┆ 0.126984 │\n",
       "│                 ┆ змісту новини,  ┆                 ┆ військова      ┆ ificationDatas ┆          │\n",
       "│                 ┆ визна…          ┆                 ┆ хроніка…       ┆ et             ┆          │\n",
       "│ gpt-4o-mini     ┆ Відповідай на   ┆ Б               ┆ Правильний     ┆ ZnoDataset     ┆ 0.0      │\n",
       "│                 ┆ тестове         ┆                 ┆ варіант - В)   ┆                ┆          │\n",
       "│                 ┆ питання,…       ┆                 ┆ Дерева…        ┆                ┆          │\n",
       "└─────────────────┴─────────────────┴─────────────────┴────────────────┴────────────────┴──────────┘"
      ],
      "text/html": [
       "<div><style>\n",
       ".dataframe > thead > tr,\n",
       ".dataframe > tbody > tr {\n",
       "  text-align: right;\n",
       "  white-space: pre-wrap;\n",
       "}\n",
       "</style>\n",
       "<small>shape: (600, 6)</small><table border=\"1\" class=\"dataframe\"><thead><tr><th>model</th><th>input</th><th>output</th><th>generated_output</th><th>dataset_type</th><th>accuracy</th></tr><tr><td>str</td><td>str</td><td>str</td><td>str</td><td>str</td><td>f64</td></tr></thead><tbody><tr><td>&quot;microsoft/Phi-3.5-mini-instruc…</td><td>&quot;Визнач, які слова є найбільш з…</td><td>&quot;Основні ключові слова: [&#x27;Росія…</td><td>&quot;Найбільш значущі слова у текст…</td><td>&quot;NewsKeywordDataset&quot;</td><td>0.277778</td></tr><tr><td>&quot;microsoft/Phi-3.5-mini-instruc…</td><td>&quot;Розглянь варіанти відповідей н…</td><td>&quot;В&quot;</td><td>&quot;Г) підтвердити думку про Вікіп…</td><td>&quot;ZnoDataset&quot;</td><td>0.022727</td></tr><tr><td>&quot;microsoft/Phi-3.5-mini-instruc…</td><td>&quot;Класифікуй новину, виходячи з …</td><td>&quot;технології&quot;</td><td>&quot;Тематика: Sony PlayStation 5; …</td><td>&quot;NewsTopicClassificationDataset&quot;</td><td>0.162602</td></tr><tr><td>&quot;microsoft/Phi-3.5-mini-instruc…</td><td>&quot;Базуючись на контенті тексту в…</td><td>&quot;політика&quot;</td><td>&quot;Ця контент тексту відноситься …</td><td>&quot;NewsTopicClassificationDataset&quot;</td><td>0.0</td></tr><tr><td>&quot;microsoft/Phi-3.5-mini-instruc…</td><td>&quot;Аналізуй текст новини і вибери…</td><td>&quot;політика&quot;</td><td>&quot;Політична новина - цей жанр на…</td><td>&quot;NewsTopicClassificationDataset&quot;</td><td>0.0</td></tr><tr><td>&hellip;</td><td>&hellip;</td><td>&hellip;</td><td>&hellip;</td><td>&hellip;</td><td>&hellip;</td></tr><tr><td>&quot;gpt-4o-mini&quot;</td><td>&quot;Проаналізуй варіанти відповіде…</td><td>&quot;В&quot;</td><td>&quot;Щоб вибрати правильну відповід…</td><td>&quot;ZnoDataset&quot;</td><td>0.013514</td></tr><tr><td>&quot;gpt-4o-mini&quot;</td><td>&quot;Проаналізуй текст і визнач клю…</td><td>&quot;Основні ключові слова: [&#x27;Техно…</td><td>&quot;Ключові елементи тексту:&quot;</td><td>&quot;NewsKeywordDataset&quot;</td><td>0.297872</td></tr><tr><td>&quot;gpt-4o-mini&quot;</td><td>&quot;Визнач правильний варіант відп…</td><td>&quot;Б&quot;</td><td>&quot;Правильний варіант відповіді н…</td><td>&quot;ZnoDataset&quot;</td><td>0.0</td></tr><tr><td>&quot;gpt-4o-mini&quot;</td><td>&quot;На основі змісту новини, визна…</td><td>&quot;політика&quot;</td><td>&quot;Жанр новини: військова хроніка…</td><td>&quot;NewsTopicClassificationDataset&quot;</td><td>0.126984</td></tr><tr><td>&quot;gpt-4o-mini&quot;</td><td>&quot;Відповідай на тестове питання,…</td><td>&quot;Б&quot;</td><td>&quot;Правильний варіант - В) Дерева…</td><td>&quot;ZnoDataset&quot;</td><td>0.0</td></tr></tbody></table></div>"
      ]
     },
     "execution_count": 24,
     "metadata": {},
     "output_type": "execute_result"
    }
   ],
   "execution_count": 24
  },
  {
   "metadata": {
    "ExecuteTime": {
     "end_time": "2024-09-15T13:49:08.639745Z",
     "start_time": "2024-09-15T13:49:08.624885Z"
    }
   },
   "cell_type": "code",
   "source": "calc_stats(golden_results)",
   "id": "d2bde52c77c956",
   "outputs": [
    {
     "name": "stderr",
     "output_type": "stream",
     "text": [
      "/var/folders/mq/lvh6fs2s70vffqwr4lz5sy240000gn/T/ipykernel_62786/3406399673.py:6: DeprecationWarning: The argument `columns` for `DataFrame.pivot` is deprecated. It has been renamed to `on`.\n",
      "  accuracy_df.pivot(\n"
     ]
    },
    {
     "data": {
      "text/plain": [
       "shape: (7, 7)\n",
       "┌───────────────┬───────────────┬────────────┬────────────┬──────────────┬──────────────┬──────────┐\n",
       "│ model         ┆ NewsTopicClas ┆ ZnoDataset ┆ WscDataset ┆ UaSqaudDatas ┆ NewsKeywordD ┆ mean     │\n",
       "│ ---           ┆ sificationDat ┆ ---        ┆ ---        ┆ et           ┆ ataset       ┆ ---      │\n",
       "│ str           ┆ aset          ┆ f64        ┆ f64        ┆ ---          ┆ ---          ┆ f64      │\n",
       "│               ┆ ---           ┆            ┆            ┆ f64          ┆ f64          ┆          │\n",
       "│               ┆ f64           ┆            ┆            ┆              ┆              ┆          │\n",
       "╞═══════════════╪═══════════════╪════════════╪════════════╪══════════════╪══════════════╪══════════╡\n",
       "│ ostapbodnar/P ┆ 0.064487      ┆ 0.0        ┆ 0.19925    ┆ 0.039385     ┆ 0.102118     ┆ 0.081048 │\n",
       "│ hi3.5-mini-in ┆               ┆            ┆            ┆              ┆              ┆          │\n",
       "│ stru…         ┆               ┆            ┆            ┆              ┆              ┆          │\n",
       "│ microsoft/Phi ┆ 0.139156      ┆ 0.007717   ┆ 0.20775    ┆ 0.12722      ┆ 0.259782     ┆ 0.148325 │\n",
       "│ -3.5-mini-ins ┆               ┆            ┆            ┆              ┆              ┆          │\n",
       "│ truc…         ┆               ┆            ┆            ┆              ┆              ┆          │\n",
       "│ gpt-4o-mini   ┆ 0.209568      ┆ 0.002928   ┆ 0.340902   ┆ 0.256273     ┆ 0.215815     ┆ 0.205097 │\n",
       "│ ostapbodnar/P ┆ 0.085033      ┆ 0.00057    ┆ 0.048569   ┆ 0.106253     ┆ 0.068835     ┆ 0.061852 │\n",
       "│ hi3.5-mini-in ┆               ┆            ┆            ┆              ┆              ┆          │\n",
       "│ stru…         ┆               ┆            ┆            ┆              ┆              ┆          │\n",
       "│ ostapbodnar/P ┆ 0.67557       ┆ 0.222222   ┆ 0.116667   ┆ 0.550507     ┆ 0.538239     ┆ 0.420641 │\n",
       "│ hi3.5-mini-in ┆               ┆            ┆            ┆              ┆              ┆          │\n",
       "│ stru…         ┆               ┆            ┆            ┆              ┆              ┆          │\n",
       "│ ft:gpt-4o-min ┆ 0.915344      ┆ 0.444444   ┆ 0.960784   ┆ 0.618957     ┆ 0.622217     ┆ 0.712349 │\n",
       "│ i-2024-07-18: ┆               ┆            ┆            ┆              ┆              ┆          │\n",
       "│ pers…         ┆               ┆            ┆            ┆              ┆              ┆          │\n",
       "│ mean          ┆ 0.348193      ┆ 0.11298    ┆ 0.31232    ┆ 0.283099     ┆ 0.301168     ┆ 0.271552 │\n",
       "└───────────────┴───────────────┴────────────┴────────────┴──────────────┴──────────────┴──────────┘"
      ],
      "text/html": [
       "<div><style>\n",
       ".dataframe > thead > tr,\n",
       ".dataframe > tbody > tr {\n",
       "  text-align: right;\n",
       "  white-space: pre-wrap;\n",
       "}\n",
       "</style>\n",
       "<small>shape: (7, 7)</small><table border=\"1\" class=\"dataframe\"><thead><tr><th>model</th><th>NewsTopicClassificationDataset</th><th>ZnoDataset</th><th>WscDataset</th><th>UaSqaudDataset</th><th>NewsKeywordDataset</th><th>mean</th></tr><tr><td>str</td><td>f64</td><td>f64</td><td>f64</td><td>f64</td><td>f64</td><td>f64</td></tr></thead><tbody><tr><td>&quot;ostapbodnar/Phi3.5-mini-instru…</td><td>0.064487</td><td>0.0</td><td>0.19925</td><td>0.039385</td><td>0.102118</td><td>0.081048</td></tr><tr><td>&quot;microsoft/Phi-3.5-mini-instruc…</td><td>0.139156</td><td>0.007717</td><td>0.20775</td><td>0.12722</td><td>0.259782</td><td>0.148325</td></tr><tr><td>&quot;gpt-4o-mini&quot;</td><td>0.209568</td><td>0.002928</td><td>0.340902</td><td>0.256273</td><td>0.215815</td><td>0.205097</td></tr><tr><td>&quot;ostapbodnar/Phi3.5-mini-instru…</td><td>0.085033</td><td>0.00057</td><td>0.048569</td><td>0.106253</td><td>0.068835</td><td>0.061852</td></tr><tr><td>&quot;ostapbodnar/Phi3.5-mini-instru…</td><td>0.67557</td><td>0.222222</td><td>0.116667</td><td>0.550507</td><td>0.538239</td><td>0.420641</td></tr><tr><td>&quot;ft:gpt-4o-mini-2024-07-18:pers…</td><td>0.915344</td><td>0.444444</td><td>0.960784</td><td>0.618957</td><td>0.622217</td><td>0.712349</td></tr><tr><td>&quot;mean&quot;</td><td>0.348193</td><td>0.11298</td><td>0.31232</td><td>0.283099</td><td>0.301168</td><td>0.271552</td></tr></tbody></table></div>"
      ]
     },
     "execution_count": 25,
     "metadata": {},
     "output_type": "execute_result"
    }
   ],
   "execution_count": 25
  },
  {
   "cell_type": "code",
   "id": "f08a0474494229c3",
   "metadata": {},
   "source": [],
   "outputs": [],
   "execution_count": null
  },
  {
   "metadata": {},
   "cell_type": "markdown",
   "source": "python main.py     --tasks=mmlu_uk --limit=100     --model_args pretrained=microsoft/Phi-3.5-mini-instruct     --device=cuda",
   "id": "c5684af095c92445"
  },
  {
   "metadata": {},
   "cell_type": "markdown",
   "source": "python main.py     --tasks=mmlu_uk --limit=100     --model_args pretrained=ostapbodnar/Phi3.5-mini-instruct-UA-lora-unsloth-mixed-16bit     --device=cuda",
   "id": "a6cd13c82d64b49c"
  },
  {
   "metadata": {},
   "cell_type": "markdown",
   "source": "export HF_DATASETS_TRUST_REMOTE_CODE=true",
   "id": "faea4bb78de79979"
  }
 ],
 "metadata": {
  "kernelspec": {
   "display_name": "masters_llm_eval",
   "language": "python",
   "name": "masters_llm_eval"
  },
  "language_info": {
   "codemirror_mode": {
    "name": "ipython",
    "version": 3
   },
   "file_extension": ".py",
   "mimetype": "text/x-python",
   "name": "python",
   "nbconvert_exporter": "python",
   "pygments_lexer": "ipython3",
   "version": "3.12.2"
  }
 },
 "nbformat": 4,
 "nbformat_minor": 5
}
