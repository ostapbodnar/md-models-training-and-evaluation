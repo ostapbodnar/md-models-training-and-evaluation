{
 "cells": [
  {
   "metadata": {},
   "cell_type": "markdown",
   "source": "# Data preparation step",
   "id": "83cfabc6f6ecaa8f"
  },
  {
   "cell_type": "code",
   "id": "initial_id",
   "metadata": {
    "collapsed": true,
    "ExecuteTime": {
     "end_time": "2024-09-13T11:05:36.251128Z",
     "start_time": "2024-09-13T11:05:36.248225Z"
    }
   },
   "source": [
    "import os\n",
    "from pathlib import Path\n",
    "\n",
    "import polars as pl"
   ],
   "outputs": [],
   "execution_count": 11
  },
  {
   "metadata": {
    "ExecuteTime": {
     "end_time": "2024-09-13T11:05:44.166709Z",
     "start_time": "2024-09-13T11:05:36.401537Z"
    }
   },
   "cell_type": "code",
   "source": [
    "golden_df = pl.read_csv(Path(os.getcwd()).parent.parent / \"data/merged_dataset/golden/train.tsv\", separator='\\t',\n",
    "                 quote_char='\\\"', infer_schema=False)\n",
    "golden_df"
   ],
   "id": "8b5ba1975d0ed383",
   "outputs": [
    {
     "data": {
      "text/plain": [
       "shape: (267_449, 5)\n",
       "┌────────────────────┬────────────────────┬────────────────────┬──────────────┬────────────────────┐\n",
       "│ input              ┆ output             ┆ instruct           ┆ dataset_type ┆ dataloader_name    │\n",
       "│ ---                ┆ ---                ┆ ---                ┆ ---          ┆ ---                │\n",
       "│ str                ┆ str                ┆ str                ┆ str          ┆ str                │\n",
       "╞════════════════════╪════════════════════╪════════════════════╪══════════════╪════════════════════╡\n",
       "│ Byte for France    ┆ Byte for France    ┆ Виправ граматичні  ┆ 1            ┆ UaGecDataset       │\n",
       "│ або “Мій досві…    ┆ або “Мій досві…    ┆ помилки в по…      ┆              ┆                    │\n",
       "│ Сьогодні розповім  ┆ Сьогодні розповім  ┆ Виправ граматичні  ┆ 1            ┆ UaGecDataset       │\n",
       "│ про те як і …      ┆ про те<g ed=…      ┆ помилки в по…      ┆              ┆                    │\n",
       "│ Моє бачення        ┆ Моє бачення        ┆ Виправ граматичні  ┆ 1            ┆ UaGecDataset       │\n",
       "│ Instagram          ┆ Instagram          ┆ помилки в по…      ┆              ┆                    │\n",
       "│ Колись д…          ┆ Колись д…          ┆                    ┆              ┆                    │\n",
       "│ Було це за         ┆ Було це за <g      ┆ Виправ граматичні  ┆ 1            ┆ UaGecDataset       │\n",
       "│ декілька років до  ┆ ed=\"кілька\" et=\"…  ┆ помилки в по…      ┆              ┆                    │\n",
       "│ п…                 ┆                    ┆                    ┆              ┆                    │\n",
       "│ Instagram втілює   ┆ Instagram втілює   ┆ Виправ граматичні  ┆ 1            ┆ UaGecDataset       │\n",
       "│ глибинні бажа…     ┆ глибинні бажа…     ┆ помилки в по…      ┆              ┆                    │\n",
       "│ …                  ┆ …                  ┆ …                  ┆ …            ┆ …                  │\n",
       "│ Заголовок: Леон    ┆ Основні ключові    ┆ Із поданого тексту ┆ 7            ┆ NewsKeywordDataset │\n",
       "│ ГОРЕЦКА: «У ни…    ┆ слова: ['Футбо…    ┆ обери голов…       ┆              ┆                    │\n",
       "│ Заголовок:  Моряка ┆ Основні ключові    ┆ Витягни основні    ┆ 7            ┆ NewsKeywordDataset │\n",
       "│ Ейдера могл…       ┆ слова: ['Керче…    ┆ терміни з цьог…    ┆              ┆                    │\n",
       "│ Заголовок:  \"Укрга ┆ Основні ключові    ┆ Визнач, які слова  ┆ 7            ┆ NewsKeywordDataset │\n",
       "│ звидобування…      ┆ слова: ['Михай…    ┆ є найбільш з…      ┆              ┆                    │\n",
       "│ Заголовок: До 300  ┆ Основні ключові    ┆ Витягни основні    ┆ 7            ┆ NewsKeywordDataset │\n",
       "│ Мвт на годин…      ┆ слова: ['Енерг…    ┆ терміни з цьог…    ┆              ┆                    │\n",
       "│ Заголовок:         ┆ Основні ключові    ┆ Оберіть важливі    ┆ 7            ┆ NewsKeywordDataset │\n",
       "│ Берлусконі каже,   ┆ слова: ['анекс…    ┆ слова, що опис…    ┆              ┆                    │\n",
       "│ щ…                 ┆                    ┆                    ┆              ┆                    │\n",
       "└────────────────────┴────────────────────┴────────────────────┴──────────────┴────────────────────┘"
      ],
      "text/html": [
       "<div><style>\n",
       ".dataframe > thead > tr,\n",
       ".dataframe > tbody > tr {\n",
       "  text-align: right;\n",
       "  white-space: pre-wrap;\n",
       "}\n",
       "</style>\n",
       "<small>shape: (267_449, 5)</small><table border=\"1\" class=\"dataframe\"><thead><tr><th>input</th><th>output</th><th>instruct</th><th>dataset_type</th><th>dataloader_name</th></tr><tr><td>str</td><td>str</td><td>str</td><td>str</td><td>str</td></tr></thead><tbody><tr><td>&quot;Byte for France або “Мій досві…</td><td>&quot;Byte for France або “Мій досві…</td><td>&quot;Виправ граматичні помилки в по…</td><td>&quot;1&quot;</td><td>&quot;UaGecDataset&quot;</td></tr><tr><td>&quot;Сьогодні розповім про те як і …</td><td>&quot;Сьогодні розповім про те&lt;g ed=…</td><td>&quot;Виправ граматичні помилки в по…</td><td>&quot;1&quot;</td><td>&quot;UaGecDataset&quot;</td></tr><tr><td>&quot;Моє бачення Instagram\n",
       "Колись д…</td><td>&quot;Моє бачення Instagram\n",
       "Колись д…</td><td>&quot;Виправ граматичні помилки в по…</td><td>&quot;1&quot;</td><td>&quot;UaGecDataset&quot;</td></tr><tr><td>&quot;Було це за декілька років до п…</td><td>&quot;Було це за &lt;g ed=&quot;кілька&quot; et=&quot;…</td><td>&quot;Виправ граматичні помилки в по…</td><td>&quot;1&quot;</td><td>&quot;UaGecDataset&quot;</td></tr><tr><td>&quot;Instagram втілює глибинні бажа…</td><td>&quot;Instagram втілює глибинні бажа…</td><td>&quot;Виправ граматичні помилки в по…</td><td>&quot;1&quot;</td><td>&quot;UaGecDataset&quot;</td></tr><tr><td>&hellip;</td><td>&hellip;</td><td>&hellip;</td><td>&hellip;</td><td>&hellip;</td></tr><tr><td>&quot;Заголовок: Леон ГОРЕЦКА: «У ни…</td><td>&quot;Основні ключові слова: [&#x27;Футбо…</td><td>&quot;Із поданого тексту обери голов…</td><td>&quot;7&quot;</td><td>&quot;NewsKeywordDataset&quot;</td></tr><tr><td>&quot;Заголовок:  Моряка Ейдера могл…</td><td>&quot;Основні ключові слова: [&#x27;Керче…</td><td>&quot;Витягни основні терміни з цьог…</td><td>&quot;7&quot;</td><td>&quot;NewsKeywordDataset&quot;</td></tr><tr><td>&quot;Заголовок:  &quot;Укргазвидобування…</td><td>&quot;Основні ключові слова: [&#x27;Михай…</td><td>&quot;Визнач, які слова є найбільш з…</td><td>&quot;7&quot;</td><td>&quot;NewsKeywordDataset&quot;</td></tr><tr><td>&quot;Заголовок: До 300 Мвт на годин…</td><td>&quot;Основні ключові слова: [&#x27;Енерг…</td><td>&quot;Витягни основні терміни з цьог…</td><td>&quot;7&quot;</td><td>&quot;NewsKeywordDataset&quot;</td></tr><tr><td>&quot;Заголовок:  Берлусконі каже, щ…</td><td>&quot;Основні ключові слова: [&#x27;анекс…</td><td>&quot;Оберіть важливі слова, що опис…</td><td>&quot;7&quot;</td><td>&quot;NewsKeywordDataset&quot;</td></tr></tbody></table></div>"
      ]
     },
     "execution_count": 12,
     "metadata": {},
     "output_type": "execute_result"
    }
   ],
   "execution_count": 12
  },
  {
   "metadata": {
    "ExecuteTime": {
     "end_time": "2024-09-13T11:05:44.172930Z",
     "start_time": "2024-09-13T11:05:44.168761Z"
    }
   },
   "cell_type": "code",
   "source": [
    "def custom_sample(df, sampling_fractions):\n",
    "    sampled_dfs = []\n",
    "    \n",
    "    for name, fraction in sampling_fractions.items():\n",
    "        filtered_df = df.filter(pl.col(\"dataloader_name\") == name)\n",
    "        sampled_df = filtered_df.sample(fraction=fraction, seed=42, shuffle=True) \n",
    "        sampled_dfs.append(sampled_df)\n",
    "    \n",
    "    return pl.concat(sampled_dfs)"
   ],
   "id": "a664da7cd1234aac",
   "outputs": [],
   "execution_count": 13
  },
  {
   "metadata": {
    "ExecuteTime": {
     "end_time": "2024-09-13T11:07:21.525954Z",
     "start_time": "2024-09-13T11:07:21.494007Z"
    }
   },
   "cell_type": "code",
   "source": [
    "sampling_fractions = {\n",
    "    \"UaGecDataset\": 0.95,       # Mostly all (95%)\n",
    "    \"UaSqaudDataset\": 0.95,     # Mostly all (95%)\n",
    "    \"NewsTopicClassificationDataset\": 0.003,  # Max 3%\n",
    "    \"NewsKeywordDataset\": 0.003,  # Max 3%\n",
    "    'MovaInstPosDataset': 0.65,\n",
    "    'ZnoDataset': 1.0,\n",
    "    \"WscDataset\": 1.0,          # Include all (100%)\n",
    "    \"NerDataset\": 1.0           # Include all (100%)\n",
    "}\n",
    "\n",
    "\n",
    "\n",
    "data_filtered = golden_df.filter(pl.col(\"dataloader_name\") != \"null\")\n",
    "\n",
    "\n",
    "shuffled_df = custom_sample(data_filtered, sampling_fractions).sample(fraction=0.5, shuffle=True)\n",
    "shuffled_df"
   ],
   "id": "43b0c8e94e6ade78",
   "outputs": [
    {
     "data": {
      "text/plain": [
       "shape: (12_226, 5)\n",
       "┌─────────────────────┬─────────────────────┬─────────────────────┬──────────────┬─────────────────┐\n",
       "│ input               ┆ output              ┆ instruct            ┆ dataset_type ┆ dataloader_name │\n",
       "│ ---                 ┆ ---                 ┆ ---                 ┆ ---          ┆ ---             │\n",
       "│ str                 ┆ str                 ┆ str                 ┆ str          ┆ str             │\n",
       "╞═════════════════════╪═════════════════════╪═════════════════════╪══════════════╪═════════════════╡\n",
       "│ Запитання: Який     ┆ 51 739 доларів      ┆ На основі наданого  ┆ 5            ┆ UaSqaudDataset  │\n",
       "│ середній дохід…     ┆                     ┆ контексту, …        ┆              ┆                 │\n",
       "│ Запитання: Якими ще ┆ зовсім окремими     ┆ Дай відповідь на    ┆ 5            ┆ UaSqaudDataset  │\n",
       "│ іноді вваж…         ┆ мовами              ┆ запитання, сп…      ┆              ┆                 │\n",
       "│ Запитання: Який     ┆ Людина-павук 3      ┆ З урахуванням       ┆ 5            ┆ UaSqaudDataset  │\n",
       "│ фільм у Парижі…     ┆                     ┆ контексту дай то…   ┆              ┆                 │\n",
       "│ Фіолетова спина     ┆ Фіолетова спина     ┆ Виправ граматичні   ┆ 1            ┆ UaGecDataset    │\n",
       "│ труснулася, ал…     ┆ труснулася, ал…     ┆ помилки в по…       ┆              ┆                 │\n",
       "│ А) виконавиця       ┆ Б                   ┆ На основі           ┆ 8            ┆ ZnoDataset      │\n",
       "│ Б) гардеробщиця     ┆                     ┆ інформації, наданої ┆              ┆                 │\n",
       "│ …                   ┆                     ┆ …                   ┆              ┆                 │\n",
       "│ …                   ┆ …                   ┆ …                   ┆ …            ┆ …               │\n",
       "│ ПЕРШИЙ З ТРЬОХ      ┆ ПЕРШИЙ <g ed=\"ІЗ\"   ┆ Виправ граматичні   ┆ 1            ┆ UaGecDataset    │\n",
       "│ ДУХІВ.              ┆ et=\"Spelling…       ┆ помилки в по…       ┆              ┆                 │\n",
       "│ Запитання: Що       ┆ null                ┆ На основі           ┆ 5            ┆ UaSqaudDataset  │\n",
       "│ створює сильний …   ┆                     ┆ контексту, що       ┆              ┆                 │\n",
       "│                     ┆                     ┆ надаєт…             ┆              ┆                 │\n",
       "│ Запитання: З яким   ┆ Трієстом            ┆ Давай відповіді на  ┆ 5            ┆ UaSqaudDataset  │\n",
       "│ італійським …       ┆                     ┆ запитання в…        ┆              ┆                 │\n",
       "│ Запитання: Якої     ┆ null                ┆ Використовуй        ┆ 5            ┆ UaSqaudDataset  │\n",
       "│ дати розпочала…     ┆                     ┆ інформацію з конт…  ┆              ┆                 │\n",
       "│ А) Данило Демуцький ┆ А                   ┆ Визнач відповідь на ┆ 8            ┆ ZnoDataset      │\n",
       "│ був палким…         ┆                     ┆ тестове пи…         ┆              ┆                 │\n",
       "└─────────────────────┴─────────────────────┴─────────────────────┴──────────────┴─────────────────┘"
      ],
      "text/html": [
       "<div><style>\n",
       ".dataframe > thead > tr,\n",
       ".dataframe > tbody > tr {\n",
       "  text-align: right;\n",
       "  white-space: pre-wrap;\n",
       "}\n",
       "</style>\n",
       "<small>shape: (12_226, 5)</small><table border=\"1\" class=\"dataframe\"><thead><tr><th>input</th><th>output</th><th>instruct</th><th>dataset_type</th><th>dataloader_name</th></tr><tr><td>str</td><td>str</td><td>str</td><td>str</td><td>str</td></tr></thead><tbody><tr><td>&quot;Запитання: Який середній дохід…</td><td>&quot;51 739 доларів&quot;</td><td>&quot;На основі наданого контексту, …</td><td>&quot;5&quot;</td><td>&quot;UaSqaudDataset&quot;</td></tr><tr><td>&quot;Запитання: Якими ще іноді вваж…</td><td>&quot;зовсім окремими мовами&quot;</td><td>&quot;Дай відповідь на запитання, сп…</td><td>&quot;5&quot;</td><td>&quot;UaSqaudDataset&quot;</td></tr><tr><td>&quot;Запитання: Який фільм у Парижі…</td><td>&quot;Людина-павук 3&quot;</td><td>&quot;З урахуванням контексту дай то…</td><td>&quot;5&quot;</td><td>&quot;UaSqaudDataset&quot;</td></tr><tr><td>&quot;Фіолетова спина труснулася, ал…</td><td>&quot;Фіолетова спина труснулася, ал…</td><td>&quot;Виправ граматичні помилки в по…</td><td>&quot;1&quot;</td><td>&quot;UaGecDataset&quot;</td></tr><tr><td>&quot;А) виконавиця\n",
       "Б) гардеробщиця\n",
       "…</td><td>&quot;Б&quot;</td><td>&quot;На основі інформації, наданої …</td><td>&quot;8&quot;</td><td>&quot;ZnoDataset&quot;</td></tr><tr><td>&hellip;</td><td>&hellip;</td><td>&hellip;</td><td>&hellip;</td><td>&hellip;</td></tr><tr><td>&quot;ПЕРШИЙ З ТРЬОХ ДУХІВ.&quot;</td><td>&quot;ПЕРШИЙ &lt;g ed=&quot;ІЗ&quot; et=&quot;Spelling…</td><td>&quot;Виправ граматичні помилки в по…</td><td>&quot;1&quot;</td><td>&quot;UaGecDataset&quot;</td></tr><tr><td>&quot;Запитання: Що створює сильний …</td><td>null</td><td>&quot;На основі контексту, що надаєт…</td><td>&quot;5&quot;</td><td>&quot;UaSqaudDataset&quot;</td></tr><tr><td>&quot;Запитання: З яким італійським …</td><td>&quot;Трієстом&quot;</td><td>&quot;Давай відповіді на запитання в…</td><td>&quot;5&quot;</td><td>&quot;UaSqaudDataset&quot;</td></tr><tr><td>&quot;Запитання: Якої дати розпочала…</td><td>null</td><td>&quot;Використовуй інформацію з конт…</td><td>&quot;5&quot;</td><td>&quot;UaSqaudDataset&quot;</td></tr><tr><td>&quot;А) Данило Демуцький був палким…</td><td>&quot;А&quot;</td><td>&quot;Визнач відповідь на тестове пи…</td><td>&quot;8&quot;</td><td>&quot;ZnoDataset&quot;</td></tr></tbody></table></div>"
      ]
     },
     "execution_count": 29,
     "metadata": {},
     "output_type": "execute_result"
    }
   ],
   "execution_count": 29
  },
  {
   "metadata": {
    "ExecuteTime": {
     "end_time": "2024-09-13T11:07:27.834870Z",
     "start_time": "2024-09-13T11:07:27.829537Z"
    }
   },
   "cell_type": "code",
   "source": "shuffled_df['dataloader_name'].value_counts()",
   "id": "e640734ed77a419",
   "outputs": [
    {
     "data": {
      "text/plain": [
       "shape: (8, 2)\n",
       "┌────────────────────────────────┬───────┐\n",
       "│ dataloader_name                ┆ count │\n",
       "│ ---                            ┆ ---   │\n",
       "│ str                            ┆ u32   │\n",
       "╞════════════════════════════════╪═══════╡\n",
       "│ NewsTopicClassificationDataset ┆ 180   │\n",
       "│ NerDataset                     ┆ 139   │\n",
       "│ WscDataset                     ┆ 104   │\n",
       "│ UaGecDataset                   ┆ 2952  │\n",
       "│ NewsKeywordDataset             ┆ 170   │\n",
       "│ UaSqaudDataset                 ┆ 5335  │\n",
       "│ ZnoDataset                     ┆ 1515  │\n",
       "│ MovaInstPosDataset             ┆ 1831  │\n",
       "└────────────────────────────────┴───────┘"
      ],
      "text/html": [
       "<div><style>\n",
       ".dataframe > thead > tr,\n",
       ".dataframe > tbody > tr {\n",
       "  text-align: right;\n",
       "  white-space: pre-wrap;\n",
       "}\n",
       "</style>\n",
       "<small>shape: (8, 2)</small><table border=\"1\" class=\"dataframe\"><thead><tr><th>dataloader_name</th><th>count</th></tr><tr><td>str</td><td>u32</td></tr></thead><tbody><tr><td>&quot;NewsTopicClassificationDataset&quot;</td><td>180</td></tr><tr><td>&quot;NerDataset&quot;</td><td>139</td></tr><tr><td>&quot;WscDataset&quot;</td><td>104</td></tr><tr><td>&quot;UaGecDataset&quot;</td><td>2952</td></tr><tr><td>&quot;NewsKeywordDataset&quot;</td><td>170</td></tr><tr><td>&quot;UaSqaudDataset&quot;</td><td>5335</td></tr><tr><td>&quot;ZnoDataset&quot;</td><td>1515</td></tr><tr><td>&quot;MovaInstPosDataset&quot;</td><td>1831</td></tr></tbody></table></div>"
      ]
     },
     "execution_count": 30,
     "metadata": {},
     "output_type": "execute_result"
    }
   ],
   "execution_count": 30
  },
  {
   "metadata": {
    "ExecuteTime": {
     "end_time": "2024-09-13T11:07:36.529491Z",
     "start_time": "2024-09-13T11:07:28.087576Z"
    }
   },
   "cell_type": "code",
   "source": [
    "artificial_df = pl.read_csv(Path(os.getcwd()).parent.parent / \"data/merged_dataset/synthetic/small/train.csv\", separator='\\t',\n",
    "                 quote_char='\\\"', infer_schema=False)\n",
    "artificial_df"
   ],
   "id": "6430151185757fa3",
   "outputs": [
    {
     "data": {
      "text/plain": [
       "shape: (95_808, 5)\n",
       "┌───────────────────────┬──────────────────────┬────────────────┬──────────────┬───────────────────┐\n",
       "│ input                 ┆ output               ┆ instruct       ┆ dataset_type ┆ dataloader_name   │\n",
       "│ ---                   ┆ ---                  ┆ ---            ┆ ---          ┆ ---               │\n",
       "│ str                   ┆ str                  ┆ str            ┆ str          ┆ str               │\n",
       "╞═══════════════════════╪══════════════════════╪════════════════╪══════════════╪═══════════════════╡\n",
       "│ Зараз у назві         ┆ <p t=\"ADV\">Зараз</p> ┆ Використай     ┆ 8            ┆ PapersDataset     │\n",
       "│ ізоензимів зазна…     ┆ <p t=\"ADP…           ┆ наведені нижче ┆              ┆                   │\n",
       "│                       ┆                      ┆ інст…          ┆              ┆                   │\n",
       "│ Головна відмінна риса ┆ <p                   ┆ Використай     ┆ 8            ┆ PapersDataset     │\n",
       "│ Peercoin…             ┆ t=\"ADJ\">Головна</p>  ┆ наведені нижче ┆              ┆                   │\n",
       "│                       ┆ <p t=\"A…             ┆ інст…          ┆              ┆                   │\n",
       "│ дає план давнього     ┆ <p t=\"VERB\">дає</p>  ┆ Використай     ┆ 8            ┆ PapersDataset     │\n",
       "│ Острога і за…         ┆ <p t=\"NOUN…          ┆ наведені нижче ┆              ┆                   │\n",
       "│                       ┆                      ┆ інст…          ┆              ┆                   │\n",
       "│ МЕДИЧНІ ПЕРСПЕКТИВИ / ┆ <p                   ┆ Використай     ┆ 8            ┆ PapersDataset     │\n",
       "│ MEDICNI …             ┆ t=\"ADJ\">МЕДИЧНІ</p>  ┆ наведені нижче ┆              ┆                   │\n",
       "│                       ┆ <p t=\"N…             ┆ інст…          ┆              ┆                   │\n",
       "│ , Волженцева І.,      ┆ <p t=\"PUNCT\">,</p>   ┆ Використай     ┆ 8            ┆ PapersDataset     │\n",
       "│ Калмиков Г. &…        ┆ <p t=\"PROPN…         ┆ наведені нижче ┆              ┆                   │\n",
       "│                       ┆                      ┆ інст…          ┆              ┆                   │\n",
       "│ …                     ┆ …                    ┆ …              ┆ …            ┆ …                 │\n",
       "│ BMJ best Practice     ┆ <p t=\"X\">BMJ</p> <g  ┆ Використай     ┆ 8            ┆ PapersDataset     │\n",
       "│ topics are r…         ┆ ed=\"Best\" …          ┆ наведені нижче ┆              ┆                   │\n",
       "│                       ┆                      ┆ інст…          ┆              ┆                   │\n",
       "│ classmethod (x) –     ┆ <p t=\"X\">classmethod ┆ Використай     ┆ 8            ┆ PapersDataset     │\n",
       "│ створює зазн…         ┆ </p> <p t=…          ┆ наведені нижче ┆              ┆                   │\n",
       "│                       ┆                      ┆ інст…          ┆              ┆                   │\n",
       "│ Робота з файлами      ┆ <p                   ┆ Використай     ┆ 8            ┆ PapersDataset     │\n",
       "│ Перш, ніуж пр…        ┆ t=\"NOUN\">Робота</p>  ┆ наведені нижче ┆              ┆                   │\n",
       "│                       ┆ <p t=\"A…             ┆ інст…          ┆              ┆                   │\n",
       "│ На вопрос: «Как Вы    ┆ <p t=\"ADP\">На</p> <p ┆ Використай     ┆ 8            ┆ PapersDataset     │\n",
       "│ относитесь …          ┆ t=\"NOUN\">…           ┆ наведені нижче ┆              ┆                   │\n",
       "│                       ┆                      ┆ інст…          ┆              ┆                   │\n",
       "│ Ухвалою Ухвалою       ┆ <p t=\"NOUN\">Ухвалою< ┆ Використай     ┆ 8            ┆ UbertextV2Dataset │\n",
       "│ Верховного Суд…       ┆ /p><g ed=\"…          ┆ наведені нижче ┆              ┆                   │\n",
       "│                       ┆                      ┆ інст…          ┆              ┆                   │\n",
       "└───────────────────────┴──────────────────────┴────────────────┴──────────────┴───────────────────┘"
      ],
      "text/html": [
       "<div><style>\n",
       ".dataframe > thead > tr,\n",
       ".dataframe > tbody > tr {\n",
       "  text-align: right;\n",
       "  white-space: pre-wrap;\n",
       "}\n",
       "</style>\n",
       "<small>shape: (95_808, 5)</small><table border=\"1\" class=\"dataframe\"><thead><tr><th>input</th><th>output</th><th>instruct</th><th>dataset_type</th><th>dataloader_name</th></tr><tr><td>str</td><td>str</td><td>str</td><td>str</td><td>str</td></tr></thead><tbody><tr><td>&quot;Зараз у назві ізоензимів зазна…</td><td>&quot;&lt;p t=&quot;ADV&quot;&gt;Зараз&lt;/p&gt; &lt;p t=&quot;ADP…</td><td>&quot;Використай наведені нижче інст…</td><td>&quot;8&quot;</td><td>&quot;PapersDataset&quot;</td></tr><tr><td>&quot;Головна відмінна риса Peercoin…</td><td>&quot;&lt;p t=&quot;ADJ&quot;&gt;Головна&lt;/p&gt; &lt;p t=&quot;A…</td><td>&quot;Використай наведені нижче інст…</td><td>&quot;8&quot;</td><td>&quot;PapersDataset&quot;</td></tr><tr><td>&quot;дає план давнього Острога і за…</td><td>&quot;&lt;p t=&quot;VERB&quot;&gt;дає&lt;/p&gt; &lt;p t=&quot;NOUN…</td><td>&quot;Використай наведені нижче інст…</td><td>&quot;8&quot;</td><td>&quot;PapersDataset&quot;</td></tr><tr><td>&quot;МЕДИЧНІ ПЕРСПЕКТИВИ / MEDICNI …</td><td>&quot;&lt;p t=&quot;ADJ&quot;&gt;МЕДИЧНІ&lt;/p&gt; &lt;p t=&quot;N…</td><td>&quot;Використай наведені нижче інст…</td><td>&quot;8&quot;</td><td>&quot;PapersDataset&quot;</td></tr><tr><td>&quot;, Волженцева І., Калмиков Г. &amp;…</td><td>&quot;&lt;p t=&quot;PUNCT&quot;&gt;,&lt;/p&gt; &lt;p t=&quot;PROPN…</td><td>&quot;Використай наведені нижче інст…</td><td>&quot;8&quot;</td><td>&quot;PapersDataset&quot;</td></tr><tr><td>&hellip;</td><td>&hellip;</td><td>&hellip;</td><td>&hellip;</td><td>&hellip;</td></tr><tr><td>&quot;BMJ best Practice topics are r…</td><td>&quot;&lt;p t=&quot;X&quot;&gt;BMJ&lt;/p&gt; &lt;g ed=&quot;Best&quot; …</td><td>&quot;Використай наведені нижче інст…</td><td>&quot;8&quot;</td><td>&quot;PapersDataset&quot;</td></tr><tr><td>&quot;classmethod (x) – створює зазн…</td><td>&quot;&lt;p t=&quot;X&quot;&gt;classmethod&lt;/p&gt; &lt;p t=…</td><td>&quot;Використай наведені нижче інст…</td><td>&quot;8&quot;</td><td>&quot;PapersDataset&quot;</td></tr><tr><td>&quot;Робота з файлами Перш, ніуж пр…</td><td>&quot;&lt;p t=&quot;NOUN&quot;&gt;Робота&lt;/p&gt; &lt;p t=&quot;A…</td><td>&quot;Використай наведені нижче інст…</td><td>&quot;8&quot;</td><td>&quot;PapersDataset&quot;</td></tr><tr><td>&quot;На вопрос: «Как Вы относитесь …</td><td>&quot;&lt;p t=&quot;ADP&quot;&gt;На&lt;/p&gt; &lt;p t=&quot;NOUN&quot;&gt;…</td><td>&quot;Використай наведені нижче інст…</td><td>&quot;8&quot;</td><td>&quot;PapersDataset&quot;</td></tr><tr><td>&quot;Ухвалою Ухвалою Верховного Суд…</td><td>&quot;&lt;p t=&quot;NOUN&quot;&gt;Ухвалою&lt;/p&gt;&lt;g ed=&quot;…</td><td>&quot;Використай наведені нижче інст…</td><td>&quot;8&quot;</td><td>&quot;UbertextV2Dataset&quot;</td></tr></tbody></table></div>"
      ]
     },
     "execution_count": 31,
     "metadata": {},
     "output_type": "execute_result"
    }
   ],
   "execution_count": 31
  },
  {
   "metadata": {
    "ExecuteTime": {
     "end_time": "2024-09-13T11:07:36.557856Z",
     "start_time": "2024-09-13T11:07:36.531649Z"
    }
   },
   "cell_type": "code",
   "source": [
    "sampling_fractions = {\n",
    "    \"PapersDataset\": 0.6,     \n",
    "    \"UbertextV2Dataset\": 1,     \n",
    "}\n",
    "\n",
    "data_filtered = artificial_df.filter(pl.col(\"dataloader_name\") != \"null\")\n",
    "\n",
    "art_shuffled_df = custom_sample(data_filtered, sampling_fractions).sample(fraction=0.1, shuffle=True)\n",
    "art_shuffled_df"
   ],
   "id": "1cb83af5e5460e6e",
   "outputs": [
    {
     "data": {
      "text/plain": [
       "shape: (7_136, 5)\n",
       "┌───────────────────────┬──────────────────────┬────────────────┬──────────────┬───────────────────┐\n",
       "│ input                 ┆ output               ┆ instruct       ┆ dataset_type ┆ dataloader_name   │\n",
       "│ ---                   ┆ ---                  ┆ ---            ┆ ---          ┆ ---               │\n",
       "│ str                   ┆ str                  ┆ str            ┆ str          ┆ str               │\n",
       "╞═══════════════════════╪══════════════════════╪════════════════╪══════════════╪═══════════════════╡\n",
       "│ Окрему увагу          ┆ <p                   ┆ Використай     ┆ 8            ┆ PapersDataset     │\n",
       "│ привертає робота …    ┆ t=\"ADJ\">Окрему</p>   ┆ наведені нижче ┆              ┆                   │\n",
       "│                       ┆ <p t=\"NO…            ┆ інст…          ┆              ┆                   │\n",
       "│ On the other hand,    ┆ <p t=\"X\">On</p> <p   ┆ Використай     ┆ 8            ┆ PapersDataset     │\n",
       "│ including p…          ┆ t=\"X\">the</…         ┆ наведені нижче ┆              ┆                   │\n",
       "│                       ┆                      ┆ інст…          ┆              ┆                   │\n",
       "│ При цій церкві було   ┆ <p t=\"ADP\">При</p>   ┆ Використай     ┆ 8            ┆ UbertextV2Dataset │\n",
       "│ організова…           ┆ <p t=\"DET\">…         ┆ наведені нижче ┆              ┆                   │\n",
       "│                       ┆                      ┆ інст…          ┆              ┆                   │\n",
       "│ Ці «Апос­ толи»— це    ┆ <p t=\"DET\">Ці</p> <p ┆ Використай     ┆ 8            ┆ PapersDataset     │\n",
       "│ останній у…           ┆ t=\"PUNCT\"…           ┆ наведені нижче ┆              ┆                   │\n",
       "│                       ┆                      ┆ інст…          ┆              ┆                   │\n",
       "│ , ɡɚɬɜɟɪщɠɟɧɢɦɢ       ┆ <p t=\"PUNCT\">,</p>   ┆ Використай     ┆ 8            ┆ PapersDataset     │\n",
       "│ ɧɚɤɚɡɨɦ ɆɈɁ ɍɤ…       ┆ <g ed=\"ɡɚɬɜ…         ┆ наведені нижче ┆              ┆                   │\n",
       "│                       ┆                      ┆ інст…          ┆              ┆                   │\n",
       "│ …                     ┆ …                    ┆ …              ┆ …            ┆ …                 │\n",
       "│ , в якій просить      ┆ <p t=\"PUNCT\">,</p>   ┆ Використай     ┆ 8            ┆ UbertextV2Dataset │\n",
       "│ вказані судов…        ┆ <p t=\"ADP\">…         ┆ наведені нижче ┆              ┆                   │\n",
       "│                       ┆                      ┆ інст…          ┆              ┆                   │\n",
       "│ Підтримка цифросвих   ┆ <p t=\"NOUN\">Підтримк ┆ Використай     ┆ 8            ┆ PapersDataset     │\n",
       "│ моделей ос…           ┆ а</p> <g e…          ┆ наведені нижче ┆              ┆                   │\n",
       "│                       ┆                      ┆ інст…          ┆              ┆                   │\n",
       "│ На думку заявника     ┆ <p t=\"ADP\">На</p> <p ┆ Використай     ┆ 8            ┆ UbertextV2Dataset │\n",
       "│ касаційної с…         ┆ t=\"NOUN\">…           ┆ наведені нижче ┆              ┆                   │\n",
       "│                       ┆                      ┆ інст…          ┆              ┆                   │\n",
       "│ ВИЩИЙ ГОСПОДАРСЬКИЙ   ┆ <p t=\"ADJ\">ВИЩИЙ</p> ┆ Використай     ┆ 8            ┆ UbertextV2Dataset │\n",
       "│ СУД УКРАЇН…           ┆ <p t=\"ADJ…           ┆ наведені нижче ┆              ┆                   │\n",
       "│                       ┆                      ┆ інст…          ┆              ┆                   │\n",
       "│ Особливої Особливої   ┆ <p t=\"ADJ\">Особливої ┆ Використай     ┆ 8            ┆ PapersDataset     │\n",
       "│ важливості…           ┆ </p><g ed=…          ┆ наведені нижче ┆              ┆                   │\n",
       "│                       ┆                      ┆ інст…          ┆              ┆                   │\n",
       "└───────────────────────┴──────────────────────┴────────────────┴──────────────┴───────────────────┘"
      ],
      "text/html": [
       "<div><style>\n",
       ".dataframe > thead > tr,\n",
       ".dataframe > tbody > tr {\n",
       "  text-align: right;\n",
       "  white-space: pre-wrap;\n",
       "}\n",
       "</style>\n",
       "<small>shape: (7_136, 5)</small><table border=\"1\" class=\"dataframe\"><thead><tr><th>input</th><th>output</th><th>instruct</th><th>dataset_type</th><th>dataloader_name</th></tr><tr><td>str</td><td>str</td><td>str</td><td>str</td><td>str</td></tr></thead><tbody><tr><td>&quot;Окрему увагу привертає робота …</td><td>&quot;&lt;p t=&quot;ADJ&quot;&gt;Окрему&lt;/p&gt; &lt;p t=&quot;NO…</td><td>&quot;Використай наведені нижче інст…</td><td>&quot;8&quot;</td><td>&quot;PapersDataset&quot;</td></tr><tr><td>&quot;On the other hand, including p…</td><td>&quot;&lt;p t=&quot;X&quot;&gt;On&lt;/p&gt; &lt;p t=&quot;X&quot;&gt;the&lt;/…</td><td>&quot;Використай наведені нижче інст…</td><td>&quot;8&quot;</td><td>&quot;PapersDataset&quot;</td></tr><tr><td>&quot;При цій церкві було організова…</td><td>&quot;&lt;p t=&quot;ADP&quot;&gt;При&lt;/p&gt; &lt;p t=&quot;DET&quot;&gt;…</td><td>&quot;Використай наведені нижче інст…</td><td>&quot;8&quot;</td><td>&quot;UbertextV2Dataset&quot;</td></tr><tr><td>&quot;Ці «Апос­ толи»— це останній у…</td><td>&quot;&lt;p t=&quot;DET&quot;&gt;Ці&lt;/p&gt; &lt;p t=&quot;PUNCT&quot;…</td><td>&quot;Використай наведені нижче інст…</td><td>&quot;8&quot;</td><td>&quot;PapersDataset&quot;</td></tr><tr><td>&quot;, ɡɚɬɜɟɪщɠɟɧɢɦɢ ɧɚɤɚɡɨɦ ɆɈɁ ɍɤ…</td><td>&quot;&lt;p t=&quot;PUNCT&quot;&gt;,&lt;/p&gt; &lt;g ed=&quot;ɡɚɬɜ…</td><td>&quot;Використай наведені нижче інст…</td><td>&quot;8&quot;</td><td>&quot;PapersDataset&quot;</td></tr><tr><td>&hellip;</td><td>&hellip;</td><td>&hellip;</td><td>&hellip;</td><td>&hellip;</td></tr><tr><td>&quot;, в якій просить вказані судов…</td><td>&quot;&lt;p t=&quot;PUNCT&quot;&gt;,&lt;/p&gt; &lt;p t=&quot;ADP&quot;&gt;…</td><td>&quot;Використай наведені нижче інст…</td><td>&quot;8&quot;</td><td>&quot;UbertextV2Dataset&quot;</td></tr><tr><td>&quot;Підтримка цифросвих моделей ос…</td><td>&quot;&lt;p t=&quot;NOUN&quot;&gt;Підтримка&lt;/p&gt; &lt;g e…</td><td>&quot;Використай наведені нижче інст…</td><td>&quot;8&quot;</td><td>&quot;PapersDataset&quot;</td></tr><tr><td>&quot;На думку заявника касаційної с…</td><td>&quot;&lt;p t=&quot;ADP&quot;&gt;На&lt;/p&gt; &lt;p t=&quot;NOUN&quot;&gt;…</td><td>&quot;Використай наведені нижче інст…</td><td>&quot;8&quot;</td><td>&quot;UbertextV2Dataset&quot;</td></tr><tr><td>&quot;ВИЩИЙ ГОСПОДАРСЬКИЙ СУД УКРАЇН…</td><td>&quot;&lt;p t=&quot;ADJ&quot;&gt;ВИЩИЙ&lt;/p&gt; &lt;p t=&quot;ADJ…</td><td>&quot;Використай наведені нижче інст…</td><td>&quot;8&quot;</td><td>&quot;UbertextV2Dataset&quot;</td></tr><tr><td>&quot;Особливої Особливої важливості…</td><td>&quot;&lt;p t=&quot;ADJ&quot;&gt;Особливої&lt;/p&gt;&lt;g ed=…</td><td>&quot;Використай наведені нижче інст…</td><td>&quot;8&quot;</td><td>&quot;PapersDataset&quot;</td></tr></tbody></table></div>"
      ]
     },
     "execution_count": 32,
     "metadata": {},
     "output_type": "execute_result"
    }
   ],
   "execution_count": 32
  },
  {
   "metadata": {
    "ExecuteTime": {
     "end_time": "2024-09-13T11:07:36.565503Z",
     "start_time": "2024-09-13T11:07:36.559565Z"
    }
   },
   "cell_type": "code",
   "source": "art_shuffled_df['dataloader_name'].value_counts()",
   "id": "2d4d6d1d7436c9ed",
   "outputs": [
    {
     "data": {
      "text/plain": [
       "shape: (2, 2)\n",
       "┌───────────────────┬───────┐\n",
       "│ dataloader_name   ┆ count │\n",
       "│ ---               ┆ ---   │\n",
       "│ str               ┆ u32   │\n",
       "╞═══════════════════╪═══════╡\n",
       "│ PapersDataset     ┆ 3637  │\n",
       "│ UbertextV2Dataset ┆ 3499  │\n",
       "└───────────────────┴───────┘"
      ],
      "text/html": [
       "<div><style>\n",
       ".dataframe > thead > tr,\n",
       ".dataframe > tbody > tr {\n",
       "  text-align: right;\n",
       "  white-space: pre-wrap;\n",
       "}\n",
       "</style>\n",
       "<small>shape: (2, 2)</small><table border=\"1\" class=\"dataframe\"><thead><tr><th>dataloader_name</th><th>count</th></tr><tr><td>str</td><td>u32</td></tr></thead><tbody><tr><td>&quot;PapersDataset&quot;</td><td>3637</td></tr><tr><td>&quot;UbertextV2Dataset&quot;</td><td>3499</td></tr></tbody></table></div>"
      ]
     },
     "execution_count": 33,
     "metadata": {},
     "output_type": "execute_result"
    }
   ],
   "execution_count": 33
  },
  {
   "metadata": {
    "ExecuteTime": {
     "end_time": "2024-09-13T11:07:36.746571Z",
     "start_time": "2024-09-13T11:07:36.567923Z"
    }
   },
   "cell_type": "code",
   "source": [
    "mixed = pl.concat([shuffled_df, art_shuffled_df]).sample(fraction=0.5, shuffle=True)\n",
    "mixed['dataloader_name'].value_counts()"
   ],
   "id": "22bd904c1ebe5e88",
   "outputs": [
    {
     "data": {
      "text/plain": [
       "shape: (10, 2)\n",
       "┌────────────────────────────────┬───────┐\n",
       "│ dataloader_name                ┆ count │\n",
       "│ ---                            ┆ ---   │\n",
       "│ str                            ┆ u32   │\n",
       "╞════════════════════════════════╪═══════╡\n",
       "│ ZnoDataset                     ┆ 778   │\n",
       "│ NewsKeywordDataset             ┆ 82    │\n",
       "│ NerDataset                     ┆ 63    │\n",
       "│ WscDataset                     ┆ 54    │\n",
       "│ PapersDataset                  ┆ 1816  │\n",
       "│ NewsTopicClassificationDataset ┆ 94    │\n",
       "│ UaGecDataset                   ┆ 1436  │\n",
       "│ MovaInstPosDataset             ┆ 919   │\n",
       "│ UaSqaudDataset                 ┆ 2710  │\n",
       "│ UbertextV2Dataset              ┆ 1729  │\n",
       "└────────────────────────────────┴───────┘"
      ],
      "text/html": [
       "<div><style>\n",
       ".dataframe > thead > tr,\n",
       ".dataframe > tbody > tr {\n",
       "  text-align: right;\n",
       "  white-space: pre-wrap;\n",
       "}\n",
       "</style>\n",
       "<small>shape: (10, 2)</small><table border=\"1\" class=\"dataframe\"><thead><tr><th>dataloader_name</th><th>count</th></tr><tr><td>str</td><td>u32</td></tr></thead><tbody><tr><td>&quot;ZnoDataset&quot;</td><td>778</td></tr><tr><td>&quot;NewsKeywordDataset&quot;</td><td>82</td></tr><tr><td>&quot;NerDataset&quot;</td><td>63</td></tr><tr><td>&quot;WscDataset&quot;</td><td>54</td></tr><tr><td>&quot;PapersDataset&quot;</td><td>1816</td></tr><tr><td>&quot;NewsTopicClassificationDataset&quot;</td><td>94</td></tr><tr><td>&quot;UaGecDataset&quot;</td><td>1436</td></tr><tr><td>&quot;MovaInstPosDataset&quot;</td><td>919</td></tr><tr><td>&quot;UaSqaudDataset&quot;</td><td>2710</td></tr><tr><td>&quot;UbertextV2Dataset&quot;</td><td>1729</td></tr></tbody></table></div>"
      ]
     },
     "execution_count": 34,
     "metadata": {},
     "output_type": "execute_result"
    }
   ],
   "execution_count": 34
  },
  {
   "metadata": {
    "ExecuteTime": {
     "end_time": "2024-09-13T11:07:51.007632Z",
     "start_time": "2024-09-13T11:07:51.003887Z"
    }
   },
   "cell_type": "code",
   "source": [
    "import math\n",
    "\n",
    "train_df = shuffled_df.head(math.ceil(len(mixed) * 0.85))\n",
    "valid_df = shuffled_df.tail(math.ceil(len(mixed) * 0.15))"
   ],
   "id": "dd1cadd2c1179b5c",
   "outputs": [],
   "execution_count": 38
  },
  {
   "metadata": {
    "ExecuteTime": {
     "end_time": "2024-09-13T11:08:01.565149Z",
     "start_time": "2024-09-13T11:08:01.561096Z"
    }
   },
   "cell_type": "code",
   "source": [
    "def create_json(row):\n",
    "    if row[\"output\"] and row[\"instruct\"] and row[\"input\"]:\n",
    "        return {\n",
    "            \"messages\": [\n",
    "                {\"role\": \"system\", \"content\": \"You are a helpful assistant\" },\n",
    "                {\"role\": \"user\", \"content\": f'{row[\"instruct\"]}\\n{row[\"input\"]}'},\n",
    "                {\"role\": \"assistant\", \"content\": row[\"output\"]}\n",
    "            ]\n",
    "        }\n",
    "    return None"
   ],
   "id": "46993c01a8208a68",
   "outputs": [],
   "execution_count": 40
  },
  {
   "metadata": {
    "ExecuteTime": {
     "end_time": "2024-09-13T11:08:04.367253Z",
     "start_time": "2024-09-13T11:08:03.976158Z"
    }
   },
   "cell_type": "code",
   "source": [
    "from tqdm import tqdm\n",
    "import json\n",
    "\n",
    "train_path = Path(Path(os.getcwd()).parent.parent / 'data/merged_dataset/golden/openai/train.jsonl')\n",
    "valid_path = Path(Path(os.getcwd()).parent.parent / 'data/merged_dataset/golden/openai/valid.jsonl')\n",
    "\n",
    "with open(train_path, 'w', encoding=\"utf-8\") as file:\n",
    "    for row in tqdm(train_df.iter_rows(named=True), total=len(train_df), desc=\"Processing train rows\"):\n",
    "        if json_obj := create_json(row):\n",
    "            file.write(json.dumps(json_obj, ensure_ascii=False) + '\\n')\n",
    "\n",
    "with open(valid_path, 'w', encoding=\"utf-8\") as file:\n",
    "    for row in tqdm(valid_df.iter_rows(named=True), total=len(valid_df), desc=\"Processing valid rows\"):\n",
    "        if json_obj := create_json(row):\n",
    "            file.write(json.dumps(json_obj, ensure_ascii=False) + '\\n')"
   ],
   "id": "c08571b09dddfac9",
   "outputs": [
    {
     "name": "stderr",
     "output_type": "stream",
     "text": [
      "Processing train rows: 100%|██████████| 8229/8229 [00:00<00:00, 26175.24it/s]\n",
      "Processing valid rows: 100%|██████████| 1453/1453 [00:00<00:00, 26125.96it/s]\n"
     ]
    }
   ],
   "execution_count": 41
  },
  {
   "metadata": {
    "ExecuteTime": {
     "end_time": "2024-09-13T11:08:09.760540Z",
     "start_time": "2024-09-13T11:08:09.758553Z"
    }
   },
   "cell_type": "code",
   "source": "",
   "id": "5de96a7ae9d413c8",
   "outputs": [],
   "execution_count": 41
  },
  {
   "metadata": {},
   "cell_type": "markdown",
   "source": "## OpenAI",
   "id": "b244753a8961d979"
  },
  {
   "metadata": {},
   "cell_type": "markdown",
   "source": "#### File loading for pretrain",
   "id": "a72455fdd9e88681"
  },
  {
   "metadata": {},
   "cell_type": "markdown",
   "source": "# TODO: add epoch number",
   "id": "a1a1725984e7d123"
  },
  {
   "metadata": {
    "ExecuteTime": {
     "end_time": "2024-09-13T11:08:15.773586Z",
     "start_time": "2024-09-13T11:08:15.761681Z"
    }
   },
   "cell_type": "code",
   "source": [
    "from dotenv import load_dotenv\n",
    "from pathlib import Path\n",
    "import os\n",
    "\n",
    "load_dotenv()"
   ],
   "id": "e7a54565947d59af",
   "outputs": [
    {
     "data": {
      "text/plain": [
       "True"
      ]
     },
     "execution_count": 42,
     "metadata": {},
     "output_type": "execute_result"
    }
   ],
   "execution_count": 42
  },
  {
   "metadata": {
    "ExecuteTime": {
     "end_time": "2024-09-13T11:08:21.140546Z",
     "start_time": "2024-09-13T11:08:21.137546Z"
    }
   },
   "cell_type": "code",
   "source": "openai_folder_root_path = Path(os.getcwd()).parent.parent / 'data/merged_dataset/golden/openai'",
   "id": "fb8f6b5b8c7234aa",
   "outputs": [],
   "execution_count": 43
  },
  {
   "metadata": {
    "ExecuteTime": {
     "end_time": "2024-09-13T11:08:27.833257Z",
     "start_time": "2024-09-13T11:08:27.830021Z"
    }
   },
   "cell_type": "code",
   "source": [
    "train_path = Path(openai_folder_root_path / 'train.jsonl')\n",
    "valid_path = Path(openai_folder_root_path / 'valid.jsonl')"
   ],
   "id": "69e624f28a38edf3",
   "outputs": [],
   "execution_count": 44
  },
  {
   "metadata": {
    "ExecuteTime": {
     "end_time": "2024-09-13T11:08:28.612504Z",
     "start_time": "2024-09-13T11:08:28.608415Z"
    }
   },
   "cell_type": "code",
   "source": [
    "OPENAI_API_KEY = os.getenv(\"OPENAI_API_KEY\")\n",
    "len(OPENAI_API_KEY)"
   ],
   "id": "f51006a2f5dae95b",
   "outputs": [
    {
     "data": {
      "text/plain": [
       "161"
      ]
     },
     "execution_count": 45,
     "metadata": {},
     "output_type": "execute_result"
    }
   ],
   "execution_count": 45
  },
  {
   "metadata": {
    "ExecuteTime": {
     "end_time": "2024-09-13T11:08:29.888666Z",
     "start_time": "2024-09-13T11:08:29.137224Z"
    }
   },
   "cell_type": "code",
   "source": [
    "from openai import OpenAI\n",
    "\n",
    "client = OpenAI()"
   ],
   "id": "68ebef755e9f2a84",
   "outputs": [],
   "execution_count": 46
  },
  {
   "metadata": {
    "ExecuteTime": {
     "end_time": "2024-09-13T11:08:42.017240Z",
     "start_time": "2024-09-13T11:08:31.237638Z"
    }
   },
   "cell_type": "code",
   "source": [
    "train_oai_file = client.files.create(\n",
    "    file=open(train_path, \"rb\"),\n",
    "    purpose=\"fine-tune\"\n",
    ")\n",
    "valid_oai_file = client.files.create(\n",
    "    file=open(valid_path, \"rb\"),\n",
    "    purpose=\"fine-tune\"\n",
    ")\n",
    "train_oai_file, valid_oai_file"
   ],
   "id": "498ec5b6e74e1b2e",
   "outputs": [
    {
     "data": {
      "text/plain": [
       "(FileObject(id='file-HUB5TQIJag3U5RDtSfZnBZPl', bytes=20144074, created_at=1726225719, filename='train.jsonl', object='file', purpose='fine-tune', status='processed', status_details=None),\n",
       " FileObject(id='file-J1AyMEw1jA7sNenxUmX51YK6', bytes=3686125, created_at=1726225721, filename='valid.jsonl', object='file', purpose='fine-tune', status='processed', status_details=None))"
      ]
     },
     "execution_count": 47,
     "metadata": {},
     "output_type": "execute_result"
    }
   ],
   "execution_count": 47
  },
  {
   "metadata": {},
   "cell_type": "markdown",
   "source": "#### Fine tuning",
   "id": "6506259d2f873815"
  },
  {
   "metadata": {
    "ExecuteTime": {
     "end_time": "2024-09-13T11:09:01.786738Z",
     "start_time": "2024-09-13T11:08:59.432779Z"
    }
   },
   "cell_type": "code",
   "source": [
    "fine_tuning_job = client.fine_tuning.jobs.create(\n",
    "    training_file=train_oai_file.id,\n",
    "    validation_file=valid_oai_file.id,\n",
    "    model='gpt-4o-mini-2024-07-18'\n",
    ")\n",
    "fine_tuning_job"
   ],
   "id": "eb9ee42078f1995",
   "outputs": [
    {
     "data": {
      "text/plain": [
       "FineTuningJob(id='ftjob-LjF5g2Ktf41XxrOnzRvuL9b0', created_at=1726225741, error=Error(code=None, message=None, param=None), fine_tuned_model=None, finished_at=None, hyperparameters=Hyperparameters(n_epochs='auto', batch_size='auto', learning_rate_multiplier='auto'), model='gpt-4o-mini-2024-07-18', object='fine_tuning.job', organization_id='org-Y7mU57w8wKRNhVVhUbD1YvZJ', result_files=[], seed=1475787846, status='validating_files', trained_tokens=None, training_file='file-HUB5TQIJag3U5RDtSfZnBZPl', validation_file='file-J1AyMEw1jA7sNenxUmX51YK6', estimated_finish=None, integrations=[], user_provided_suffix=None)"
      ]
     },
     "execution_count": 48,
     "metadata": {},
     "output_type": "execute_result"
    }
   ],
   "execution_count": 48
  },
  {
   "metadata": {
    "ExecuteTime": {
     "end_time": "2024-09-13T11:09:02.072010Z",
     "start_time": "2024-09-13T11:09:01.788439Z"
    }
   },
   "cell_type": "code",
   "source": [
    "response = client.fine_tuning.jobs.retrieve(fine_tuning_job.id)\n",
    "\n",
    "print(\"Job ID:\", response.id)\n",
    "print(\"Status:\", response.status)\n",
    "print(\"Trained Tokens:\", response.trained_tokens)\n"
   ],
   "id": "2224a15454cab439",
   "outputs": [
    {
     "name": "stdout",
     "output_type": "stream",
     "text": [
      "Job ID: ftjob-LjF5g2Ktf41XxrOnzRvuL9b0\n",
      "Status: validating_files\n",
      "Trained Tokens: None\n"
     ]
    }
   ],
   "execution_count": 49
  },
  {
   "metadata": {
    "ExecuteTime": {
     "end_time": "2024-09-13T11:09:08.586221Z",
     "start_time": "2024-09-13T11:09:07.836711Z"
    }
   },
   "cell_type": "code",
   "source": [
    "response = client.fine_tuning.jobs.list_events(fine_tuning_job.id)\n",
    "\n",
    "events = response.data\n",
    "events.reverse()\n",
    "\n",
    "for event in events:\n",
    "    print(event.message)"
   ],
   "id": "a8bd9f63df506e3f",
   "outputs": [
    {
     "name": "stdout",
     "output_type": "stream",
     "text": [
      "Created fine-tuning job: ftjob-LjF5g2Ktf41XxrOnzRvuL9b0\n",
      "Validating training file: file-HUB5TQIJag3U5RDtSfZnBZPl and validation file: file-J1AyMEw1jA7sNenxUmX51YK6\n"
     ]
    }
   ],
   "execution_count": 52
  },
  {
   "metadata": {
    "ExecuteTime": {
     "end_time": "2024-09-13T11:09:02.512729Z",
     "start_time": "2024-09-13T11:09:02.377655Z"
    }
   },
   "cell_type": "code",
   "source": [
    "for f_id in response.result_files:\n",
    "    result_file = client.files.content(f_id)\n",
    "    ans = result_file.decode()\n",
    "    with open(openai_folder_root_path / 'fine_tuning_metrics.csv', 'w') as f:\n",
    "        f.write(ans)"
   ],
   "id": "1e9ac0347ee043f3",
   "outputs": [
    {
     "ename": "AttributeError",
     "evalue": "'SyncCursorPage[FineTuningJobEvent]' object has no attribute 'result_files'",
     "output_type": "error",
     "traceback": [
      "\u001B[0;31m---------------------------------------------------------------------------\u001B[0m",
      "\u001B[0;31mKeyError\u001B[0m                                  Traceback (most recent call last)",
      "File \u001B[0;32m~/Library/Caches/pypoetry/virtualenvs/llm-evaluation--UvhI9ny-py3.12/lib/python3.12/site-packages/pydantic/main.py:820\u001B[0m, in \u001B[0;36mBaseModel.__getattr__\u001B[0;34m(self, item)\u001B[0m\n\u001B[1;32m    819\u001B[0m \u001B[38;5;28;01mtry\u001B[39;00m:\n\u001B[0;32m--> 820\u001B[0m     \u001B[38;5;28;01mreturn\u001B[39;00m \u001B[43mpydantic_extra\u001B[49m\u001B[43m[\u001B[49m\u001B[43mitem\u001B[49m\u001B[43m]\u001B[49m\n\u001B[1;32m    821\u001B[0m \u001B[38;5;28;01mexcept\u001B[39;00m \u001B[38;5;167;01mKeyError\u001B[39;00m \u001B[38;5;28;01mas\u001B[39;00m exc:\n",
      "\u001B[0;31mKeyError\u001B[0m: 'result_files'",
      "\nThe above exception was the direct cause of the following exception:\n",
      "\u001B[0;31mAttributeError\u001B[0m                            Traceback (most recent call last)",
      "Cell \u001B[0;32mIn[51], line 1\u001B[0m\n\u001B[0;32m----> 1\u001B[0m \u001B[38;5;28;01mfor\u001B[39;00m f_id \u001B[38;5;129;01min\u001B[39;00m \u001B[43mresponse\u001B[49m\u001B[38;5;241;43m.\u001B[39;49m\u001B[43mresult_files\u001B[49m:\n\u001B[1;32m      2\u001B[0m     result_file \u001B[38;5;241m=\u001B[39m client\u001B[38;5;241m.\u001B[39mfiles\u001B[38;5;241m.\u001B[39mcontent(f_id)\n\u001B[1;32m      3\u001B[0m     ans \u001B[38;5;241m=\u001B[39m result_file\u001B[38;5;241m.\u001B[39mdecode()\n",
      "File \u001B[0;32m~/Library/Caches/pypoetry/virtualenvs/llm-evaluation--UvhI9ny-py3.12/lib/python3.12/site-packages/pydantic/main.py:822\u001B[0m, in \u001B[0;36mBaseModel.__getattr__\u001B[0;34m(self, item)\u001B[0m\n\u001B[1;32m    820\u001B[0m         \u001B[38;5;28;01mreturn\u001B[39;00m pydantic_extra[item]\n\u001B[1;32m    821\u001B[0m     \u001B[38;5;28;01mexcept\u001B[39;00m \u001B[38;5;167;01mKeyError\u001B[39;00m \u001B[38;5;28;01mas\u001B[39;00m exc:\n\u001B[0;32m--> 822\u001B[0m         \u001B[38;5;28;01mraise\u001B[39;00m \u001B[38;5;167;01mAttributeError\u001B[39;00m(\u001B[38;5;124mf\u001B[39m\u001B[38;5;124m'\u001B[39m\u001B[38;5;132;01m{\u001B[39;00m\u001B[38;5;28mtype\u001B[39m(\u001B[38;5;28mself\u001B[39m)\u001B[38;5;241m.\u001B[39m\u001B[38;5;18m__name__\u001B[39m\u001B[38;5;132;01m!r}\u001B[39;00m\u001B[38;5;124m object has no attribute \u001B[39m\u001B[38;5;132;01m{\u001B[39;00mitem\u001B[38;5;132;01m!r}\u001B[39;00m\u001B[38;5;124m'\u001B[39m) \u001B[38;5;28;01mfrom\u001B[39;00m \u001B[38;5;21;01mexc\u001B[39;00m\n\u001B[1;32m    823\u001B[0m \u001B[38;5;28;01melse\u001B[39;00m:\n\u001B[1;32m    824\u001B[0m     \u001B[38;5;28;01mif\u001B[39;00m \u001B[38;5;28mhasattr\u001B[39m(\u001B[38;5;28mself\u001B[39m\u001B[38;5;241m.\u001B[39m\u001B[38;5;18m__class__\u001B[39m, item):\n",
      "\u001B[0;31mAttributeError\u001B[0m: 'SyncCursorPage[FineTuningJobEvent]' object has no attribute 'result_files'"
     ]
    }
   ],
   "execution_count": 51
  },
  {
   "metadata": {},
   "cell_type": "code",
   "outputs": [],
   "execution_count": null,
   "source": "",
   "id": "463a6476f452fdd4"
  }
 ],
 "metadata": {
  "kernelspec": {
   "display_name": "masters_llm_eval",
   "language": "python",
   "name": "masters_llm_eval"
  },
  "language_info": {
   "codemirror_mode": {
    "name": "ipython",
    "version": 2
   },
   "file_extension": ".py",
   "mimetype": "text/x-python",
   "name": "python",
   "nbconvert_exporter": "python",
   "pygments_lexer": "ipython2",
   "version": "2.7.6"
  }
 },
 "nbformat": 4,
 "nbformat_minor": 5
}
