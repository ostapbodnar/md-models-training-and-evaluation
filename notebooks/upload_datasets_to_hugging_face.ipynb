{
 "cells": [
  {
   "cell_type": "code",
   "id": "initial_id",
   "metadata": {
    "collapsed": true,
    "ExecuteTime": {
     "end_time": "2024-09-04T09:24:15.868185Z",
     "start_time": "2024-09-04T09:24:15.217286Z"
    }
   },
   "source": [
    "import itertools\n",
    "\n",
    "from huggingface_hub import HfApi\n",
    "from huggingface_hub import login\n",
    "import os\n",
    "\n",
    "from dotenv import load_dotenv\n",
    "\n",
    "load_dotenv()\n",
    "\n",
    "login(os.environ['HF_TOKEN'])\n",
    "api = HfApi()"
   ],
   "outputs": [
    {
     "name": "stdout",
     "output_type": "stream",
     "text": [
      "The token has not been saved to the git credentials helper. Pass `add_to_git_credential=True` in this function directly or `--add-to-git-credential` if using via `huggingface-cli` if you want to set the git credential as well.\n",
      "Token is valid (permission: fineGrained).\n",
      "Your token has been saved to /Users/ostapbodnar/.cache/huggingface/token\n",
      "Login successful\n"
     ]
    }
   ],
   "execution_count": 1
  },
  {
   "metadata": {
    "ExecuteTime": {
     "end_time": "2024-09-04T09:24:17.284809Z",
     "start_time": "2024-09-04T09:24:17.278839Z"
    }
   },
   "cell_type": "code",
   "source": [
    "from pathlib import Path\n",
    "import os\n",
    "\n",
    "dataset_folder = Path(os.getcwd()).parent / 'data/merged_dataset/synthetic'"
   ],
   "id": "40936ec603f7ceef",
   "outputs": [],
   "execution_count": 2
  },
  {
   "metadata": {
    "ExecuteTime": {
     "end_time": "2024-09-04T09:24:18.564739Z",
     "start_time": "2024-09-04T09:24:18.555053Z"
    }
   },
   "cell_type": "code",
   "source": "dataset_folder.exists()",
   "id": "7eb8063f18baf799",
   "outputs": [
    {
     "data": {
      "text/plain": [
       "True"
      ]
     },
     "execution_count": 3,
     "metadata": {},
     "output_type": "execute_result"
    }
   ],
   "execution_count": 3
  },
  {
   "metadata": {
    "ExecuteTime": {
     "end_time": "2024-09-04T09:24:20.178038Z",
     "start_time": "2024-09-04T09:24:20.174347Z"
    }
   },
   "cell_type": "code",
   "source": "repo_id = 'ostapbodnar/ua-gec-pos-ner-artificial'",
   "id": "b458b87738d09093",
   "outputs": [],
   "execution_count": 4
  },
  {
   "metadata": {
    "ExecuteTime": {
     "end_time": "2024-09-04T09:26:07.080253Z",
     "start_time": "2024-09-04T09:24:44.652666Z"
    }
   },
   "cell_type": "code",
   "source": [
    "api.upload_folder(\n",
    "    folder_path=str(dataset_folder / 'small'),\n",
    "    repo_id=repo_id,\n",
    "    commit_message=\"Small dataset upload\",\n",
    "    path_in_repo=\"small/\",\n",
    "    allow_patterns=\"*.tsv\",\n",
    "    delete_patterns=\"*.tsv\",\n",
    "    repo_type=\"dataset\",\n",
    ")"
   ],
   "id": "5558a5f6f48a916c",
   "outputs": [
    {
     "data": {
      "text/plain": [
       "Upload 3 LFS files:   0%|          | 0/3 [00:00<?, ?it/s]"
      ],
      "application/vnd.jupyter.widget-view+json": {
       "version_major": 2,
       "version_minor": 0,
       "model_id": "99a4efe56ad14382964e31a1b8f5c664"
      }
     },
     "metadata": {},
     "output_type": "display_data"
    },
    {
     "data": {
      "text/plain": [
       "valid.csv:   0%|          | 0.00/311M [00:00<?, ?B/s]"
      ],
      "application/vnd.jupyter.widget-view+json": {
       "version_major": 2,
       "version_minor": 0,
       "model_id": "0aa8df63479440af885b402dcd27d061"
      }
     },
     "metadata": {},
     "output_type": "display_data"
    },
    {
     "data": {
      "text/plain": [
       "test.csv:   0%|          | 0.00/462M [00:00<?, ?B/s]"
      ],
      "application/vnd.jupyter.widget-view+json": {
       "version_major": 2,
       "version_minor": 0,
       "model_id": "e8b9cf2de56848f883741e058a430b95"
      }
     },
     "metadata": {},
     "output_type": "display_data"
    },
    {
     "data": {
      "text/plain": [
       "train.csv:   0%|          | 0.00/1.16G [00:00<?, ?B/s]"
      ],
      "application/vnd.jupyter.widget-view+json": {
       "version_major": 2,
       "version_minor": 0,
       "model_id": "42d26f5d03f24afbbd5c122a6e9ee338"
      }
     },
     "metadata": {},
     "output_type": "display_data"
    },
    {
     "data": {
      "text/plain": [
       "CommitInfo(commit_url='https://huggingface.co/datasets/ostapbodnar/ua-gec-pos-ner-syntactic/commit/afab77cee36c8eed762b3778ba689f0081e09dfa', commit_message='Small dataset upload', commit_description='', oid='afab77cee36c8eed762b3778ba689f0081e09dfa', pr_url=None, pr_revision=None, pr_num=None)"
      ]
     },
     "execution_count": 5,
     "metadata": {},
     "output_type": "execute_result"
    }
   ],
   "execution_count": 5
  },
  {
   "metadata": {
    "ExecuteTime": {
     "end_time": "2024-09-04T09:34:45.699135Z",
     "start_time": "2024-09-04T09:27:36.167538Z"
    }
   },
   "cell_type": "code",
   "source": [
    "api.upload_folder(\n",
    "    folder_path=str(dataset_folder / 'medium'),\n",
    "    repo_id=repo_id,\n",
    "    path_in_repo=\"medium/\",\n",
    "    commit_message=\"Medium dataset upload\",\n",
    "    allow_patterns=\"*.tsv\",\n",
    "    delete_patterns=\"*.tsv\",\n",
    "    repo_type=\"dataset\",\n",
    ")"
   ],
   "id": "2942b3aeb16b190d",
   "outputs": [
    {
     "data": {
      "text/plain": [
       "test.csv:   0%|          | 0.00/2.31G [00:00<?, ?B/s]"
      ],
      "application/vnd.jupyter.widget-view+json": {
       "version_major": 2,
       "version_minor": 0,
       "model_id": "935f96ce3e634318a74b3fe43739d4fc"
      }
     },
     "metadata": {},
     "output_type": "display_data"
    },
    {
     "data": {
      "text/plain": [
       "valid.csv:   0%|          | 0.00/1.55G [00:00<?, ?B/s]"
      ],
      "application/vnd.jupyter.widget-view+json": {
       "version_major": 2,
       "version_minor": 0,
       "model_id": "c2079efe2b3f4a918d366d706a1399a8"
      }
     },
     "metadata": {},
     "output_type": "display_data"
    },
    {
     "data": {
      "text/plain": [
       "Upload 3 LFS files:   0%|          | 0/3 [00:00<?, ?it/s]"
      ],
      "application/vnd.jupyter.widget-view+json": {
       "version_major": 2,
       "version_minor": 0,
       "model_id": "73864e56383b4e51b5e87d84348af623"
      }
     },
     "metadata": {},
     "output_type": "display_data"
    },
    {
     "data": {
      "text/plain": [
       "train.csv:   0%|          | 0.00/5.80G [00:00<?, ?B/s]"
      ],
      "application/vnd.jupyter.widget-view+json": {
       "version_major": 2,
       "version_minor": 0,
       "model_id": "05655ac92d044f8da53c3bbd6bfcbca3"
      }
     },
     "metadata": {},
     "output_type": "display_data"
    },
    {
     "data": {
      "text/plain": [
       "CommitInfo(commit_url='https://huggingface.co/datasets/ostapbodnar/ua-gec-pos-ner-syntactic/commit/6116154330d462a0c47125a2c7ab0cbc25686e0e', commit_message='Medium dataset upload', commit_description='', oid='6116154330d462a0c47125a2c7ab0cbc25686e0e', pr_url=None, pr_revision=None, pr_num=None)"
      ]
     },
     "execution_count": 6,
     "metadata": {},
     "output_type": "execute_result"
    }
   ],
   "execution_count": 6
  },
  {
   "metadata": {
    "ExecuteTime": {
     "end_time": "2024-09-04T09:50:05.622272Z",
     "start_time": "2024-09-04T09:34:45.704173Z"
    }
   },
   "cell_type": "code",
   "source": [
    "api.upload_folder(\n",
    "    folder_path=str(dataset_folder / 'large'),\n",
    "    repo_id=repo_id,\n",
    "    commit_message=\"Large dataset upload\",\n",
    "    path_in_repo=\"large/\",\n",
    "    allow_patterns=\"*.tsv\",\n",
    "    delete_patterns=\"*.tsv\",\n",
    "    repo_type=\"dataset\",\n",
    ")"
   ],
   "id": "1813ee5971fb061e",
   "outputs": [
    {
     "data": {
      "text/plain": [
       "test.csv:   0%|          | 0.00/4.64G [00:00<?, ?B/s]"
      ],
      "application/vnd.jupyter.widget-view+json": {
       "version_major": 2,
       "version_minor": 0,
       "model_id": "d5e66dd87a51434383141da928f418a9"
      }
     },
     "metadata": {},
     "output_type": "display_data"
    },
    {
     "data": {
      "text/plain": [
       "Upload 3 LFS files:   0%|          | 0/3 [00:00<?, ?it/s]"
      ],
      "application/vnd.jupyter.widget-view+json": {
       "version_major": 2,
       "version_minor": 0,
       "model_id": "bf848c58e38a4a78a79de01eb8c43020"
      }
     },
     "metadata": {},
     "output_type": "display_data"
    },
    {
     "data": {
      "text/plain": [
       "valid.csv:   0%|          | 0.00/3.10G [00:00<?, ?B/s]"
      ],
      "application/vnd.jupyter.widget-view+json": {
       "version_major": 2,
       "version_minor": 0,
       "model_id": "117e23ad2cdb432f9addeef80349b075"
      }
     },
     "metadata": {},
     "output_type": "display_data"
    },
    {
     "data": {
      "text/plain": [
       "train.csv:   0%|          | 0.00/11.6G [00:00<?, ?B/s]"
      ],
      "application/vnd.jupyter.widget-view+json": {
       "version_major": 2,
       "version_minor": 0,
       "model_id": "a957470fe6644173b8d3950591543412"
      }
     },
     "metadata": {},
     "output_type": "display_data"
    },
    {
     "data": {
      "text/plain": [
       "CommitInfo(commit_url='https://huggingface.co/datasets/ostapbodnar/ua-gec-pos-ner-syntactic/commit/309c1508431038aef836d66b6b36e63fb8537534', commit_message='Large dataset upload', commit_description='', oid='309c1508431038aef836d66b6b36e63fb8537534', pr_url=None, pr_revision=None, pr_num=None)"
      ]
     },
     "execution_count": 7,
     "metadata": {},
     "output_type": "execute_result"
    }
   ],
   "execution_count": 7
  },
  {
   "metadata": {},
   "cell_type": "markdown",
   "source": "### Golden dataset uploading",
   "id": "d76a8664ff3ebf96"
  },
  {
   "metadata": {
    "ExecuteTime": {
     "end_time": "2024-09-04T09:51:18.174323Z",
     "start_time": "2024-09-04T09:51:18.025097Z"
    }
   },
   "cell_type": "code",
   "source": [
    "from huggingface_hub import HfApi\n",
    "from huggingface_hub import login\n",
    "import os\n",
    "\n",
    "from dotenv import load_dotenv\n",
    "\n",
    "load_dotenv()\n",
    "\n",
    "login(os.environ['HF_TOKEN'])\n",
    "api = HfApi()"
   ],
   "id": "d158c9a07479f9d4",
   "outputs": [
    {
     "name": "stdout",
     "output_type": "stream",
     "text": [
      "The token has not been saved to the git credentials helper. Pass `add_to_git_credential=True` in this function directly or `--add-to-git-credential` if using via `huggingface-cli` if you want to set the git credential as well.\n",
      "Token is valid (permission: fineGrained).\n",
      "Your token has been saved to /Users/ostapbodnar/.cache/huggingface/token\n",
      "Login successful\n"
     ]
    }
   ],
   "execution_count": 8
  },
  {
   "metadata": {
    "ExecuteTime": {
     "end_time": "2024-09-04T09:51:19.038388Z",
     "start_time": "2024-09-04T09:51:19.034382Z"
    }
   },
   "cell_type": "code",
   "source": [
    "from pathlib import Path\n",
    "import os\n",
    "\n",
    "golden_dataset_folder = Path(os.getcwd()).parent / 'data/merged_dataset/golden/golden_split'"
   ],
   "id": "f222eb8047ec0049",
   "outputs": [],
   "execution_count": 9
  },
  {
   "metadata": {
    "ExecuteTime": {
     "end_time": "2024-09-04T09:51:19.997170Z",
     "start_time": "2024-09-04T09:51:19.992943Z"
    }
   },
   "cell_type": "code",
   "source": "repo_id = \"ostapbodnar/ua-gec-pos-ner-golden\"",
   "id": "f10580579c609f36",
   "outputs": [],
   "execution_count": 10
  },
  {
   "metadata": {
    "ExecuteTime": {
     "end_time": "2024-09-04T09:52:25.452861Z",
     "start_time": "2024-09-04T09:51:39.373980Z"
    }
   },
   "cell_type": "code",
   "source": [
    "api.upload_folder(\n",
    "    folder_path=golden_dataset_folder,\n",
    "    repo_id=repo_id,\n",
    "    commit_message=\"Golden dataset upload\",\n",
    "    allow_patterns=\"*.tsv\",\n",
    "    delete_patterns=\"*.tsv\",\n",
    "    repo_type=\"dataset\",\n",
    ")"
   ],
   "id": "4c16272ba1be7d83",
   "outputs": [
    {
     "data": {
      "text/plain": [
       "test.tsv:   0%|          | 0.00/209M [00:00<?, ?B/s]"
      ],
      "application/vnd.jupyter.widget-view+json": {
       "version_major": 2,
       "version_minor": 0,
       "model_id": "eeea05fd2f9749189ac862ed2a9b5aad"
      }
     },
     "metadata": {},
     "output_type": "display_data"
    },
    {
     "data": {
      "text/plain": [
       "Upload 3 LFS files:   0%|          | 0/3 [00:00<?, ?it/s]"
      ],
      "application/vnd.jupyter.widget-view+json": {
       "version_major": 2,
       "version_minor": 0,
       "model_id": "060a2929ad364a3a838402d42265d9a8"
      }
     },
     "metadata": {},
     "output_type": "display_data"
    },
    {
     "data": {
      "text/plain": [
       "valid.tsv:   0%|          | 0.00/149M [00:00<?, ?B/s]"
      ],
      "application/vnd.jupyter.widget-view+json": {
       "version_major": 2,
       "version_minor": 0,
       "model_id": "3c00c983ef234cd49c96d90ca3ede78d"
      }
     },
     "metadata": {},
     "output_type": "display_data"
    },
    {
     "data": {
      "text/plain": [
       "train.tsv:   0%|          | 0.00/597M [00:00<?, ?B/s]"
      ],
      "application/vnd.jupyter.widget-view+json": {
       "version_major": 2,
       "version_minor": 0,
       "model_id": "ea228136277e4c28befe953667aecc29"
      }
     },
     "metadata": {},
     "output_type": "display_data"
    },
    {
     "data": {
      "text/plain": [
       "CommitInfo(commit_url='https://huggingface.co/datasets/ostapbodnar/ua-gec-pos-ner-golden/commit/d540e09643ac033e3ed819ccceebf8c4823dc322', commit_message='Golden dataset upload', commit_description='', oid='d540e09643ac033e3ed819ccceebf8c4823dc322', pr_url=None, pr_revision=None, pr_num=None)"
      ]
     },
     "execution_count": 11,
     "metadata": {},
     "output_type": "execute_result"
    }
   ],
   "execution_count": 11
  },
  {
   "metadata": {},
   "cell_type": "markdown",
   "source": "#### Some renaming code",
   "id": "e9b473f42bef30bf"
  },
  {
   "metadata": {
    "ExecuteTime": {
     "end_time": "2024-09-04T10:05:04.979927Z",
     "start_time": "2024-09-04T10:05:04.972799Z"
    }
   },
   "cell_type": "code",
   "source": [
    "import itertools\n",
    "from huggingface_hub import create_commit, CommitOperationCopy, CommitOperationDelete\n",
    "\n",
    "\n",
    "operations = []\n",
    "for folder, file in itertools.product(['small', 'medium', 'large'], ['test', 'train', 'valid']):\n",
    "    file_path = f\"{folder}/{file}\"\n",
    "    operations.append(CommitOperationCopy(src_path_in_repo=file_path + \".csv\", path_in_repo=file_path + \".tsv\"))\n",
    "    operations.append( CommitOperationDelete(path_in_repo=file_path + \".csv\"))\n",
    "operations"
   ],
   "id": "744ce28e9364ee56",
   "outputs": [
    {
     "data": {
      "text/plain": [
       "[CommitOperationCopy(src_path_in_repo='small/test.csv', path_in_repo='small/test.tsv', src_revision=None),\n",
       " CommitOperationDelete(path_in_repo='small/test.csv', is_folder=False),\n",
       " CommitOperationCopy(src_path_in_repo='small/train.csv', path_in_repo='small/train.tsv', src_revision=None),\n",
       " CommitOperationDelete(path_in_repo='small/train.csv', is_folder=False),\n",
       " CommitOperationCopy(src_path_in_repo='small/valid.csv', path_in_repo='small/valid.tsv', src_revision=None),\n",
       " CommitOperationDelete(path_in_repo='small/valid.csv', is_folder=False),\n",
       " CommitOperationCopy(src_path_in_repo='medium/test.csv', path_in_repo='medium/test.tsv', src_revision=None),\n",
       " CommitOperationDelete(path_in_repo='medium/test.csv', is_folder=False),\n",
       " CommitOperationCopy(src_path_in_repo='medium/train.csv', path_in_repo='medium/train.tsv', src_revision=None),\n",
       " CommitOperationDelete(path_in_repo='medium/train.csv', is_folder=False),\n",
       " CommitOperationCopy(src_path_in_repo='medium/valid.csv', path_in_repo='medium/valid.tsv', src_revision=None),\n",
       " CommitOperationDelete(path_in_repo='medium/valid.csv', is_folder=False),\n",
       " CommitOperationCopy(src_path_in_repo='large/test.csv', path_in_repo='large/test.tsv', src_revision=None),\n",
       " CommitOperationDelete(path_in_repo='large/test.csv', is_folder=False),\n",
       " CommitOperationCopy(src_path_in_repo='large/train.csv', path_in_repo='large/train.tsv', src_revision=None),\n",
       " CommitOperationDelete(path_in_repo='large/train.csv', is_folder=False),\n",
       " CommitOperationCopy(src_path_in_repo='large/valid.csv', path_in_repo='large/valid.tsv', src_revision=None),\n",
       " CommitOperationDelete(path_in_repo='large/valid.csv', is_folder=False)]"
      ]
     },
     "execution_count": 13,
     "metadata": {},
     "output_type": "execute_result"
    }
   ],
   "execution_count": 13
  },
  {
   "metadata": {
    "ExecuteTime": {
     "end_time": "2024-09-04T10:05:49.265500Z",
     "start_time": "2024-09-04T10:05:49.122823Z"
    }
   },
   "cell_type": "code",
   "source": [
    "from huggingface_hub import HfApi\n",
    "from huggingface_hub import login\n",
    "import os\n",
    "\n",
    "from dotenv import load_dotenv\n",
    "\n",
    "load_dotenv()\n",
    "\n",
    "login(os.environ['HF_TOKEN'])\n",
    "api = HfApi()"
   ],
   "id": "44192396beda0c1",
   "outputs": [
    {
     "name": "stdout",
     "output_type": "stream",
     "text": [
      "The token has not been saved to the git credentials helper. Pass `add_to_git_credential=True` in this function directly or `--add-to-git-credential` if using via `huggingface-cli` if you want to set the git credential as well.\n",
      "Token is valid (permission: fineGrained).\n",
      "Your token has been saved to /Users/ostapbodnar/.cache/huggingface/token\n",
      "Login successful\n"
     ]
    }
   ],
   "execution_count": 15
  },
  {
   "metadata": {
    "ExecuteTime": {
     "end_time": "2024-09-04T10:06:29.818259Z",
     "start_time": "2024-09-04T10:06:29.050786Z"
    }
   },
   "cell_type": "code",
   "source": [
    "\n",
    "create_commit(\n",
    "    repo_id=\"ostapbodnar/ua-gec-pos-ner-artificial\",\n",
    "    operations= operations,\n",
    "    commit_message=\"Update datasets file extension\",\n",
    "    repo_type=\"dataset\"\n",
    ")"
   ],
   "id": "3e675a189e4c0109",
   "outputs": [
    {
     "data": {
      "text/plain": [
       "CommitInfo(commit_url='https://huggingface.co/datasets/ostapbodnar/ua-gec-pos-ner-syntactic/commit/e97f7aa9270d148534420a5e387d6d6fe38cac77', commit_message='Update datasets file extension', commit_description='', oid='e97f7aa9270d148534420a5e387d6d6fe38cac77', pr_url=None, pr_revision=None, pr_num=None)"
      ]
     },
     "execution_count": 18,
     "metadata": {},
     "output_type": "execute_result"
    }
   ],
   "execution_count": 18
  },
  {
   "metadata": {},
   "cell_type": "code",
   "outputs": [],
   "execution_count": null,
   "source": "",
   "id": "e5934b77d9e1c5d8"
  }
 ],
 "metadata": {
  "kernelspec": {
   "display_name": "masters_llm_eval",
   "language": "python",
   "name": "masters_llm_eval"
  },
  "language_info": {
   "codemirror_mode": {
    "name": "ipython",
    "version": 2
   },
   "file_extension": ".py",
   "mimetype": "text/x-python",
   "name": "python",
   "nbconvert_exporter": "python",
   "pygments_lexer": "ipython2",
   "version": "2.7.6"
  }
 },
 "nbformat": 4,
 "nbformat_minor": 5
}
